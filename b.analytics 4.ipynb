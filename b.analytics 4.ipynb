{
 "cells": [
  {
   "cell_type": "markdown",
   "id": "6310cc26",
   "metadata": {},
   "source": [
    "# variables & keywords"
   ]
  },
  {
   "cell_type": "code",
   "execution_count": 1,
   "id": "38aa3ce9",
   "metadata": {},
   "outputs": [],
   "source": [
    "my_age=31"
   ]
  },
  {
   "cell_type": "code",
   "execution_count": 2,
   "id": "565065aa",
   "metadata": {},
   "outputs": [
    {
     "data": {
      "text/plain": [
       "31"
      ]
     },
     "execution_count": 2,
     "metadata": {},
     "output_type": "execute_result"
    }
   ],
   "source": [
    "my_age"
   ]
  },
  {
   "cell_type": "code",
   "execution_count": 3,
   "id": "d07b372c",
   "metadata": {},
   "outputs": [],
   "source": [
    "score=89.4"
   ]
  },
  {
   "cell_type": "code",
   "execution_count": 4,
   "id": "d1ed6a69",
   "metadata": {},
   "outputs": [],
   "source": [
    "var=\"Hello world,welcome to the class\""
   ]
  },
  {
   "cell_type": "code",
   "execution_count": 9,
   "id": "1a596c53",
   "metadata": {},
   "outputs": [
    {
     "data": {
      "text/plain": [
       "int"
      ]
     },
     "execution_count": 9,
     "metadata": {},
     "output_type": "execute_result"
    }
   ],
   "source": [
    "var=10\n",
    "type(var)"
   ]
  },
  {
   "cell_type": "code",
   "execution_count": 10,
   "id": "2b13ce43",
   "metadata": {},
   "outputs": [],
   "source": [
    "string_var=\"Hello world,welcome to the class\""
   ]
  },
  {
   "cell_type": "code",
   "execution_count": 12,
   "id": "253df6b8",
   "metadata": {},
   "outputs": [
    {
     "name": "stdout",
     "output_type": "stream",
     "text": [
      "Hello world,welcome to the class\n"
     ]
    },
    {
     "data": {
      "text/plain": [
       "str"
      ]
     },
     "execution_count": 12,
     "metadata": {},
     "output_type": "execute_result"
    }
   ],
   "source": [
    "print(string_var)\n",
    "type(string_var)"
   ]
  },
  {
   "cell_type": "code",
   "execution_count": 14,
   "id": "1d668e01",
   "metadata": {},
   "outputs": [
    {
     "name": "stdout",
     "output_type": "stream",
     "text": [
      "10.5\n",
      "<class 'float'>\n"
     ]
    }
   ],
   "source": [
    "a=10.5\n",
    "print(a)\n",
    "print(type(a))"
   ]
  },
  {
   "cell_type": "code",
   "execution_count": 15,
   "id": "165a2636",
   "metadata": {},
   "outputs": [
    {
     "name": "stdout",
     "output_type": "stream",
     "text": [
      "10.5\n",
      "<class 'str'>\n"
     ]
    }
   ],
   "source": [
    "a='10.5'\n",
    "print(a)\n",
    "print(type(a))"
   ]
  },
  {
   "cell_type": "code",
   "execution_count": 16,
   "id": "e6859c34",
   "metadata": {},
   "outputs": [
    {
     "name": "stdout",
     "output_type": "stream",
     "text": [
      "true\n",
      "<class 'str'>\n"
     ]
    }
   ],
   "source": [
    "bool_var=\"true\"\n",
    "print(bool_var)\n",
    "print(type(bool_var))"
   ]
  },
  {
   "cell_type": "code",
   "execution_count": 18,
   "id": "08523f1d",
   "metadata": {},
   "outputs": [
    {
     "name": "stdout",
     "output_type": "stream",
     "text": [
      "True\n",
      "<class 'bool'>\n"
     ]
    }
   ],
   "source": [
    "bool_var=True\n",
    "print(bool_var)\n",
    "print(type(bool_var))"
   ]
  },
  {
   "cell_type": "code",
   "execution_count": 19,
   "id": "9bc24a4e",
   "metadata": {},
   "outputs": [
    {
     "name": "stdout",
     "output_type": "stream",
     "text": [
      "10\n",
      "15\n"
     ]
    }
   ],
   "source": [
    "a=10\n",
    "A=15\n",
    "\n",
    "print(a)\n",
    "print(A)"
   ]
  },
  {
   "cell_type": "code",
   "execution_count": 20,
   "id": "3e847a72",
   "metadata": {},
   "outputs": [],
   "source": [
    "name=2\n",
    "Name=4"
   ]
  },
  {
   "cell_type": "code",
   "execution_count": 21,
   "id": "3a10906b",
   "metadata": {},
   "outputs": [],
   "source": [
    "var=10"
   ]
  },
  {
   "cell_type": "code",
   "execution_count": 22,
   "id": "6029c837",
   "metadata": {},
   "outputs": [],
   "source": [
    "float_var=10.1"
   ]
  },
  {
   "cell_type": "code",
   "execution_count": 23,
   "id": "8536a328",
   "metadata": {},
   "outputs": [
    {
     "data": {
      "text/plain": [
       "int"
      ]
     },
     "execution_count": 23,
     "metadata": {},
     "output_type": "execute_result"
    }
   ],
   "source": [
    "type(var)"
   ]
  },
  {
   "cell_type": "code",
   "execution_count": 24,
   "id": "3f55c8de",
   "metadata": {},
   "outputs": [
    {
     "data": {
      "text/plain": [
       "float"
      ]
     },
     "execution_count": 24,
     "metadata": {},
     "output_type": "execute_result"
    }
   ],
   "source": [
    "type(float_var)"
   ]
  },
  {
   "cell_type": "code",
   "execution_count": 25,
   "id": "ce4f5124",
   "metadata": {},
   "outputs": [
    {
     "name": "stdout",
     "output_type": "stream",
     "text": [
      "hello\n"
     ]
    }
   ],
   "source": [
    "string1='hello'\n",
    "print(string1)"
   ]
  },
  {
   "cell_type": "markdown",
   "id": "8c115c5f",
   "metadata": {},
   "source": [
    "# keywords"
   ]
  },
  {
   "cell_type": "code",
   "execution_count": 26,
   "id": "b5abe9a5",
   "metadata": {},
   "outputs": [],
   "source": [
    "name=\"amarjeet\"\n",
    "age=24\n",
    "gender='male'\n",
    "address='india'"
   ]
  },
  {
   "cell_type": "code",
   "execution_count": 27,
   "id": "d7413702",
   "metadata": {},
   "outputs": [
    {
     "data": {
      "text/plain": [
       "int"
      ]
     },
     "execution_count": 27,
     "metadata": {},
     "output_type": "execute_result"
    }
   ],
   "source": [
    "#type()--> data type of the variables\n",
    "\n",
    "type(age)\n"
   ]
  },
  {
   "cell_type": "code",
   "execution_count": 28,
   "id": "ca3c4343",
   "metadata": {},
   "outputs": [],
   "source": [
    "a=10\n",
    "b=2"
   ]
  },
  {
   "cell_type": "code",
   "execution_count": 33,
   "id": "16bbfb3a",
   "metadata": {},
   "outputs": [
    {
     "name": "stdout",
     "output_type": "stream",
     "text": [
      "12\n",
      "8\n",
      "20\n",
      "5.0\n",
      "5\n",
      "100\n",
      "0\n"
     ]
    }
   ],
   "source": [
    "print(a+b)\n",
    "print(a-b)\n",
    "print(a*b) \n",
    "print(a/b)\n",
    "print(a//b) #floor division\n",
    "print(a**b)#power\n",
    "print(a%b) #modulus remainder"
   ]
  },
  {
   "cell_type": "code",
   "execution_count": null,
   "id": "bc4556fb",
   "metadata": {},
   "outputs": [],
   "source": [
    "print((4*5)-9+6/7)\n",
    "\n",
    "(4*5)-9+6/7\n",
    "=20-9+6/7\n",
    "=20-9+0.8\n",
    "=11.8"
   ]
  },
  {
   "cell_type": "code",
   "execution_count": 35,
   "id": "e64a6a09",
   "metadata": {},
   "outputs": [
    {
     "name": "stdout",
     "output_type": "stream",
     "text": [
      "68\n"
     ]
    }
   ],
   "source": [
    "print(4+(8**2)-3**2%1)"
   ]
  },
  {
   "cell_type": "code",
   "execution_count": 36,
   "id": "f7ac882d",
   "metadata": {},
   "outputs": [
    {
     "name": "stdout",
     "output_type": "stream",
     "text": [
      "-2\n"
     ]
    }
   ],
   "source": [
    "print(4%(1+9)**2-60//(7+2))"
   ]
  },
  {
   "cell_type": "code",
   "execution_count": null,
   "id": "95fcf17a",
   "metadata": {},
   "outputs": [],
   "source": []
  },
  {
   "cell_type": "code",
   "execution_count": 37,
   "id": "f4a9989a",
   "metadata": {},
   "outputs": [],
   "source": [
    "a='Rob'\n",
    "b='John'\n",
    "c=\"Mike\""
   ]
  },
  {
   "cell_type": "code",
   "execution_count": 41,
   "id": "2dba0ddc",
   "metadata": {},
   "outputs": [
    {
     "name": "stdout",
     "output_type": "stream",
     "text": [
      "Rob\n",
      "John\n",
      "Mike\n"
     ]
    },
    {
     "data": {
      "text/plain": [
       "4"
      ]
     },
     "execution_count": 41,
     "metadata": {},
     "output_type": "execute_result"
    }
   ],
   "source": [
    "print(a)\n",
    "print(b)\n",
    "print(c) \n",
    "len(c)\n",
    "len(b)\n",
    "len(c)"
   ]
  },
  {
   "cell_type": "code",
   "execution_count": 42,
   "id": "d0b97752",
   "metadata": {},
   "outputs": [
    {
     "name": "stdout",
     "output_type": "stream",
     "text": [
      "<class 'str'>\n",
      "<class 'str'>\n",
      "<class 'str'>\n"
     ]
    }
   ],
   "source": [
    "print(type(a))\n",
    "print(type(b))\n",
    "print(type(c))"
   ]
  },
  {
   "cell_type": "code",
   "execution_count": 43,
   "id": "959e62f6",
   "metadata": {},
   "outputs": [],
   "source": [
    "str1=\"hello world\""
   ]
  },
  {
   "cell_type": "code",
   "execution_count": 44,
   "id": "2a595d62",
   "metadata": {},
   "outputs": [
    {
     "data": {
      "text/plain": [
       "'d'"
      ]
     },
     "execution_count": 44,
     "metadata": {},
     "output_type": "execute_result"
    }
   ],
   "source": [
    "str1[10]"
   ]
  },
  {
   "cell_type": "code",
   "execution_count": 45,
   "id": "79e7f3b2",
   "metadata": {},
   "outputs": [
    {
     "data": {
      "text/plain": [
       "'-1'"
      ]
     },
     "execution_count": 45,
     "metadata": {},
     "output_type": "execute_result"
    }
   ],
   "source": [
    "str(-1)"
   ]
  },
  {
   "cell_type": "code",
   "execution_count": 47,
   "id": "edf06249",
   "metadata": {},
   "outputs": [
    {
     "data": {
      "text/plain": [
       "'hel'"
      ]
     },
     "execution_count": 47,
     "metadata": {},
     "output_type": "execute_result"
    }
   ],
   "source": [
    "str1[0:3]"
   ]
  },
  {
   "cell_type": "code",
   "execution_count": 48,
   "id": "0c76bf74",
   "metadata": {},
   "outputs": [
    {
     "data": {
      "text/plain": [
       "'hello'"
      ]
     },
     "execution_count": 48,
     "metadata": {},
     "output_type": "execute_result"
    }
   ],
   "source": [
    "str1[0:5]"
   ]
  },
  {
   "cell_type": "code",
   "execution_count": 49,
   "id": "86a27b49",
   "metadata": {},
   "outputs": [
    {
     "data": {
      "text/plain": [
       "'rld'"
      ]
     },
     "execution_count": 49,
     "metadata": {},
     "output_type": "execute_result"
    }
   ],
   "source": [
    "str1[-3:]"
   ]
  },
  {
   "cell_type": "code",
   "execution_count": 53,
   "id": "bef72d19",
   "metadata": {},
   "outputs": [
    {
     "data": {
      "text/plain": [
       "'he'"
      ]
     },
     "execution_count": 53,
     "metadata": {},
     "output_type": "execute_result"
    }
   ],
   "source": [
    "str1[0:2]"
   ]
  },
  {
   "cell_type": "code",
   "execution_count": 54,
   "id": "e28a80f1",
   "metadata": {},
   "outputs": [
    {
     "data": {
      "text/plain": [
       "'lo world'"
      ]
     },
     "execution_count": 54,
     "metadata": {},
     "output_type": "execute_result"
    }
   ],
   "source": [
    "str1[-8:]"
   ]
  },
  {
   "cell_type": "code",
   "execution_count": 55,
   "id": "6ac369cd",
   "metadata": {},
   "outputs": [
    {
     "data": {
      "text/plain": [
       "'hexlo world'"
      ]
     },
     "execution_count": 55,
     "metadata": {},
     "output_type": "execute_result"
    }
   ],
   "source": [
    "new_str=str1[0:2]+'x'+str1[-8:]\n",
    "new_str"
   ]
  },
  {
   "cell_type": "code",
   "execution_count": 56,
   "id": "3c5dbc18",
   "metadata": {},
   "outputs": [
    {
     "ename": "SyntaxError",
     "evalue": "invalid syntax (Temp/ipykernel_15916/315034737.py, line 1)",
     "output_type": "error",
     "traceback": [
      "\u001b[1;36m  File \u001b[1;32m\"C:\\Users\\HP\\AppData\\Local\\Temp/ipykernel_15916/315034737.py\"\u001b[1;36m, line \u001b[1;32m1\u001b[0m\n\u001b[1;33m    str[2]='x' string is immutable\u001b[0m\n\u001b[1;37m               ^\u001b[0m\n\u001b[1;31mSyntaxError\u001b[0m\u001b[1;31m:\u001b[0m invalid syntax\n"
     ]
    }
   ],
   "source": [
    "str[2]='x' string is immutable"
   ]
  },
  {
   "cell_type": "markdown",
   "id": "00c0d03d",
   "metadata": {},
   "source": [
    "# concat"
   ]
  },
  {
   "cell_type": "code",
   "execution_count": 57,
   "id": "e1677649",
   "metadata": {},
   "outputs": [
    {
     "name": "stdout",
     "output_type": "stream",
     "text": [
      "ramverma\n",
      "ram verma\n"
     ]
    }
   ],
   "source": [
    "first_name=\"ram\"\n",
    "last_name=\"verma\"\n",
    "\n",
    "print(first_name +last_name)\n",
    "print(first_name +\" \"+last_name)"
   ]
  },
  {
   "cell_type": "markdown",
   "id": "26cd871a",
   "metadata": {},
   "source": [
    "# slicing[start:end:step]"
   ]
  },
  {
   "cell_type": "code",
   "execution_count": 58,
   "id": "bd81708e",
   "metadata": {},
   "outputs": [],
   "source": [
    "string=\"hello world\""
   ]
  },
  {
   "cell_type": "code",
   "execution_count": 59,
   "id": "df6b2074",
   "metadata": {},
   "outputs": [
    {
     "data": {
      "text/plain": [
       "'llo'"
      ]
     },
     "execution_count": 59,
     "metadata": {},
     "output_type": "execute_result"
    }
   ],
   "source": [
    "string[2:5]"
   ]
  },
  {
   "cell_type": "code",
   "execution_count": 60,
   "id": "529a77d4",
   "metadata": {},
   "outputs": [
    {
     "data": {
      "text/plain": [
       "'llo'"
      ]
     },
     "execution_count": 60,
     "metadata": {},
     "output_type": "execute_result"
    }
   ],
   "source": [
    "string[-9:-6]"
   ]
  },
  {
   "cell_type": "code",
   "execution_count": 61,
   "id": "e84ac9e7",
   "metadata": {},
   "outputs": [
    {
     "data": {
      "text/plain": [
       "'world'"
      ]
     },
     "execution_count": 61,
     "metadata": {},
     "output_type": "execute_result"
    }
   ],
   "source": [
    "string[6:11]"
   ]
  },
  {
   "cell_type": "code",
   "execution_count": 62,
   "id": "01d475b1",
   "metadata": {},
   "outputs": [
    {
     "data": {
      "text/plain": [
       "'world'"
      ]
     },
     "execution_count": 62,
     "metadata": {},
     "output_type": "execute_result"
    }
   ],
   "source": [
    "string[-5:]"
   ]
  },
  {
   "cell_type": "code",
   "execution_count": 63,
   "id": "6b169266",
   "metadata": {},
   "outputs": [
    {
     "data": {
      "text/plain": [
       "'eood'"
      ]
     },
     "execution_count": 63,
     "metadata": {},
     "output_type": "execute_result"
    }
   ],
   "source": [
    "string=\"hello world\"\n",
    "string[1::3]"
   ]
  },
  {
   "cell_type": "code",
   "execution_count": 64,
   "id": "917c4b36",
   "metadata": {},
   "outputs": [
    {
     "data": {
      "text/plain": [
       "'hlwl'"
      ]
     },
     "execution_count": 64,
     "metadata": {},
     "output_type": "execute_result"
    }
   ],
   "source": [
    "string[0::3]"
   ]
  },
  {
   "cell_type": "code",
   "execution_count": 65,
   "id": "5b3945d6",
   "metadata": {},
   "outputs": [
    {
     "data": {
      "text/plain": [
       "'eo'"
      ]
     },
     "execution_count": 65,
     "metadata": {},
     "output_type": "execute_result"
    }
   ],
   "source": [
    "string[1:6:3]"
   ]
  },
  {
   "cell_type": "markdown",
   "id": "d8aadeff",
   "metadata": {},
   "source": [
    "# string methods"
   ]
  },
  {
   "cell_type": "code",
   "execution_count": 67,
   "id": "61fb18f7",
   "metadata": {},
   "outputs": [
    {
     "name": "stdout",
     "output_type": "stream",
     "text": [
      "i have a cat\n"
     ]
    }
   ],
   "source": [
    "#upper()\n",
    "text='i have a cat'\n",
    "print(text)"
   ]
  },
  {
   "cell_type": "code",
   "execution_count": 68,
   "id": "98353ed0",
   "metadata": {},
   "outputs": [
    {
     "name": "stdout",
     "output_type": "stream",
     "text": [
      "I HAVE A CAT\n"
     ]
    }
   ],
   "source": [
    "text='i have a cat'\n",
    "print(text.upper())"
   ]
  },
  {
   "cell_type": "code",
   "execution_count": 69,
   "id": "d02a9a5b",
   "metadata": {},
   "outputs": [
    {
     "name": "stdout",
     "output_type": "stream",
     "text": [
      "i have a cat\n"
     ]
    }
   ],
   "source": [
    "# lower()\n",
    "text='I HAVE a CaT'\n",
    "print(text.lower())"
   ]
  },
  {
   "cell_type": "code",
   "execution_count": 70,
   "id": "d093cf3b",
   "metadata": {},
   "outputs": [
    {
     "name": "stdout",
     "output_type": "stream",
     "text": [
      "i have a cat                  \n",
      "i have a cat\n"
     ]
    }
   ],
   "source": [
    "# rstrip()\n",
    "text='i have a cat                  '\n",
    "print(text)\n",
    "print(text.rstrip())\n",
    "new_text=text.rstrip()"
   ]
  },
  {
   "cell_type": "code",
   "execution_count": 71,
   "id": "ff58652b",
   "metadata": {},
   "outputs": [
    {
     "data": {
      "text/plain": [
       "30"
      ]
     },
     "execution_count": 71,
     "metadata": {},
     "output_type": "execute_result"
    }
   ],
   "source": [
    "len(text)"
   ]
  },
  {
   "cell_type": "code",
   "execution_count": 72,
   "id": "380d6c80",
   "metadata": {},
   "outputs": [
    {
     "data": {
      "text/plain": [
       "12"
      ]
     },
     "execution_count": 72,
     "metadata": {},
     "output_type": "execute_result"
    }
   ],
   "source": [
    "len(new_text)"
   ]
  },
  {
   "cell_type": "code",
   "execution_count": 73,
   "id": "bcc502db",
   "metadata": {},
   "outputs": [
    {
     "name": "stdout",
     "output_type": "stream",
     "text": [
      "              i have a car\n",
      "i have a car\n"
     ]
    }
   ],
   "source": [
    "#lstrip()\n",
    "text='              i have a car'\n",
    "print(text)\n",
    "print(text.lstrip())\n",
    "\n",
    "new_text_lstrip=text=text.lstrip()"
   ]
  },
  {
   "cell_type": "code",
   "execution_count": 74,
   "id": "a7d86313",
   "metadata": {},
   "outputs": [
    {
     "name": "stdout",
     "output_type": "stream",
     "text": [
      "**************4567890############\n"
     ]
    }
   ],
   "source": [
    "# strip()\n",
    "text='**************4567890############'\n",
    "print(text)\n",
    "new_text=text.rstrip('#').lstrip('*')"
   ]
  },
  {
   "cell_type": "code",
   "execution_count": 75,
   "id": "b74dfdde",
   "metadata": {},
   "outputs": [
    {
     "name": "stdout",
     "output_type": "stream",
     "text": [
      "4567890\n"
     ]
    }
   ],
   "source": [
    "print(new_text)"
   ]
  },
  {
   "cell_type": "code",
   "execution_count": 76,
   "id": "5dc69ed2",
   "metadata": {},
   "outputs": [
    {
     "name": "stdout",
     "output_type": "stream",
     "text": [
      "4\n"
     ]
    }
   ],
   "source": [
    "# count()\n",
    "text='this is a sample sentence in this example'\n",
    "print(text.count('i'))"
   ]
  },
  {
   "cell_type": "code",
   "execution_count": 77,
   "id": "ff05ad00",
   "metadata": {},
   "outputs": [
    {
     "name": "stdout",
     "output_type": "stream",
     "text": [
      "3\n"
     ]
    }
   ],
   "source": [
    "print(text.count('i',5))"
   ]
  },
  {
   "cell_type": "code",
   "execution_count": 78,
   "id": "2a636510",
   "metadata": {},
   "outputs": [
    {
     "name": "stdout",
     "output_type": "stream",
     "text": [
      "let us learn dataAnalysis using Python\n"
     ]
    }
   ],
   "source": [
    "A='data'\n",
    "B='Analysis'\n",
    "C='Python'\n",
    "\n",
    "print('let us learn '+'{0}{1} using {2}'.format(A,B,C))"
   ]
  },
  {
   "cell_type": "markdown",
   "id": "15e09a91",
   "metadata": {},
   "source": [
    "# Tuples.\n",
    ".Tuples are ordered sequence of mixed data  types.\n",
    ".Tuples are written in comma separated elements within parenthesis."
   ]
  },
  {
   "cell_type": "code",
   "execution_count": 79,
   "id": "3eb19e3c",
   "metadata": {},
   "outputs": [],
   "source": [
    "t=(1,2,3,4)"
   ]
  },
  {
   "cell_type": "code",
   "execution_count": 80,
   "id": "3d287984",
   "metadata": {},
   "outputs": [
    {
     "data": {
      "text/plain": [
       "tuple"
      ]
     },
     "execution_count": 80,
     "metadata": {},
     "output_type": "execute_result"
    }
   ],
   "source": [
    "type(t)"
   ]
  },
  {
   "cell_type": "code",
   "execution_count": 83,
   "id": "d2991168",
   "metadata": {},
   "outputs": [
    {
     "name": "stdout",
     "output_type": "stream",
     "text": [
      "('hello', 5, 5.5)\n"
     ]
    },
    {
     "data": {
      "text/plain": [
       "tuple"
      ]
     },
     "execution_count": 83,
     "metadata": {},
     "output_type": "execute_result"
    }
   ],
   "source": [
    "t=('hello',5,5.5)\n",
    "print(t)\n",
    "type(t)"
   ]
  },
  {
   "cell_type": "code",
   "execution_count": 86,
   "id": "3b130dcf",
   "metadata": {},
   "outputs": [],
   "source": [
    "t1=('hello',5,5.5,[2,3,4])"
   ]
  },
  {
   "cell_type": "code",
   "execution_count": 87,
   "id": "92d592b8",
   "metadata": {},
   "outputs": [
    {
     "data": {
      "text/plain": [
       "4"
      ]
     },
     "execution_count": 87,
     "metadata": {},
     "output_type": "execute_result"
    }
   ],
   "source": [
    "len(t1)"
   ]
  },
  {
   "cell_type": "markdown",
   "id": "b9c336e3",
   "metadata": {},
   "source": [
    "# tuples can be defined in various ways"
   ]
  },
  {
   "cell_type": "code",
   "execution_count": 88,
   "id": "90d8e0f3",
   "metadata": {},
   "outputs": [
    {
     "name": "stdout",
     "output_type": "stream",
     "text": [
      "(1, 2, 3, 4, 5)\n"
     ]
    }
   ],
   "source": [
    "t1=1,2,3,4,5\n",
    "print(t1)"
   ]
  },
  {
   "cell_type": "code",
   "execution_count": 89,
   "id": "9e7e346d",
   "metadata": {},
   "outputs": [
    {
     "data": {
      "text/plain": [
       "int"
      ]
     },
     "execution_count": 89,
     "metadata": {},
     "output_type": "execute_result"
    }
   ],
   "source": [
    "t2=(2)\n",
    "type(t2)"
   ]
  },
  {
   "cell_type": "code",
   "execution_count": 90,
   "id": "8523e41d",
   "metadata": {},
   "outputs": [
    {
     "data": {
      "text/plain": [
       "tuple"
      ]
     },
     "execution_count": 90,
     "metadata": {},
     "output_type": "execute_result"
    }
   ],
   "source": [
    "t3=2,\n",
    "type(t3)"
   ]
  },
  {
   "cell_type": "markdown",
   "id": "3a4a8f7d",
   "metadata": {},
   "source": [
    "# indexing tuple"
   ]
  },
  {
   "cell_type": "code",
   "execution_count": 91,
   "id": "71d9c850",
   "metadata": {},
   "outputs": [],
   "source": [
    "t=(\"Mumbai\",10,\"python\",100)"
   ]
  },
  {
   "cell_type": "code",
   "execution_count": 96,
   "id": "f8846309",
   "metadata": {},
   "outputs": [
    {
     "name": "stdout",
     "output_type": "stream",
     "text": [
      "4\n",
      "Mumbai\n"
     ]
    },
    {
     "data": {
      "text/plain": [
       "100"
      ]
     },
     "execution_count": 96,
     "metadata": {},
     "output_type": "execute_result"
    }
   ],
   "source": [
    "print(len(t))\n",
    "print(t[0])\n",
    "t[-1]"
   ]
  },
  {
   "cell_type": "code",
   "execution_count": 99,
   "id": "0605d3b6",
   "metadata": {},
   "outputs": [
    {
     "name": "stdout",
     "output_type": "stream",
     "text": [
      "Mumbai\n",
      "10\n"
     ]
    }
   ],
   "source": [
    "#gives the element at index location 0 i.e.ist element\n",
    "print(t[0])\n",
    "\n",
    "#gives the element at index location1\n",
    "print(t[1])"
   ]
  },
  {
   "cell_type": "markdown",
   "id": "e963a857",
   "metadata": {},
   "source": [
    "# slicing"
   ]
  },
  {
   "cell_type": "code",
   "execution_count": 103,
   "id": "f80a6a03",
   "metadata": {},
   "outputs": [
    {
     "name": "stdout",
     "output_type": "stream",
     "text": [
      "('mumbai', 'python')\n",
      "(10, 100)\n"
     ]
    }
   ],
   "source": [
    "# slicing first 2 element from t\n",
    "\n",
    "t=(\"mumbai\",\"python\",10,100)\n",
    "print(t[0:2])\n",
    "print(t[2:])"
   ]
  },
  {
   "cell_type": "code",
   "execution_count": 104,
   "id": "853aa348",
   "metadata": {},
   "outputs": [
    {
     "data": {
      "text/plain": [
       "(10, 100)"
      ]
     },
     "execution_count": 104,
     "metadata": {},
     "output_type": "execute_result"
    }
   ],
   "source": [
    "# slicing last 2 element from from t\n",
    "t[-2:]"
   ]
  },
  {
   "cell_type": "code",
   "execution_count": 105,
   "id": "0c9650b8",
   "metadata": {},
   "outputs": [
    {
     "data": {
      "text/plain": [
       "4"
      ]
     },
     "execution_count": 105,
     "metadata": {},
     "output_type": "execute_result"
    }
   ],
   "source": [
    "# find the number of element in a tuple\n",
    "len(t)"
   ]
  },
  {
   "cell_type": "markdown",
   "id": "9c6d71c8",
   "metadata": {},
   "source": [
    "# concatenation"
   ]
  },
  {
   "cell_type": "code",
   "execution_count": 106,
   "id": "f913027d",
   "metadata": {},
   "outputs": [],
   "source": [
    "tup1=(\"welcome\",\"to\",\"today's\")\n",
    "tup2=(\"class\",\"on\",\"python\")"
   ]
  },
  {
   "cell_type": "code",
   "execution_count": 107,
   "id": "95d8b66f",
   "metadata": {},
   "outputs": [],
   "source": [
    "tup3=tup1+tup2"
   ]
  },
  {
   "cell_type": "code",
   "execution_count": 108,
   "id": "2f9bb05b",
   "metadata": {},
   "outputs": [
    {
     "data": {
      "text/plain": [
       "('welcome', 'to', \"today's\", 'class', 'on', 'python')"
      ]
     },
     "execution_count": 108,
     "metadata": {},
     "output_type": "execute_result"
    }
   ],
   "source": [
    "tup3"
   ]
  },
  {
   "cell_type": "markdown",
   "id": "61b3a29b",
   "metadata": {},
   "source": [
    "# min,max,sum functions"
   ]
  },
  {
   "cell_type": "code",
   "execution_count": 109,
   "id": "0d8b4825",
   "metadata": {},
   "outputs": [
    {
     "data": {
      "text/plain": [
       "20"
      ]
     },
     "execution_count": 109,
     "metadata": {},
     "output_type": "execute_result"
    }
   ],
   "source": [
    "t=(2,4,6,8)\n",
    "sum(t)"
   ]
  },
  {
   "cell_type": "code",
   "execution_count": 110,
   "id": "484790b5",
   "metadata": {},
   "outputs": [
    {
     "data": {
      "text/plain": [
       "2"
      ]
     },
     "execution_count": 110,
     "metadata": {},
     "output_type": "execute_result"
    }
   ],
   "source": [
    "t=(2,4,6,8)\n",
    "min(t)"
   ]
  },
  {
   "cell_type": "code",
   "execution_count": 111,
   "id": "e0cce499",
   "metadata": {},
   "outputs": [
    {
     "data": {
      "text/plain": [
       "8"
      ]
     },
     "execution_count": 111,
     "metadata": {},
     "output_type": "execute_result"
    }
   ],
   "source": [
    "t=(2,4,6,8)\n",
    "max(t)"
   ]
  },
  {
   "cell_type": "code",
   "execution_count": 120,
   "id": "f2d88b53",
   "metadata": {},
   "outputs": [
    {
     "data": {
      "text/plain": [
       "10"
      ]
     },
     "execution_count": 120,
     "metadata": {},
     "output_type": "execute_result"
    }
   ],
   "source": [
    "# t=(5.5,4.25,10)\n",
    "max(t)"
   ]
  },
  {
   "cell_type": "code",
   "execution_count": 129,
   "id": "2289f031",
   "metadata": {},
   "outputs": [
    {
     "data": {
      "text/plain": [
       "8"
      ]
     },
     "execution_count": 129,
     "metadata": {},
     "output_type": "execute_result"
    }
   ],
   "source": [
    "tuple1=(1,2,3,4,\"hello\",\"world\",\"world\",[1,2,3])\n",
    "len(tuple1)"
   ]
  },
  {
   "cell_type": "code",
   "execution_count": 117,
   "id": "78a160bb",
   "metadata": {},
   "outputs": [
    {
     "name": "stdout",
     "output_type": "stream",
     "text": [
      "1\n",
      "4\n"
     ]
    },
    {
     "data": {
      "text/plain": [
       "'world'"
      ]
     },
     "execution_count": 117,
     "metadata": {},
     "output_type": "execute_result"
    }
   ],
   "source": [
    "print(tuple1[0])\n",
    "print(tuple1[3])\n",
    "tuple1[6]"
   ]
  },
  {
   "cell_type": "code",
   "execution_count": 130,
   "id": "9979119f",
   "metadata": {},
   "outputs": [
    {
     "data": {
      "text/plain": [
       "'o'"
      ]
     },
     "execution_count": 130,
     "metadata": {},
     "output_type": "execute_result"
    }
   ],
   "source": [
    "tuple1[6][1]"
   ]
  },
  {
   "cell_type": "code",
   "execution_count": 131,
   "id": "c5aaeb44",
   "metadata": {},
   "outputs": [
    {
     "data": {
      "text/plain": [
       "'o'"
      ]
     },
     "execution_count": 131,
     "metadata": {},
     "output_type": "execute_result"
    }
   ],
   "source": [
    "list1=[1,2,3,4,\"hello\",\"world\",(1,2,3)]\n",
    "tuple1[6][1]"
   ]
  },
  {
   "cell_type": "markdown",
   "id": "a196852d",
   "metadata": {},
   "source": [
    "# immutability"
   ]
  },
  {
   "cell_type": "code",
   "execution_count": 132,
   "id": "e27de9d5",
   "metadata": {},
   "outputs": [],
   "source": [
    "t=(\"Hello!!\",\"welcome\",5,10,\"world\",\"of\",\"Analytics!!\")"
   ]
  },
  {
   "cell_type": "code",
   "execution_count": 133,
   "id": "040b02d7",
   "metadata": {},
   "outputs": [
    {
     "data": {
      "text/plain": [
       "10"
      ]
     },
     "execution_count": 133,
     "metadata": {},
     "output_type": "execute_result"
    }
   ],
   "source": [
    "t[3]"
   ]
  },
  {
   "cell_type": "code",
   "execution_count": 134,
   "id": "5b28811f",
   "metadata": {
    "scrolled": true
   },
   "outputs": [
    {
     "ename": "TypeError",
     "evalue": "'tuple' object does not support item assignment",
     "output_type": "error",
     "traceback": [
      "\u001b[1;31m---------------------------------------------------------------------------\u001b[0m",
      "\u001b[1;31mTypeError\u001b[0m                                 Traceback (most recent call last)",
      "\u001b[1;32m~\\AppData\\Local\\Temp/ipykernel_15916/3845668328.py\u001b[0m in \u001b[0;36m<module>\u001b[1;34m\u001b[0m\n\u001b[1;32m----> 1\u001b[1;33m \u001b[0mt\u001b[0m\u001b[1;33m[\u001b[0m\u001b[1;36m2\u001b[0m\u001b[1;33m]\u001b[0m\u001b[1;33m=\u001b[0m\u001b[1;34m\"to\"\u001b[0m\u001b[1;33m\u001b[0m\u001b[1;33m\u001b[0m\u001b[0m\n\u001b[0m\u001b[0;32m      2\u001b[0m \u001b[0mt\u001b[0m\u001b[1;33m[\u001b[0m\u001b[1;36m3\u001b[0m\u001b[1;33m]\u001b[0m\u001b[1;33m=\u001b[0m\u001b[1;34m\"the\"\u001b[0m\u001b[1;33m\u001b[0m\u001b[1;33m\u001b[0m\u001b[0m\n",
      "\u001b[1;31mTypeError\u001b[0m: 'tuple' object does not support item assignment"
     ]
    }
   ],
   "source": [
    "t[2]=\"to\"\n",
    "t[3]=\"the\""
   ]
  },
  {
   "cell_type": "code",
   "execution_count": 135,
   "id": "8bda82da",
   "metadata": {
    "scrolled": true
   },
   "outputs": [
    {
     "data": {
      "text/plain": [
       "('Hello!!', 'welcome')"
      ]
     },
     "execution_count": 135,
     "metadata": {},
     "output_type": "execute_result"
    }
   ],
   "source": [
    "t[0:2]"
   ]
  },
  {
   "cell_type": "code",
   "execution_count": 136,
   "id": "fcb0949c",
   "metadata": {},
   "outputs": [
    {
     "data": {
      "text/plain": [
       "('world', 'of', 'Analytics!!')"
      ]
     },
     "execution_count": 136,
     "metadata": {},
     "output_type": "execute_result"
    }
   ],
   "source": [
    "t[-3:]"
   ]
  },
  {
   "cell_type": "code",
   "execution_count": 139,
   "id": "91c47145",
   "metadata": {},
   "outputs": [],
   "source": [
    "# How to update the 2nd and 3rd element\n",
    "new_tuple=t[0:2]+(\"to\",\"the\",)+t[-3:]\n"
   ]
  },
  {
   "cell_type": "code",
   "execution_count": 140,
   "id": "5477df0d",
   "metadata": {},
   "outputs": [
    {
     "data": {
      "text/plain": [
       "('Hello!!', 'welcome', 'to', 'the', 'world', 'of', 'Analytics!!')"
      ]
     },
     "execution_count": 140,
     "metadata": {},
     "output_type": "execute_result"
    }
   ],
   "source": [
    "new_tuple"
   ]
  },
  {
   "cell_type": "code",
   "execution_count": 141,
   "id": "d175053e",
   "metadata": {},
   "outputs": [
    {
     "data": {
      "text/plain": [
       "'disco'"
      ]
     },
     "execution_count": 141,
     "metadata": {},
     "output_type": "execute_result"
    }
   ],
   "source": [
    "#question\n",
    "t=(\"disco\",12,4.5)\n",
    "t[0]"
   ]
  },
  {
   "cell_type": "code",
   "execution_count": 142,
   "id": "ff2da9cc",
   "metadata": {},
   "outputs": [
    {
     "data": {
      "text/plain": [
       "'s'"
      ]
     },
     "execution_count": 142,
     "metadata": {},
     "output_type": "execute_result"
    }
   ],
   "source": [
    "t[0][2]"
   ]
  },
  {
   "cell_type": "markdown",
   "id": "a3d8143d",
   "metadata": {},
   "source": [
    "# sorting a tuple"
   ]
  },
  {
   "cell_type": "code",
   "execution_count": 143,
   "id": "e6608c1a",
   "metadata": {},
   "outputs": [
    {
     "data": {
      "text/plain": [
       "[1, 2, 3, 4, 5, 8]"
      ]
     },
     "execution_count": 143,
     "metadata": {},
     "output_type": "execute_result"
    }
   ],
   "source": [
    "t=(2,3,8,5,4,1)\n",
    "sorted(t)"
   ]
  },
  {
   "cell_type": "code",
   "execution_count": 144,
   "id": "7482b045",
   "metadata": {},
   "outputs": [],
   "source": [
    "new_list=sorted(t)"
   ]
  },
  {
   "cell_type": "code",
   "execution_count": 145,
   "id": "9adb2b6f",
   "metadata": {},
   "outputs": [
    {
     "data": {
      "text/plain": [
       "[1, 2, 3, 4, 5, 8]"
      ]
     },
     "execution_count": 145,
     "metadata": {},
     "output_type": "execute_result"
    }
   ],
   "source": [
    "new_list"
   ]
  },
  {
   "cell_type": "code",
   "execution_count": 146,
   "id": "80fa7850",
   "metadata": {},
   "outputs": [],
   "source": [
    "# nested tuples\n",
    "t=(1,5,\"Hello\",\"world\",(\"java\",\"python\"))"
   ]
  },
  {
   "cell_type": "code",
   "execution_count": 147,
   "id": "9388d011",
   "metadata": {},
   "outputs": [
    {
     "data": {
      "text/plain": [
       "('java', 'python')"
      ]
     },
     "execution_count": 147,
     "metadata": {},
     "output_type": "execute_result"
    }
   ],
   "source": [
    "t[4]"
   ]
  },
  {
   "cell_type": "code",
   "execution_count": 148,
   "id": "138776d4",
   "metadata": {},
   "outputs": [
    {
     "data": {
      "text/plain": [
       "'java'"
      ]
     },
     "execution_count": 148,
     "metadata": {},
     "output_type": "execute_result"
    }
   ],
   "source": [
    "t[4][0]"
   ]
  },
  {
   "cell_type": "markdown",
   "id": "4acec7d9",
   "metadata": {},
   "source": [
    "# list\n",
    "\n",
    ".Tuple are ordered sequence of mixed data types\n",
    "Tuples are written in comma separated elements within sqare brackets\n"
   ]
  },
  {
   "cell_type": "code",
   "execution_count": 150,
   "id": "743ad683",
   "metadata": {},
   "outputs": [],
   "source": [
    "tuple1=(1,2,55,4,19,22)"
   ]
  },
  {
   "cell_type": "code",
   "execution_count": 152,
   "id": "f46d18d8",
   "metadata": {},
   "outputs": [
    {
     "name": "stdout",
     "output_type": "stream",
     "text": [
      "(55, 22, 19, 4, 2, 1)\n"
     ]
    }
   ],
   "source": [
    "list1=sorted(tuple1,reverse=True)\n",
    "tuple2=tuple(list1)\n",
    "print(tuple2)"
   ]
  },
  {
   "cell_type": "code",
   "execution_count": 153,
   "id": "63550368",
   "metadata": {},
   "outputs": [
    {
     "data": {
      "text/plain": [
       "tuple"
      ]
     },
     "execution_count": 153,
     "metadata": {},
     "output_type": "execute_result"
    }
   ],
   "source": [
    "tuple3=(1,)\n",
    "type(tuple3)"
   ]
  },
  {
   "cell_type": "code",
   "execution_count": 154,
   "id": "20277572",
   "metadata": {},
   "outputs": [
    {
     "data": {
      "text/plain": [
       "int"
      ]
     },
     "execution_count": 154,
     "metadata": {},
     "output_type": "execute_result"
    }
   ],
   "source": [
    "tuple3=(1)\n",
    "type(tuple3)"
   ]
  },
  {
   "cell_type": "markdown",
   "id": "adb301a4",
   "metadata": {},
   "source": [
    "# list\n",
    "list are ordered sequence of mixed data types, list are written in comma separated elements within sqare brackets."
   ]
  },
  {
   "cell_type": "code",
   "execution_count": 155,
   "id": "b8c41a39",
   "metadata": {},
   "outputs": [],
   "source": [
    "list1=[\"india\",5,\"Delhi\"]"
   ]
  },
  {
   "cell_type": "code",
   "execution_count": 156,
   "id": "7b14207d",
   "metadata": {},
   "outputs": [
    {
     "data": {
      "text/plain": [
       "['india', 5, 'Delhi']"
      ]
     },
     "execution_count": 156,
     "metadata": {},
     "output_type": "execute_result"
    }
   ],
   "source": [
    "list1"
   ]
  },
  {
   "cell_type": "code",
   "execution_count": 157,
   "id": "24f61e93",
   "metadata": {},
   "outputs": [
    {
     "name": "stdout",
     "output_type": "stream",
     "text": [
      "3\n",
      "<class 'list'>\n"
     ]
    }
   ],
   "source": [
    "print(len(list1))\n",
    "print(type(list1))"
   ]
  },
  {
   "cell_type": "code",
   "execution_count": 158,
   "id": "b9b5b9e0",
   "metadata": {},
   "outputs": [],
   "source": [
    "# Nested list\n",
    "\n",
    "list2=[\"India\",\"Delhi\",5,10,[\"Rajkot\",\"Chennai\"]]"
   ]
  },
  {
   "cell_type": "code",
   "execution_count": 159,
   "id": "bd4943a8",
   "metadata": {},
   "outputs": [
    {
     "data": {
      "text/plain": [
       "['India', 'Delhi', 5, 10, ['Rajkot', 'Chennai']]"
      ]
     },
     "execution_count": 159,
     "metadata": {},
     "output_type": "execute_result"
    }
   ],
   "source": [
    "list2"
   ]
  },
  {
   "cell_type": "code",
   "execution_count": 160,
   "id": "d4485742",
   "metadata": {},
   "outputs": [
    {
     "data": {
      "text/plain": [
       "'India'"
      ]
     },
     "execution_count": 160,
     "metadata": {},
     "output_type": "execute_result"
    }
   ],
   "source": [
    "list2[0]"
   ]
  },
  {
   "cell_type": "code",
   "execution_count": 161,
   "id": "cc115229",
   "metadata": {},
   "outputs": [
    {
     "data": {
      "text/plain": [
       "['Rajkot', 'Chennai']"
      ]
     },
     "execution_count": 161,
     "metadata": {},
     "output_type": "execute_result"
    }
   ],
   "source": [
    "list2[-1]"
   ]
  },
  {
   "cell_type": "code",
   "execution_count": 162,
   "id": "226751a2",
   "metadata": {},
   "outputs": [
    {
     "data": {
      "text/plain": [
       "'Chennai'"
      ]
     },
     "execution_count": 162,
     "metadata": {},
     "output_type": "execute_result"
    }
   ],
   "source": [
    "list2[-1][1]"
   ]
  },
  {
   "cell_type": "code",
   "execution_count": 163,
   "id": "dbf46526",
   "metadata": {},
   "outputs": [
    {
     "data": {
      "text/plain": [
       "'India'"
      ]
     },
     "execution_count": 163,
     "metadata": {},
     "output_type": "execute_result"
    }
   ],
   "source": [
    "#indexing\n",
    "list2=[\"India\",\"Delhi\",5,10,[\"Rajkot\",\"Chennai\"]]\n",
    "list2[0]"
   ]
  },
  {
   "cell_type": "code",
   "execution_count": 164,
   "id": "127661b4",
   "metadata": {},
   "outputs": [
    {
     "data": {
      "text/plain": [
       "['Rajkot', 'Chennai']"
      ]
     },
     "execution_count": 164,
     "metadata": {},
     "output_type": "execute_result"
    }
   ],
   "source": [
    "# slicing\n",
    "list2[-1]"
   ]
  },
  {
   "cell_type": "code",
   "execution_count": 165,
   "id": "63dd5763",
   "metadata": {},
   "outputs": [],
   "source": [
    "list2=[\"India\",\"Delhi\",5,10,[\"Rajkot\",\"Chennai\"]]\n"
   ]
  },
  {
   "cell_type": "code",
   "execution_count": 166,
   "id": "88013c92",
   "metadata": {},
   "outputs": [
    {
     "data": {
      "text/plain": [
       "['Rajkot', 'Chennai']"
      ]
     },
     "execution_count": 166,
     "metadata": {},
     "output_type": "execute_result"
    }
   ],
   "source": [
    "list2[4]"
   ]
  },
  {
   "cell_type": "code",
   "execution_count": 167,
   "id": "90d57435",
   "metadata": {},
   "outputs": [
    {
     "data": {
      "text/plain": [
       "'Chennai'"
      ]
     },
     "execution_count": 167,
     "metadata": {},
     "output_type": "execute_result"
    }
   ],
   "source": [
    "list2[4][1]"
   ]
  },
  {
   "cell_type": "code",
   "execution_count": 168,
   "id": "bc923772",
   "metadata": {},
   "outputs": [
    {
     "data": {
      "text/plain": [
       "'Rajkot'"
      ]
     },
     "execution_count": 168,
     "metadata": {},
     "output_type": "execute_result"
    }
   ],
   "source": [
    "list2[4][-2]"
   ]
  },
  {
   "cell_type": "code",
   "execution_count": 169,
   "id": "3bbc2662",
   "metadata": {},
   "outputs": [
    {
     "data": {
      "text/plain": [
       "'Rajkot'"
      ]
     },
     "execution_count": 169,
     "metadata": {},
     "output_type": "execute_result"
    }
   ],
   "source": [
    "list2[4][0]"
   ]
  },
  {
   "cell_type": "code",
   "execution_count": 170,
   "id": "cc81db9e",
   "metadata": {},
   "outputs": [],
   "source": [
    "# list concat\n",
    "list1=[1,2,3,4]\n",
    "list2=[5,6,7,8]\n",
    "\n",
    "new_list=list1+list2"
   ]
  },
  {
   "cell_type": "code",
   "execution_count": 171,
   "id": "54e79274",
   "metadata": {},
   "outputs": [
    {
     "data": {
      "text/plain": [
       "[1, 2, 3, 4, 5, 6, 7, 8]"
      ]
     },
     "execution_count": 171,
     "metadata": {},
     "output_type": "execute_result"
    }
   ],
   "source": [
    "new_list"
   ]
  },
  {
   "cell_type": "code",
   "execution_count": 172,
   "id": "731f87ac",
   "metadata": {},
   "outputs": [
    {
     "data": {
      "text/plain": [
       "[1, 2, 3, 4, 5, 6, 7, 8]"
      ]
     },
     "execution_count": 172,
     "metadata": {},
     "output_type": "execute_result"
    }
   ],
   "source": [
    "# add two elements to an existing list.\n",
    "list3=[1,2,3,4]\n",
    "#list4=[5,6]\n",
    "new_list"
   ]
  },
  {
   "cell_type": "code",
   "execution_count": 173,
   "id": "7c585cd3",
   "metadata": {},
   "outputs": [
    {
     "name": "stdout",
     "output_type": "stream",
     "text": [
      "False\n"
     ]
    }
   ],
   "source": [
    "string1=\"hello how are you\"\n",
    "print(\"world\" in string1)"
   ]
  },
  {
   "cell_type": "code",
   "execution_count": 174,
   "id": "16511ea1",
   "metadata": {},
   "outputs": [
    {
     "name": "stdout",
     "output_type": "stream",
     "text": [
      "True\n",
      "False\n"
     ]
    }
   ],
   "source": [
    "# membership in lists\n",
    "\n",
    "list3=[1,2,3,4]\n",
    "print(1 in list3)\n",
    "print(5 in list3)"
   ]
  },
  {
   "cell_type": "markdown",
   "id": "4e28f2ed",
   "metadata": {},
   "source": [
    "# Mutability"
   ]
  },
  {
   "cell_type": "code",
   "execution_count": 179,
   "id": "97942a46",
   "metadata": {},
   "outputs": [],
   "source": [
    "list1=[\"Maths\",\"Physics\",\"Chemistry\",\"Biology\"]"
   ]
  },
  {
   "cell_type": "code",
   "execution_count": 180,
   "id": "0eca6688",
   "metadata": {},
   "outputs": [],
   "source": [
    "list1[3]='computer science'"
   ]
  },
  {
   "cell_type": "code",
   "execution_count": 181,
   "id": "60961b4f",
   "metadata": {},
   "outputs": [
    {
     "data": {
      "text/plain": [
       "['Maths', 'Physics', 'Chemistry', 'computer science']"
      ]
     },
     "execution_count": 181,
     "metadata": {},
     "output_type": "execute_result"
    }
   ],
   "source": [
    "list1"
   ]
  },
  {
   "cell_type": "code",
   "execution_count": 182,
   "id": "5cf5a96a",
   "metadata": {},
   "outputs": [
    {
     "data": {
      "text/plain": [
       "[1, 2, 3, 4, 5, 6]"
      ]
     },
     "execution_count": 182,
     "metadata": {},
     "output_type": "execute_result"
    }
   ],
   "source": [
    "#extend()function\n",
    "\n",
    "list1=[1,2,3,4]\n",
    "list1.extend([5,6])\n",
    "list1"
   ]
  },
  {
   "cell_type": "code",
   "execution_count": 186,
   "id": "a0989f37",
   "metadata": {},
   "outputs": [
    {
     "data": {
      "text/plain": [
       "[1, 2, 3, 4, [5, 6]]"
      ]
     },
     "execution_count": 186,
     "metadata": {},
     "output_type": "execute_result"
    }
   ],
   "source": [
    "list1=[1,2,3,4]\n",
    "list1.append([5,6])\n",
    "list1"
   ]
  },
  {
   "cell_type": "code",
   "execution_count": 188,
   "id": "17a66172",
   "metadata": {},
   "outputs": [
    {
     "data": {
      "text/plain": [
       "[1, 2, 4]"
      ]
     },
     "execution_count": 188,
     "metadata": {},
     "output_type": "execute_result"
    }
   ],
   "source": [
    "#del command\n",
    "\n",
    "list1=[1,2,3,4]\n",
    "del list1[2]\n",
    "list1"
   ]
  },
  {
   "cell_type": "code",
   "execution_count": 189,
   "id": "5b6c3be0",
   "metadata": {},
   "outputs": [
    {
     "data": {
      "text/plain": [
       "[1, 2, 3]"
      ]
     },
     "execution_count": 189,
     "metadata": {},
     "output_type": "execute_result"
    }
   ],
   "source": [
    "#pop()-Deletes the last object from the list\n",
    "\n",
    "list1=[1,2,3,4]\n",
    "\n",
    "list1.pop()\n",
    "list1"
   ]
  },
  {
   "cell_type": "code",
   "execution_count": 191,
   "id": "5fdc0aa6",
   "metadata": {},
   "outputs": [
    {
     "data": {
      "text/plain": [
       "[11, 33, 44]"
      ]
     },
     "execution_count": 191,
     "metadata": {},
     "output_type": "execute_result"
    }
   ],
   "source": [
    "list1=[11,22,33,44]\n",
    "\n",
    "list1.pop(1)\n",
    "list1"
   ]
  },
  {
   "cell_type": "code",
   "execution_count": 193,
   "id": "99f84f05",
   "metadata": {},
   "outputs": [
    {
     "data": {
      "text/plain": [
       "[11, 33, 44]"
      ]
     },
     "execution_count": 193,
     "metadata": {},
     "output_type": "execute_result"
    }
   ],
   "source": [
    "list1=[11,22,33,44]\n",
    "list1.remove(22)\n",
    "list1"
   ]
  },
  {
   "cell_type": "code",
   "execution_count": 195,
   "id": "f68f714e",
   "metadata": {},
   "outputs": [
    {
     "data": {
      "text/plain": [
       "[1, 2, 4]"
      ]
     },
     "execution_count": 195,
     "metadata": {},
     "output_type": "execute_result"
    }
   ],
   "source": [
    "#pop()- By default,it deletes the last object from the list\n",
    "#pop takes index as an input\n",
    "\n",
    "list1=[1,2,3,4]\n",
    "list1.pop(2)\n",
    "list1"
   ]
  },
  {
   "cell_type": "code",
   "execution_count": 196,
   "id": "1d319fe3",
   "metadata": {},
   "outputs": [
    {
     "data": {
      "text/plain": [
       "[2, 5, 9]"
      ]
     },
     "execution_count": 196,
     "metadata": {},
     "output_type": "execute_result"
    }
   ],
   "source": [
    "# sorting\n",
    "A=[9,5,2]\n",
    "A.sort()\n",
    "A"
   ]
  },
  {
   "cell_type": "code",
   "execution_count": 197,
   "id": "3fb8b1f8",
   "metadata": {},
   "outputs": [
    {
     "data": {
      "text/plain": [
       "[9, 5, 2]"
      ]
     },
     "execution_count": 197,
     "metadata": {},
     "output_type": "execute_result"
    }
   ],
   "source": [
    "A.sort(reverse=True)\n",
    "A"
   ]
  },
  {
   "cell_type": "code",
   "execution_count": null,
   "id": "4c5b6927",
   "metadata": {},
   "outputs": [],
   "source": []
  }
 ],
 "metadata": {
  "kernelspec": {
   "display_name": "Python 3 (ipykernel)",
   "language": "python",
   "name": "python3"
  },
  "language_info": {
   "codemirror_mode": {
    "name": "ipython",
    "version": 3
   },
   "file_extension": ".py",
   "mimetype": "text/x-python",
   "name": "python",
   "nbconvert_exporter": "python",
   "pygments_lexer": "ipython3",
   "version": "3.9.7"
  }
 },
 "nbformat": 4,
 "nbformat_minor": 5
}
