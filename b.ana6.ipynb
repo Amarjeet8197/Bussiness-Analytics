{
 "cells": [
  {
   "cell_type": "markdown",
   "id": "90340756",
   "metadata": {},
   "source": [
    "# Binary Operators\n",
    ".works with 2 operands\n",
    ".Operand can be :a+b-->where a,b are two operands& a+3,where a is an operand,and 3 is avariable\n"
   ]
  },
  {
   "cell_type": "code",
   "execution_count": null,
   "id": "811f26f5",
   "metadata": {},
   "outputs": [],
   "source": [
    "Relational Operators\n",
    ".Relational operators\n",
    ".compares the values on either side of the operator and returns and boolean value as True or False"
   ]
  },
  {
   "cell_type": "markdown",
   "id": "d13bafee",
   "metadata": {},
   "source": [
    "# iteration\n",
    "\n",
    ".Repeated execution of a set of statements\n",
    "\n",
    ".implemented using 'for'loops & 'while'loops"
   ]
  },
  {
   "cell_type": "code",
   "execution_count": null,
   "id": "4b4f871a",
   "metadata": {},
   "outputs": [],
   "source": [
    "1,2,3,4,5,6\n",
    "\n",
    "9--> yes ,9 is grater than all the elements"
   ]
  },
  {
   "cell_type": "code",
   "execution_count": 3,
   "id": "17435e0f",
   "metadata": {},
   "outputs": [],
   "source": [
    "l=[1,3,4,2,5,6]"
   ]
  },
  {
   "cell_type": "code",
   "execution_count": 4,
   "id": "beff06ac",
   "metadata": {},
   "outputs": [
    {
     "data": {
      "text/plain": [
       "6"
      ]
     },
     "execution_count": 4,
     "metadata": {},
     "output_type": "execute_result"
    }
   ],
   "source": [
    "len(l)"
   ]
  },
  {
   "cell_type": "code",
   "execution_count": 5,
   "id": "fbf17273",
   "metadata": {},
   "outputs": [
    {
     "name": "stdout",
     "output_type": "stream",
     "text": [
      "1\n",
      "3\n",
      "4\n",
      "2\n",
      "5\n",
      "6\n"
     ]
    }
   ],
   "source": [
    "# iterate over list of integers\n",
    "list_1=[1,3,4,2,5,6]\n",
    "for i in list_1:\n",
    "    print(i)\n"
   ]
  },
  {
   "cell_type": "code",
   "execution_count": 6,
   "id": "ca8193fe",
   "metadata": {},
   "outputs": [
    {
     "data": {
      "text/plain": [
       "'h'"
      ]
     },
     "execution_count": 6,
     "metadata": {},
     "output_type": "execute_result"
    }
   ],
   "source": [
    "string_1=\"hello world\"\n",
    "\n",
    "string_1[0]"
   ]
  },
  {
   "cell_type": "code",
   "execution_count": 7,
   "id": "dc957df5",
   "metadata": {},
   "outputs": [
    {
     "name": "stdout",
     "output_type": "stream",
     "text": [
      "H\n",
      "i\n",
      "m\n",
      "a\n",
      "c\n",
      "h\n",
      "a\n",
      "l\n",
      " \n",
      "p\n",
      "r\n",
      "a\n",
      "d\n",
      "e\n",
      "s\n",
      "h\n"
     ]
    }
   ],
   "source": [
    "# iterate over a string\n",
    "\n",
    "string=\"Himachal pradesh\"\n",
    "for ch in string:\n",
    "    print(ch)"
   ]
  },
  {
   "cell_type": "code",
   "execution_count": 8,
   "id": "5f38ac27",
   "metadata": {},
   "outputs": [
    {
     "name": "stdout",
     "output_type": "stream",
     "text": [
      "H,i,m,a,c,h,a,l, ,p,r,a,d,e,s,h,"
     ]
    }
   ],
   "source": [
    "string=\"Himachal pradesh\" #modify print using end\n",
    "for ch in string:\n",
    "    print(ch,end=\",\")# default value of end =\"\\n\""
   ]
  },
  {
   "cell_type": "code",
   "execution_count": 9,
   "id": "4d264bae",
   "metadata": {},
   "outputs": [
    {
     "name": "stdout",
     "output_type": "stream",
     "text": [
      "H&i&m&a&c&h&a&l& &p&r&a&d&e&s&h&"
     ]
    }
   ],
   "source": [
    "string=\"Himachal pradesh\" #modify print using end\n",
    "for ch in string:\n",
    "    print(ch,end=\"&\")# default value of end =\"\\n\""
   ]
  },
  {
   "cell_type": "code",
   "execution_count": 10,
   "id": "bcb54d73",
   "metadata": {},
   "outputs": [
    {
     "name": "stdout",
     "output_type": "stream",
     "text": [
      "H:i:m:a:c:h:a:l: :p:r:a:d:e:s:h:"
     ]
    }
   ],
   "source": [
    "string=\"Himachal pradesh\" #modify print using end\n",
    "for ch in string:\n",
    "    print(ch,end=\":\")# default value of end =\"\\n\""
   ]
  },
  {
   "cell_type": "code",
   "execution_count": 16,
   "id": "3e976e06",
   "metadata": {},
   "outputs": [],
   "source": [
    "students_data={1:['sam',24],2:['sharma',25],3:['saina',26],4:['saif',24]}"
   ]
  },
  {
   "cell_type": "code",
   "execution_count": 17,
   "id": "9257d805",
   "metadata": {},
   "outputs": [
    {
     "data": {
      "text/plain": [
       "{1: ['sam', 24], 2: ['sharma', 25], 3: ['saina', 26], 4: ['saif', 24]}"
      ]
     },
     "execution_count": 17,
     "metadata": {},
     "output_type": "execute_result"
    }
   ],
   "source": [
    "students_data"
   ]
  },
  {
   "cell_type": "code",
   "execution_count": 18,
   "id": "8ed86d66",
   "metadata": {},
   "outputs": [
    {
     "name": "stdout",
     "output_type": "stream",
     "text": [
      "1 ['sam', 24]\n",
      "2 ['sharma', 25]\n",
      "3 ['saina', 26]\n",
      "4 ['saif', 24]\n"
     ]
    }
   ],
   "source": [
    "# iteration over a dictionary\n",
    "\n",
    "students_data={1:['sam',24],2:['sharma',25],3:['saina',26],4:['saif',24]}\n",
    "for key,val in students_data.items():\n",
    "    print(key,val)"
   ]
  },
  {
   "cell_type": "code",
   "execution_count": 19,
   "id": "57dcdbf1",
   "metadata": {},
   "outputs": [
    {
     "name": "stdout",
     "output_type": "stream",
     "text": [
      "1\n",
      "2\n",
      "3\n",
      "4\n"
     ]
    }
   ],
   "source": [
    "for key in students_data.keys():\n",
    "    print(key)"
   ]
  },
  {
   "cell_type": "code",
   "execution_count": 20,
   "id": "de622a59",
   "metadata": {},
   "outputs": [
    {
     "name": "stdout",
     "output_type": "stream",
     "text": [
      "1\n",
      "2\n",
      "3\n",
      "4\n"
     ]
    }
   ],
   "source": [
    "for v in students_data.keys():\n",
    "    print(v)"
   ]
  },
  {
   "cell_type": "code",
   "execution_count": 21,
   "id": "c22ecb22",
   "metadata": {},
   "outputs": [
    {
     "name": "stdout",
     "output_type": "stream",
     "text": [
      "['sam', 24]\n",
      "['sharma', 25]\n",
      "['saina', 26]\n",
      "['saif', 24]\n"
     ]
    }
   ],
   "source": [
    "for v in students_data.values():\n",
    "    print(v)"
   ]
  },
  {
   "cell_type": "code",
   "execution_count": 23,
   "id": "aa69b115",
   "metadata": {},
   "outputs": [
    {
     "name": "stdout",
     "output_type": "stream",
     "text": [
      "['sam', 24]\n",
      "['sharma', 25]\n",
      "['saina', 26]\n",
      "['saif', 24]\n"
     ]
    }
   ],
   "source": [
    "# iterate over values of a dictionary\n",
    "for value in students_data.values():\n",
    "    print(value)"
   ]
  },
  {
   "cell_type": "code",
   "execution_count": 24,
   "id": "aef17c99",
   "metadata": {},
   "outputs": [
    {
     "name": "stdout",
     "output_type": "stream",
     "text": [
      "['sam', 24]\n",
      "<class 'list'>\n",
      "['sharma', 25]\n",
      "<class 'list'>\n",
      "['saina', 26]\n",
      "<class 'list'>\n",
      "['saif', 24]\n",
      "<class 'list'>\n"
     ]
    }
   ],
   "source": [
    "for value in students_data.values():\n",
    "    print(value)\n",
    "    print(type(value))"
   ]
  },
  {
   "cell_type": "code",
   "execution_count": 25,
   "id": "2d7603e1",
   "metadata": {},
   "outputs": [
    {
     "name": "stdout",
     "output_type": "stream",
     "text": [
      "24\n",
      "<class 'list'>\n",
      "25\n",
      "<class 'list'>\n",
      "26\n",
      "<class 'list'>\n",
      "24\n",
      "<class 'list'>\n"
     ]
    }
   ],
   "source": [
    "for value in students_data.values():\n",
    "    print(value[1])\n",
    "    print(type(value))"
   ]
  },
  {
   "cell_type": "code",
   "execution_count": 26,
   "id": "4b73ae3c",
   "metadata": {},
   "outputs": [
    {
     "name": "stdout",
     "output_type": "stream",
     "text": [
      "24\n",
      "<class 'str'>\n",
      "25\n",
      "<class 'str'>\n",
      "26\n",
      "<class 'str'>\n",
      "24\n",
      "<class 'str'>\n"
     ]
    }
   ],
   "source": [
    "for value in students_data.values():\n",
    "    print(value[1])\n",
    "    print(type(value[0]))"
   ]
  },
  {
   "cell_type": "code",
   "execution_count": 27,
   "id": "303415df",
   "metadata": {},
   "outputs": [
    {
     "name": "stdout",
     "output_type": "stream",
     "text": [
      "<class 'int'>\n",
      "<class 'int'>\n",
      "<class 'int'>\n",
      "<class 'int'>\n"
     ]
    }
   ],
   "source": [
    "for value in students_data.values():\n",
    "    print(type(value[1]))"
   ]
  },
  {
   "cell_type": "code",
   "execution_count": 28,
   "id": "a3b771cd",
   "metadata": {},
   "outputs": [
    {
     "name": "stdout",
     "output_type": "stream",
     "text": [
      "<class 'str'>\n",
      "<class 'str'>\n",
      "<class 'str'>\n",
      "<class 'str'>\n"
     ]
    }
   ],
   "source": [
    "for value in students_data.values():\n",
    "    print(type(value[0]))"
   ]
  },
  {
   "cell_type": "code",
   "execution_count": 29,
   "id": "8812ff59",
   "metadata": {},
   "outputs": [
    {
     "name": "stdout",
     "output_type": "stream",
     "text": [
      "sam\n",
      "sharma\n",
      "saina\n",
      "saif\n"
     ]
    }
   ],
   "source": [
    "for value in students_data.values():\n",
    "    print(value[0])"
   ]
  },
  {
   "cell_type": "markdown",
   "id": "91c14dfd",
   "metadata": {},
   "source": [
    "# Range function\n",
    ".range(start,end)\n",
    "\n",
    ".range(1,8)returns 1,2,3,4,5,6,7\n",
    "\n",
    ".return sequence would not contain the end value"
   ]
  },
  {
   "cell_type": "code",
   "execution_count": 31,
   "id": "7ea86035",
   "metadata": {},
   "outputs": [
    {
     "data": {
      "text/plain": [
       "range(1, 101)"
      ]
     },
     "execution_count": 31,
     "metadata": {},
     "output_type": "execute_result"
    }
   ],
   "source": [
    "# Generate range of values.\n",
    "range(1,101)"
   ]
  },
  {
   "cell_type": "code",
   "execution_count": 32,
   "id": "b7e8c3dc",
   "metadata": {},
   "outputs": [
    {
     "name": "stdout",
     "output_type": "stream",
     "text": [
      "1 2 3 4 5 6 7 8 9 10 11 12 13 14 15 16 17 18 19 20 21 22 23 24 25 26 27 28 29 30 31 32 33 34 35 36 37 38 39 40 41 42 43 44 45 46 47 48 49 50 51 52 53 54 55 56 57 58 59 60 61 62 63 64 65 66 67 68 69 70 71 72 73 74 75 76 77 78 79 80 81 82 83 84 85 86 87 88 89 90 91 92 93 94 95 96 97 98 99 100 "
     ]
    }
   ],
   "source": [
    "# Iterate over range of values.\n",
    "for i in range (1,101):\n",
    "    print(i,end= \" \")"
   ]
  },
  {
   "cell_type": "code",
   "execution_count": 34,
   "id": "a00f0f08",
   "metadata": {},
   "outputs": [
    {
     "name": "stdout",
     "output_type": "stream",
     "text": [
      "1\n",
      "2\n",
      "3\n",
      "4\n",
      "5\n",
      "6\n",
      "7\n",
      "8\n",
      "9\n",
      "10\n"
     ]
    }
   ],
   "source": [
    "for i in range (1,11):\n",
    "    print(i)"
   ]
  },
  {
   "cell_type": "code",
   "execution_count": 35,
   "id": "dbfafaf5",
   "metadata": {},
   "outputs": [
    {
     "name": "stdout",
     "output_type": "stream",
     "text": [
      "1\n",
      "3\n",
      "5\n",
      "7\n",
      "9\n"
     ]
    }
   ],
   "source": [
    "for i in range (1,11,2):\n",
    "    print(i)"
   ]
  },
  {
   "cell_type": "code",
   "execution_count": 36,
   "id": "012a5ef3",
   "metadata": {},
   "outputs": [
    {
     "name": "stdout",
     "output_type": "stream",
     "text": [
      "1\n",
      "4\n",
      "7\n",
      "10\n"
     ]
    }
   ],
   "source": [
    "for i in range (1,11,3):\n",
    "    print(i)"
   ]
  },
  {
   "cell_type": "code",
   "execution_count": 37,
   "id": "10300089",
   "metadata": {},
   "outputs": [
    {
     "name": "stdout",
     "output_type": "stream",
     "text": [
      "10\n",
      "9\n",
      "8\n",
      "7\n",
      "6\n",
      "5\n",
      "4\n",
      "3\n",
      "2\n"
     ]
    }
   ],
   "source": [
    "for i in range (10,1,-1):\n",
    "    print(i)"
   ]
  },
  {
   "cell_type": "code",
   "execution_count": 38,
   "id": "988dcf57",
   "metadata": {},
   "outputs": [
    {
     "name": "stdout",
     "output_type": "stream",
     "text": [
      "10\n",
      "8\n",
      "6\n",
      "4\n",
      "2\n"
     ]
    }
   ],
   "source": [
    "for i in range (10,1,-2):\n",
    "    print(i)"
   ]
  },
  {
   "cell_type": "code",
   "execution_count": 40,
   "id": "a0e47e34",
   "metadata": {},
   "outputs": [
    {
     "name": "stdout",
     "output_type": "stream",
     "text": [
      "quit\n",
      "quit\n"
     ]
    }
   ],
   "source": [
    "ch= \"\"\n",
    "while ch !=\"quit\":\n",
    "    ch=input()\n",
    "    print(ch)"
   ]
  },
  {
   "cell_type": "code",
   "execution_count": 41,
   "id": "dc0d08d8",
   "metadata": {},
   "outputs": [
    {
     "name": "stdout",
     "output_type": "stream",
     "text": [
      "not quit\n",
      "not quit\n",
      "quit\n",
      "quit\n"
     ]
    }
   ],
   "source": [
    "ch= \"\"\n",
    "while ch !=\"quit\":\n",
    "    ch=input()\n",
    "    print(ch)"
   ]
  },
  {
   "cell_type": "code",
   "execution_count": 42,
   "id": "507e133e",
   "metadata": {},
   "outputs": [
    {
     "name": "stdout",
     "output_type": "stream",
     "text": [
      "quit\n",
      "quit\n"
     ]
    }
   ],
   "source": [
    "ch= \"\"\n",
    "while ch !=\"quit\":\n",
    "    ch=input()\n",
    "    print(ch)"
   ]
  },
  {
   "cell_type": "code",
   "execution_count": 43,
   "id": "57ccf622",
   "metadata": {},
   "outputs": [
    {
     "name": "stdout",
     "output_type": "stream",
     "text": [
      "3 6 9 12 18 21 "
     ]
    }
   ],
   "source": [
    "x=0\n",
    "while x <=20:\n",
    "    x+=3    # x=x+3\n",
    "    if x%5==0:\n",
    "        continue\n",
    "    print(x,end= \" \")"
   ]
  },
  {
   "cell_type": "code",
   "execution_count": 44,
   "id": "bbed837b",
   "metadata": {},
   "outputs": [],
   "source": [
    "l=[]\n",
    "for i in range(-100,0):\n",
    "    if(i % 2==0):\n",
    "        l.append(i)"
   ]
  },
  {
   "cell_type": "code",
   "execution_count": 45,
   "id": "c4b9c56a",
   "metadata": {},
   "outputs": [
    {
     "data": {
      "text/plain": [
       "[]"
      ]
     },
     "execution_count": 45,
     "metadata": {},
     "output_type": "execute_result"
    }
   ],
   "source": [
    "list(range(0,-101,2))"
   ]
  },
  {
   "cell_type": "code",
   "execution_count": 46,
   "id": "905fedf2",
   "metadata": {},
   "outputs": [
    {
     "data": {
      "text/plain": [
       "[-100,\n",
       " -98,\n",
       " -96,\n",
       " -94,\n",
       " -92,\n",
       " -90,\n",
       " -88,\n",
       " -86,\n",
       " -84,\n",
       " -82,\n",
       " -80,\n",
       " -78,\n",
       " -76,\n",
       " -74,\n",
       " -72,\n",
       " -70,\n",
       " -68,\n",
       " -66,\n",
       " -64,\n",
       " -62,\n",
       " -60,\n",
       " -58,\n",
       " -56,\n",
       " -54,\n",
       " -52,\n",
       " -50,\n",
       " -48,\n",
       " -46,\n",
       " -44,\n",
       " -42,\n",
       " -40,\n",
       " -38,\n",
       " -36,\n",
       " -34,\n",
       " -32,\n",
       " -30,\n",
       " -28,\n",
       " -26,\n",
       " -24,\n",
       " -22,\n",
       " -20,\n",
       " -18,\n",
       " -16,\n",
       " -14,\n",
       " -12,\n",
       " -10,\n",
       " -8,\n",
       " -6,\n",
       " -4,\n",
       " -2]"
      ]
     },
     "execution_count": 46,
     "metadata": {},
     "output_type": "execute_result"
    }
   ],
   "source": [
    "list(range(-100,-1,2))"
   ]
  },
  {
   "cell_type": "code",
   "execution_count": 47,
   "id": "f9d37055",
   "metadata": {},
   "outputs": [
    {
     "data": {
      "text/plain": [
       "[-100,\n",
       " -98,\n",
       " -96,\n",
       " -94,\n",
       " -92,\n",
       " -90,\n",
       " -88,\n",
       " -86,\n",
       " -84,\n",
       " -82,\n",
       " -80,\n",
       " -78,\n",
       " -76,\n",
       " -74,\n",
       " -72,\n",
       " -70,\n",
       " -68,\n",
       " -66,\n",
       " -64,\n",
       " -62,\n",
       " -60,\n",
       " -58,\n",
       " -56,\n",
       " -54,\n",
       " -52,\n",
       " -50,\n",
       " -48,\n",
       " -46,\n",
       " -44,\n",
       " -42,\n",
       " -40,\n",
       " -38,\n",
       " -36,\n",
       " -34,\n",
       " -32,\n",
       " -30,\n",
       " -28,\n",
       " -26,\n",
       " -24,\n",
       " -22,\n",
       " -20,\n",
       " -18,\n",
       " -16,\n",
       " -14,\n",
       " -12,\n",
       " -10,\n",
       " -8,\n",
       " -6,\n",
       " -4,\n",
       " -2]"
      ]
     },
     "execution_count": 47,
     "metadata": {},
     "output_type": "execute_result"
    }
   ],
   "source": [
    "sorted(set(range(-2,-101,-2)))"
   ]
  },
  {
   "cell_type": "code",
   "execution_count": 48,
   "id": "5ca141c7",
   "metadata": {},
   "outputs": [
    {
     "data": {
      "text/plain": [
       "{-100,\n",
       " -98,\n",
       " -96,\n",
       " -94,\n",
       " -92,\n",
       " -90,\n",
       " -88,\n",
       " -86,\n",
       " -84,\n",
       " -82,\n",
       " -80,\n",
       " -78,\n",
       " -76,\n",
       " -74,\n",
       " -72,\n",
       " -70,\n",
       " -68,\n",
       " -66,\n",
       " -64,\n",
       " -62,\n",
       " -60,\n",
       " -58,\n",
       " -56,\n",
       " -54,\n",
       " -52,\n",
       " -50,\n",
       " -48,\n",
       " -46,\n",
       " -44,\n",
       " -42,\n",
       " -40,\n",
       " -38,\n",
       " -36,\n",
       " -34,\n",
       " -32,\n",
       " -30,\n",
       " -28,\n",
       " -26,\n",
       " -24,\n",
       " -22,\n",
       " -20,\n",
       " -18,\n",
       " -16,\n",
       " -14,\n",
       " -12,\n",
       " -10,\n",
       " -8,\n",
       " -6,\n",
       " -4,\n",
       " -2}"
      ]
     },
     "execution_count": 48,
     "metadata": {},
     "output_type": "execute_result"
    }
   ],
   "source": [
    "set(range(-2,-101,-2))"
   ]
  },
  {
   "cell_type": "code",
   "execution_count": 49,
   "id": "be5a922a",
   "metadata": {},
   "outputs": [
    {
     "data": {
      "text/plain": [
       "[-2,\n",
       " -4,\n",
       " -6,\n",
       " -8,\n",
       " -10,\n",
       " -12,\n",
       " -14,\n",
       " -16,\n",
       " -18,\n",
       " -20,\n",
       " -22,\n",
       " -24,\n",
       " -26,\n",
       " -28,\n",
       " -30,\n",
       " -32,\n",
       " -34,\n",
       " -36,\n",
       " -38,\n",
       " -40,\n",
       " -42,\n",
       " -44,\n",
       " -46,\n",
       " -48,\n",
       " -50,\n",
       " -52,\n",
       " -54,\n",
       " -56,\n",
       " -58,\n",
       " -60,\n",
       " -62,\n",
       " -64,\n",
       " -66,\n",
       " -68,\n",
       " -70,\n",
       " -72,\n",
       " -74,\n",
       " -76,\n",
       " -78,\n",
       " -80,\n",
       " -82,\n",
       " -84,\n",
       " -86,\n",
       " -88,\n",
       " -90,\n",
       " -92,\n",
       " -94,\n",
       " -96,\n",
       " -98,\n",
       " -100]"
      ]
     },
     "execution_count": 49,
     "metadata": {},
     "output_type": "execute_result"
    }
   ],
   "source": [
    "list(range(-2,-101,-2))"
   ]
  },
  {
   "cell_type": "code",
   "execution_count": 50,
   "id": "99631328",
   "metadata": {},
   "outputs": [
    {
     "data": {
      "text/plain": [
       "{-100,\n",
       " -98,\n",
       " -96,\n",
       " -94,\n",
       " -92,\n",
       " -90,\n",
       " -88,\n",
       " -86,\n",
       " -84,\n",
       " -82,\n",
       " -80,\n",
       " -78,\n",
       " -76,\n",
       " -74,\n",
       " -72,\n",
       " -70,\n",
       " -68,\n",
       " -66,\n",
       " -64,\n",
       " -62,\n",
       " -60,\n",
       " -58,\n",
       " -56,\n",
       " -54,\n",
       " -52,\n",
       " -50,\n",
       " -48,\n",
       " -46,\n",
       " -44,\n",
       " -42,\n",
       " -40,\n",
       " -38,\n",
       " -36,\n",
       " -34,\n",
       " -32,\n",
       " -30,\n",
       " -28,\n",
       " -26,\n",
       " -24,\n",
       " -22,\n",
       " -20,\n",
       " -18,\n",
       " -16,\n",
       " -14,\n",
       " -12,\n",
       " -10,\n",
       " -8,\n",
       " -6,\n",
       " -4,\n",
       " -2}"
      ]
     },
     "execution_count": 50,
     "metadata": {},
     "output_type": "execute_result"
    }
   ],
   "source": [
    "set(range(-2,-101,-2))"
   ]
  },
  {
   "cell_type": "code",
   "execution_count": 51,
   "id": "59a37067",
   "metadata": {},
   "outputs": [
    {
     "data": {
      "text/plain": [
       "[-100,\n",
       " -98,\n",
       " -96,\n",
       " -94,\n",
       " -92,\n",
       " -90,\n",
       " -88,\n",
       " -86,\n",
       " -84,\n",
       " -82,\n",
       " -80,\n",
       " -78,\n",
       " -76,\n",
       " -74,\n",
       " -72,\n",
       " -70,\n",
       " -68,\n",
       " -66,\n",
       " -64,\n",
       " -62,\n",
       " -60,\n",
       " -58,\n",
       " -56,\n",
       " -54,\n",
       " -52,\n",
       " -50,\n",
       " -48,\n",
       " -46,\n",
       " -44,\n",
       " -42,\n",
       " -40,\n",
       " -38,\n",
       " -36,\n",
       " -34,\n",
       " -32,\n",
       " -30,\n",
       " -28,\n",
       " -26,\n",
       " -24,\n",
       " -22,\n",
       " -20,\n",
       " -18,\n",
       " -16,\n",
       " -14,\n",
       " -12,\n",
       " -10,\n",
       " -8,\n",
       " -6,\n",
       " -4,\n",
       " -2]"
      ]
     },
     "execution_count": 51,
     "metadata": {},
     "output_type": "execute_result"
    }
   ],
   "source": [
    "sorted(set(range(-2,-101,-2)))"
   ]
  },
  {
   "cell_type": "code",
   "execution_count": 52,
   "id": "ab2db92a",
   "metadata": {},
   "outputs": [
    {
     "name": "stdout",
     "output_type": "stream",
     "text": [
      "['Varma', 'Raj', 'Gupta', 'Sandeep']\n"
     ]
    }
   ],
   "source": [
    "list_1=['VARMA','raj','Gupta','SaNdeep']\n",
    "\n",
    "new_list=[]\n",
    "\n",
    "for items in list_1:\n",
    "    items=items.capitalize()\n",
    "    #items=items.title()\n",
    "    new_list.append(items)\n",
    "print(new_list)"
   ]
  },
  {
   "cell_type": "code",
   "execution_count": 53,
   "id": "c05fb539",
   "metadata": {},
   "outputs": [
    {
     "name": "stdout",
     "output_type": "stream",
     "text": [
      "['Varma', 'Raj', 'Gupta', 'Sandeep']\n"
     ]
    }
   ],
   "source": [
    "list_1=['VARMA','raj','Gupta','saNdeep']\n",
    "\n",
    "list_1=[new_list.capitalize() for new_list in list_1]\n",
    "print(list_1)"
   ]
  },
  {
   "cell_type": "markdown",
   "id": "d0dc5f86",
   "metadata": {},
   "source": [
    "# title vs capitalize"
   ]
  },
  {
   "cell_type": "code",
   "execution_count": 59,
   "id": "f2eda11b",
   "metadata": {},
   "outputs": [
    {
     "name": "stdout",
     "output_type": "stream",
     "text": [
      "Hello World\n",
      "Hello world\n"
     ]
    }
   ],
   "source": [
    "# string_1=\"hello world\"\n",
    "print(string_1.title())\n",
    "print(string_1.capitalize())"
   ]
  },
  {
   "cell_type": "markdown",
   "id": "907a168c",
   "metadata": {},
   "source": [
    "# QUESTION"
   ]
  },
  {
   "cell_type": "code",
   "execution_count": 60,
   "id": "92491ac3",
   "metadata": {},
   "outputs": [
    {
     "name": "stdout",
     "output_type": "stream",
     "text": [
      "0\n",
      "1\n",
      "2\n"
     ]
    }
   ],
   "source": [
    "d={0:'Foish',1:'Bird',2:'Mamma1'}\n",
    "for i in (d):\n",
    "    print(i)"
   ]
  },
  {
   "cell_type": "code",
   "execution_count": 61,
   "id": "029d221a",
   "metadata": {},
   "outputs": [
    {
     "data": {
      "text/plain": [
       "dict"
      ]
     },
     "execution_count": 61,
     "metadata": {},
     "output_type": "execute_result"
    }
   ],
   "source": [
    "type(d)"
   ]
  },
  {
   "cell_type": "code",
   "execution_count": 62,
   "id": "34706784",
   "metadata": {},
   "outputs": [
    {
     "name": "stdout",
     "output_type": "stream",
     "text": [
      "{0: 'Foish', 1: 'Bird', 2: 'Mamma1'}\n"
     ]
    }
   ],
   "source": [
    "print(d)"
   ]
  },
  {
   "cell_type": "markdown",
   "id": "70be604a",
   "metadata": {},
   "source": [
    "# Comprehensions\n",
    "\n",
    ".Provide a concise way to construct sequence (lists,sets,dictionaries etc)"
   ]
  },
  {
   "cell_type": "code",
   "execution_count": 64,
   "id": "1fd8ffd5",
   "metadata": {},
   "outputs": [
    {
     "data": {
      "text/plain": [
       "[11, 5, 4, 6, 13]"
      ]
     },
     "execution_count": 64,
     "metadata": {},
     "output_type": "execute_result"
    }
   ],
   "source": [
    "l1=[\"automobiles\",\"Honda\",\"Benz\",\"Suzuki\",\"Morris Garage\"]\n",
    "l2=[]\n",
    "for i in l1:\n",
    "    l2.append(len(i))\n",
    "l2  "
   ]
  },
  {
   "cell_type": "markdown",
   "id": "b0bd0181",
   "metadata": {},
   "source": [
    "# the functional approach"
   ]
  },
  {
   "cell_type": "code",
   "execution_count": 65,
   "id": "648b3905",
   "metadata": {},
   "outputs": [
    {
     "name": "stdout",
     "output_type": "stream",
     "text": [
      "[11, 5, 4, 6, 13]\n"
     ]
    }
   ],
   "source": [
    "# Example on list comprehension\n",
    "l1=[\"automobiles\",\"Honda\",\"Benz\",\"Suzuki\",\"Morris Garage\"]\n",
    "# create a list consisting of length of each element from the above list\n",
    "l2=[len(i) for i in l1]\n",
    "\n",
    "print(l2)"
   ]
  },
  {
   "cell_type": "code",
   "execution_count": 66,
   "id": "2830257a",
   "metadata": {},
   "outputs": [],
   "source": [
    "l3=[1,2,3,4,5]"
   ]
  },
  {
   "cell_type": "code",
   "execution_count": 67,
   "id": "d4b2a3fa",
   "metadata": {},
   "outputs": [
    {
     "name": "stdout",
     "output_type": "stream",
     "text": [
      "automobiles  - 11 \n",
      "Honda  - 5 \n",
      "Benz  - 4 \n",
      "Suzuki  - 6 \n",
      "Morris Garage  - 13 \n"
     ]
    }
   ],
   "source": [
    "# iterating over l1 and l2 simultaneaously\n",
    "\n",
    "for i,j,k in zip(l1,l2,l3):\n",
    "    print(i,\" -\",j,\"\")"
   ]
  },
  {
   "cell_type": "code",
   "execution_count": 68,
   "id": "b3d31572",
   "metadata": {},
   "outputs": [
    {
     "name": "stdout",
     "output_type": "stream",
     "text": [
      "automobiles  - 11 Number is: 1\n",
      "Honda  - 5 Number is: 2\n",
      "Benz  - 4 Number is: 3\n",
      "Suzuki  - 6 Number is: 4\n",
      "Morris Garage  - 13 Number is: 5\n"
     ]
    }
   ],
   "source": [
    "# iterating over l1 and l2 simultaneaously\n",
    "\n",
    "for i,j,k in zip(l1,l2,l3):\n",
    "    print(i,\" -\",j,\"Number is:\",k)"
   ]
  },
  {
   "cell_type": "code",
   "execution_count": 69,
   "id": "f3babff8",
   "metadata": {},
   "outputs": [],
   "source": [
    "input_list=['wood','old','apple','big','item','euphoria']"
   ]
  },
  {
   "cell_type": "code",
   "execution_count": 70,
   "id": "0867a8d2",
   "metadata": {},
   "outputs": [
    {
     "name": "stdout",
     "output_type": "stream",
     "text": [
      "['old', 'apple', 'item', 'euphoria']\n"
     ]
    }
   ],
   "source": [
    "new_list=[]\n",
    "for input_str in input_list:\n",
    "    if input_str[0].lower() in 'aeiou':\n",
    "        new_list.append(input_str)\n",
    "print(new_list)"
   ]
  },
  {
   "cell_type": "code",
   "execution_count": 71,
   "id": "fafcd60d",
   "metadata": {},
   "outputs": [
    {
     "name": "stdout",
     "output_type": "stream",
     "text": [
      "['old', 'apple', 'item', 'euphoria']\n"
     ]
    }
   ],
   "source": [
    "new_list=[]\n",
    "for i in input_list:\n",
    "    if i[0]in 'aeiou':\n",
    "        new_list.append(i)\n",
    "print(new_list)"
   ]
  },
  {
   "cell_type": "markdown",
   "id": "7ccb78f7",
   "metadata": {},
   "source": [
    "# Question\n",
    "what will the output of the following code be?"
   ]
  },
  {
   "cell_type": "code",
   "execution_count": 3,
   "id": "1b8dc820",
   "metadata": {},
   "outputs": [
    {
     "data": {
      "text/plain": [
       "'aaa'"
      ]
     },
     "execution_count": 3,
     "metadata": {},
     "output_type": "execute_result"
    }
   ],
   "source": [
    "s='a'\n",
    "s*3"
   ]
  },
  {
   "cell_type": "code",
   "execution_count": 4,
   "id": "851380c2",
   "metadata": {},
   "outputs": [
    {
     "name": "stdout",
     "output_type": "stream",
     "text": [
      "{'A': 'aaa', 'C': 'ccc', 'B': 'bbb', 'D': 'ddd'}\n"
     ]
    }
   ],
   "source": [
    "d={x.upper():x*3 for x in 'acbd'}\n",
    "print(d)"
   ]
  },
  {
   "cell_type": "code",
   "execution_count": 5,
   "id": "c34a3bd2",
   "metadata": {},
   "outputs": [
    {
     "name": "stdout",
     "output_type": "stream",
     "text": [
      "{'A': 'AAA', 'C': 'CCC', 'B': 'BBB', 'D': 'DDD'}\n"
     ]
    }
   ],
   "source": [
    "d={x.upper():x.upper()*3 for x in 'acbd'}\n",
    "print(d)"
   ]
  },
  {
   "cell_type": "markdown",
   "id": "4ddbc123",
   "metadata": {},
   "source": [
    "# Functions\n",
    ".A block of organized,reusable code to perform a particular action\n",
    ".provide better modularity\n",
    ".Built-in function include print(),input(),type()etc\n",
    ".syntax"
   ]
  },
  {
   "cell_type": "code",
   "execution_count": 6,
   "id": "b08de46d",
   "metadata": {},
   "outputs": [
    {
     "data": {
      "text/plain": [
       "15"
      ]
     },
     "execution_count": 6,
     "metadata": {},
     "output_type": "execute_result"
    }
   ],
   "source": [
    "a=5\n",
    "b=10\n",
    "a+b"
   ]
  },
  {
   "cell_type": "code",
   "execution_count": 7,
   "id": "ec6c142e",
   "metadata": {},
   "outputs": [],
   "source": [
    "def sum(a,b):\n",
    "    return a+b"
   ]
  },
  {
   "cell_type": "code",
   "execution_count": 8,
   "id": "76eac449",
   "metadata": {},
   "outputs": [
    {
     "data": {
      "text/plain": [
       "61"
      ]
     },
     "execution_count": 8,
     "metadata": {},
     "output_type": "execute_result"
    }
   ],
   "source": [
    "sum(51,10)"
   ]
  },
  {
   "cell_type": "markdown",
   "id": "31425cae",
   "metadata": {},
   "source": [
    "# Ex.Sum of two numbers"
   ]
  },
  {
   "cell_type": "code",
   "execution_count": 9,
   "id": "1ff0e4f8",
   "metadata": {},
   "outputs": [
    {
     "data": {
      "text/plain": [
       "5"
      ]
     },
     "execution_count": 9,
     "metadata": {},
     "output_type": "execute_result"
    }
   ],
   "source": [
    "def sum(a=5,b=5):\n",
    "    c=a+b\n",
    "    return c\n",
    "sum(2,3)"
   ]
  },
  {
   "cell_type": "code",
   "execution_count": 10,
   "id": "25b28a3a",
   "metadata": {},
   "outputs": [
    {
     "data": {
      "text/plain": [
       "10"
      ]
     },
     "execution_count": 10,
     "metadata": {},
     "output_type": "execute_result"
    }
   ],
   "source": [
    "def sum(a=5,b=5):\n",
    "    c=a+b\n",
    "    return c\n",
    "sum()"
   ]
  },
  {
   "cell_type": "markdown",
   "id": "1ff261eb",
   "metadata": {},
   "source": [
    "# Ex.write a function which takes a value as a parameter and returns its factorial"
   ]
  },
  {
   "cell_type": "code",
   "execution_count": null,
   "id": "fcc0e83c",
   "metadata": {},
   "outputs": [],
   "source": [
    "range(1,5)-->1,2,3,4\n",
    "n-->range(1,n+1)"
   ]
  },
  {
   "cell_type": "code",
   "execution_count": 14,
   "id": "c9ac42ea",
   "metadata": {},
   "outputs": [],
   "source": [
    "def factorial (n):\n",
    "    fact=1\n",
    "    for i in range(1,n+1):\n",
    "        fact=fact*i\n",
    "    return fact"
   ]
  },
  {
   "cell_type": "code",
   "execution_count": 15,
   "id": "9c93fe84",
   "metadata": {},
   "outputs": [
    {
     "data": {
      "text/plain": [
       "120"
      ]
     },
     "execution_count": 15,
     "metadata": {},
     "output_type": "execute_result"
    }
   ],
   "source": [
    "factorial(5)"
   ]
  },
  {
   "cell_type": "code",
   "execution_count": 16,
   "id": "afce76b9",
   "metadata": {},
   "outputs": [
    {
     "data": {
      "text/plain": [
       "True"
      ]
     },
     "execution_count": 16,
     "metadata": {},
     "output_type": "execute_result"
    }
   ],
   "source": [
    "factorial(5)\n",
    "5!=5*4*3*2*1"
   ]
  },
  {
   "cell_type": "markdown",
   "id": "19d5bfa4",
   "metadata": {},
   "source": [
    "# Default Argument"
   ]
  },
  {
   "cell_type": "code",
   "execution_count": 17,
   "id": "fb1162d6",
   "metadata": {},
   "outputs": [],
   "source": [
    "def func(name,age=35):\n",
    "    print(\"name:\",name)\n",
    "    print(\"age:\",age)"
   ]
  },
  {
   "cell_type": "code",
   "execution_count": 18,
   "id": "a8df86ca",
   "metadata": {},
   "outputs": [
    {
     "name": "stdout",
     "output_type": "stream",
     "text": [
      "name: jane\n",
      "age: 25\n"
     ]
    }
   ],
   "source": [
    "func(\"jane\",25)"
   ]
  },
  {
   "cell_type": "code",
   "execution_count": 19,
   "id": "a173c624",
   "metadata": {},
   "outputs": [
    {
     "name": "stdout",
     "output_type": "stream",
     "text": [
      "name: jane\n",
      "age: 35\n"
     ]
    }
   ],
   "source": [
    "func(\"jane\")"
   ]
  },
  {
   "cell_type": "code",
   "execution_count": 21,
   "id": "a07b35f1",
   "metadata": {},
   "outputs": [],
   "source": [
    "def func(name=\"default\",age=35):\n",
    "    print(\"name:\",name)\n",
    "    print(\"age:\",age)"
   ]
  },
  {
   "cell_type": "code",
   "execution_count": 23,
   "id": "f6b377e8",
   "metadata": {},
   "outputs": [
    {
     "name": "stdout",
     "output_type": "stream",
     "text": [
      "name: default\n",
      "age: 35\n"
     ]
    }
   ],
   "source": [
    "func()"
   ]
  },
  {
   "cell_type": "code",
   "execution_count": 24,
   "id": "24ec4433",
   "metadata": {},
   "outputs": [
    {
     "name": "stdout",
     "output_type": "stream",
     "text": [
      "name: jane\n",
      "age: 35\n",
      "city: Banglore\n"
     ]
    }
   ],
   "source": [
    "def func(name,age=35,city=\"Mumbai\"):\n",
    "    print(\"name:\",name)\n",
    "    print(\"age:\",age)\n",
    "    print(\"city:\",city)\n",
    "func(\"jane\",city=\"Banglore\")"
   ]
  },
  {
   "cell_type": "code",
   "execution_count": 25,
   "id": "07fb24ec",
   "metadata": {},
   "outputs": [
    {
     "name": "stdout",
     "output_type": "stream",
     "text": [
      "(1, 3, 'abc')\n"
     ]
    }
   ],
   "source": [
    "Open item\n",
    "def var_func(*args):\n",
    "    print(args)\n",
    "var_func(1,3,\"abc\")"
   ]
  },
  {
   "cell_type": "markdown",
   "id": "7ab19878",
   "metadata": {},
   "source": [
    "# Lambda Function"
   ]
  },
  {
   "cell_type": "markdown",
   "id": "123c0e00",
   "metadata": {},
   "source": [
    "# Lambda function are another way of defining functions to execute small functionalities occurring while implementing acomplexfunctionality.\n",
    "\n",
    "these functions can take multiple parameters as input but can only execute a single expression;\n",
    "\n",
    "in other words,they can perform a single operation."
   ]
  },
  {
   "cell_type": "code",
   "execution_count": 26,
   "id": "3772ec5b",
   "metadata": {},
   "outputs": [],
   "source": [
    "# Traditional Approach\n",
    "def sum(a,b):\n",
    "    return a+b\n",
    "#Lambda Approach\n",
    "f=lambda a,b:a+b    "
   ]
  },
  {
   "cell_type": "code",
   "execution_count": 27,
   "id": "0caf68c9",
   "metadata": {},
   "outputs": [
    {
     "data": {
      "text/plain": [
       "5"
      ]
     },
     "execution_count": 27,
     "metadata": {},
     "output_type": "execute_result"
    }
   ],
   "source": [
    "sum(2,3)"
   ]
  },
  {
   "cell_type": "code",
   "execution_count": 28,
   "id": "1698434f",
   "metadata": {},
   "outputs": [
    {
     "data": {
      "text/plain": [
       "15"
      ]
     },
     "execution_count": 28,
     "metadata": {},
     "output_type": "execute_result"
    }
   ],
   "source": [
    "f(5,10)"
   ]
  },
  {
   "cell_type": "markdown",
   "id": "3688b1ea",
   "metadata": {},
   "source": [
    "# .The format of a lambda expression is as follows:"
   ]
  },
  {
   "cell_type": "code",
   "execution_count": null,
   "id": "aa88252f",
   "metadata": {},
   "outputs": [],
   "source": [
    "function_name=lambda<space> input_parameters: output_parameters"
   ]
  },
  {
   "cell_type": "code",
   "execution_count": 29,
   "id": "3fae857a",
   "metadata": {},
   "outputs": [
    {
     "data": {
      "text/plain": [
       "'even'"
      ]
     },
     "execution_count": 29,
     "metadata": {},
     "output_type": "execute_result"
    }
   ],
   "source": [
    "# Write a lambda function to check a number is even or odd\n",
    "\n",
    "f=lambda x:\"even\" if x%2==0 else \"odd\"\n",
    "f(10)"
   ]
  },
  {
   "cell_type": "code",
   "execution_count": 30,
   "id": "35e03c01",
   "metadata": {},
   "outputs": [
    {
     "data": {
      "text/plain": [
       "'odd'"
      ]
     },
     "execution_count": 30,
     "metadata": {},
     "output_type": "execute_result"
    }
   ],
   "source": [
    "f=lambda x:\"even\" if x%2==0 else \"odd\"\n",
    "f(15)"
   ]
  },
  {
   "cell_type": "markdown",
   "id": "2ebcefdc",
   "metadata": {},
   "source": [
    "# Ex.Write a lambda function to perform addition of two numbers"
   ]
  },
  {
   "cell_type": "code",
   "execution_count": 31,
   "id": "cd3b5797",
   "metadata": {},
   "outputs": [
    {
     "data": {
      "text/plain": [
       "7"
      ]
     },
     "execution_count": 31,
     "metadata": {},
     "output_type": "execute_result"
    }
   ],
   "source": [
    "f=lambda x,y:x+y\n",
    "f(2,5)"
   ]
  },
  {
   "cell_type": "code",
   "execution_count": 32,
   "id": "bde65c38",
   "metadata": {},
   "outputs": [
    {
     "data": {
      "text/plain": [
       "9"
      ]
     },
     "execution_count": 32,
     "metadata": {},
     "output_type": "execute_result"
    }
   ],
   "source": [
    "greater=lambda a,b: a if a>b else b\n",
    "greater(9,3)"
   ]
  },
  {
   "cell_type": "code",
   "execution_count": 33,
   "id": "e09bd9ee",
   "metadata": {},
   "outputs": [
    {
     "data": {
      "text/plain": [
       "35"
      ]
     },
     "execution_count": 33,
     "metadata": {},
     "output_type": "execute_result"
    }
   ],
   "source": [
    "greater=lambda a,b: a if a>b else b\n",
    "greater(9,35)"
   ]
  },
  {
   "cell_type": "markdown",
   "id": "3bbd9fc7",
   "metadata": {},
   "source": [
    "# map-filter-reduce"
   ]
  },
  {
   "cell_type": "markdown",
   "id": "efe0a3f7",
   "metadata": {},
   "source": [
    "# Map:\n",
    ".Utility function in python\n",
    "\n",
    ".Maps a collection to another collection object based on certain functionality\n",
    "\n",
    ".Syntax:map(function,iterable object)"
   ]
  },
  {
   "cell_type": "code",
   "execution_count": 34,
   "id": "610687c9",
   "metadata": {},
   "outputs": [],
   "source": [
    "countries=[\"India\",\"Japan\",\"Italy\",\"France\"]"
   ]
  },
  {
   "cell_type": "code",
   "execution_count": 35,
   "id": "a3d8c1cd",
   "metadata": {},
   "outputs": [],
   "source": [
    "f=lambda x:x.upper(),countries"
   ]
  },
  {
   "cell_type": "code",
   "execution_count": 36,
   "id": "771e007b",
   "metadata": {},
   "outputs": [
    {
     "data": {
      "text/plain": [
       "['INDIA', 'JAPAN', 'ITALY', 'FRANCE']"
      ]
     },
     "execution_count": 36,
     "metadata": {},
     "output_type": "execute_result"
    }
   ],
   "source": [
    "list(map(lambda x:x.upper(),countries))"
   ]
  },
  {
   "cell_type": "markdown",
   "id": "e26738b1",
   "metadata": {},
   "source": [
    "# Filter:\n",
    ".Similar function,but it requires the function to look for a condition and then return only those elements from the collectionthat satisfies the condition.\n",
    "Reduce:\n",
    ".An operation that braeks down the process into pair-wise operations and uses the result from each operation,with the successive element."
   ]
  },
  {
   "cell_type": "code",
   "execution_count": null,
   "id": "4713f963",
   "metadata": {},
   "outputs": [],
   "source": [
    "# filter the countries names starting with \"!\""
   ]
  },
  {
   "cell_type": "code",
   "execution_count": 37,
   "id": "8657226d",
   "metadata": {},
   "outputs": [
    {
     "data": {
      "text/plain": [
       "['India', 'Italy']"
      ]
     },
     "execution_count": 37,
     "metadata": {},
     "output_type": "execute_result"
    }
   ],
   "source": [
    "list(filter(lambda x:x.startswith(\"I\"),countries))"
   ]
  },
  {
   "cell_type": "code",
   "execution_count": 38,
   "id": "38cf67fb",
   "metadata": {},
   "outputs": [
    {
     "data": {
      "text/plain": [
       "['India', 'Italy']"
      ]
     },
     "execution_count": 38,
     "metadata": {},
     "output_type": "execute_result"
    }
   ],
   "source": [
    "list(filter(lambda x:x[0]=='I',countries))"
   ]
  },
  {
   "cell_type": "code",
   "execution_count": 42,
   "id": "f015852e",
   "metadata": {},
   "outputs": [
    {
     "data": {
      "text/plain": [
       "['India', 'Italy']"
      ]
     },
     "execution_count": 42,
     "metadata": {},
     "output_type": "execute_result"
    }
   ],
   "source": [
    "list(filter(lambda x:x[0].lower()=='i',countries))"
   ]
  },
  {
   "cell_type": "markdown",
   "id": "80f465a9",
   "metadata": {},
   "source": [
    "# reduce the list to concatenate the countries names into a single string variable seperated by\"\""
   ]
  },
  {
   "cell_type": "code",
   "execution_count": 43,
   "id": "fab8ec45",
   "metadata": {},
   "outputs": [
    {
     "data": {
      "text/plain": [
       "'IndiaJapanItalyFrance'"
      ]
     },
     "execution_count": 43,
     "metadata": {},
     "output_type": "execute_result"
    }
   ],
   "source": [
    "from functools import reduce\n",
    "reduce(lambda x,y:x+\"\" +y,countries)"
   ]
  },
  {
   "cell_type": "code",
   "execution_count": 44,
   "id": "155234e8",
   "metadata": {},
   "outputs": [
    {
     "data": {
      "text/plain": [
       "'India Japan Italy France'"
      ]
     },
     "execution_count": 44,
     "metadata": {},
     "output_type": "execute_result"
    }
   ],
   "source": [
    "from functools import reduce\n",
    "reduce(lambda x,y:x+\" \" +y,countries)"
   ]
  },
  {
   "cell_type": "markdown",
   "id": "075dbdf4",
   "metadata": {},
   "source": [
    "# Some more examples on map-filter-reduce"
   ]
  },
  {
   "cell_type": "code",
   "execution_count": 46,
   "id": "d9a5343e",
   "metadata": {},
   "outputs": [
    {
     "name": "stdout",
     "output_type": "stream",
     "text": [
      "<map object at 0x0000027D763BCDC0>\n",
      "[4, 16, 25]\n"
     ]
    }
   ],
   "source": [
    "L1=[2,4,5]\n",
    "print(map(lambda x:x**2,L1))\n",
    "print(list(map(lambda x:x**2,L1)))"
   ]
  },
  {
   "cell_type": "markdown",
   "id": "4fb36167",
   "metadata": {},
   "source": [
    "# CLASS & OBJECTS\n",
    ".length and breadth as attributes\n",
    ".init()-constructor of class\n",
    ".self parameters-refers to the newly created instances of the class.\n",
    ".attributes length and breadth are associated with self-keyword to identify them as instance variables"
   ]
  },
  {
   "cell_type": "code",
   "execution_count": 82,
   "id": "760a4152",
   "metadata": {},
   "outputs": [],
   "source": [
    "class Rectangle :\n",
    "    def __init__(self):\n",
    "        self.length=10\n",
    "        self.breadth=5"
   ]
  },
  {
   "cell_type": "code",
   "execution_count": 84,
   "id": "ec43eb11",
   "metadata": {},
   "outputs": [
    {
     "data": {
      "text/plain": [
       "10"
      ]
     },
     "execution_count": 84,
     "metadata": {},
     "output_type": "execute_result"
    }
   ],
   "source": [
    "rect=Rectangle()\n",
    "rect.length"
   ]
  },
  {
   "cell_type": "code",
   "execution_count": 85,
   "id": "4e342a9f",
   "metadata": {},
   "outputs": [
    {
     "data": {
      "text/plain": [
       "5"
      ]
     },
     "execution_count": 85,
     "metadata": {},
     "output_type": "execute_result"
    }
   ],
   "source": [
    "rect=Rectangle()\n",
    "rect.breadth"
   ]
  },
  {
   "cell_type": "markdown",
   "id": "214e3cac",
   "metadata": {},
   "source": [
    ".create the object by calling name of the class followed by paranthesis.\n",
    "\n",
    ".print the values using dot operator"
   ]
  },
  {
   "cell_type": "markdown",
   "id": "3e5e8d32",
   "metadata": {},
   "source": [
    "A constructor is aspecial kind of method that python calls when it instantiates an object using the definitions found in your class."
   ]
  },
  {
   "cell_type": "code",
   "execution_count": 86,
   "id": "da93f184",
   "metadata": {},
   "outputs": [
    {
     "name": "stdout",
     "output_type": "stream",
     "text": [
      "Length = 10 \n",
      "Breadth= 5\n"
     ]
    }
   ],
   "source": [
    "rect=Rectangle()\n",
    "print(\"Length =\",rect.length,\"\\nBreadth=\",rect.breadth)"
   ]
  },
  {
   "cell_type": "markdown",
   "id": "b8dec1ee",
   "metadata": {},
   "source": [
    "# Parametrised Constructor"
   ]
  },
  {
   "cell_type": "code",
   "execution_count": null,
   "id": "dff3e4d4",
   "metadata": {},
   "outputs": [],
   "source": [
    "class Rectangle:\n",
    "    def__init__(self):\n",
    "        self.length=10\n",
    "        self.breadth=5"
   ]
  },
  {
   "cell_type": "code",
   "execution_count": 90,
   "id": "938af10d",
   "metadata": {},
   "outputs": [],
   "source": [
    "class Rectangle:\n",
    "    def __init__(self,length,breadth):\n",
    "        self.length=length\n",
    "        self.breadth=breadth"
   ]
  },
  {
   "cell_type": "code",
   "execution_count": 91,
   "id": "3fcae554",
   "metadata": {},
   "outputs": [
    {
     "data": {
      "text/plain": [
       "5"
      ]
     },
     "execution_count": 91,
     "metadata": {},
     "output_type": "execute_result"
    }
   ],
   "source": [
    "rect=Rectangle(5,10)\n",
    "rect.length"
   ]
  },
  {
   "cell_type": "code",
   "execution_count": 92,
   "id": "24758d05",
   "metadata": {},
   "outputs": [
    {
     "data": {
      "text/plain": [
       "10"
      ]
     },
     "execution_count": 92,
     "metadata": {},
     "output_type": "execute_result"
    }
   ],
   "source": [
    "rect=Rectangle(5,10)\n",
    "rect.breadth"
   ]
  },
  {
   "cell_type": "code",
   "execution_count": 93,
   "id": "5f6823e8",
   "metadata": {},
   "outputs": [
    {
     "data": {
      "text/plain": [
       "10"
      ]
     },
     "execution_count": 93,
     "metadata": {},
     "output_type": "execute_result"
    }
   ],
   "source": [
    "# Instantating aclass\n",
    "rect=Rectangle(5,10)\n",
    "# calling the instance variable\n",
    "rect.breadth"
   ]
  },
  {
   "cell_type": "markdown",
   "id": "468f32ff",
   "metadata": {},
   "source": [
    "2.Class Variable and Instance variables"
   ]
  },
  {
   "cell_type": "code",
   "execution_count": 95,
   "id": "6481ef9c",
   "metadata": {},
   "outputs": [],
   "source": [
    "class circle:\n",
    "    pi=3.14\n",
    "    def __init__(self,radius):\n",
    "        self.radius=radius"
   ]
  },
  {
   "cell_type": "code",
   "execution_count": 98,
   "id": "75341e61",
   "metadata": {},
   "outputs": [],
   "source": [
    "#Instantating  the circle class\n",
    "circle_1 = circle(5)"
   ]
  },
  {
   "cell_type": "code",
   "execution_count": 99,
   "id": "b88cecb2",
   "metadata": {},
   "outputs": [
    {
     "data": {
      "text/plain": [
       "3.14"
      ]
     },
     "execution_count": 99,
     "metadata": {},
     "output_type": "execute_result"
    }
   ],
   "source": [
    "circle_1.pi"
   ]
  },
  {
   "cell_type": "code",
   "execution_count": 100,
   "id": "a45a2cf6",
   "metadata": {},
   "outputs": [
    {
     "data": {
      "text/plain": [
       "5"
      ]
     },
     "execution_count": 100,
     "metadata": {},
     "output_type": "execute_result"
    }
   ],
   "source": [
    "circle_1.radius"
   ]
  },
  {
   "cell_type": "code",
   "execution_count": 101,
   "id": "7e6d1e61",
   "metadata": {},
   "outputs": [
    {
     "name": "stdout",
     "output_type": "stream",
     "text": [
      "Radius = 5 \t pi=3.14\n",
      "Radius=2 \t pi=3.14\n"
     ]
    }
   ],
   "source": [
    "circle_1=circle(5)\n",
    "print(\"Radius = {} \\t pi={}\".format(circle_1.radius,circle_1.pi))\n",
    "\n",
    "circle_2 = circle(2)\n",
    "print(\"Radius={} \\t pi={}\".format(circle_2.radius,circle_2.pi))\n"
   ]
  },
  {
   "cell_type": "markdown",
   "id": "5fb1e11d",
   "metadata": {},
   "source": [
    "How to change the class variable?"
   ]
  },
  {
   "cell_type": "code",
   "execution_count": 103,
   "id": "afc0acdd",
   "metadata": {},
   "outputs": [],
   "source": [
    "circle.pi=3.1436"
   ]
  },
  {
   "cell_type": "code",
   "execution_count": 104,
   "id": "c52f4a42",
   "metadata": {},
   "outputs": [],
   "source": [
    "circle_1=circle(5)"
   ]
  },
  {
   "cell_type": "code",
   "execution_count": 105,
   "id": "c46831e7",
   "metadata": {},
   "outputs": [
    {
     "data": {
      "text/plain": [
       "3.1436"
      ]
     },
     "execution_count": 105,
     "metadata": {},
     "output_type": "execute_result"
    }
   ],
   "source": [
    "circle_1.pi"
   ]
  },
  {
   "cell_type": "code",
   "execution_count": 102,
   "id": "64966885",
   "metadata": {},
   "outputs": [
    {
     "name": "stdout",
     "output_type": "stream",
     "text": [
      "Radius=5\t pi=3.1436\n",
      "Radius=2\t pi=3.1436\n"
     ]
    }
   ],
   "source": [
    "circle.pi=3.1436\n",
    "\n",
    "circle_1=circle(5)\n",
    "print(\"Radius={}\\t pi={}\".format (circle_1.radius,circle_1.pi))\n",
    "\n",
    "circle_2=circle(2)\n",
    "print(\"Radius={}\\t pi={}\".format(circle_2.radius,circle_2.pi))"
   ]
  },
  {
   "cell_type": "markdown",
   "id": "cbc5e8da",
   "metadata": {},
   "source": [
    "3.Adding a method to class\n",
    ".calculate_area()-returns the productof attributes length and breadth\n",
    ".self-identifies its association with the instance"
   ]
  },
  {
   "cell_type": "code",
   "execution_count": 109,
   "id": "0a652568",
   "metadata": {},
   "outputs": [],
   "source": [
    "class Rectangle:\n",
    "    def __init__(self,length,breadth):\n",
    "        self.length=length\n",
    "        self.breadth=breadth\n",
    "        \n",
    "    def calculate_area(self):\n",
    "        return self.length * self.breadth"
   ]
  },
  {
   "cell_type": "code",
   "execution_count": 110,
   "id": "13b33047",
   "metadata": {},
   "outputs": [],
   "source": [
    "  # Instantiating the Rectangle class\n",
    "    rect=Rectangle(10,5)"
   ]
  },
  {
   "cell_type": "code",
   "execution_count": 111,
   "id": "a4dc4757",
   "metadata": {},
   "outputs": [
    {
     "data": {
      "text/plain": [
       "10"
      ]
     },
     "execution_count": 111,
     "metadata": {},
     "output_type": "execute_result"
    }
   ],
   "source": [
    "rect.length"
   ]
  },
  {
   "cell_type": "code",
   "execution_count": 112,
   "id": "3464f8f2",
   "metadata": {},
   "outputs": [
    {
     "data": {
      "text/plain": [
       "5"
      ]
     },
     "execution_count": 112,
     "metadata": {},
     "output_type": "execute_result"
    }
   ],
   "source": [
    "rect.breadth"
   ]
  },
  {
   "cell_type": "code",
   "execution_count": 113,
   "id": "c4564498",
   "metadata": {},
   "outputs": [
    {
     "data": {
      "text/plain": [
       "50"
      ]
     },
     "execution_count": 113,
     "metadata": {},
     "output_type": "execute_result"
    }
   ],
   "source": [
    "rect.calculate_area()"
   ]
  },
  {
   "cell_type": "markdown",
   "id": "d1274fd9",
   "metadata": {},
   "source": [
    "4.Significance of self:\n",
    ".The attributes length and breadth are associated with an instance.\n",
    ".Self makes sure that each instance refers to its own copy of attributes"
   ]
  },
  {
   "cell_type": "code",
   "execution_count": 114,
   "id": "8b9cfd57",
   "metadata": {},
   "outputs": [
    {
     "name": "stdout",
     "output_type": "stream",
     "text": [
      "Length = 15 \n",
      "Breadth = 5 \n",
      "Area = 50\n"
     ]
    }
   ],
   "source": [
    "new_rect=Rectangle(15,8)\n",
    "print(\"Length =\",new_rect.length,\"\\nBreadth =\",rect.breadth,\"\\nArea =\",rect.calculate_area())"
   ]
  },
  {
   "cell_type": "code",
   "execution_count": 115,
   "id": "a898f28f",
   "metadata": {},
   "outputs": [
    {
     "name": "stdout",
     "output_type": "stream",
     "text": [
      "Length = 10 \n",
      "Breadth =  5 \n",
      "Area= 50\n"
     ]
    }
   ],
   "source": [
    "print(\"Length =\",rect.length,\"\\nBreadth = \",rect.breadth,\"\\nArea=\",rect.calculate_area())"
   ]
  },
  {
   "cell_type": "markdown",
   "id": "43f26a84",
   "metadata": {},
   "source": [
    "5.Inheritance and Ovrriding"
   ]
  },
  {
   "cell_type": "code",
   "execution_count": 117,
   "id": "469782d2",
   "metadata": {},
   "outputs": [],
   "source": [
    "class Employee:\n",
    "    def function1(self):\n",
    "        print(\"hello world\")\n",
    "class Department(Employee):\n",
    "    pass\n"
   ]
  },
  {
   "cell_type": "code",
   "execution_count": 119,
   "id": "21cc6081",
   "metadata": {},
   "outputs": [
    {
     "name": "stdout",
     "output_type": "stream",
     "text": [
      "hello world\n"
     ]
    }
   ],
   "source": [
    "emp=Employee()\n",
    "emp.function1()"
   ]
  },
  {
   "cell_type": "code",
   "execution_count": 121,
   "id": "f6426537",
   "metadata": {},
   "outputs": [
    {
     "name": "stdout",
     "output_type": "stream",
     "text": [
      "hello world\n"
     ]
    }
   ],
   "source": [
    "dept=Department()\n",
    "dept.function1()"
   ]
  },
  {
   "cell_type": "code",
   "execution_count": 122,
   "id": "02712ca3",
   "metadata": {},
   "outputs": [],
   "source": [
    "class shape:\n",
    "    def set_color(self,color):\n",
    "        self.color=color\n",
    "    def calculate_area(self):\n",
    "        pass\n",
    "    def color_the_shape(self):\n",
    "        color_price={\"red\":10,\"blue\":15,\"green\":5}\n",
    "        return self.calculate_area()*color_price[self.color]"
   ]
  },
  {
   "cell_type": "code",
   "execution_count": 123,
   "id": "77391f7c",
   "metadata": {},
   "outputs": [],
   "source": [
    "class circle(shape):\n",
    "    pi=3.14\n",
    "    def __init__(self,radius):\n",
    "        self.radius=radius\n",
    "        \n",
    "    def calculate_area(self):\n",
    "        return circle.pi * self.radius"
   ]
  },
  {
   "cell_type": "code",
   "execution_count": 124,
   "id": "58bc26cb",
   "metadata": {},
   "outputs": [
    {
     "name": "stdout",
     "output_type": "stream",
     "text": [
      "circle with radius= 5 when colored red costs $ 157.0\n"
     ]
    }
   ],
   "source": [
    "c=circle(5)\n",
    "#Accessing set_color from parent class,because of inheritance\n",
    "c.set_color(\"red\")\n",
    "print(\"circle with radius=\",c.radius,\"when colored\",c.color,\"costs $\",c.color_the_shape())"
   ]
  },
  {
   "cell_type": "code",
   "execution_count": 126,
   "id": "120e0e61",
   "metadata": {},
   "outputs": [
    {
     "data": {
      "text/plain": [
       "15.700000000000001"
      ]
     },
     "execution_count": 126,
     "metadata": {},
     "output_type": "execute_result"
    }
   ],
   "source": [
    "c.calculate_area()"
   ]
  },
  {
   "cell_type": "code",
   "execution_count": 129,
   "id": "c6e1c683",
   "metadata": {},
   "outputs": [],
   "source": [
    "class Rectangle(shape):\n",
    "    def __init__(self,length,breadth):\n",
    "        self.length=length\n",
    "        self.breadth=breadth\n",
    "    # overriding user defined method\n",
    "    def calculate_area(self):\n",
    "        return self.length *self.breadth\n",
    "    \n",
    "# overriding python default method\n",
    "    def __str__(self):\n",
    "        return\"area of rectangle=\"+str(self.calculate_area())"
   ]
  },
  {
   "cell_type": "code",
   "execution_count": null,
   "id": "fab95d08",
   "metadata": {},
   "outputs": [],
   "source": []
  }
 ],
 "metadata": {
  "celltoolbar": "Raw Cell Format",
  "kernelspec": {
   "display_name": "Python 3 (ipykernel)",
   "language": "python",
   "name": "python3"
  },
  "language_info": {
   "codemirror_mode": {
    "name": "ipython",
    "version": 3
   },
   "file_extension": ".py",
   "mimetype": "text/x-python",
   "name": "python",
   "nbconvert_exporter": "python",
   "pygments_lexer": "ipython3",
   "version": "3.9.7"
  }
 },
 "nbformat": 4,
 "nbformat_minor": 5
}
