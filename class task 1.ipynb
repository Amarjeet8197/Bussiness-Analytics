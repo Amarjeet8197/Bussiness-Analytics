{
 "cells": [
  {
   "cell_type": "markdown",
   "id": "ff99fde8",
   "metadata": {},
   "source": [
    "# 1.Try to extract data from index one to index 300 with a jump of 3 "
   ]
  },
  {
   "cell_type": "code",
   "execution_count": 1,
   "id": "0ece551c",
   "metadata": {},
   "outputs": [],
   "source": [
    "s=\"this is My First Python programming class and i am learNING python string and its function\""
   ]
  },
  {
   "cell_type": "code",
   "execution_count": 5,
   "id": "0e57454d",
   "metadata": {},
   "outputs": [
    {
     "data": {
      "text/plain": [
       "'h   r tnrrmglsnimeNGyosi dtfco'"
      ]
     },
     "execution_count": 5,
     "metadata": {},
     "output_type": "execute_result"
    }
   ],
   "source": [
    "s[1:300:3]"
   ]
  },
  {
   "cell_type": "markdown",
   "id": "3880284d",
   "metadata": {},
   "source": [
    "# 2.Try to reverse a string without using reverse function "
   ]
  },
  {
   "cell_type": "code",
   "execution_count": 9,
   "id": "773340c9",
   "metadata": {},
   "outputs": [
    {
     "data": {
      "text/plain": [
       "'noitcnuf sti dna gnirts nohtyp GNINrael ma i dna ssalc gnimmargorp nohtyP tsriF yM si siht'"
      ]
     },
     "execution_count": 9,
     "metadata": {},
     "output_type": "execute_result"
    }
   ],
   "source": [
    "s[::-1]"
   ]
  },
  {
   "cell_type": "markdown",
   "id": "cd313719",
   "metadata": {},
   "source": [
    "# 3.Try to split a string after conversion of entire string in uppercase "
   ]
  },
  {
   "cell_type": "code",
   "execution_count": 12,
   "id": "b178aa70",
   "metadata": {},
   "outputs": [
    {
     "data": {
      "text/plain": [
       "'THIS IS MY FIRST PYTHON PROGRAMMING CLASS AND I AM LEARNING PYTHON STRING AND ITS FUNCTION'"
      ]
     },
     "execution_count": 12,
     "metadata": {},
     "output_type": "execute_result"
    }
   ],
   "source": [
    "s.upper()"
   ]
  },
  {
   "cell_type": "code",
   "execution_count": 13,
   "id": "673d7f4b",
   "metadata": {},
   "outputs": [
    {
     "data": {
      "text/plain": [
       "['this',\n",
       " 'is',\n",
       " 'My',\n",
       " 'First',\n",
       " 'Python',\n",
       " 'programming',\n",
       " 'class',\n",
       " 'and',\n",
       " 'i',\n",
       " 'am',\n",
       " 'learNING',\n",
       " 'python',\n",
       " 'string',\n",
       " 'and',\n",
       " 'its',\n",
       " 'function']"
      ]
     },
     "execution_count": 13,
     "metadata": {},
     "output_type": "execute_result"
    }
   ],
   "source": [
    "s.split()"
   ]
  },
  {
   "cell_type": "markdown",
   "id": "bb25bd8b",
   "metadata": {},
   "source": [
    "# 4.try to convert the whole string into lower case"
   ]
  },
  {
   "cell_type": "code",
   "execution_count": 14,
   "id": "aea34e8b",
   "metadata": {},
   "outputs": [
    {
     "data": {
      "text/plain": [
       "'this is my first python programming class and i am learning python string and its function'"
      ]
     },
     "execution_count": 14,
     "metadata": {},
     "output_type": "execute_result"
    }
   ],
   "source": [
    "s.lower()"
   ]
  },
  {
   "cell_type": "markdown",
   "id": "caeeb16c",
   "metadata": {},
   "source": [
    "# 5.Try to capitalize the whole string "
   ]
  },
  {
   "cell_type": "code",
   "execution_count": 16,
   "id": "9b2053b7",
   "metadata": {},
   "outputs": [
    {
     "data": {
      "text/plain": [
       "'This is my first python programming class and i am learning python string and its function'"
      ]
     },
     "execution_count": 16,
     "metadata": {},
     "output_type": "execute_result"
    }
   ],
   "source": [
    "s.capitalize()"
   ]
  },
  {
   "cell_type": "markdown",
   "id": "6592fa4a",
   "metadata": {},
   "source": [
    "# 6.Write a diference between isalnum() and isalpha()"
   ]
  },
  {
   "cell_type": "code",
   "execution_count": 17,
   "id": "e9a5701d",
   "metadata": {},
   "outputs": [
    {
     "data": {
      "text/plain": [
       "True"
      ]
     },
     "execution_count": 17,
     "metadata": {},
     "output_type": "execute_result"
    }
   ],
   "source": [
    "s1='789'\n",
    "s1.isalnum()"
   ]
  },
  {
   "cell_type": "code",
   "execution_count": 18,
   "id": "2add38e4",
   "metadata": {},
   "outputs": [],
   "source": [
    "s='amarjeet'"
   ]
  },
  {
   "cell_type": "code",
   "execution_count": 19,
   "id": "015afe1d",
   "metadata": {},
   "outputs": [
    {
     "data": {
      "text/plain": [
       "True"
      ]
     },
     "execution_count": 19,
     "metadata": {},
     "output_type": "execute_result"
    }
   ],
   "source": [
    "s.isalpha()"
   ]
  },
  {
   "cell_type": "markdown",
   "id": "f15600c4",
   "metadata": {},
   "source": [
    "# 7.Try to give an example of expand tab"
   ]
  },
  {
   "cell_type": "code",
   "execution_count": 20,
   "id": "2e18b281",
   "metadata": {},
   "outputs": [],
   "source": [
    "s='amarjeet\\tkumar\\tineuron'"
   ]
  },
  {
   "cell_type": "code",
   "execution_count": 21,
   "id": "78b94b24",
   "metadata": {},
   "outputs": [
    {
     "data": {
      "text/plain": [
       "'amarjeet        kumar   ineuron'"
      ]
     },
     "execution_count": 21,
     "metadata": {},
     "output_type": "execute_result"
    }
   ],
   "source": [
    "s.expandtabs()"
   ]
  },
  {
   "cell_type": "markdown",
   "id": "c0535f22",
   "metadata": {},
   "source": [
    "# 8.Give an example of strip , lstrip and rstrip "
   ]
  },
  {
   "cell_type": "code",
   "execution_count": 22,
   "id": "77bc02d3",
   "metadata": {},
   "outputs": [
    {
     "data": {
      "text/plain": [
       "'amarjeet\\tkumar\\tineuron'"
      ]
     },
     "execution_count": 22,
     "metadata": {},
     "output_type": "execute_result"
    }
   ],
   "source": [
    "s.strip()"
   ]
  },
  {
   "cell_type": "code",
   "execution_count": 23,
   "id": "8bcc90fc",
   "metadata": {},
   "outputs": [],
   "source": [
    "s=\"   am    ar     \""
   ]
  },
  {
   "cell_type": "code",
   "execution_count": 24,
   "id": "f8551c6f",
   "metadata": {},
   "outputs": [
    {
     "data": {
      "text/plain": [
       "'am    ar'"
      ]
     },
     "execution_count": 24,
     "metadata": {},
     "output_type": "execute_result"
    }
   ],
   "source": [
    "s.strip()"
   ]
  },
  {
   "cell_type": "code",
   "execution_count": 25,
   "id": "d6e1058a",
   "metadata": {},
   "outputs": [
    {
     "data": {
      "text/plain": [
       "'   am    ar     '"
      ]
     },
     "execution_count": 25,
     "metadata": {},
     "output_type": "execute_result"
    }
   ],
   "source": [
    "s"
   ]
  },
  {
   "cell_type": "code",
   "execution_count": 26,
   "id": "b42dcc1b",
   "metadata": {},
   "outputs": [
    {
     "data": {
      "text/plain": [
       "'am    ar     '"
      ]
     },
     "execution_count": 26,
     "metadata": {},
     "output_type": "execute_result"
    }
   ],
   "source": [
    "s.lstrip()"
   ]
  },
  {
   "cell_type": "code",
   "execution_count": null,
   "id": "86a12c39",
   "metadata": {},
   "outputs": [],
   "source": [
    "# s.rstrip()"
   ]
  },
  {
   "cell_type": "markdown",
   "id": "fbb9467a",
   "metadata": {},
   "source": [
    "# 9.Replace a string charecter by another charector by taking your own example \n",
    "\"amarjeet\""
   ]
  },
  {
   "cell_type": "code",
   "execution_count": 32,
   "id": "b7ee55c0",
   "metadata": {},
   "outputs": [],
   "source": [
    "s='amarjeet'\n",
    "s1='sudhanshu'"
   ]
  },
  {
   "cell_type": "code",
   "execution_count": 33,
   "id": "c36e83b7",
   "metadata": {},
   "outputs": [
    {
     "data": {
      "text/plain": [
       "'amarjeet'"
      ]
     },
     "execution_count": 33,
     "metadata": {},
     "output_type": "execute_result"
    }
   ],
   "source": [
    "s.replace(s1,s)"
   ]
  },
  {
   "cell_type": "markdown",
   "id": "0c649aca",
   "metadata": {},
   "source": [
    "# 10.Try  to give a defination of string center function with and exmple"
   ]
  },
  {
   "cell_type": "markdown",
   "id": "1c00056e",
   "metadata": {},
   "source": [
    " Python String center() method creates and returns a new string that is padded with the specified character."
   ]
  },
  {
   "cell_type": "code",
   "execution_count": 36,
   "id": "55c1a048",
   "metadata": {},
   "outputs": [
    {
     "data": {
      "text/plain": [
       "'@@@@@@@@ 3 @@@@@@@@@'"
      ]
     },
     "execution_count": 36,
     "metadata": {},
     "output_type": "execute_result"
    }
   ],
   "source": [
    "s=' 3 '\n",
    "s.center(20,'@')"
   ]
  },
  {
   "cell_type": "markdown",
   "id": "f3eb180e",
   "metadata": {},
   "source": [
    "# 11. Write your own definition of compiler and interpretor without copy paste form internet in your own language"
   ]
  },
  {
   "cell_type": "markdown",
   "id": "f895adfb",
   "metadata": {},
   "source": [
    "An interpreter is a computer program that is used to directly execute program instructions written using one of the many high-level programming languages.\n",
    "\n",
    "A compiler is a special program that translates a programming language's source code into machine code, bytecode or another programming language.\n",
    "The source code is typically written in a high-level, human-readable language such as Java or C++."
   ]
  },
  {
   "cell_type": "markdown",
   "id": "5de9e1b8",
   "metadata": {},
   "source": [
    "# 12.Python is a interpreted of compiled language give a clear ans with your understanding ."
   ]
  },
  {
   "cell_type": "markdown",
   "id": "763f3077",
   "metadata": {},
   "source": [
    "An interpreter is basically very different from a compiler.\n",
    "The interpreter is used mostly for scripting languages like python etc, which directly executes the code (no separate stages for compiling the code and then executing it) by converting it into an intermediate code usually called the byte code. This definitely increases the speed of execution.\n",
    "This byte code is platform independent which can later be run on different platforms so the code is portable."
   ]
  },
  {
   "cell_type": "markdown",
   "id": "bc480ef2",
   "metadata": {},
   "source": [
    "# 13.Try to write a usecase of python with your understanding .\n"
   ]
  },
  {
   "cell_type": "markdown",
   "id": "76b9d065",
   "metadata": {},
   "source": [
    "Web Development. Python can be used to make web-applications at a rapid rate. ...\n",
    "Game Development. Python is also used in the development of interactive games. ...\n",
    "Machine Learning and Artificial Intelligence. ...\n",
    "Data Science and Data Visualization. ...\n",
    "Desktop GUI. ...\n",
    "Web Scraping Applications. ...\n",
    "Business Applications. ...\n",
    "CAD Applications."
   ]
  }
 ],
 "metadata": {
  "kernelspec": {
   "display_name": "Python 3 (ipykernel)",
   "language": "python",
   "name": "python3"
  },
  "language_info": {
   "codemirror_mode": {
    "name": "ipython",
    "version": 3
   },
   "file_extension": ".py",
   "mimetype": "text/x-python",
   "name": "python",
   "nbconvert_exporter": "python",
   "pygments_lexer": "ipython3",
   "version": "3.9.7"
  }
 },
 "nbformat": 4,
 "nbformat_minor": 5
}
