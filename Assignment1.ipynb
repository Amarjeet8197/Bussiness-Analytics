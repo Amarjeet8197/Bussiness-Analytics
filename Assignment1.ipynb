{
 "cells": [
  {
   "cell_type": "code",
   "execution_count": null,
   "id": "e46aa1d4",
   "metadata": {},
   "outputs": [],
   "source": [
    "assignment 1"
   ]
  },
  {
   "cell_type": "code",
   "execution_count": 4,
   "id": "b4a7ef9b",
   "metadata": {},
   "outputs": [],
   "source": [
    "#the type() function"
   ]
  },
  {
   "cell_type": "code",
   "execution_count": 5,
   "id": "b6f630cf",
   "metadata": {},
   "outputs": [
    {
     "name": "stdout",
     "output_type": "stream",
     "text": [
      "True\n"
     ]
    }
   ],
   "source": [
    "print (type ([]) is list)"
   ]
  },
  {
   "cell_type": "code",
   "execution_count": 6,
   "id": "379ab17f",
   "metadata": {},
   "outputs": [
    {
     "name": "stdout",
     "output_type": "stream",
     "text": [
      "False\n"
     ]
    }
   ],
   "source": [
    "print(type([]) is not list)"
   ]
  },
  {
   "cell_type": "code",
   "execution_count": 8,
   "id": "cb42be5d",
   "metadata": {},
   "outputs": [
    {
     "name": "stdout",
     "output_type": "stream",
     "text": [
      "True\n"
     ]
    }
   ],
   "source": [
    "print(type([])is not tuple)"
   ]
  },
  {
   "cell_type": "code",
   "execution_count": 12,
   "id": "7e7e2d7f",
   "metadata": {},
   "outputs": [
    {
     "name": "stdout",
     "output_type": "stream",
     "text": [
      "True\n"
     ]
    }
   ],
   "source": [
    "print(type({})is dict )"
   ]
  },
  {
   "cell_type": "code",
   "execution_count": 13,
   "id": "b497658c",
   "metadata": {},
   "outputs": [
    {
     "name": "stdout",
     "output_type": "stream",
     "text": [
      "True\n"
     ]
    }
   ],
   "source": [
    "print(type(()) is tuple)"
   ]
  },
  {
   "cell_type": "code",
   "execution_count": null,
   "id": "04c502fa",
   "metadata": {},
   "outputs": [],
   "source": [
    "# the isinstance()"
   ]
  },
  {
   "cell_type": "code",
   "execution_count": 14,
   "id": "d5be6fce",
   "metadata": {},
   "outputs": [],
   "source": [
    "x =isinstance(10,int)"
   ]
  },
  {
   "cell_type": "code",
   "execution_count": 17,
   "id": "e969edc0",
   "metadata": {},
   "outputs": [
    {
     "name": "stdout",
     "output_type": "stream",
     "text": [
      "True\n"
     ]
    }
   ],
   "source": [
    "print(x)"
   ]
  },
  {
   "cell_type": "code",
   "execution_count": 18,
   "id": "7d336408",
   "metadata": {},
   "outputs": [],
   "source": [
    "x= isinstance(\"hii\",( float,str,int,dict,tuple,list))"
   ]
  },
  {
   "cell_type": "code",
   "execution_count": 19,
   "id": "87efe88e",
   "metadata": {},
   "outputs": [
    {
     "name": "stdout",
     "output_type": "stream",
     "text": [
      "True\n"
     ]
    }
   ],
   "source": [
    "print(x)"
   ]
  },
  {
   "cell_type": "code",
   "execution_count": null,
   "id": "d089f277",
   "metadata": {},
   "outputs": [],
   "source": [
    "# y is the object of my object"
   ]
  },
  {
   "cell_type": "code",
   "execution_count": null,
   "id": "863748e4",
   "metadata": {},
   "outputs": [],
   "source": [
    "class my object:\n",
    "    name=\"cdac\"\n",
    "    y=my obj()\n",
    "    x=isinstance(y,my obj)"
   ]
  },
  {
   "cell_type": "code",
   "execution_count": 24,
   "id": "2322f9bc",
   "metadata": {},
   "outputs": [
    {
     "name": "stdout",
     "output_type": "stream",
     "text": [
      "True\n"
     ]
    }
   ],
   "source": [
    "print(x)"
   ]
  },
  {
   "cell_type": "code",
   "execution_count": null,
   "id": "ee05a40d",
   "metadata": {},
   "outputs": [],
   "source": [
    "# chr ()"
   ]
  },
  {
   "cell_type": "code",
   "execution_count": 25,
   "id": "77a99cec",
   "metadata": {},
   "outputs": [],
   "source": [
    "x=(105)"
   ]
  },
  {
   "cell_type": "code",
   "execution_count": 26,
   "id": "3583616f",
   "metadata": {},
   "outputs": [
    {
     "name": "stdout",
     "output_type": "stream",
     "text": [
      "105\n"
     ]
    }
   ],
   "source": [
    "print (x)"
   ]
  },
  {
   "cell_type": "code",
   "execution_count": 27,
   "id": "87e99e02",
   "metadata": {},
   "outputs": [],
   "source": [
    "x=chr(105)"
   ]
  },
  {
   "cell_type": "code",
   "execution_count": 28,
   "id": "670a70a3",
   "metadata": {},
   "outputs": [
    {
     "name": "stdout",
     "output_type": "stream",
     "text": [
      "i\n"
     ]
    }
   ],
   "source": [
    "print(x)"
   ]
  },
  {
   "cell_type": "code",
   "execution_count": null,
   "id": "7b83d19c",
   "metadata": {},
   "outputs": [],
   "source": [
    "# ord()"
   ]
  },
  {
   "cell_type": "code",
   "execution_count": 30,
   "id": "ed7c82a3",
   "metadata": {},
   "outputs": [
    {
     "name": "stdout",
     "output_type": "stream",
     "text": [
      "i\n"
     ]
    }
   ],
   "source": [
    "print (x)"
   ]
  },
  {
   "cell_type": "code",
   "execution_count": 33,
   "id": "e997576d",
   "metadata": {},
   "outputs": [
    {
     "name": "stdout",
     "output_type": "stream",
     "text": [
      "56\n"
     ]
    }
   ],
   "source": [
    "print(ord('8'))"
   ]
  },
  {
   "cell_type": "code",
   "execution_count": 34,
   "id": "92730400",
   "metadata": {},
   "outputs": [
    {
     "name": "stdout",
     "output_type": "stream",
     "text": [
      "117\n"
     ]
    }
   ],
   "source": [
    "print(ord('u'))"
   ]
  },
  {
   "cell_type": "code",
   "execution_count": 35,
   "id": "5cb74bbe",
   "metadata": {},
   "outputs": [
    {
     "name": "stdout",
     "output_type": "stream",
     "text": [
      "36\n"
     ]
    }
   ],
   "source": [
    "print(ord('$'))"
   ]
  },
  {
   "cell_type": "code",
   "execution_count": 36,
   "id": "e8146787",
   "metadata": {},
   "outputs": [
    {
     "name": "stdout",
     "output_type": "stream",
     "text": [
      "how's everyone\n"
     ]
    }
   ],
   "source": [
    "print(\"how's everyone\")"
   ]
  },
  {
   "cell_type": "code",
   "execution_count": 2,
   "id": "a66d88e2",
   "metadata": {},
   "outputs": [
    {
     "name": "stdout",
     "output_type": "stream",
     "text": [
      "\"it's too cold today\"\n"
     ]
    }
   ],
   "source": [
    "print('\\\"it\\'s too cold today\\\"')"
   ]
  },
  {
   "cell_type": "code",
   "execution_count": null,
   "id": "e1c458fa",
   "metadata": {},
   "outputs": [],
   "source": []
  }
 ],
 "metadata": {
  "kernelspec": {
   "display_name": "Python 3 (ipykernel)",
   "language": "python",
   "name": "python3"
  },
  "language_info": {
   "codemirror_mode": {
    "name": "ipython",
    "version": 3
   },
   "file_extension": ".py",
   "mimetype": "text/x-python",
   "name": "python",
   "nbconvert_exporter": "python",
   "pygments_lexer": "ipython3",
   "version": "3.9.7"
  }
 },
 "nbformat": 4,
 "nbformat_minor": 5
}
