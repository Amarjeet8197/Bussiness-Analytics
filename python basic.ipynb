{
 "cells": [
  {
   "cell_type": "code",
   "execution_count": 1,
   "id": "868c2b4e",
   "metadata": {},
   "outputs": [
    {
     "name": "stdout",
     "output_type": "stream",
     "text": [
      "hello world\n"
     ]
    }
   ],
   "source": [
    "print(\"hello world\")"
   ]
  },
  {
   "cell_type": "code",
   "execution_count": null,
   "id": "1fcd1737",
   "metadata": {},
   "outputs": [],
   "source": []
  },
  {
   "cell_type": "code",
   "execution_count": 4,
   "id": "ec809f93",
   "metadata": {},
   "outputs": [
    {
     "name": "stdout",
     "output_type": "stream",
     "text": [
      "9\n",
      "this is my first time doing program\n",
      "9.9\n",
      "True\n"
     ]
    }
   ],
   "source": [
    "a=9\n",
    "b='this is my first time doing program'\n",
    "c=9.9\n",
    "d=True\n",
    "\n",
    "print(a)\n",
    "print(b)\n",
    "print(c)\n",
    "print(d)\n"
   ]
  },
  {
   "cell_type": "code",
   "execution_count": 6,
   "id": "86baa5dd",
   "metadata": {},
   "outputs": [
    {
     "name": "stdout",
     "output_type": "stream",
     "text": [
      "<class 'int'>\n",
      "<class 'str'>\n",
      "<class 'float'>\n",
      "<class 'bool'>\n"
     ]
    }
   ],
   "source": [
    "print(type(a))\n",
    "print(type(b))\n",
    "print(type(c))\n",
    "print(type(d))\n",
    "          "
   ]
  },
  {
   "cell_type": "code",
   "execution_count": 7,
   "id": "03811cd3",
   "metadata": {},
   "outputs": [
    {
     "name": "stdout",
     "output_type": "stream",
     "text": [
      "0\n",
      "<class 'int'>\n",
      "False\n",
      "<class 'bool'>\n"
     ]
    }
   ],
   "source": [
    "a=0\n",
    "a_bool=bool(a)\n",
    "\n",
    "print(a)\n",
    "print(type(a))\n",
    "\n",
    "print(a_bool)\n",
    "print(type(a_bool))"
   ]
  },
  {
   "cell_type": "code",
   "execution_count": 30,
   "id": "a52ea6c8",
   "metadata": {},
   "outputs": [
    {
     "name": "stdout",
     "output_type": "stream",
     "text": [
      "19\n",
      "-1\n",
      "90\n",
      "0.9\n",
      "9\n",
      "3486784401\n",
      "0\n",
      "3486784401\n"
     ]
    }
   ],
   "source": [
    "#  arithmetic operator \n",
    "a=9\n",
    "b=10\n",
    "\n",
    "add=a+b\n",
    "sub=a-b\n",
    "mul=a*b\n",
    "div=a/b\n",
    "mod=a%b\n",
    "exp=a**b\n",
    "div_w=a//b\n",
    "pow=a**b\n",
    "\n",
    "print(add)\n",
    "print(sub)\n",
    "print(mul)\n",
    "print(div)\n",
    "print(mod)\n",
    "print(exp)\n",
    "print(div_w) \n",
    "print(pow)"
   ]
  },
  {
   "cell_type": "code",
   "execution_count": 17,
   "id": "8c226845",
   "metadata": {},
   "outputs": [],
   "source": [
    "# assignment operator\n",
    "a=9\n",
    "\n",
    "a +=18 # a=a+18\n",
    "a -=18 # a=a-18\n",
    "a *=18\n",
    "a /=18\n",
    "a %=18\n",
    "a //=18"
   ]
  },
  {
   "cell_type": "code",
   "execution_count": 27,
   "id": "ed4aacc6",
   "metadata": {},
   "outputs": [
    {
     "name": "stdout",
     "output_type": "stream",
     "text": [
      "False\n",
      "True\n",
      "True\n",
      "False\n",
      "False\n",
      "True\n",
      "True\n"
     ]
    }
   ],
   "source": [
    "# comparision operator\n",
    "a=9\n",
    "b=10\n",
    "\n",
    "print(a==b)\n",
    "print(a!=b)\n",
    "print(a<b)\n",
    "print(a>b)\n",
    "print(a>=b)\n",
    "print(a<=b)\n",
    "print(a!=b)"
   ]
  },
  {
   "cell_type": "code",
   "execution_count": 37,
   "id": "c27f6563",
   "metadata": {},
   "outputs": [
    {
     "name": "stdout",
     "output_type": "stream",
     "text": [
      "True\n",
      "False\n",
      "True\n",
      "False\n"
     ]
    }
   ],
   "source": [
    "# logical operator\n",
    "a=10\n",
    "b=20\n",
    "\n",
    "print(a >5 and b<50)\n",
    "print(a>15 and b<50)\n",
    "print(a>15 or b<50)\n",
    "print(not(a>15 or b<50))"
   ]
  },
  {
   "cell_type": "code",
   "execution_count": 38,
   "id": "6a00eae7",
   "metadata": {},
   "outputs": [
    {
     "name": "stdout",
     "output_type": "stream",
     "text": [
      "True\n",
      "False\n"
     ]
    }
   ],
   "source": [
    "condition1=100>10\n",
    "condition2=5>10\n",
    "\n",
    "print(condition1)\n",
    "print(condition2)"
   ]
  },
  {
   "cell_type": "code",
   "execution_count": 39,
   "id": "85903b9b",
   "metadata": {},
   "outputs": [
    {
     "data": {
      "text/plain": [
       "True"
      ]
     },
     "execution_count": 39,
     "metadata": {},
     "output_type": "execute_result"
    }
   ],
   "source": [
    "condition1 or condition2"
   ]
  },
  {
   "cell_type": "code",
   "execution_count": 41,
   "id": "2c0fdb0f",
   "metadata": {},
   "outputs": [
    {
     "data": {
      "text/plain": [
       "False"
      ]
     },
     "execution_count": 41,
     "metadata": {},
     "output_type": "execute_result"
    }
   ],
   "source": [
    "condition1 and condition2"
   ]
  },
  {
   "cell_type": "code",
   "execution_count": 42,
   "id": "49817b90",
   "metadata": {},
   "outputs": [
    {
     "name": "stdout",
     "output_type": "stream",
     "text": [
      "False\n",
      "False\n"
     ]
    }
   ],
   "source": [
    "a=1\n",
    "b=10\n",
    "c=100\n",
    "\n",
    "print(a>b)\n",
    "print(b>c)"
   ]
  },
  {
   "cell_type": "code",
   "execution_count": 43,
   "id": "ca575a29",
   "metadata": {},
   "outputs": [
    {
     "name": "stdout",
     "output_type": "stream",
     "text": [
      "True\n",
      "False\n"
     ]
    }
   ],
   "source": [
    "print(a<c)\n",
    "print(b>c)"
   ]
  },
  {
   "cell_type": "markdown",
   "id": "b5e293ab",
   "metadata": {},
   "source": [
    "# list comprehension \n"
   ]
  },
  {
   "cell_type": "code",
   "execution_count": 9,
   "id": "7d9bf9a9",
   "metadata": {},
   "outputs": [
    {
     "name": "stdout",
     "output_type": "stream",
     "text": [
      "[0]\n",
      "[0, 1]\n",
      "[0, 1, 2]\n",
      "[0, 1, 2, 3]\n",
      "[0, 1, 2, 3, 4]\n",
      "[0, 1, 2, 3, 4, 5]\n",
      "[0, 1, 2, 3, 4, 5, 6]\n",
      "[0, 1, 2, 3, 4, 5, 6, 7]\n",
      "[0, 1, 2, 3, 4, 5, 6, 7, 8]\n",
      "[0, 1, 2, 3, 4, 5, 6, 7, 8, 9]\n",
      "[0, 1, 2, 3, 4, 5, 6, 7, 8, 9, 10]\n"
     ]
    }
   ],
   "source": [
    "# for loops\n",
    "new_lst=[]\n",
    "for i in range(0,11):\n",
    "    new_lst.append(i)\n",
    "    \n",
    "    print(new_lst)"
   ]
  },
  {
   "cell_type": "code",
   "execution_count": 10,
   "id": "c7824c17",
   "metadata": {},
   "outputs": [
    {
     "name": "stdout",
     "output_type": "stream",
     "text": [
      "['Amarjeet', 0]\n",
      "['Amarjeet', 0, 1]\n",
      "['Amarjeet', 0, 1, 2]\n",
      "['Amarjeet', 0, 1, 2, 3]\n",
      "['Amarjeet', 0, 1, 2, 3, 4]\n",
      "['Amarjeet', 0, 1, 2, 3, 4, 5]\n",
      "['Amarjeet', 0, 1, 2, 3, 4, 5, 6]\n",
      "['Amarjeet', 0, 1, 2, 3, 4, 5, 6, 7]\n",
      "['Amarjeet', 0, 1, 2, 3, 4, 5, 6, 7, 8]\n",
      "['Amarjeet', 0, 1, 2, 3, 4, 5, 6, 7, 8, 9]\n",
      "['Amarjeet', 0, 1, 2, 3, 4, 5, 6, 7, 8, 9, 10]\n"
     ]
    }
   ],
   "source": [
    "# for loops\n",
    "new_lst=[\"Amarjeet\"]\n",
    "for i in range(0,11):\n",
    "    new_lst.append(i)\n",
    "    \n",
    "    print(new_lst)"
   ]
  },
  {
   "cell_type": "code",
   "execution_count": 6,
   "id": "3005aa99",
   "metadata": {},
   "outputs": [
    {
     "name": "stdout",
     "output_type": "stream",
     "text": [
      "[0, 1, 2, 3, 4, 5, 6, 7, 8, 9, 10]\n"
     ]
    }
   ],
   "source": [
    "new_lst=[]\n",
    "for i in range(0,11):\n",
    "    new_lst.append(i)\n",
    "    \n",
    "print(new_lst)"
   ]
  },
  {
   "cell_type": "code",
   "execution_count": 3,
   "id": "71e95ba9",
   "metadata": {},
   "outputs": [
    {
     "name": "stdout",
     "output_type": "stream",
     "text": [
      "[0, 1, 2, 3, 4, 5, 6, 7, 8, 9, 10]\n"
     ]
    }
   ],
   "source": [
    "new_lst=[i for i in range(0,11)]\n",
    "print(new_lst)"
   ]
  },
  {
   "cell_type": "code",
   "execution_count": 4,
   "id": "f1331476",
   "metadata": {},
   "outputs": [
    {
     "name": "stdout",
     "output_type": "stream",
     "text": [
      "[2, 6, 12, 48, 22]\n"
     ]
    }
   ],
   "source": [
    "lst1=[2,3,6,7,12,48,39,22]\n",
    "new_lst=[element for element in lst1 if element % 2==0]\n",
    "print(new_lst)"
   ]
  },
  {
   "cell_type": "code",
   "execution_count": 5,
   "id": "2c5c3c6d",
   "metadata": {},
   "outputs": [
    {
     "name": "stdout",
     "output_type": "stream",
     "text": [
      "[2, 6, 12, 48, 22]\n"
     ]
    }
   ],
   "source": [
    "lst1=[2,3,6,7,12,48,39,22]\n",
    "\n",
    "new_lst=[element for element in lst1 if element %2==0]\n",
    "print(new_lst)"
   ]
  },
  {
   "cell_type": "code",
   "execution_count": 7,
   "id": "46e2ce64",
   "metadata": {},
   "outputs": [
    {
     "name": "stdout",
     "output_type": "stream",
     "text": [
      "[1, 5, 10, 15, 24, 40, 11, 21]\n"
     ]
    }
   ],
   "source": [
    "lst1=[1,5,10,15,19,35,11,16]\n",
    "new_lst1=[]\n",
    "for element in lst1:\n",
    "    if element>15:\n",
    "        new_lst1.append(element+5)\n",
    "    else:\n",
    "            new_lst1.append(element)\n",
    "print(new_lst1)"
   ]
  },
  {
   "cell_type": "code",
   "execution_count": 18,
   "id": "d892cc88",
   "metadata": {},
   "outputs": [
    {
     "name": "stdout",
     "output_type": "stream",
     "text": [
      "[21]\n"
     ]
    }
   ],
   "source": [
    "lst=[1,5,10,15,19,35,11,16]\n",
    "\n",
    "new_lst1=[element+5 if element>15 else element in lst1]\n",
    "print(new_lst1)"
   ]
  },
  {
   "cell_type": "code",
   "execution_count": 19,
   "id": "27f537ee",
   "metadata": {},
   "outputs": [
    {
     "name": "stdout",
     "output_type": "stream",
     "text": [
      "[1, 5, 10, 15, 24, 40, 11, 21]\n"
     ]
    }
   ],
   "source": [
    "lst1=[1,5,10,15,19,35,11,16]\n",
    "\n",
    "new_lst1=[element + 5 if element > 15 else element for element in lst1]\n",
    "print(new_lst1)"
   ]
  },
  {
   "cell_type": "markdown",
   "id": "40ca9401",
   "metadata": {},
   "source": [
    "# basic string operation "
   ]
  },
  {
   "cell_type": "code",
   "execution_count": 21,
   "id": "87517bd6",
   "metadata": {},
   "outputs": [
    {
     "name": "stdout",
     "output_type": "stream",
     "text": [
      "hihello\n",
      "hi hello\n"
     ]
    }
   ],
   "source": [
    "# + concatination\n",
    "s='hi'\n",
    "k='hello'\n",
    "\n",
    "print(s+k)\n",
    "print(s +' '+ k)\n"
   ]
  },
  {
   "cell_type": "code",
   "execution_count": 30,
   "id": "dc64e329",
   "metadata": {},
   "outputs": [
    {
     "name": "stdout",
     "output_type": "stream",
     "text": [
      "HELLO, HELLO, HELLO, HELLO, HELLO, HELLO, HELLO, HELLO, HELLO, HELLO, \n"
     ]
    }
   ],
   "source": [
    "#repetition\n",
    "k='HELLO, '\n",
    "\n",
    "print(k * 10)"
   ]
  },
  {
   "cell_type": "code",
   "execution_count": 45,
   "id": "3705d668",
   "metadata": {},
   "outputs": [
    {
     "name": "stdout",
     "output_type": "stream",
     "text": [
      "tjm\n"
     ]
    }
   ],
   "source": [
    "#indexing\n",
    "\n",
    "k='Amarjeet'\n",
    "print(k[::-3])\n",
    "##print(k[1])\n"
   ]
  },
  {
   "cell_type": "code",
   "execution_count": 30,
   "id": "c17093a0",
   "metadata": {},
   "outputs": [
    {
     "name": "stdout",
     "output_type": "stream",
     "text": [
      "good\n",
      "am\n"
     ]
    }
   ],
   "source": [
    "# slicing\n",
    "s=\"i am good\"\n",
    "print(s[5:9])\n",
    "\n",
    "print(s[2:4])"
   ]
  },
  {
   "cell_type": "code",
   "execution_count": 31,
   "id": "73d74fe0",
   "metadata": {},
   "outputs": [
    {
     "name": "stdout",
     "output_type": "stream",
     "text": [
      "goo\n",
      "am \n"
     ]
    }
   ],
   "source": [
    "s=\"i am good\"\n",
    "print(s[5:8])\n",
    "\n",
    "print(s[2:5])"
   ]
  },
  {
   "cell_type": "code",
   "execution_count": 47,
   "id": "461e939a",
   "metadata": {},
   "outputs": [
    {
     "name": "stdout",
     "output_type": "stream",
     "text": [
      "False\n",
      "False\n"
     ]
    }
   ],
   "source": [
    "# membership\n",
    "s='Hello guys, welcome to string'\n",
    "print('hello' in s)\n",
    "    \n",
    "print('hi' in s)   "
   ]
  },
  {
   "cell_type": "code",
   "execution_count": 49,
   "id": "a08ce3de",
   "metadata": {},
   "outputs": [
    {
     "data": {
      "text/plain": [
       "1"
      ]
     },
     "execution_count": 49,
     "metadata": {},
     "output_type": "execute_result"
    }
   ],
   "source": [
    "## True+False"
   ]
  },
  {
   "cell_type": "code",
   "execution_count": 55,
   "id": "70879e3d",
   "metadata": {},
   "outputs": [
    {
     "name": "stdout",
     "output_type": "stream",
     "text": [
      "True\n",
      "False\n"
     ]
    },
    {
     "data": {
      "text/plain": [
       "29"
      ]
     },
     "execution_count": 55,
     "metadata": {},
     "output_type": "execute_result"
    }
   ],
   "source": [
    "s='Hello guys, welcome to string'\n",
    "print('Hello' in s)\n",
    "    \n",
    "print('hi' in s)   \n",
    "\n",
    "len(s)\n",
    "#type(s)\n"
   ]
  },
  {
   "cell_type": "code",
   "execution_count": null,
   "id": "5892b01f",
   "metadata": {},
   "outputs": [],
   "source": [
    "# DATA STRUCTURE\n",
    "# Variable_name=data"
   ]
  },
  {
   "cell_type": "code",
   "execution_count": 22,
   "id": "202ccfd3",
   "metadata": {},
   "outputs": [
    {
     "name": "stdout",
     "output_type": "stream",
     "text": [
      "4\n",
      "<class 'list'>\n",
      "['hero', 'amit', 'gautam', 'amarjeet']\n",
      "hero\n",
      "amarjeet\n",
      "['hero', 'amit', 'gautam']\n",
      "['hero', 'amit']\n",
      "['gautam', 'amarjeet']\n",
      "['amit', 'gautam', 'amarjeet']\n",
      "['hero', 'amit', 'gautam', 'amarjeet']\n"
     ]
    }
   ],
   "source": [
    "user_name=['henry','amit','gautam','amarjeet']\n",
    "user_gender=['female','male','male','male']\n",
    "user_age=[18,16,22,15]\n",
    "user_adult=[True,False,True,False]\n",
    "user_henry=['henry','male',18,True]\n",
    "user_name[0]='hero'\n",
    "            \n",
    "print(len(user_name))\n",
    "print(type(user_name))\n",
    "print(user_name)\n",
    "print(user_name[0])\n",
    "print(user_name[-1])\n",
    "print(user_name[0:3])\n",
    "print(user_name[0:2])\n",
    "print(user_name[2:])\n",
    "print(user_name[1:])\n",
    "print(user_name)"
   ]
  },
  {
   "cell_type": "code",
   "execution_count": 23,
   "id": "42504029",
   "metadata": {},
   "outputs": [
    {
     "name": "stdout",
     "output_type": "stream",
     "text": [
      "['hero', 'amit', 'root', 'gautam', 'amarjeet']\n"
     ]
    }
   ],
   "source": [
    "user_name.insert (2,'root')\n",
    "\n",
    "print(user_name)"
   ]
  },
  {
   "cell_type": "code",
   "execution_count": 24,
   "id": "2b55b88c",
   "metadata": {},
   "outputs": [
    {
     "name": "stdout",
     "output_type": "stream",
     "text": [
      "['hero', 'amit', 'root', 'gautam', 'amarjeet', 'Amarjeet']\n"
     ]
    }
   ],
   "source": [
    "user_name.append ('Amarjeet')\n",
    "\n",
    "print(user_name)"
   ]
  },
  {
   "cell_type": "code",
   "execution_count": 25,
   "id": "0114a299",
   "metadata": {},
   "outputs": [
    {
     "name": "stdout",
     "output_type": "stream",
     "text": [
      "['hero', 'amit', 'root', 'gautam', 'amarjeet', 'Amarjeet', 'female', 'male', 'male', 'male']\n"
     ]
    }
   ],
   "source": [
    "user_name.extend(user_gender)\n",
    "\n",
    "print(user_name)"
   ]
  },
  {
   "cell_type": "code",
   "execution_count": 26,
   "id": "355e5670",
   "metadata": {},
   "outputs": [
    {
     "name": "stdout",
     "output_type": "stream",
     "text": [
      "[]\n"
     ]
    }
   ],
   "source": [
    "user_name.clear() \n",
    "\n",
    "print(user_name)"
   ]
  },
  {
   "cell_type": "markdown",
   "id": "1988f1a8",
   "metadata": {},
   "source": [
    "# tuple\n"
   ]
  },
  {
   "cell_type": "code",
   "execution_count": null,
   "id": "9cf38916",
   "metadata": {},
   "outputs": [],
   "source": [
    "# user_name=('amarjeet','alison','gambhir','jason')\n",
    "user_amarjeet=('amarjeet','male','20','True')\n",
    "\n",
    "\n",
    "\n",
    "print(user_name[0])\n",
    "print(user_amarjeet)\n",
    "print(len(user_name))\n",
    "print(type(user_name))\n",
    "print(user_name[-1])\n",
    "print(user_name[1])\n",
    "print(user_name[1:3])\n",
    "print(user_name[0:3])"
   ]
  },
  {
   "cell_type": "code",
   "execution_count": 3,
   "id": "0a8f910c",
   "metadata": {},
   "outputs": [
    {
     "name": "stdout",
     "output_type": "stream",
     "text": [
      "['amarjeet', 'alison', 'gambhir', 'jason', 'gautam']\n",
      "<class 'list'>\n",
      "['amarjeet', 'alison', 'gambhir', 'jason', 'gautam']\n",
      "('amarjeet', 'alison', 'gambhir', 'jason', 'gautam')\n",
      "amarjeet\n",
      "('amarjeet', 'alison', 'gambhir', 'jason', 'gautam', 'amarjeet', 'male', '20', 'True')\n"
     ]
    }
   ],
   "source": [
    "user_name=('amarjeet','alison','gambhir','jason')\n",
    "user_amarjeet=('amarjeet','male','20','True')\n",
    "\n",
    "un_list=list(user_name)\n",
    "un_list.append('gautam')\n",
    "\n",
    "user_name=tuple(un_list)\n",
    "name,gender,age,adult=user_amarjeet\n",
    "doll=user_name+user_amarjeet\n",
    "\n",
    "\n",
    "print(un_list)\n",
    "print(type(un_list))\n",
    "print(un_list)\n",
    "print(user_name)\n",
    "print(name)\n",
    "print(doll)"
   ]
  },
  {
   "cell_type": "markdown",
   "id": "8a0b7b45",
   "metadata": {},
   "source": [
    "# set data structure"
   ]
  },
  {
   "cell_type": "markdown",
   "id": "533c6edf",
   "metadata": {},
   "source": [
    "# dictionary"
   ]
  },
  {
   "cell_type": "code",
   "execution_count": 44,
   "id": "f9efc839",
   "metadata": {},
   "outputs": [],
   "source": [
    "user_amarjeet={\"name\": 'henry',\"age\":'20',\"gender\":'male',\"adult\":True}\n",
    "\n",
    "user_amarjeet[\"age\"]=20\n",
    "user_amarjeet[\"followers\"]=450\n",
    "user_amarjeet.pop('age')"
   ]
  },
  {
   "cell_type": "code",
   "execution_count": 47,
   "id": "f217f833",
   "metadata": {},
   "outputs": [
    {
     "name": "stdout",
     "output_type": "stream",
     "text": [
      "<class 'dict'>\n",
      "{'name': 'henry', 'age': 20, 'gender': 'male', 'adult': True, 'followers': 450}\n",
      "henry\n",
      "5\n",
      "20\n",
      "dict_keys(['name', 'age', 'gender', 'adult', 'followers'])\n",
      "dict_keys(['name', 'age', 'gender', 'adult', 'followers'])\n",
      "dict_values(['henry', 20, 'male', True, 450])\n",
      "dict_items([('name', 'henry'), ('age', 20), ('gender', 'male'), ('adult', True), ('followers', 450)])\n",
      "20\n",
      "{'name': 'henry', 'age': 20, 'gender': 'male', 'adult': True, 'followers': 450}\n"
     ]
    }
   ],
   "source": [
    "print(type(user_amarjeet))\n",
    "print(user_amarjeet)\n",
    "print(user_amarjeet[\"name\"])\n",
    "print(len(user_amarjeet))\n",
    "print(user_amarjeet[\"age\"])\n",
    "print(user_amarjeet.keys())\n",
    "print(user_amarjeet.keys())\n",
    "print(user_amarjeet.values())\n",
    "print(user_amarjeet.items())\n",
    "print(user_amarjeet[\"age\"])\n",
    "print(user_amarjeet)"
   ]
  },
  {
   "cell_type": "code",
   "execution_count": 51,
   "id": "1b8d1366",
   "metadata": {},
   "outputs": [
    {
     "name": "stdout",
     "output_type": "stream",
     "text": [
      "{}\n"
     ]
    }
   ],
   "source": [
    "user_amarjeet={\"name\": 'henry',\"age\":'20',\"gender\":'male',\"adult\":True}\n",
    "user_amarjeet.clear()\n",
    "print(user_amarjeet)"
   ]
  },
  {
   "cell_type": "code",
   "execution_count": 54,
   "id": "f0d6b5e5",
   "metadata": {},
   "outputs": [],
   "source": [
    "user_amarjeet={\"name\": 'henry',\"age\":'20',\"gender\":'male',\"adult\":True}\n",
    "user_dhoni={\"name\":'dhoni',\"age\":28,\"gender\":'male',\"adult\":True}\n",
    "user_rabada={\"name\":'rabada',\"age\":28,\"gender\":'male',\"adult\":True}                     \n",
    "users={\"user1\":user_amarjeet,\"user2\":user_dhoni,\"user3\":user_rabada}  "
   ]
  },
  {
   "cell_type": "code",
   "execution_count": 55,
   "id": "6a79d404",
   "metadata": {},
   "outputs": [
    {
     "name": "stdout",
     "output_type": "stream",
     "text": [
      "{'user1': {'name': 'henry', 'age': '20', 'gender': 'male', 'adult': True}, 'user2': {'name': 'dhoni', 'age': 28, 'gender': 'male', 'adult': True}, 'user3': {'name': 'rabada', 'age': 28, 'gender': 'male', 'adult': True}}\n"
     ]
    }
   ],
   "source": [
    "print(users)"
   ]
  },
  {
   "cell_type": "markdown",
   "id": "712cc568",
   "metadata": {},
   "source": [
    "# #python condition statements"
   ]
  },
  {
   "cell_type": "code",
   "execution_count": 1,
   "id": "c4d63819",
   "metadata": {},
   "outputs": [
    {
     "name": "stdout",
     "output_type": "stream",
     "text": [
      "you are welcome\n"
     ]
    }
   ],
   "source": [
    "user_age=20\n",
    "if user_age>18:\n",
    "    print('you are welcome')\n",
    "else:\n",
    "    print('you are not welcome')\n"
   ]
  },
  {
   "cell_type": "code",
   "execution_count": 3,
   "id": "ee86ab97",
   "metadata": {},
   "outputs": [
    {
     "name": "stdout",
     "output_type": "stream",
     "text": [
      "you are not welcome\n"
     ]
    }
   ],
   "source": [
    "user_age=10\n",
    "if user_age>18:\n",
    "    print('you are welcome')\n",
    "elif user_age==18:\n",
    "      print('you are just wait')\n",
    "else:\n",
    "    print('you are not welcome')"
   ]
  },
  {
   "cell_type": "code",
   "execution_count": 4,
   "id": "d5b7c6e9",
   "metadata": {},
   "outputs": [
    {
     "name": "stdout",
     "output_type": "stream",
     "text": [
      "you are just wait\n"
     ]
    }
   ],
   "source": [
    "user_age=18\n",
    "if user_age>18:\n",
    "    print('you are welcome')\n",
    "elif user_age==18:\n",
    "      print('you are just wait')\n",
    "else:\n",
    "    print('you are not welcome')"
   ]
  },
  {
   "cell_type": "code",
   "execution_count": 9,
   "id": "b435f71b",
   "metadata": {},
   "outputs": [
    {
     "name": "stdout",
     "output_type": "stream",
     "text": [
      "you are missing it by one year\n"
     ]
    }
   ],
   "source": [
    "user_age=18\n",
    "if user_age>18 and user_age<60:\n",
    "    print('you are welcome')\n",
    "elif user_age==18 or user_age==60:\n",
    "      print('you are missing it by one year')\n",
    "else:\n",
    "    print('you are not welcome')"
   ]
  },
  {
   "cell_type": "code",
   "execution_count": 8,
   "id": "68264e2e",
   "metadata": {},
   "outputs": [
    {
     "name": "stdout",
     "output_type": "stream",
     "text": [
      "you are not welcome\n"
     ]
    }
   ],
   "source": [
    " user_age=70\n",
    "if user_age>18 and user_age<60:\n",
    "    print('you are welcome')\n",
    "elif user_age==18 or user_age==60:\n",
    "      print('you are missing it by one year')\n",
    "else:\n",
    "    print('you are not welcome')"
   ]
  },
  {
   "cell_type": "code",
   "execution_count": 10,
   "id": "6aee8088",
   "metadata": {},
   "outputs": [
    {
     "name": "stdout",
     "output_type": "stream",
     "text": [
      "you are missing it by one year\n"
     ]
    }
   ],
   "source": [
    "user_age=60\n",
    "if user_age>18 and user_age<60:\n",
    "    print('you are welcome')\n",
    "elif user_age==18 or user_age==60:\n",
    "      print('you are missing it by one year')\n",
    "else:\n",
    "    print('you are not welcome')"
   ]
  },
  {
   "cell_type": "markdown",
   "id": "248a6736",
   "metadata": {},
   "source": [
    "# for loops"
   ]
  },
  {
   "cell_type": "code",
   "execution_count": 11,
   "id": "42ccb302",
   "metadata": {},
   "outputs": [
    {
     "name": "stdout",
     "output_type": "stream",
     "text": [
      "amarjeet\n",
      "amit\n",
      "gautam\n",
      "jacky\n"
     ]
    }
   ],
   "source": [
    "user_name=(['amarjeet','amit','gautam','jacky'])\n",
    "\n",
    "print(user_name[0])\n",
    "print(user_name[1])\n",
    "print(user_name[2])\n",
    "print(user_name[3])"
   ]
  },
  {
   "cell_type": "code",
   "execution_count": 12,
   "id": "3498ef79",
   "metadata": {},
   "outputs": [
    {
     "name": "stdout",
     "output_type": "stream",
     "text": [
      "amarjeet\n",
      "amit\n",
      "gautam\n",
      "jacky\n"
     ]
    }
   ],
   "source": [
    "user_name=(['amarjeet','amit','gautam','jacky'])\n",
    "\n",
    "for name in user_name:\n",
    "    print(name)\n",
    "    "
   ]
  },
  {
   "cell_type": "code",
   "execution_count": 13,
   "id": "844d1e2c",
   "metadata": {},
   "outputs": [
    {
     "name": "stdout",
     "output_type": "stream",
     "text": [
      "h\n",
      "a\n",
      "n\n",
      "r\n",
      "y\n"
     ]
    }
   ],
   "source": [
    "user_name=(['amarjeet','amit','gautam','jacky'])\n",
    "\n",
    "name='hanry'\n",
    "for n in name:\n",
    "    print(n)"
   ]
  },
  {
   "cell_type": "code",
   "execution_count": 14,
   "id": "2de438d4",
   "metadata": {},
   "outputs": [
    {
     "name": "stdout",
     "output_type": "stream",
     "text": [
      "a\n",
      "m\n",
      "a\n",
      "r\n",
      "j\n",
      "e\n",
      "e\n",
      "t\n"
     ]
    }
   ],
   "source": [
    "user_name=(['amarjeet','amit','gautam','jacky'])\n",
    "\n",
    "name='amarjeet'\n",
    "for n in name:\n",
    "    print(n)"
   ]
  },
  {
   "cell_type": "code",
   "execution_count": 16,
   "id": "530c63a4",
   "metadata": {},
   "outputs": [
    {
     "name": "stdout",
     "output_type": "stream",
     "text": [
      "amarjeet\n",
      "amit\n",
      "gautam\n"
     ]
    }
   ],
   "source": [
    "user_name=(['amarjeet','amit','gautam','jacky'])\n",
    "\n",
    "for name in user_name:\n",
    "    print(name)\n",
    "    if name=='gautam':\n",
    "        break"
   ]
  },
  {
   "cell_type": "code",
   "execution_count": 18,
   "id": "8fb46611",
   "metadata": {},
   "outputs": [
    {
     "name": "stdout",
     "output_type": "stream",
     "text": [
      "amarjeet\n",
      "amarjeet\n",
      "amit\n",
      "amit\n",
      "gautam\n",
      "jacky\n",
      "jacky\n"
     ]
    }
   ],
   "source": [
    "user_name=(['amarjeet','amit','gautam','jacky'])\n",
    "\n",
    "for name in user_name:\n",
    "    print(name)\n",
    "    if name=='gautam':\n",
    "        continue\n",
    "    print(name)              "
   ]
  },
  {
   "cell_type": "code",
   "execution_count": 19,
   "id": "8163fb72",
   "metadata": {},
   "outputs": [
    {
     "name": "stdout",
     "output_type": "stream",
     "text": [
      "amarjeet\n",
      "amit\n",
      "jacky\n"
     ]
    }
   ],
   "source": [
    "user_name=(['amarjeet','amit','gautam','jacky'])\n",
    "\n",
    "for name in user_name:\n",
    "    if name=='gautam':\n",
    "        continue\n",
    "    print(name)              "
   ]
  },
  {
   "cell_type": "code",
   "execution_count": 20,
   "id": "51e22bdd",
   "metadata": {},
   "outputs": [
    {
     "name": "stdout",
     "output_type": "stream",
     "text": [
      "0\n",
      "1\n",
      "2\n",
      "3\n",
      "4\n",
      "5\n",
      "6\n",
      "7\n",
      "8\n"
     ]
    }
   ],
   "source": [
    "for i in range (9):\n",
    "    print(i)"
   ]
  },
  {
   "cell_type": "code",
   "execution_count": 25,
   "id": "2254403b",
   "metadata": {},
   "outputs": [
    {
     "name": "stdout",
     "output_type": "stream",
     "text": [
      "3\n",
      "4\n",
      "5\n",
      "6\n",
      "7\n",
      "8\n"
     ]
    }
   ],
   "source": [
    "for i in range (3,9):\n",
    "    print(i)"
   ]
  },
  {
   "cell_type": "code",
   "execution_count": 26,
   "id": "019708c2",
   "metadata": {},
   "outputs": [
    {
     "name": "stdout",
     "output_type": "stream",
     "text": [
      "3\n",
      "5\n",
      "7\n"
     ]
    }
   ],
   "source": [
    "for i in range (3,9,2):\n",
    "    print(i)"
   ]
  },
  {
   "cell_type": "code",
   "execution_count": 27,
   "id": "04081ca7",
   "metadata": {},
   "outputs": [
    {
     "name": "stdout",
     "output_type": "stream",
     "text": [
      "3 amarjeet\n",
      "3 amit\n",
      "3 gautam\n",
      "3 jacky\n",
      "4 amarjeet\n",
      "4 amit\n",
      "4 gautam\n",
      "4 jacky\n",
      "5 amarjeet\n",
      "5 amit\n",
      "5 gautam\n",
      "5 jacky\n",
      "6 amarjeet\n",
      "6 amit\n",
      "6 gautam\n",
      "6 jacky\n"
     ]
    }
   ],
   "source": [
    "for i in range(3,7):\n",
    "    for name in user_name:\n",
    "        print(i,name)"
   ]
  },
  {
   "cell_type": "markdown",
   "id": "463d4dc1",
   "metadata": {},
   "source": [
    "# python function"
   ]
  },
  {
   "cell_type": "code",
   "execution_count": 31,
   "id": "9568e6e1",
   "metadata": {},
   "outputs": [
    {
     "name": "stdout",
     "output_type": "stream",
     "text": [
      "good morning\n"
     ]
    }
   ],
   "source": [
    "def greet():\n",
    "    print('good morning')\n",
    "greet()"
   ]
  },
  {
   "cell_type": "code",
   "execution_count": 32,
   "id": "aa2fd970",
   "metadata": {},
   "outputs": [
    {
     "name": "stdout",
     "output_type": "stream",
     "text": [
      "good morning nick\n"
     ]
    }
   ],
   "source": [
    "def greet(user_name):\n",
    "    print('good morning',user_name)\n",
    "    \n",
    "user_name='nick'\n",
    "greet(user_name)"
   ]
  },
  {
   "cell_type": "code",
   "execution_count": 33,
   "id": "8e047a92",
   "metadata": {},
   "outputs": [
    {
     "name": "stdout",
     "output_type": "stream",
     "text": [
      "good morning nick\n"
     ]
    }
   ],
   "source": [
    "def greet(user_name):\n",
    "    print('good morning',user_name)\n",
    "    \n",
    "name='nick'\n",
    "greet(name)"
   ]
  },
  {
   "cell_type": "code",
   "execution_count": 34,
   "id": "236873b2",
   "metadata": {},
   "outputs": [
    {
     "data": {
      "text/plain": [
       "18"
      ]
     },
     "execution_count": 34,
     "metadata": {},
     "output_type": "execute_result"
    }
   ],
   "source": [
    "def add(fnum,snum):\n",
    "    result=fnum+snum\n",
    "    return result\n",
    "\n",
    "add(10,8)"
   ]
  },
  {
   "cell_type": "code",
   "execution_count": 35,
   "id": "6316fa2b",
   "metadata": {},
   "outputs": [
    {
     "name": "stdout",
     "output_type": "stream",
     "text": [
      "18\n"
     ]
    }
   ],
   "source": [
    "def add(fnum,snum):\n",
    "    result=fnum+snum\n",
    "    return result\n",
    "\n",
    "final= add(10,8)\n",
    "print(final)"
   ]
  },
  {
   "cell_type": "code",
   "execution_count": 39,
   "id": "72f909cf",
   "metadata": {},
   "outputs": [
    {
     "name": "stdout",
     "output_type": "stream",
     "text": [
      "don\n",
      "18\n"
     ]
    }
   ],
   "source": [
    "def add(fnum,snum):\n",
    "    result=fnum+snum\n",
    "    \n",
    "    print('don')\n",
    "    return result\n",
    "\n",
    "final= add(10,8)\n",
    "print(final)"
   ]
  },
  {
   "cell_type": "code",
   "execution_count": null,
   "id": "937c9b00",
   "metadata": {},
   "outputs": [],
   "source": []
  }
 ],
 "metadata": {
  "kernelspec": {
   "display_name": "Python 3 (ipykernel)",
   "language": "python",
   "name": "python3"
  },
  "language_info": {
   "codemirror_mode": {
    "name": "ipython",
    "version": 3
   },
   "file_extension": ".py",
   "mimetype": "text/x-python",
   "name": "python",
   "nbconvert_exporter": "python",
   "pygments_lexer": "ipython3",
   "version": "3.9.7"
  }
 },
 "nbformat": 4,
 "nbformat_minor": 5
}
