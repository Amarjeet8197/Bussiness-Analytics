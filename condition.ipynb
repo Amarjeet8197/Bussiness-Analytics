{
 "cells": [
  {
   "cell_type": "code",
   "execution_count": 8,
   "id": "4fcc98f7",
   "metadata": {},
   "outputs": [
    {
     "name": "stdout",
     "output_type": "stream",
     "text": [
      "this is a valid statement\n"
     ]
    }
   ],
   "source": [
    "#condition and loops\n",
    "a=10\n",
    "b=20\n",
    "\n",
    "if a==10 and b==20:\n",
    "    print(\"this is a valid statement\")"
   ]
  },
  {
   "cell_type": "code",
   "execution_count": 9,
   "id": "0568d89b",
   "metadata": {},
   "outputs": [
    {
     "data": {
      "text/plain": [
       "True"
      ]
     },
     "execution_count": 9,
     "metadata": {},
     "output_type": "execute_result"
    }
   ],
   "source": [
    "a==10 and b==20"
   ]
  },
  {
   "cell_type": "code",
   "execution_count": 10,
   "id": "1367028f",
   "metadata": {},
   "outputs": [
    {
     "data": {
      "text/plain": [
       "True"
      ]
     },
     "execution_count": 10,
     "metadata": {},
     "output_type": "execute_result"
    }
   ],
   "source": [
    "a==10 or b==20"
   ]
  },
  {
   "cell_type": "code",
   "execution_count": 11,
   "id": "7adbdbaa",
   "metadata": {},
   "outputs": [
    {
     "data": {
      "text/plain": [
       "True"
      ]
     },
     "execution_count": 11,
     "metadata": {},
     "output_type": "execute_result"
    }
   ],
   "source": [
    "a==10"
   ]
  },
  {
   "cell_type": "code",
   "execution_count": 12,
   "id": "a35e76e4",
   "metadata": {},
   "outputs": [
    {
     "data": {
      "text/plain": [
       "True"
      ]
     },
     "execution_count": 12,
     "metadata": {},
     "output_type": "execute_result"
    }
   ],
   "source": [
    "b==20"
   ]
  },
  {
   "cell_type": "code",
   "execution_count": 13,
   "id": "907f8eb7",
   "metadata": {},
   "outputs": [
    {
     "data": {
      "text/plain": [
       "False"
      ]
     },
     "execution_count": 13,
     "metadata": {},
     "output_type": "execute_result"
    }
   ],
   "source": [
    "a==10 and b>20"
   ]
  },
  {
   "cell_type": "code",
   "execution_count": 14,
   "id": "66741808",
   "metadata": {},
   "outputs": [
    {
     "name": "stdout",
     "output_type": "stream",
     "text": [
      "this is a valid statement\n"
     ]
    }
   ],
   "source": [
    "a=10\n",
    "b=20\n",
    "\n",
    "if a==10 and b==20:\n",
    "    print(\"this is a valid statement\")\n",
    "elif a==10 and b<20:\n",
    "    print(\"this statement is valid inside elif \") \n",
    "else:\n",
    "    print(\" condition is not valid \")"
   ]
  },
  {
   "cell_type": "code",
   "execution_count": 15,
   "id": "257833bf",
   "metadata": {},
   "outputs": [
    {
     "name": "stdout",
     "output_type": "stream",
     "text": [
      "this statement is valid inside elif \n"
     ]
    }
   ],
   "source": [
    "a=10\n",
    "b=20\n",
    "\n",
    "if a == 10 and b > 20:\n",
    "    print(\"this is a valid statement\")\n",
    "elif a==10 and b<=20:\n",
    "    print(\"this statement is valid inside elif \") \n",
    "else:\n",
    "    print(\" condition is not valid \")"
   ]
  },
  {
   "cell_type": "code",
   "execution_count": 16,
   "id": "804eaf74",
   "metadata": {},
   "outputs": [
    {
     "name": "stdout",
     "output_type": "stream",
     "text": [
      "this is my speed\n",
      "this is my speed\n",
      "this is my speed\n",
      "this is my speed\n",
      "this is my speed\n",
      "this is my speed\n",
      "this is my speed\n",
      "this is my speed\n",
      "this is my speed\n"
     ]
    }
   ],
   "source": [
    "initial_speed=0\n",
    "final_speed=100\n",
    "count=1\n",
    "while initial_speed< final_speed:\n",
    "    print(\"this is my speed\")\n",
    "    count=count+1\n",
    "    if count==10:\n",
    "        break"
   ]
  },
  {
   "cell_type": "code",
   "execution_count": 17,
   "id": "6bed9c68",
   "metadata": {},
   "outputs": [
    {
     "name": "stdout",
     "output_type": "stream",
     "text": [
      "1\n",
      "2\n",
      "3\n",
      "4\n"
     ]
    }
   ],
   "source": [
    "i=1\n",
    "j=5\n",
    "while i<j:\n",
    "    print(i)\n",
    "    i=i+1"
   ]
  },
  {
   "cell_type": "code",
   "execution_count": 18,
   "id": "386f3600",
   "metadata": {},
   "outputs": [
    {
     "name": "stdout",
     "output_type": "stream",
     "text": [
      "1\n",
      "2\n",
      "3\n",
      "4\n",
      "5\n"
     ]
    }
   ],
   "source": [
    "i=1\n",
    "j=5\n",
    "while i<=j:\n",
    "    print(i)\n",
    "    i=i+1"
   ]
  },
  {
   "cell_type": "code",
   "execution_count": 19,
   "id": "423bb0e6",
   "metadata": {},
   "outputs": [
    {
     "name": "stdout",
     "output_type": "stream",
     "text": [
      "1\n",
      "2\n",
      "3\n",
      "4\n",
      "5\n"
     ]
    }
   ],
   "source": [
    "i=5\n",
    "j=1\n",
    "while i>=j:\n",
    "    print(j)\n",
    "    j=j+1\n",
    "    if j==i:\n",
    "        print(j)\n",
    "        break"
   ]
  },
  {
   "cell_type": "code",
   "execution_count": 20,
   "id": "be64f664",
   "metadata": {},
   "outputs": [
    {
     "name": "stdout",
     "output_type": "stream",
     "text": [
      "1\n",
      "2\n",
      "3\n",
      "4\n",
      "no 10 rs notes are available\n"
     ]
    }
   ],
   "source": [
    "notes=5\n",
    "i=1\n",
    "while i < notes:\n",
    "    print(i)\n",
    "    i += 1\n",
    "else:\n",
    "     print(\"no 10 rs notes are available\")"
   ]
  },
  {
   "cell_type": "code",
   "execution_count": 21,
   "id": "50ff58b4",
   "metadata": {},
   "outputs": [
    {
     "name": "stdout",
     "output_type": "stream",
     "text": [
      "1\n",
      "2\n",
      "3\n",
      "4\n",
      "5\n",
      "u are not cricketer\n"
     ]
    }
   ],
   "source": [
    "notes=5\n",
    "i=1\n",
    "j=1\n",
    "while i < notes:\n",
    "    print(i)\n",
    "    i += 1\n",
    "else:\n",
    "    while j <2:\n",
    "        print(i)\n",
    "        j=j+1\n",
    "    print(\"u are not cricketer\")"
   ]
  },
  {
   "cell_type": "code",
   "execution_count": 22,
   "id": "9ab141c9",
   "metadata": {},
   "outputs": [],
   "source": [
    "s=\"my name is amarjeet kumar\""
   ]
  },
  {
   "cell_type": "code",
   "execution_count": 23,
   "id": "9b475d05",
   "metadata": {},
   "outputs": [
    {
     "data": {
      "text/plain": [
       "'my name is amarjeet kumar'"
      ]
     },
     "execution_count": 23,
     "metadata": {},
     "output_type": "execute_result"
    }
   ],
   "source": [
    "s"
   ]
  },
  {
   "cell_type": "code",
   "execution_count": 24,
   "id": "8b3943dd",
   "metadata": {},
   "outputs": [
    {
     "data": {
      "text/plain": [
       "'a'"
      ]
     },
     "execution_count": 24,
     "metadata": {},
     "output_type": "execute_result"
    }
   ],
   "source": [
    "s[4]"
   ]
  },
  {
   "cell_type": "code",
   "execution_count": 25,
   "id": "6971a2b3",
   "metadata": {},
   "outputs": [
    {
     "data": {
      "text/plain": [
       "'name is'"
      ]
     },
     "execution_count": 25,
     "metadata": {},
     "output_type": "execute_result"
    }
   ],
   "source": [
    "s[3:10] # start :end"
   ]
  },
  {
   "cell_type": "code",
   "execution_count": 26,
   "id": "be53960e",
   "metadata": {},
   "outputs": [
    {
     "data": {
      "text/plain": [
       "'nm s'"
      ]
     },
     "execution_count": 26,
     "metadata": {},
     "output_type": "execute_result"
    }
   ],
   "source": [
    "s[3:10:2] #start:end:step"
   ]
  },
  {
   "cell_type": "code",
   "execution_count": 27,
   "id": "b0592af9",
   "metadata": {},
   "outputs": [
    {
     "data": {
      "text/plain": [
       "''"
      ]
     },
     "execution_count": 27,
     "metadata": {},
     "output_type": "execute_result"
    }
   ],
   "source": [
    "s[10:3]"
   ]
  },
  {
   "cell_type": "code",
   "execution_count": 28,
   "id": "2ebbcbd7",
   "metadata": {},
   "outputs": [
    {
     "data": {
      "text/plain": [
       "' iea'"
      ]
     },
     "execution_count": 28,
     "metadata": {},
     "output_type": "execute_result"
    }
   ],
   "source": [
    "s[10:2:-2]"
   ]
  },
  {
   "cell_type": "code",
   "execution_count": 29,
   "id": "11308537",
   "metadata": {},
   "outputs": [
    {
     "data": {
      "text/plain": [
       "'ramuk teejrama si eman ym'"
      ]
     },
     "execution_count": 29,
     "metadata": {},
     "output_type": "execute_result"
    }
   ],
   "source": [
    "s[::-1]"
   ]
  },
  {
   "cell_type": "code",
   "execution_count": 30,
   "id": "a43cdb68",
   "metadata": {},
   "outputs": [
    {
     "data": {
      "text/plain": [
       "' name is amarjeet'"
      ]
     },
     "execution_count": 30,
     "metadata": {},
     "output_type": "execute_result"
    }
   ],
   "source": [
    "s[2:-6]"
   ]
  },
  {
   "cell_type": "code",
   "execution_count": 32,
   "id": "d4275ad1",
   "metadata": {},
   "outputs": [],
   "source": [
    "s=\"amarjeet\""
   ]
  },
  {
   "cell_type": "code",
   "execution_count": 33,
   "id": "845f01c8",
   "metadata": {},
   "outputs": [
    {
     "data": {
      "text/plain": [
       "'e'"
      ]
     },
     "execution_count": 33,
     "metadata": {},
     "output_type": "execute_result"
    }
   ],
   "source": [
    "s[-2]"
   ]
  },
  {
   "cell_type": "code",
   "execution_count": 34,
   "id": "5828dcc9",
   "metadata": {},
   "outputs": [
    {
     "data": {
      "text/plain": [
       "'a'"
      ]
     },
     "execution_count": 34,
     "metadata": {},
     "output_type": "execute_result"
    }
   ],
   "source": [
    "s[0]"
   ]
  },
  {
   "cell_type": "code",
   "execution_count": 35,
   "id": "1389c429",
   "metadata": {},
   "outputs": [
    {
     "name": "stdout",
     "output_type": "stream",
     "text": [
      "a\n",
      "m\n",
      "a\n",
      "r\n",
      "j\n",
      "e\n",
      "e\n",
      "t\n"
     ]
    }
   ],
   "source": [
    "for i in s:\n",
    "    print(i)"
   ]
  },
  {
   "cell_type": "code",
   "execution_count": 36,
   "id": "c901f74b",
   "metadata": {},
   "outputs": [
    {
     "name": "stdout",
     "output_type": "stream",
     "text": [
      "a\n",
      " i got s as a string\n",
      "m\n",
      "a\n",
      "r\n",
      "j\n",
      "e\n",
      "e\n",
      "t\n"
     ]
    }
   ],
   "source": [
    "for i in s:\n",
    "    if i == 'm':\n",
    "        print(\" i got s as a string\")\n",
    "    print(i)"
   ]
  },
  {
   "cell_type": "code",
   "execution_count": 37,
   "id": "0de02679",
   "metadata": {},
   "outputs": [
    {
     "name": "stdout",
     "output_type": "stream",
     "text": [
      "a\n",
      "m\n",
      "a\n",
      "r\n",
      "j\n",
      "e\n",
      "e\n",
      "t\n",
      "this is a else condition\n"
     ]
    }
   ],
   "source": [
    "for i in s:\n",
    "    print(i)\n",
    "else:\n",
    "    print(\"this is a else condition\")\n",
    "            "
   ]
  },
  {
   "cell_type": "code",
   "execution_count": 38,
   "id": "a562ead0",
   "metadata": {},
   "outputs": [
    {
     "name": "stdout",
     "output_type": "stream",
     "text": [
      "a\n",
      "m\n",
      "a\n",
      "r\n",
      "j\n",
      "e\n",
      "e\n",
      "t\n",
      "this is a else condition\n"
     ]
    }
   ],
   "source": [
    "for i in s:\n",
    "    print(i)\n",
    "else:\n",
    "    if i=='e':\n",
    "        print(\"last char was u\")\n",
    "    print(\"this is a else condition\")"
   ]
  },
  {
   "cell_type": "code",
   "execution_count": 39,
   "id": "e963ed6a",
   "metadata": {},
   "outputs": [
    {
     "name": "stdout",
     "output_type": "stream",
     "text": [
      "a\n",
      "m\n",
      "a\n",
      "r\n",
      "j\n",
      "e\n",
      "e\n",
      "t\n",
      "last char was u\n",
      "this is a else condition\n"
     ]
    }
   ],
   "source": [
    "for i in s:\n",
    "    print(i)\n",
    "else:\n",
    "    if i=='t':\n",
    "        print(\"last char was u\")\n",
    "    print(\"this is a else condition\")"
   ]
  },
  {
   "cell_type": "code",
   "execution_count": 41,
   "id": "677d9b1a",
   "metadata": {},
   "outputs": [
    {
     "name": "stdout",
     "output_type": "stream",
     "text": [
      "a\n",
      "m\n",
      "a\n"
     ]
    }
   ],
   "source": [
    "for i in s:\n",
    "    if i ==\"r\":\n",
    "        break\n",
    "    print(i)\n",
    "else:\n",
    "    if i=='t':\n",
    "        print(\"last char was u\")\n",
    "    print(\"this is a else condition\")"
   ]
  },
  {
   "cell_type": "code",
   "execution_count": 42,
   "id": "e60a41d5",
   "metadata": {},
   "outputs": [
    {
     "name": "stdout",
     "output_type": "stream",
     "text": [
      "a\n",
      "m\n",
      "a\n",
      "j\n",
      "e\n",
      "e\n",
      "t\n",
      "last char was u\n",
      "this is a else condition\n"
     ]
    }
   ],
   "source": [
    "for i in s:\n",
    "    if i ==\"r\":\n",
    "        continue\n",
    "    print(i)\n",
    "else:\n",
    "    if i=='t':\n",
    "        print(\"last char was u\")\n",
    "    print(\"this is a else condition\")"
   ]
  },
  {
   "cell_type": "code",
   "execution_count": 43,
   "id": "622407df",
   "metadata": {},
   "outputs": [],
   "source": [
    "s=\"student\"\n",
    "ss=\"\"\n",
    "for i in range(len(s)):\n",
    "    if s[i]==\"n\":\n",
    "        continue\n",
    "    else:\n",
    "        ss=ss +s[i]\n",
    "        "
   ]
  },
  {
   "cell_type": "code",
   "execution_count": 44,
   "id": "4eefa340",
   "metadata": {},
   "outputs": [
    {
     "data": {
      "text/plain": [
       "'studet'"
      ]
     },
     "execution_count": 44,
     "metadata": {},
     "output_type": "execute_result"
    }
   ],
   "source": [
    "ss"
   ]
  },
  {
   "cell_type": "code",
   "execution_count": 45,
   "id": "78070839",
   "metadata": {},
   "outputs": [
    {
     "data": {
      "text/plain": [
       "7"
      ]
     },
     "execution_count": 45,
     "metadata": {},
     "output_type": "execute_result"
    }
   ],
   "source": [
    "len(s)"
   ]
  },
  {
   "cell_type": "code",
   "execution_count": 46,
   "id": "f951e31b",
   "metadata": {},
   "outputs": [
    {
     "name": "stdout",
     "output_type": "stream",
     "text": [
      "+\r\n",
      "++\r\n",
      "+++\r\n",
      "++++\r\n",
      "+++++\r\n",
      "++++++\r\n",
      "+++++++\r\n"
     ]
    }
   ],
   "source": [
    "n=7\n",
    "for i in range(0 ,n):\n",
    "    for j in range (0,i+1):\n",
    "        print(\"+\", end = \"\")\n",
    "    print(\"\\r\")"
   ]
  },
  {
   "cell_type": "code",
   "execution_count": 47,
   "id": "d14d343f",
   "metadata": {},
   "outputs": [
    {
     "name": "stdout",
     "output_type": "stream",
     "text": [
      "        * * * * * * * * * \r\n",
      "         * * * * * * * * \r\n",
      "          * * * * * * * \r\n",
      "           * * * * * * \r\n",
      "            * * * * * \r\n",
      "             * * * * \r\n",
      "              * * * \r\n",
      "               * * \r\n"
     ]
    }
   ],
   "source": [
    "def pattern (n):\n",
    "    k =2*n -2\n",
    "    for i in range(k,0,-1):\n",
    "        for j in range(k,0,-1):\n",
    "            print(end=\" \")\n",
    "        k=k+1\n",
    "        for j in range(0,i+1):\n",
    "            print(\"*\",end=\" \")\n",
    "        print(\"\\r\")\n",
    "pattern(5)"
   ]
  },
  {
   "cell_type": "code",
   "execution_count": 48,
   "id": "fcb95fa1",
   "metadata": {},
   "outputs": [
    {
     "name": "stdout",
     "output_type": "stream",
     "text": [
      "        * * * * * * \r\n",
      "         * * * * * \r\n",
      "          * * * * \r\n",
      "           * * * \r\n",
      "            * * \r\n",
      "             * \r\n"
     ]
    }
   ],
   "source": [
    "def pattern (n):\n",
    "    k =2*n -2\n",
    "    for i in range(n,-1,-1):\n",
    "        for j in range(k,0,-1):\n",
    "            print(end=\" \")\n",
    "        k=k+1\n",
    "        for j in range(0,i+1):\n",
    "            print(\"*\",end=\" \")\n",
    "        print(\"\\r\")\n",
    "pattern(5)"
   ]
  },
  {
   "cell_type": "code",
   "execution_count": 50,
   "id": "1b5d7e7d",
   "metadata": {},
   "outputs": [
    {
     "name": "stdout",
     "output_type": "stream",
     "text": [
      "Enter number of rows required:7\n",
      "*************\n",
      " ***********\n",
      "  *********\n",
      "   *******\n",
      "    *****\n",
      "     ***\n",
      "      *\n"
     ]
    }
   ],
   "source": [
    "n=int(input('Enter number of rows required:'))\n",
    "\n",
    "for i in range (n,0,-1):\n",
    "    for j in range(n-i):\n",
    "        print(' ',end='')\n",
    "        \n",
    "    for j in range(2*i-1):\n",
    "        print('*',end='')\n",
    "    print()"
   ]
  },
  {
   "cell_type": "code",
   "execution_count": 51,
   "id": "692de88c",
   "metadata": {},
   "outputs": [
    {
     "name": "stdout",
     "output_type": "stream",
     "text": [
      "        * * * * * * \n",
      "         * * * * * \n",
      "          * * * * \n",
      "           * * * \n",
      "            * * \n",
      "             * \n"
     ]
    }
   ],
   "source": [
    "num=5\n",
    "m=2 * num -2\n",
    "for i in range(num,-1,-1):\n",
    "    for j in range(m,0,-1):\n",
    "        print(end=\" \")\n",
    "    m=m+1\n",
    "    for j in range(0, i+1):\n",
    "        print(\"*\", end=\" \")\n",
    "    print(\"\")"
   ]
  },
  {
   "cell_type": "code",
   "execution_count": 53,
   "id": "3930d430",
   "metadata": {},
   "outputs": [
    {
     "name": "stdout",
     "output_type": "stream",
     "text": [
      "        * \n",
      "       * * \n",
      "      * * * \n",
      "     * * * * \n",
      "    * * * * * \n",
      "   * * * * * * \n",
      "  * * * * * * * \n",
      " * * * * * * * * \n",
      "* * * * * * * * * \n"
     ]
    }
   ],
   "source": [
    "n=9\n",
    "i=0\n",
    "while i <n:\n",
    "    print(' '*(n-i-1) +'* '*(i+1))\n",
    "    i +=1"
   ]
  },
  {
   "cell_type": "code",
   "execution_count": 54,
   "id": "c759830f",
   "metadata": {},
   "outputs": [
    {
     "name": "stdout",
     "output_type": "stream",
     "text": [
      "    *\n",
      "   ***\n",
      "  *****\n",
      " *******\n",
      "*********\n"
     ]
    }
   ],
   "source": [
    "i=1\n",
    "k=1 #for printing starts with the increament of 2\n",
    "\n",
    "while i<=5:\n",
    "    b=1\n",
    "    while b<=5-i:\n",
    "        print(' ',end='')\n",
    "        b=b+1\n",
    "        \n",
    "    j=1\n",
    "    while j<=k:\n",
    "        print('*',end='')\n",
    "        j=j+1\n",
    "    print()\n",
    "    \n",
    "    k=k+2\n",
    "     \n",
    "    i=i+1"
   ]
  },
  {
   "cell_type": "code",
   "execution_count": 56,
   "id": "79516889",
   "metadata": {},
   "outputs": [
    {
     "name": "stdout",
     "output_type": "stream",
     "text": [
      "please enter the amount of rows:7\n",
      "      *\n",
      "     ***\n",
      "    *****\n",
      "   *******\n",
      "  *********\n",
      " ***********\n",
      "*************\n",
      "**data scince\n"
     ]
    }
   ],
   "source": [
    "userInput =int(input(\"please enter the amount of rows:\"))\n",
    "\n",
    "row=0\n",
    "while(row < userInput):\n",
    "    row +=1\n",
    "    spaces=userInput - row\n",
    "    spaces_counter=0\n",
    "    while(spaces_counter < spaces):\n",
    "        print(\" \",end='')\n",
    "        spaces_counter +=1\n",
    "        \n",
    "    num_stars=2*row-1\n",
    "    while(num_stars >0):\n",
    "        print(\"*\", end='')\n",
    "        num_stars -=1\n",
    "    print()\n",
    "print(\"**data scince\")"
   ]
  },
  {
   "cell_type": "code",
   "execution_count": 57,
   "id": "3a129a46",
   "metadata": {},
   "outputs": [],
   "source": [
    "# list\n",
    "l=list()"
   ]
  },
  {
   "cell_type": "code",
   "execution_count": 64,
   "id": "45fb0379",
   "metadata": {},
   "outputs": [],
   "source": [
    "name= \"student\"\n",
    "phno= 543535345\n",
    "addr= \"punjab\"\n",
    "\n",
    "name , phno , addr = \"student\" , 543535398, \"great\""
   ]
  },
  {
   "cell_type": "code",
   "execution_count": 65,
   "id": "7018990b",
   "metadata": {},
   "outputs": [],
   "source": [
    "l=[\"student\",34535,\"college\"]"
   ]
  },
  {
   "cell_type": "code",
   "execution_count": 66,
   "id": "1dbf5dd7",
   "metadata": {},
   "outputs": [
    {
     "data": {
      "text/plain": [
       "['student', 34535, 'college']"
      ]
     },
     "execution_count": 66,
     "metadata": {},
     "output_type": "execute_result"
    }
   ],
   "source": [
    "l"
   ]
  },
  {
   "cell_type": "code",
   "execution_count": 67,
   "id": "13647c6f",
   "metadata": {},
   "outputs": [
    {
     "data": {
      "text/plain": [
       "'student'"
      ]
     },
     "execution_count": 67,
     "metadata": {},
     "output_type": "execute_result"
    }
   ],
   "source": [
    "l[0]"
   ]
  },
  {
   "cell_type": "code",
   "execution_count": 68,
   "id": "2c7fd26d",
   "metadata": {},
   "outputs": [
    {
     "data": {
      "text/plain": [
       "34535"
      ]
     },
     "execution_count": 68,
     "metadata": {},
     "output_type": "execute_result"
    }
   ],
   "source": [
    "l[1]"
   ]
  },
  {
   "cell_type": "code",
   "execution_count": 69,
   "id": "fbc7b659",
   "metadata": {},
   "outputs": [
    {
     "data": {
      "text/plain": [
       "'college'"
      ]
     },
     "execution_count": 69,
     "metadata": {},
     "output_type": "execute_result"
    }
   ],
   "source": [
    "l[2]"
   ]
  },
  {
   "cell_type": "code",
   "execution_count": 70,
   "id": "03108e48",
   "metadata": {},
   "outputs": [
    {
     "data": {
      "text/plain": [
       "list"
      ]
     },
     "execution_count": 70,
     "metadata": {},
     "output_type": "execute_result"
    }
   ],
   "source": [
    "type(l)"
   ]
  },
  {
   "cell_type": "code",
   "execution_count": 71,
   "id": "d6ecd3eb",
   "metadata": {},
   "outputs": [],
   "source": [
    "l1=[]"
   ]
  },
  {
   "cell_type": "code",
   "execution_count": 73,
   "id": "aba99906",
   "metadata": {},
   "outputs": [
    {
     "data": {
      "text/plain": [
       "list"
      ]
     },
     "execution_count": 73,
     "metadata": {},
     "output_type": "execute_result"
    }
   ],
   "source": [
    "type(l1)"
   ]
  },
  {
   "cell_type": "code",
   "execution_count": 74,
   "id": "ecf4b1d0",
   "metadata": {},
   "outputs": [],
   "source": [
    "l1=[]"
   ]
  },
  {
   "cell_type": "code",
   "execution_count": 75,
   "id": "12987c4f",
   "metadata": {},
   "outputs": [
    {
     "data": {
      "text/plain": [
       "list"
      ]
     },
     "execution_count": 75,
     "metadata": {},
     "output_type": "execute_result"
    }
   ],
   "source": [
    "l2=list()\n",
    "type(l2)"
   ]
  },
  {
   "cell_type": "code",
   "execution_count": 76,
   "id": "86fdd5ec",
   "metadata": {},
   "outputs": [],
   "source": [
    "l=[\"student\",34535,\"college\", True ,(45+8j),[3,5,6,\"god\"],9.856]"
   ]
  },
  {
   "cell_type": "code",
   "execution_count": 77,
   "id": "00496dec",
   "metadata": {},
   "outputs": [
    {
     "name": "stdout",
     "output_type": "stream",
     "text": [
      "['student', 34535, 'college', True, (45+8j), [3, 5, 6, 'god'], 9.856]\n"
     ]
    }
   ],
   "source": [
    "print(l)"
   ]
  },
  {
   "cell_type": "code",
   "execution_count": 78,
   "id": "dbfd77da",
   "metadata": {},
   "outputs": [
    {
     "name": "stdout",
     "output_type": "stream",
     "text": [
      "<class 'str'>\n",
      "<class 'int'>\n",
      "<class 'str'>\n",
      "<class 'bool'>\n",
      "<class 'complex'>\n",
      "<class 'list'>\n",
      "<class 'float'>\n"
     ]
    }
   ],
   "source": [
    "for i in l:\n",
    "    print(type(i))"
   ]
  },
  {
   "cell_type": "code",
   "execution_count": 79,
   "id": "94726ad6",
   "metadata": {},
   "outputs": [
    {
     "name": "stdout",
     "output_type": "stream",
     "text": [
      "<class 'int'>\n",
      "<class 'int'>\n",
      "<class 'int'>\n",
      "<class 'str'>\n"
     ]
    }
   ],
   "source": [
    "for i in l:\n",
    "    if type(i)==list:\n",
    "        for j in i :\n",
    "            print(type(j))"
   ]
  },
  {
   "cell_type": "code",
   "execution_count": 81,
   "id": "4cd78a66",
   "metadata": {},
   "outputs": [
    {
     "name": "stdout",
     "output_type": "stream",
     "text": [
      "3\n",
      "<class 'int'>\n",
      "8\n",
      "<class 'int'>\n",
      "14\n",
      "<class 'int'>\n",
      "14\n",
      "<class 'str'>\n"
     ]
    }
   ],
   "source": [
    "for i in l:\n",
    "    if type(i)==list:\n",
    "        n=0\n",
    "        for j in i:\n",
    "            if type(j)==int:\n",
    "                n=n+j\n",
    "            print(n)\n",
    "            print(type(j))"
   ]
  },
  {
   "cell_type": "code",
   "execution_count": 82,
   "id": "dbcfb004",
   "metadata": {},
   "outputs": [
    {
     "name": "stdout",
     "output_type": "stream",
     "text": [
      "14\n",
      "<class 'str'>\n"
     ]
    }
   ],
   "source": [
    "for i in l:\n",
    "    if type(i)==list:\n",
    "        n=0\n",
    "        for j in i:\n",
    "            if type(j)==int:\n",
    "                n=n+j\n",
    "        print(n)\n",
    "        print(type(j))"
   ]
  },
  {
   "cell_type": "code",
   "execution_count": 83,
   "id": "4fb357a4",
   "metadata": {},
   "outputs": [
    {
     "data": {
      "text/plain": [
       "['student', 34535, 'college', True, (45+8j)]"
      ]
     },
     "execution_count": 83,
     "metadata": {},
     "output_type": "execute_result"
    }
   ],
   "source": [
    "l[0:5]"
   ]
  },
  {
   "cell_type": "code",
   "execution_count": 84,
   "id": "9c30ed51",
   "metadata": {},
   "outputs": [
    {
     "data": {
      "text/plain": [
       "[]"
      ]
     },
     "execution_count": 84,
     "metadata": {},
     "output_type": "execute_result"
    }
   ],
   "source": [
    "l[8:3:1]"
   ]
  },
  {
   "cell_type": "code",
   "execution_count": 85,
   "id": "565158b5",
   "metadata": {},
   "outputs": [
    {
     "data": {
      "text/plain": [
       "[9.856, [3, 5, 6, 'god'], (45+8j)]"
      ]
     },
     "execution_count": 85,
     "metadata": {},
     "output_type": "execute_result"
    }
   ],
   "source": [
    "l[80:3:-1]"
   ]
  },
  {
   "cell_type": "code",
   "execution_count": 86,
   "id": "0e5700b7",
   "metadata": {},
   "outputs": [
    {
     "data": {
      "text/plain": [
       "[]"
      ]
     },
     "execution_count": 86,
     "metadata": {},
     "output_type": "execute_result"
    }
   ],
   "source": [
    "l[80:3:1]"
   ]
  },
  {
   "cell_type": "code",
   "execution_count": 87,
   "id": "1e330cca",
   "metadata": {},
   "outputs": [
    {
     "data": {
      "text/plain": [
       "range(0, 10)"
      ]
     },
     "execution_count": 87,
     "metadata": {},
     "output_type": "execute_result"
    }
   ],
   "source": [
    "range(10)"
   ]
  },
  {
   "cell_type": "code",
   "execution_count": 88,
   "id": "fbc3e86d",
   "metadata": {},
   "outputs": [
    {
     "data": {
      "text/plain": [
       "[0, 1, 2, 3, 4, 5, 6, 7, 8, 9]"
      ]
     },
     "execution_count": 88,
     "metadata": {},
     "output_type": "execute_result"
    }
   ],
   "source": [
    "list(range(10))"
   ]
  },
  {
   "cell_type": "code",
   "execution_count": 89,
   "id": "95db6708",
   "metadata": {},
   "outputs": [
    {
     "name": "stdout",
     "output_type": "stream",
     "text": [
      "4\n",
      "5\n",
      "6\n",
      "7\n",
      "8\n",
      "9\n"
     ]
    }
   ],
   "source": [
    "for i in range(4,10):\n",
    "    print(i)"
   ]
  },
  {
   "cell_type": "code",
   "execution_count": null,
   "id": "1ff58146",
   "metadata": {},
   "outputs": [],
   "source": []
  }
 ],
 "metadata": {
  "kernelspec": {
   "display_name": "Python 3 (ipykernel)",
   "language": "python",
   "name": "python3"
  },
  "language_info": {
   "codemirror_mode": {
    "name": "ipython",
    "version": 3
   },
   "file_extension": ".py",
   "mimetype": "text/x-python",
   "name": "python",
   "nbconvert_exporter": "python",
   "pygments_lexer": "ipython3",
   "version": "3.9.7"
  }
 },
 "nbformat": 4,
 "nbformat_minor": 5
}
