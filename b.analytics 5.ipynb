{
 "cells": [
  {
   "cell_type": "markdown",
   "id": "e92dea6d",
   "metadata": {},
   "source": [
    "# Sets"
   ]
  },
  {
   "cell_type": "raw",
   "id": "9fbe2cb1",
   "metadata": {},
   "source": [
    ".sets are a type of collection like lists,tuples storing mixed data.\n",
    ".sets are enclosed within curly brackets and elements are written as comma-separated.\n",
    ".sets are unordered\n",
    ".sets does not allow duplicates"
   ]
  },
  {
   "cell_type": "code",
   "execution_count": 2,
   "id": "5844920d",
   "metadata": {},
   "outputs": [
    {
     "name": "stdout",
     "output_type": "stream",
     "text": [
      "<class 'list'>\n",
      "5\n"
     ]
    }
   ],
   "source": [
    "list1=[1,2,3,4,5]\n",
    "print(type(list1))\n",
    "print(len(list1))"
   ]
  },
  {
   "cell_type": "code",
   "execution_count": 5,
   "id": "a04f2902",
   "metadata": {},
   "outputs": [
    {
     "name": "stdout",
     "output_type": "stream",
     "text": [
      "{1, 2, 3, 4, 5}\n",
      "<class 'set'>\n",
      "5\n"
     ]
    }
   ],
   "source": [
    "set_1=set(list1)\n",
    "print(set_1)\n",
    "print(type(set_1))\n",
    "print(len(set_1))"
   ]
  },
  {
   "cell_type": "code",
   "execution_count": 6,
   "id": "7ea37ffc",
   "metadata": {},
   "outputs": [
    {
     "name": "stdout",
     "output_type": "stream",
     "text": [
      "8\n",
      "<class 'list'>\n"
     ]
    }
   ],
   "source": [
    "list1=[1,2,3,4,5,6,7,5]\n",
    "print(len(list1))\n",
    "print(type(list1))"
   ]
  },
  {
   "cell_type": "code",
   "execution_count": 8,
   "id": "44626327",
   "metadata": {},
   "outputs": [],
   "source": [
    "set_1=set(list1)"
   ]
  },
  {
   "cell_type": "code",
   "execution_count": 9,
   "id": "a85bcc9a",
   "metadata": {},
   "outputs": [
    {
     "data": {
      "text/plain": [
       "7"
      ]
     },
     "execution_count": 9,
     "metadata": {},
     "output_type": "execute_result"
    }
   ],
   "source": [
    "len(set_1)"
   ]
  },
  {
   "cell_type": "code",
   "execution_count": 10,
   "id": "d2fff210",
   "metadata": {},
   "outputs": [
    {
     "data": {
      "text/plain": [
       "{1, 2, 3, 4, 5, 6, 7}"
      ]
     },
     "execution_count": 10,
     "metadata": {},
     "output_type": "execute_result"
    }
   ],
   "source": [
    "set_1"
   ]
  },
  {
   "cell_type": "code",
   "execution_count": 11,
   "id": "cb78ba5f",
   "metadata": {},
   "outputs": [
    {
     "name": "stdout",
     "output_type": "stream",
     "text": [
      "5\n"
     ]
    }
   ],
   "source": [
    "list_2=['A','B','C','A','B','C','A','B','C','A','B','C','D','E']\n",
    "set_2=set(list_2)\n",
    "print(len(set(list_2)))"
   ]
  },
  {
   "cell_type": "code",
   "execution_count": 13,
   "id": "15d7529a",
   "metadata": {},
   "outputs": [],
   "source": [
    "set_3={1,2,3,4,5,6,7,8}"
   ]
  },
  {
   "cell_type": "code",
   "execution_count": 14,
   "id": "dc016715",
   "metadata": {},
   "outputs": [
    {
     "data": {
      "text/plain": [
       "{1, 2, 3, 4, 5, 6, 7, 8}"
      ]
     },
     "execution_count": 14,
     "metadata": {},
     "output_type": "execute_result"
    }
   ],
   "source": [
    "set_3"
   ]
  },
  {
   "cell_type": "code",
   "execution_count": 16,
   "id": "dc99f1d2",
   "metadata": {},
   "outputs": [],
   "source": [
    "set_4=set({})"
   ]
  },
  {
   "cell_type": "code",
   "execution_count": 17,
   "id": "a38d0456",
   "metadata": {},
   "outputs": [
    {
     "data": {
      "text/plain": [
       "set"
      ]
     },
     "execution_count": 17,
     "metadata": {},
     "output_type": "execute_result"
    }
   ],
   "source": [
    "type(set_4)"
   ]
  },
  {
   "cell_type": "code",
   "execution_count": 18,
   "id": "39a07c8c",
   "metadata": {},
   "outputs": [
    {
     "data": {
      "text/plain": [
       "int"
      ]
     },
     "execution_count": 18,
     "metadata": {},
     "output_type": "execute_result"
    }
   ],
   "source": [
    "tup_1=(1)\n",
    "type(tup_1)"
   ]
  },
  {
   "cell_type": "code",
   "execution_count": 19,
   "id": "9c660503",
   "metadata": {},
   "outputs": [
    {
     "data": {
      "text/plain": [
       "tuple"
      ]
     },
     "execution_count": 19,
     "metadata": {},
     "output_type": "execute_result"
    }
   ],
   "source": [
    "tup_1=(1,)\n",
    "type(tup_1)"
   ]
  },
  {
   "cell_type": "code",
   "execution_count": 20,
   "id": "01480cab",
   "metadata": {},
   "outputs": [
    {
     "data": {
      "text/plain": [
       "{1, 2, 3, 4, 5, 'india'}"
      ]
     },
     "execution_count": 20,
     "metadata": {},
     "output_type": "execute_result"
    }
   ],
   "source": [
    "set_2={1,2,3,4,5}\n",
    "set_2.add(\"india\")\n",
    "set_2"
   ]
  },
  {
   "cell_type": "code",
   "execution_count": 21,
   "id": "151eff84",
   "metadata": {},
   "outputs": [
    {
     "data": {
      "text/plain": [
       "{1, 2, 3, 4, 5}"
      ]
     },
     "execution_count": 21,
     "metadata": {},
     "output_type": "execute_result"
    }
   ],
   "source": [
    "set_2.remove(\"india\")\n",
    "set_2"
   ]
  },
  {
   "cell_type": "markdown",
   "id": "02ea6d61",
   "metadata": {},
   "source": [
    "# set Operation"
   ]
  },
  {
   "cell_type": "code",
   "execution_count": 22,
   "id": "e67c3b16",
   "metadata": {},
   "outputs": [],
   "source": [
    "A={0,2,4,6,8}\n",
    "B={1,2,3,4,5}"
   ]
  },
  {
   "cell_type": "code",
   "execution_count": 23,
   "id": "6fc772f3",
   "metadata": {},
   "outputs": [
    {
     "name": "stdout",
     "output_type": "stream",
     "text": [
      "{0, 1, 2, 3, 4, 5, 6, 8}\n",
      "{0, 1, 2, 3, 4, 5, 6, 8}\n",
      "8\n"
     ]
    }
   ],
   "source": [
    "# union()\n",
    "print(A | B)\n",
    "print(A.union(B))\n",
    "print(len(A.union(B)))"
   ]
  },
  {
   "cell_type": "code",
   "execution_count": 24,
   "id": "10aacac5",
   "metadata": {},
   "outputs": [
    {
     "name": "stdout",
     "output_type": "stream",
     "text": [
      "{0, 8, 6}\n",
      "{0, 8, 6}\n"
     ]
    }
   ],
   "source": [
    "# difference\n",
    "\n",
    "print(A-B)\n",
    "print(A.difference(B))"
   ]
  },
  {
   "cell_type": "code",
   "execution_count": 26,
   "id": "2a287d51",
   "metadata": {},
   "outputs": [
    {
     "name": "stdout",
     "output_type": "stream",
     "text": [
      "{2, 4}\n",
      "{2, 4}\n"
     ]
    }
   ],
   "source": [
    "# intersection\n",
    "print(A&B)\n",
    "print(A.intersection(B))"
   ]
  },
  {
   "cell_type": "code",
   "execution_count": 29,
   "id": "99926b94",
   "metadata": {},
   "outputs": [
    {
     "name": "stdout",
     "output_type": "stream",
     "text": [
      "{0, 1, 3, 5, 6, 8}\n"
     ]
    }
   ],
   "source": [
    "# symmetric difference\n",
    "\n",
    "print(A^B)"
   ]
  },
  {
   "cell_type": "code",
   "execution_count": 32,
   "id": "d4654365",
   "metadata": {},
   "outputs": [
    {
     "name": "stdout",
     "output_type": "stream",
     "text": [
      "[1, 3, 5, 7]\n"
     ]
    }
   ],
   "source": [
    "A=[5,1,3,4,4,5,6,7]\n",
    "B=[3,3,5,5,1,7,2]\n",
    "list1=set(A) & set(B)\n",
    "print(sorted(list1))"
   ]
  },
  {
   "cell_type": "code",
   "execution_count": 33,
   "id": "159730d5",
   "metadata": {},
   "outputs": [
    {
     "name": "stdout",
     "output_type": "stream",
     "text": [
      "[1, 3, 5, 7]\n"
     ]
    }
   ],
   "source": [
    "list_1=[5,1,3,4,4,5,6,7]\n",
    "list_2=[3,3,5,5,1,7,2]\n",
    "list1_as_set=set(list_1)\n",
    "i=list1_as_set.intersection(list_2)\n",
    "print(list(i))"
   ]
  },
  {
   "cell_type": "code",
   "execution_count": 35,
   "id": "64981d60",
   "metadata": {},
   "outputs": [
    {
     "name": "stdout",
     "output_type": "stream",
     "text": [
      "4\n"
     ]
    }
   ],
   "source": [
    "nums=set([1,1,2,3,3,4])\n",
    "print(len(nums))"
   ]
  },
  {
   "cell_type": "code",
   "execution_count": 34,
   "id": "1fd98beb",
   "metadata": {},
   "outputs": [],
   "source": [
    "A={1,2,3,4,5,6}\n",
    "B={0,1,2,10,11}"
   ]
  },
  {
   "cell_type": "code",
   "execution_count": 36,
   "id": "c5718ed0",
   "metadata": {},
   "outputs": [
    {
     "data": {
      "text/plain": [
       "{1, 2}"
      ]
     },
     "execution_count": 36,
     "metadata": {},
     "output_type": "execute_result"
    }
   ],
   "source": [
    "A.intersection(B)"
   ]
  },
  {
   "cell_type": "code",
   "execution_count": 38,
   "id": "1274d2b3",
   "metadata": {},
   "outputs": [
    {
     "data": {
      "text/plain": [
       "{0, 1, 2, 3, 4, 5, 6, 10, 11}"
      ]
     },
     "execution_count": 38,
     "metadata": {},
     "output_type": "execute_result"
    }
   ],
   "source": [
    "A.union(B)"
   ]
  },
  {
   "cell_type": "code",
   "execution_count": 39,
   "id": "32e0727a",
   "metadata": {},
   "outputs": [
    {
     "data": {
      "text/plain": [
       "{0, 3, 4, 5, 6, 10, 11}"
      ]
     },
     "execution_count": 39,
     "metadata": {},
     "output_type": "execute_result"
    }
   ],
   "source": [
    "(A.union(B)).difference(A.intersection(B))"
   ]
  },
  {
   "cell_type": "markdown",
   "id": "8633351f",
   "metadata": {},
   "source": [
    "# Dictionary"
   ]
  },
  {
   "cell_type": "raw",
   "id": "639dfaf8",
   "metadata": {},
   "source": [
    "# .Dictionary stores element as keys and value pairs\n",
    ".the key is like an index,its always unique & immutable\n",
    ".the values are the objects that contain information\n",
    ".each key is followed by a value separated by a colon\n",
    ".the values can be immutable,mutable&duplicates\n",
    ".each key and value pairs is seprated by a comma enclosed inside curly brackets"
   ]
  },
  {
   "cell_type": "code",
   "execution_count": 40,
   "id": "d1038955",
   "metadata": {},
   "outputs": [
    {
     "data": {
      "text/plain": [
       "'INR'"
      ]
     },
     "execution_count": 40,
     "metadata": {},
     "output_type": "execute_result"
    }
   ],
   "source": [
    "# Creating a dictionary,key=values\n",
    "\n",
    "d1={\"India\":\"INR\",\"USA\":\"USD\",\"Hong kong\":\"HKD\"}\n",
    "#Accessing value using keys\n",
    "\n",
    "d1[\"India\"]"
   ]
  },
  {
   "cell_type": "code",
   "execution_count": 43,
   "id": "fbb37f03",
   "metadata": {},
   "outputs": [
    {
     "data": {
      "text/plain": [
       "{'India': 'NEW', 'USA': 'USD', 'Hong kong': 'HKD', 'japan': 'NEW'}"
      ]
     },
     "execution_count": 43,
     "metadata": {},
     "output_type": "execute_result"
    }
   ],
   "source": [
    "# Replacing a new key_value pair\n",
    "\n",
    "d1[\"India\"]=\"NEW\"\n",
    "d1"
   ]
  },
  {
   "cell_type": "code",
   "execution_count": 44,
   "id": "90b4ad25",
   "metadata": {},
   "outputs": [
    {
     "data": {
      "text/plain": [
       "{'India': 'NEW', 'USA': 'USD', 'Hong kong': 'HKD', 'japan': 'YEN'}"
      ]
     },
     "execution_count": 44,
     "metadata": {},
     "output_type": "execute_result"
    }
   ],
   "source": [
    "d1[\"japan\"]=\"YEN\"\n",
    "d1"
   ]
  },
  {
   "cell_type": "code",
   "execution_count": 45,
   "id": "33d06658",
   "metadata": {},
   "outputs": [
    {
     "data": {
      "text/plain": [
       "{'India': 'NEW', 'USA': 'USD', 'Hong kong': 'HKD', 'japan': 'YEN'}"
      ]
     },
     "execution_count": 45,
     "metadata": {},
     "output_type": "execute_result"
    }
   ],
   "source": [
    "# inserting a new key value pair\n",
    "\n",
    "d1[\"japan\"]=\"YEN\"\n",
    "d1"
   ]
  },
  {
   "cell_type": "code",
   "execution_count": 46,
   "id": "9be17510",
   "metadata": {},
   "outputs": [
    {
     "data": {
      "text/plain": [
       "{'India': 'NEW', 'USA': 'USD', 'Hong kong': 'HKD'}"
      ]
     },
     "execution_count": 46,
     "metadata": {},
     "output_type": "execute_result"
    }
   ],
   "source": [
    "# Deleting a key value pair\n",
    "del d1[\"japan\"]\n",
    "d1"
   ]
  },
  {
   "cell_type": "code",
   "execution_count": 47,
   "id": "1bf1c1db",
   "metadata": {},
   "outputs": [
    {
     "data": {
      "text/plain": [
       "['Hong kong', 'India', 'USA']"
      ]
     },
     "execution_count": 47,
     "metadata": {},
     "output_type": "execute_result"
    }
   ],
   "source": [
    "#sorting a dictionary,\n",
    "\n",
    "sorted(d1)"
   ]
  },
  {
   "cell_type": "code",
   "execution_count": 50,
   "id": "53974f32",
   "metadata": {},
   "outputs": [
    {
     "data": {
      "text/plain": [
       "{'India': 'INR', 'USA': 'USD', 'Hong kong': 'HKD', 'india': 'INR'}"
      ]
     },
     "execution_count": 50,
     "metadata": {},
     "output_type": "execute_result"
    }
   ],
   "source": [
    "d1[\"India\"]=\"INR\"\n",
    "d1"
   ]
  },
  {
   "cell_type": "code",
   "execution_count": 51,
   "id": "7bb3e6f9",
   "metadata": {},
   "outputs": [
    {
     "data": {
      "text/plain": [
       "dict_values(['INR', 'USD', 'HKD', 'INR'])"
      ]
     },
     "execution_count": 51,
     "metadata": {},
     "output_type": "execute_result"
    }
   ],
   "source": [
    "# Values ()method\n",
    "d1.values()"
   ]
  },
  {
   "cell_type": "code",
   "execution_count": 61,
   "id": "90ca5932",
   "metadata": {},
   "outputs": [
    {
     "data": {
      "text/plain": [
       "dict_keys(['India', 'USA', 'Hong kong', 'india'])"
      ]
     },
     "execution_count": 61,
     "metadata": {},
     "output_type": "execute_result"
    }
   ],
   "source": [
    "# keys() method\n",
    "d1.keys()"
   ]
  },
  {
   "cell_type": "code",
   "execution_count": 62,
   "id": "157afceb",
   "metadata": {},
   "outputs": [
    {
     "data": {
      "text/plain": [
       "'Rs'"
      ]
     },
     "execution_count": 62,
     "metadata": {},
     "output_type": "execute_result"
    }
   ],
   "source": [
    "#get() method\n",
    "d1.get(\"India\")"
   ]
  },
  {
   "cell_type": "code",
   "execution_count": 63,
   "id": "72e5319b",
   "metadata": {},
   "outputs": [
    {
     "data": {
      "text/plain": [
       "{'India': 'Rs', 'USA': 'USD', 'Hong kong': 'HKD', 'india': 'RS'}"
      ]
     },
     "execution_count": 63,
     "metadata": {},
     "output_type": "execute_result"
    }
   ],
   "source": [
    "# update()method\n",
    "d1.update({\"India\":\"Rs\"})\n",
    "d1[\"india\"]=\"RS\"\n",
    "\n",
    "d1"
   ]
  },
  {
   "cell_type": "code",
   "execution_count": 64,
   "id": "23f669c5",
   "metadata": {},
   "outputs": [
    {
     "data": {
      "text/plain": [
       "dict"
      ]
     },
     "execution_count": 64,
     "metadata": {},
     "output_type": "execute_result"
    }
   ],
   "source": [
    "Employee_data={101:['shiva',24,'content straegist'],102:['Udit',25,'content strategist'],103:['Sonam',28,'Sr Manager'],104:['Ansari',29,'Product Lead'],105:['Hema',32,'project Manager']}\n",
    "\n",
    "type(Employee_data)"
   ]
  },
  {
   "cell_type": "code",
   "execution_count": 65,
   "id": "ce2347df",
   "metadata": {},
   "outputs": [
    {
     "data": {
      "text/plain": [
       "{101: ['shiva', 24, 'content straegist'],\n",
       " 102: ['Udit', 25, 'content strategist'],\n",
       " 103: ['Sonam', 28, 'Sr Manager'],\n",
       " 104: ['Ansari', 29, 'Product Lead'],\n",
       " 105: ['Hema', 32, 'project Manager']}"
      ]
     },
     "execution_count": 65,
     "metadata": {},
     "output_type": "execute_result"
    }
   ],
   "source": [
    "Employee_data"
   ]
  },
  {
   "cell_type": "code",
   "execution_count": 66,
   "id": "8fa3b396",
   "metadata": {},
   "outputs": [
    {
     "data": {
      "text/plain": [
       "list"
      ]
     },
     "execution_count": 66,
     "metadata": {},
     "output_type": "execute_result"
    }
   ],
   "source": [
    "type(Employee_data.get(104))"
   ]
  },
  {
   "cell_type": "code",
   "execution_count": 67,
   "id": "f62ba14a",
   "metadata": {},
   "outputs": [
    {
     "data": {
      "text/plain": [
       "['Ansari', 29, 'Product Lead']"
      ]
     },
     "execution_count": 67,
     "metadata": {},
     "output_type": "execute_result"
    }
   ],
   "source": [
    "Employee_data.get(104)"
   ]
  },
  {
   "cell_type": "code",
   "execution_count": 68,
   "id": "26f6c257",
   "metadata": {},
   "outputs": [],
   "source": [
    "list_2=Employee_data.get(104)"
   ]
  },
  {
   "cell_type": "code",
   "execution_count": 69,
   "id": "6220d1e7",
   "metadata": {},
   "outputs": [
    {
     "data": {
      "text/plain": [
       "'Product Lead'"
      ]
     },
     "execution_count": 69,
     "metadata": {},
     "output_type": "execute_result"
    }
   ],
   "source": [
    "list_2[2]"
   ]
  },
  {
   "cell_type": "code",
   "execution_count": 70,
   "id": "7a4d4d18",
   "metadata": {},
   "outputs": [
    {
     "data": {
      "text/plain": [
       "3"
      ]
     },
     "execution_count": 70,
     "metadata": {},
     "output_type": "execute_result"
    }
   ],
   "source": [
    "list1=[1,2,3,4,5]\n",
    "list1[2]"
   ]
  },
  {
   "cell_type": "code",
   "execution_count": 71,
   "id": "6c62ecc8",
   "metadata": {},
   "outputs": [
    {
     "data": {
      "text/plain": [
       "'Product Lead'"
      ]
     },
     "execution_count": 71,
     "metadata": {},
     "output_type": "execute_result"
    }
   ],
   "source": [
    "Employee_data.get(104)[2]"
   ]
  },
  {
   "cell_type": "code",
   "execution_count": 72,
   "id": "4bd2e1b5",
   "metadata": {},
   "outputs": [],
   "source": [
    "dict_1={\"Python\":40,\"R\":45}"
   ]
  },
  {
   "cell_type": "code",
   "execution_count": 74,
   "id": "dac50d0e",
   "metadata": {},
   "outputs": [],
   "source": [
    "del dict_1[\"R\"]"
   ]
  },
  {
   "cell_type": "code",
   "execution_count": 75,
   "id": "94a8d703",
   "metadata": {},
   "outputs": [
    {
     "data": {
      "text/plain": [
       "{'Python': 40}"
      ]
     },
     "execution_count": 75,
     "metadata": {},
     "output_type": "execute_result"
    }
   ],
   "source": [
    "dict_1"
   ]
  },
  {
   "cell_type": "code",
   "execution_count": 77,
   "id": "72ca64e1",
   "metadata": {},
   "outputs": [
    {
     "data": {
      "text/plain": [
       "dict_keys(['python', 'R'])"
      ]
     },
     "execution_count": 77,
     "metadata": {},
     "output_type": "execute_result"
    }
   ],
   "source": [
    "d={'python':40,'R':45}\n",
    "d.keys()"
   ]
  },
  {
   "cell_type": "code",
   "execution_count": 78,
   "id": "d01838cc",
   "metadata": {},
   "outputs": [],
   "source": [
    "input_dict={'Name':'Monty','Profession':'Singer'}"
   ]
  },
  {
   "cell_type": "code",
   "execution_count": 80,
   "id": "7f5a0cf1",
   "metadata": {},
   "outputs": [],
   "source": [
    "input_dict[\"Label\"]=\"NA\""
   ]
  },
  {
   "cell_type": "code",
   "execution_count": 81,
   "id": "23d8801a",
   "metadata": {},
   "outputs": [
    {
     "data": {
      "text/plain": [
       "'NA'"
      ]
     },
     "execution_count": 81,
     "metadata": {},
     "output_type": "execute_result"
    }
   ],
   "source": [
    "input_dict[\"Label\"]"
   ]
  },
  {
   "cell_type": "code",
   "execution_count": 82,
   "id": "cb8ba6a1",
   "metadata": {},
   "outputs": [
    {
     "data": {
      "text/plain": [
       "False"
      ]
     },
     "execution_count": 82,
     "metadata": {},
     "output_type": "execute_result"
    }
   ],
   "source": [
    "string_1=\"Hello world\"\n",
    "\n",
    "\"hello\" in string_1"
   ]
  },
  {
   "cell_type": "code",
   "execution_count": 86,
   "id": "a58ca61e",
   "metadata": {},
   "outputs": [],
   "source": [
    "input_dict={'Name':'Monty','Profession':'Singer'}"
   ]
  },
  {
   "cell_type": "code",
   "execution_count": 87,
   "id": "2907c872",
   "metadata": {},
   "outputs": [
    {
     "data": {
      "text/plain": [
       "dict_keys(['Name', 'Profession'])"
      ]
     },
     "execution_count": 87,
     "metadata": {},
     "output_type": "execute_result"
    }
   ],
   "source": [
    "input_dict.keys()"
   ]
  },
  {
   "cell_type": "code",
   "execution_count": 89,
   "id": "469adf85",
   "metadata": {},
   "outputs": [
    {
     "name": "stdout",
     "output_type": "stream",
     "text": [
      "NA\n"
     ]
    }
   ],
   "source": [
    "input_dict={'Name':'Monty','Profession':'Singer'}\n",
    "\n",
    "if \"Label\" in input_dict.keys():\n",
    "    print(input_dict[\"Label\"])\n",
    "else:\n",
    "    print(\"NA\")"
   ]
  },
  {
   "cell_type": "markdown",
   "id": "cfa7b1b6",
   "metadata": {},
   "source": [
    "# Binary Operators"
   ]
  },
  {
   "cell_type": "markdown",
   "id": "814cc6ff",
   "metadata": {},
   "source": [
    "# .works with 2 operands\n",
    ".operand can be:a+b-->where a,b are two operands & a+3.where a is an operand and 3 is a variable.\n",
    "    "
   ]
  },
  {
   "cell_type": "raw",
   "id": "3f8bb151",
   "metadata": {},
   "source": [
    "# Relation operators\n",
    ". type of binary operator\n",
    ".compares the values on either side of the opearator and returns and boolean and boolean value as True or False"
   ]
  },
  {
   "cell_type": "markdown",
   "id": "13a7d591",
   "metadata": {},
   "source": [
    "# equal to operator"
   ]
  },
  {
   "cell_type": "code",
   "execution_count": 91,
   "id": "dbce3138",
   "metadata": {},
   "outputs": [
    {
     "data": {
      "text/plain": [
       "True"
      ]
     },
     "execution_count": 91,
     "metadata": {},
     "output_type": "execute_result"
    }
   ],
   "source": [
    "10==10"
   ]
  },
  {
   "cell_type": "code",
   "execution_count": 93,
   "id": "238ac72d",
   "metadata": {},
   "outputs": [
    {
     "data": {
      "text/plain": [
       "False"
      ]
     },
     "execution_count": 93,
     "metadata": {},
     "output_type": "execute_result"
    }
   ],
   "source": [
    "10==12"
   ]
  },
  {
   "cell_type": "code",
   "execution_count": 94,
   "id": "f61e3b57",
   "metadata": {},
   "outputs": [
    {
     "data": {
      "text/plain": [
       "True"
      ]
     },
     "execution_count": 94,
     "metadata": {},
     "output_type": "execute_result"
    }
   ],
   "source": [
    "10!=12"
   ]
  },
  {
   "cell_type": "code",
   "execution_count": 95,
   "id": "519d43b5",
   "metadata": {},
   "outputs": [
    {
     "data": {
      "text/plain": [
       "False"
      ]
     },
     "execution_count": 95,
     "metadata": {},
     "output_type": "execute_result"
    }
   ],
   "source": [
    "12!=12"
   ]
  },
  {
   "cell_type": "code",
   "execution_count": 96,
   "id": "d9708ae4",
   "metadata": {},
   "outputs": [
    {
     "data": {
      "text/plain": [
       "True"
      ]
     },
     "execution_count": 96,
     "metadata": {},
     "output_type": "execute_result"
    }
   ],
   "source": [
    "12==12"
   ]
  },
  {
   "cell_type": "markdown",
   "id": "05ee0347",
   "metadata": {},
   "source": [
    "# not equal to operator"
   ]
  },
  {
   "cell_type": "code",
   "execution_count": 98,
   "id": "e608c97e",
   "metadata": {},
   "outputs": [],
   "source": [
    "a=10"
   ]
  },
  {
   "cell_type": "code",
   "execution_count": 99,
   "id": "3dbd4eed",
   "metadata": {},
   "outputs": [
    {
     "data": {
      "text/plain": [
       "True"
      ]
     },
     "execution_count": 99,
     "metadata": {},
     "output_type": "execute_result"
    }
   ],
   "source": [
    "10!=5"
   ]
  },
  {
   "cell_type": "markdown",
   "id": "f7b89cff",
   "metadata": {},
   "source": [
    "# greater than operator"
   ]
  },
  {
   "cell_type": "code",
   "execution_count": 100,
   "id": "06ab13b8",
   "metadata": {},
   "outputs": [
    {
     "data": {
      "text/plain": [
       "True"
      ]
     },
     "execution_count": 100,
     "metadata": {},
     "output_type": "execute_result"
    }
   ],
   "source": [
    "5<=5"
   ]
  },
  {
   "cell_type": "code",
   "execution_count": 101,
   "id": "30a95e65",
   "metadata": {},
   "outputs": [],
   "source": [
    "a=5"
   ]
  },
  {
   "cell_type": "code",
   "execution_count": 102,
   "id": "394d56cc",
   "metadata": {},
   "outputs": [
    {
     "data": {
      "text/plain": [
       "True"
      ]
     },
     "execution_count": 102,
     "metadata": {},
     "output_type": "execute_result"
    }
   ],
   "source": [
    "a<=5"
   ]
  },
  {
   "cell_type": "code",
   "execution_count": 103,
   "id": "608e71b0",
   "metadata": {},
   "outputs": [
    {
     "data": {
      "text/plain": [
       "True"
      ]
     },
     "execution_count": 103,
     "metadata": {},
     "output_type": "execute_result"
    }
   ],
   "source": [
    "a==5"
   ]
  },
  {
   "cell_type": "code",
   "execution_count": 104,
   "id": "aaf65d19",
   "metadata": {},
   "outputs": [],
   "source": [
    "a=10"
   ]
  },
  {
   "cell_type": "code",
   "execution_count": 105,
   "id": "29b8e009",
   "metadata": {},
   "outputs": [
    {
     "data": {
      "text/plain": [
       "False"
      ]
     },
     "execution_count": 105,
     "metadata": {},
     "output_type": "execute_result"
    }
   ],
   "source": [
    "a==5"
   ]
  },
  {
   "cell_type": "code",
   "execution_count": 106,
   "id": "eb3ead8c",
   "metadata": {},
   "outputs": [
    {
     "data": {
      "text/plain": [
       "True"
      ]
     },
     "execution_count": 106,
     "metadata": {},
     "output_type": "execute_result"
    }
   ],
   "source": [
    "10>=5"
   ]
  },
  {
   "cell_type": "markdown",
   "id": "1125d395",
   "metadata": {},
   "source": [
    "# Decision Making"
   ]
  },
  {
   "cell_type": "markdown",
   "id": "5b615a5f",
   "metadata": {},
   "source": [
    "# if-Else blocks"
   ]
  },
  {
   "cell_type": "code",
   "execution_count": 108,
   "id": "5f8a835f",
   "metadata": {},
   "outputs": [],
   "source": [
    "age=45"
   ]
  },
  {
   "cell_type": "code",
   "execution_count": 111,
   "id": "8ffa6e3e",
   "metadata": {},
   "outputs": [
    {
     "name": "stdout",
     "output_type": "stream",
     "text": [
      "young\n"
     ]
    }
   ],
   "source": [
    "if age <50:\n",
    "    print (\"young\")\n",
    "else:\n",
    "    print(\"adult\")"
   ]
  },
  {
   "cell_type": "code",
   "execution_count": 112,
   "id": "59d4dab0",
   "metadata": {},
   "outputs": [],
   "source": [
    "age=51"
   ]
  },
  {
   "cell_type": "code",
   "execution_count": 113,
   "id": "3ab545a5",
   "metadata": {},
   "outputs": [
    {
     "name": "stdout",
     "output_type": "stream",
     "text": [
      "adult\n"
     ]
    }
   ],
   "source": [
    "if age <50:\n",
    "    print (\"young\")\n",
    "else:\n",
    "    print(\"adult\")"
   ]
  },
  {
   "cell_type": "code",
   "execution_count": 114,
   "id": "3642a78c",
   "metadata": {},
   "outputs": [
    {
     "name": "stdout",
     "output_type": "stream",
     "text": [
      "mid level\n"
     ]
    }
   ],
   "source": [
    "if age < 20:\n",
    "    print(\"young\")\n",
    "elif age>=20 & age<30:\n",
    "    print(\"mid level\")\n",
    "else:\n",
    "    print(\"adult\")"
   ]
  },
  {
   "cell_type": "markdown",
   "id": "af11e0c2",
   "metadata": {},
   "source": [
    "# Write a program to check value in variable x is even or odd"
   ]
  },
  {
   "cell_type": "code",
   "execution_count": 115,
   "id": "3694af9f",
   "metadata": {},
   "outputs": [
    {
     "data": {
      "text/plain": [
       "1"
      ]
     },
     "execution_count": 115,
     "metadata": {},
     "output_type": "execute_result"
    }
   ],
   "source": [
    "5%2"
   ]
  },
  {
   "cell_type": "code",
   "execution_count": 116,
   "id": "82de2ae5",
   "metadata": {},
   "outputs": [],
   "source": [
    "x=50"
   ]
  },
  {
   "cell_type": "code",
   "execution_count": 117,
   "id": "c39b1532",
   "metadata": {},
   "outputs": [
    {
     "name": "stdout",
     "output_type": "stream",
     "text": [
      "even\n"
     ]
    }
   ],
   "source": [
    "if x % 2==0:\n",
    "    print(\"even\")\n",
    "else:\n",
    "    print(\"odd\")"
   ]
  },
  {
   "cell_type": "code",
   "execution_count": 118,
   "id": "18a7b27f",
   "metadata": {},
   "outputs": [],
   "source": [
    "x=51"
   ]
  },
  {
   "cell_type": "code",
   "execution_count": 119,
   "id": "9006e2c7",
   "metadata": {},
   "outputs": [
    {
     "name": "stdout",
     "output_type": "stream",
     "text": [
      "odd\n"
     ]
    }
   ],
   "source": [
    "if x%2==0:\n",
    "    print(\"even\")\n",
    "else:\n",
    "    print(\"odd\")"
   ]
  },
  {
   "cell_type": "markdown",
   "id": "00957054",
   "metadata": {},
   "source": [
    "# write a program to accept age of visitor and allow him to PM's party only if he is above 60 years or below 18 years of age"
   ]
  },
  {
   "cell_type": "code",
   "execution_count": 121,
   "id": "de6e5b67",
   "metadata": {},
   "outputs": [
    {
     "name": "stdout",
     "output_type": "stream",
     "text": [
      "Not going\n"
     ]
    }
   ],
   "source": [
    "x=19\n",
    "\n",
    "if x<18 or x>60:\n",
    "    print(\"Going to the party\")\n",
    "else:\n",
    "    print(\"Not going\")"
   ]
  },
  {
   "cell_type": "code",
   "execution_count": 122,
   "id": "e2ac5db2",
   "metadata": {},
   "outputs": [
    {
     "name": "stdout",
     "output_type": "stream",
     "text": [
      "Going to the party\n"
     ]
    }
   ],
   "source": [
    "x=61\n",
    "\n",
    "if x<18 or x>60:\n",
    "    print(\"Going to the party\")\n",
    "else:\n",
    "    print(\"Not going\")"
   ]
  },
  {
   "cell_type": "code",
   "execution_count": 123,
   "id": "e1857e19",
   "metadata": {},
   "outputs": [
    {
     "name": "stdout",
     "output_type": "stream",
     "text": [
      "Enter your age:15\n",
      "welcome to party\n"
     ]
    }
   ],
   "source": [
    "x=int(input(\"Enter your age:\"))\n",
    "\n",
    "if x<=18 or x>=60:\n",
    "    print(\"welcome to party\")\n",
    "else:\n",
    "    print(\"sorry!! you do not fit in PM's age criteria\")"
   ]
  },
  {
   "cell_type": "code",
   "execution_count": 124,
   "id": "5496f7dd",
   "metadata": {},
   "outputs": [
    {
     "name": "stdout",
     "output_type": "stream",
     "text": [
      "Enter your age:65\n",
      "welcome to party\n"
     ]
    }
   ],
   "source": [
    "x=int(input(\"Enter your age:\"))\n",
    "\n",
    "if x<=18 or x>=60:\n",
    "    print(\"welcome to party\")\n",
    "else:\n",
    "    print(\"sorry!! you do not fit in PM's age criteria\")"
   ]
  },
  {
   "cell_type": "code",
   "execution_count": 127,
   "id": "96510871",
   "metadata": {
    "scrolled": true
   },
   "outputs": [
    {
     "name": "stdout",
     "output_type": "stream",
     "text": [
      "u won a discount of flat 1000 on next purchase\n"
     ]
    }
   ],
   "source": [
    "shopping_total=11000\n",
    "\n",
    "if shopping_total>=5000& shopping_total<10000:\n",
    "    print(\"u won a discount of flat 1000 on next purchase\")\n",
    "elif shopping_total>=2500:\n",
    "    print(\"u won a discount voucher of flat 100 on next purchase\")\n",
    "elif shopping_total>=1000:\n",
    "    print(\"u won a discount vouche of flat 100 on next purchase\")\n",
    "else:\n",
    "    print(\"oops!!no discount for you!!!\")"
   ]
  },
  {
   "cell_type": "code",
   "execution_count": 132,
   "id": "07d03c95",
   "metadata": {},
   "outputs": [
    {
     "name": "stdout",
     "output_type": "stream",
     "text": [
      "oops!!no discount for you!!!\n"
     ]
    }
   ],
   "source": [
    "shopping_total=500\n",
    "\n",
    "if shopping_total>=5000:\n",
    "    print(\"u won a discount of flat 1000 on next purchase\")\n",
    "elif shopping_total>=2500:\n",
    "    print(\"u won a discount voucher of flat 500 on next purchase\")\n",
    "elif shopping_total>=1000:\n",
    "    print(\"u won a discount vouche of flat 100 on next purchase\")\n",
    "else:\n",
    "    print(\"oops!!no discount for you!!!\")"
   ]
  },
  {
   "cell_type": "code",
   "execution_count": 1,
   "id": "0847506a",
   "metadata": {},
   "outputs": [
    {
     "name": "stdout",
     "output_type": "stream",
     "text": [
      "a\n"
     ]
    }
   ],
   "source": [
    "a=21\n",
    "b=16\n",
    "c=20\n",
    "\n",
    "if((a>b) and (a>c)):\n",
    "    print(\"a\")\n",
    "elif((b>a) and (b>c)):\n",
    "    print(\"b\")\n",
    "else:\n",
    "    print(\"c\")"
   ]
  },
  {
   "cell_type": "code",
   "execution_count": null,
   "id": "7e66837f",
   "metadata": {},
   "outputs": [],
   "source": []
  }
 ],
 "metadata": {
  "kernelspec": {
   "display_name": "Python 3 (ipykernel)",
   "language": "python",
   "name": "python3"
  },
  "language_info": {
   "codemirror_mode": {
    "name": "ipython",
    "version": 3
   },
   "file_extension": ".py",
   "mimetype": "text/x-python",
   "name": "python",
   "nbconvert_exporter": "python",
   "pygments_lexer": "ipython3",
   "version": "3.9.7"
  }
 },
 "nbformat": 4,
 "nbformat_minor": 5
}
