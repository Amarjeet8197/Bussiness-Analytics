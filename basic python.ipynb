{
 "cells": [
  {
   "cell_type": "code",
   "execution_count": 1,
   "id": "b314c825",
   "metadata": {},
   "outputs": [
    {
     "name": "stdout",
     "output_type": "stream",
     "text": [
      "this is my first python program\n"
     ]
    }
   ],
   "source": [
    "# my first program\n",
    "print('this is my first python program')"
   ]
  },
  {
   "cell_type": "code",
   "execution_count": 2,
   "id": "6d28529a",
   "metadata": {},
   "outputs": [
    {
     "data": {
      "text/plain": [
       "'amarjeet\\n      kumar'"
      ]
     },
     "execution_count": 2,
     "metadata": {},
     "output_type": "execute_result"
    }
   ],
   "source": [
    "# my name is amarjeet\n",
    "\"\"\"amarjeet\n",
    "      kumar\"\"\" "
   ]
  },
  {
   "cell_type": "code",
   "execution_count": 3,
   "id": "1f85e963",
   "metadata": {},
   "outputs": [
    {
     "data": {
      "text/plain": [
       "'amarjeet\\namarjeet\\nammarjeet\\namarjeet\\nkumar'"
      ]
     },
     "execution_count": 3,
     "metadata": {},
     "output_type": "execute_result"
    }
   ],
   "source": [
    "\"\"\"amarjeet\n",
    "amarjeet\n",
    "ammarjeet\n",
    "amarjeet\n",
    "kumar\"\"\""
   ]
  },
  {
   "cell_type": "code",
   "execution_count": 4,
   "id": "1566611a",
   "metadata": {},
   "outputs": [
    {
     "data": {
      "text/plain": [
       "'print(\"amarjeet\")\\nprint(\"artificial\")\\nprint(\"intelligence\")'"
      ]
     },
     "execution_count": 4,
     "metadata": {},
     "output_type": "execute_result"
    }
   ],
   "source": [
    "\"\"\"print(\"amarjeet\")\n",
    "print(\"artificial\")\n",
    "print(\"intelligence\")\"\"\""
   ]
  },
  {
   "cell_type": "code",
   "execution_count": 5,
   "id": "ff0eb22f",
   "metadata": {},
   "outputs": [],
   "source": [
    "a=10"
   ]
  },
  {
   "cell_type": "code",
   "execution_count": 6,
   "id": "21e50d39",
   "metadata": {},
   "outputs": [
    {
     "data": {
      "text/plain": [
       "10"
      ]
     },
     "execution_count": 6,
     "metadata": {},
     "output_type": "execute_result"
    }
   ],
   "source": [
    "a"
   ]
  },
  {
   "cell_type": "code",
   "execution_count": 7,
   "id": "5101c958",
   "metadata": {},
   "outputs": [
    {
     "data": {
      "text/plain": [
       "int"
      ]
     },
     "execution_count": 7,
     "metadata": {},
     "output_type": "execute_result"
    }
   ],
   "source": [
    "type(a)"
   ]
  },
  {
   "cell_type": "code",
   "execution_count": 8,
   "id": "2d5a75cc",
   "metadata": {},
   "outputs": [],
   "source": [
    "b=\"student\""
   ]
  },
  {
   "cell_type": "code",
   "execution_count": 9,
   "id": "29cddd03",
   "metadata": {},
   "outputs": [
    {
     "name": "stdout",
     "output_type": "stream",
     "text": [
      "student\n"
     ]
    }
   ],
   "source": [
    "print(b)"
   ]
  },
  {
   "cell_type": "code",
   "execution_count": 10,
   "id": "71a8538f",
   "metadata": {},
   "outputs": [],
   "source": [
    "b='124student 4567boy 2456day help you '"
   ]
  },
  {
   "cell_type": "code",
   "execution_count": 11,
   "id": "25dfb993",
   "metadata": {},
   "outputs": [
    {
     "data": {
      "text/plain": [
       "'124student 4567boy 2456day help you '"
      ]
     },
     "execution_count": 11,
     "metadata": {},
     "output_type": "execute_result"
    }
   ],
   "source": [
    "b"
   ]
  },
  {
   "cell_type": "code",
   "execution_count": 12,
   "id": "fac9159f",
   "metadata": {},
   "outputs": [
    {
     "data": {
      "text/plain": [
       "str"
      ]
     },
     "execution_count": 12,
     "metadata": {},
     "output_type": "execute_result"
    }
   ],
   "source": [
    "type(b)"
   ]
  },
  {
   "cell_type": "code",
   "execution_count": 13,
   "id": "8ba2f24d",
   "metadata": {},
   "outputs": [
    {
     "name": "stdout",
     "output_type": "stream",
     "text": [
      "124student 4567boy 2456day help you  10\n"
     ]
    }
   ],
   "source": [
    "print(b,a)"
   ]
  },
  {
   "cell_type": "code",
   "execution_count": 14,
   "id": "a2e07aed",
   "metadata": {},
   "outputs": [],
   "source": [
    "a=45\n",
    "b=\"student\""
   ]
  },
  {
   "cell_type": "code",
   "execution_count": 15,
   "id": "b403ac6e",
   "metadata": {},
   "outputs": [],
   "source": [
    "a,b, s=45,\"student\",\"python\""
   ]
  },
  {
   "cell_type": "code",
   "execution_count": 16,
   "id": "13fb4fbc",
   "metadata": {},
   "outputs": [
    {
     "data": {
      "text/plain": [
       "45"
      ]
     },
     "execution_count": 16,
     "metadata": {},
     "output_type": "execute_result"
    }
   ],
   "source": [
    "a"
   ]
  },
  {
   "cell_type": "code",
   "execution_count": 17,
   "id": "bde4c7e1",
   "metadata": {},
   "outputs": [
    {
     "data": {
      "text/plain": [
       "'student'"
      ]
     },
     "execution_count": 17,
     "metadata": {},
     "output_type": "execute_result"
    }
   ],
   "source": [
    "b"
   ]
  },
  {
   "cell_type": "code",
   "execution_count": 18,
   "id": "6e917fa4",
   "metadata": {},
   "outputs": [
    {
     "data": {
      "text/plain": [
       "'python'"
      ]
     },
     "execution_count": 18,
     "metadata": {},
     "output_type": "execute_result"
    }
   ],
   "source": [
    "s"
   ]
  },
  {
   "cell_type": "code",
   "execution_count": 19,
   "id": "a1b612f1",
   "metadata": {},
   "outputs": [
    {
     "name": "stdout",
     "output_type": "stream",
     "text": [
      "45 student python\n"
     ]
    }
   ],
   "source": [
    "print(a,b,s)"
   ]
  },
  {
   "cell_type": "code",
   "execution_count": 21,
   "id": "2e793bd9",
   "metadata": {},
   "outputs": [],
   "source": [
    "_b=547895"
   ]
  },
  {
   "cell_type": "code",
   "execution_count": 23,
   "id": "f6ddbbdf",
   "metadata": {},
   "outputs": [
    {
     "data": {
      "text/plain": [
       "547895"
      ]
     },
     "execution_count": 23,
     "metadata": {},
     "output_type": "execute_result"
    }
   ],
   "source": [
    "_b"
   ]
  },
  {
   "cell_type": "code",
   "execution_count": 24,
   "id": "e2b537be",
   "metadata": {},
   "outputs": [],
   "source": [
    "#float\n",
    "a=1.325487"
   ]
  },
  {
   "cell_type": "code",
   "execution_count": 25,
   "id": "17070164",
   "metadata": {},
   "outputs": [
    {
     "data": {
      "text/plain": [
       "float"
      ]
     },
     "execution_count": 25,
     "metadata": {},
     "output_type": "execute_result"
    }
   ],
   "source": [
    "type(a)"
   ]
  },
  {
   "cell_type": "code",
   "execution_count": 28,
   "id": "707a1d34",
   "metadata": {},
   "outputs": [],
   "source": [
    "#boolean\n",
    "b=True\n",
    "c=False"
   ]
  },
  {
   "cell_type": "code",
   "execution_count": 29,
   "id": "b43ee256",
   "metadata": {},
   "outputs": [
    {
     "data": {
      "text/plain": [
       "bool"
      ]
     },
     "execution_count": 29,
     "metadata": {},
     "output_type": "execute_result"
    }
   ],
   "source": [
    "type(b)"
   ]
  },
  {
   "cell_type": "code",
   "execution_count": 30,
   "id": "2923bdca",
   "metadata": {},
   "outputs": [
    {
     "data": {
      "text/plain": [
       "bool"
      ]
     },
     "execution_count": 30,
     "metadata": {},
     "output_type": "execute_result"
    }
   ],
   "source": [
    "type(c)"
   ]
  },
  {
   "cell_type": "code",
   "execution_count": 31,
   "id": "8a50606d",
   "metadata": {},
   "outputs": [
    {
     "name": "stdout",
     "output_type": "stream",
     "text": [
      "4\n",
      "0\n"
     ]
    }
   ],
   "source": [
    "print(True+True+True+False+True)\n",
    "print(False-True+True)"
   ]
  },
  {
   "cell_type": "code",
   "execution_count": 32,
   "id": "a4bf0e64",
   "metadata": {},
   "outputs": [
    {
     "data": {
      "text/plain": [
       "2"
      ]
     },
     "execution_count": 32,
     "metadata": {},
     "output_type": "execute_result"
    }
   ],
   "source": [
    "True+True-False"
   ]
  },
  {
   "cell_type": "code",
   "execution_count": 33,
   "id": "eb9fd1b6",
   "metadata": {},
   "outputs": [
    {
     "data": {
      "text/plain": [
       "1"
      ]
     },
     "execution_count": 33,
     "metadata": {},
     "output_type": "execute_result"
    }
   ],
   "source": [
    "True*True"
   ]
  },
  {
   "cell_type": "code",
   "execution_count": 36,
   "id": "b8ff96a8",
   "metadata": {},
   "outputs": [
    {
     "ename": "ZeroDivisionError",
     "evalue": "division by zero",
     "output_type": "error",
     "traceback": [
      "\u001b[1;31m-----------------------------------------------------------------\u001b[0m",
      "\u001b[1;31mZeroDivisionError\u001b[0m               Traceback (most recent call last)",
      "\u001b[1;32m~\\AppData\\Local\\Temp/ipykernel_14684/2917913318.py\u001b[0m in \u001b[0;36m<module>\u001b[1;34m\u001b[0m\n\u001b[1;32m----> 1\u001b[1;33m \u001b[1;32mTrue\u001b[0m \u001b[1;33m/\u001b[0m \u001b[1;32mFalse\u001b[0m\u001b[1;33m\u001b[0m\u001b[1;33m\u001b[0m\u001b[0m\n\u001b[0m",
      "\u001b[1;31mZeroDivisionError\u001b[0m: division by zero"
     ]
    }
   ],
   "source": [
    "True / False"
   ]
  },
  {
   "cell_type": "code",
   "execution_count": 37,
   "id": "c8f339d7",
   "metadata": {},
   "outputs": [],
   "source": [
    "# complex number\n",
    "n=45 + 6j"
   ]
  },
  {
   "cell_type": "code",
   "execution_count": 38,
   "id": "6dc67d8e",
   "metadata": {},
   "outputs": [
    {
     "data": {
      "text/plain": [
       "complex"
      ]
     },
     "execution_count": 38,
     "metadata": {},
     "output_type": "execute_result"
    }
   ],
   "source": [
    "type(n)"
   ]
  },
  {
   "cell_type": "code",
   "execution_count": 39,
   "id": "2949965b",
   "metadata": {},
   "outputs": [
    {
     "data": {
      "text/plain": [
       "(45+6j)"
      ]
     },
     "execution_count": 39,
     "metadata": {},
     "output_type": "execute_result"
    }
   ],
   "source": [
    "n"
   ]
  },
  {
   "cell_type": "code",
   "execution_count": 40,
   "id": "de1cda9a",
   "metadata": {},
   "outputs": [],
   "source": [
    "n=45+6j\n",
    "m=56+8j"
   ]
  },
  {
   "cell_type": "code",
   "execution_count": 41,
   "id": "9863df01",
   "metadata": {},
   "outputs": [
    {
     "data": {
      "text/plain": [
       "(2472+696j)"
      ]
     },
     "execution_count": 41,
     "metadata": {},
     "output_type": "execute_result"
    }
   ],
   "source": [
    "n*m"
   ]
  },
  {
   "cell_type": "code",
   "execution_count": 42,
   "id": "22e56a9b",
   "metadata": {},
   "outputs": [
    {
     "data": {
      "text/plain": [
       "45.0"
      ]
     },
     "execution_count": 42,
     "metadata": {},
     "output_type": "execute_result"
    }
   ],
   "source": [
    "n.real"
   ]
  },
  {
   "cell_type": "code",
   "execution_count": 44,
   "id": "6486b502",
   "metadata": {},
   "outputs": [
    {
     "data": {
      "text/plain": [
       "6.0"
      ]
     },
     "execution_count": 44,
     "metadata": {},
     "output_type": "execute_result"
    }
   ],
   "source": [
    "n.imag"
   ]
  },
  {
   "cell_type": "code",
   "execution_count": 45,
   "id": "6fc1605b",
   "metadata": {},
   "outputs": [
    {
     "data": {
      "text/plain": [
       "str"
      ]
     },
     "execution_count": 45,
     "metadata": {},
     "output_type": "execute_result"
    }
   ],
   "source": [
    "b=\"apple\"\n",
    "type(b)"
   ]
  },
  {
   "cell_type": "code",
   "execution_count": 46,
   "id": "bd0cb0fb",
   "metadata": {},
   "outputs": [
    {
     "data": {
      "text/plain": [
       "'1student'"
      ]
     },
     "execution_count": 46,
     "metadata": {},
     "output_type": "execute_result"
    }
   ],
   "source": [
    "\"1\"+\"student\""
   ]
  },
  {
   "cell_type": "code",
   "execution_count": 47,
   "id": "0436d147",
   "metadata": {},
   "outputs": [
    {
     "data": {
      "text/plain": [
       "2.0"
      ]
     },
     "execution_count": 47,
     "metadata": {},
     "output_type": "execute_result"
    }
   ],
   "source": [
    "1+1.0"
   ]
  },
  {
   "cell_type": "code",
   "execution_count": 48,
   "id": "5bebabc7",
   "metadata": {},
   "outputs": [
    {
     "data": {
      "text/plain": [
       "'studentstudentstudent'"
      ]
     },
     "execution_count": 48,
     "metadata": {},
     "output_type": "execute_result"
    }
   ],
   "source": [
    "\"student\"+\"student\"+\"student\""
   ]
  },
  {
   "cell_type": "code",
   "execution_count": 49,
   "id": "6d051dee",
   "metadata": {},
   "outputs": [
    {
     "data": {
      "text/plain": [
       "'studentstudentstudent'"
      ]
     },
     "execution_count": 49,
     "metadata": {},
     "output_type": "execute_result"
    }
   ],
   "source": [
    "\"student\"*3"
   ]
  },
  {
   "cell_type": "code",
   "execution_count": 52,
   "id": "af5a097f",
   "metadata": {},
   "outputs": [
    {
     "data": {
      "text/plain": [
       "'studentstudentstudent'"
      ]
     },
     "execution_count": 52,
     "metadata": {},
     "output_type": "execute_result"
    }
   ],
   "source": [
    " \"student\" * 3"
   ]
  },
  {
   "cell_type": "code",
   "execution_count": 53,
   "id": "97d06402",
   "metadata": {},
   "outputs": [
    {
     "data": {
      "text/plain": [
       "23"
      ]
     },
     "execution_count": 53,
     "metadata": {},
     "output_type": "execute_result"
    }
   ],
   "source": [
    "int('23')"
   ]
  },
  {
   "cell_type": "code",
   "execution_count": 54,
   "id": "d41a11ba",
   "metadata": {},
   "outputs": [],
   "source": [
    "a=10"
   ]
  },
  {
   "cell_type": "code",
   "execution_count": 55,
   "id": "9f836a64",
   "metadata": {},
   "outputs": [
    {
     "name": "stdout",
     "output_type": "stream",
     "text": [
      "enter a integer123458\n"
     ]
    }
   ],
   "source": [
    "a=input(\"enter a integer\")"
   ]
  },
  {
   "cell_type": "code",
   "execution_count": 56,
   "id": "bd77d0aa",
   "metadata": {},
   "outputs": [
    {
     "data": {
      "text/plain": [
       "str"
      ]
     },
     "execution_count": 56,
     "metadata": {},
     "output_type": "execute_result"
    }
   ],
   "source": [
    "type(a)"
   ]
  },
  {
   "cell_type": "code",
   "execution_count": 57,
   "id": "d06f0d11",
   "metadata": {},
   "outputs": [
    {
     "name": "stdout",
     "output_type": "stream",
     "text": [
      "this is my var a45\n",
      "this is my var b89\n",
      "this is my var c74\n"
     ]
    }
   ],
   "source": [
    "a=int(input(\"this is my var a\"))\n",
    "b=int(input(\"this is my var b\"))\n",
    "c=int(input(\"this is my var c\"))"
   ]
  },
  {
   "cell_type": "code",
   "execution_count": 58,
   "id": "96b9d2e5",
   "metadata": {},
   "outputs": [],
   "source": [
    "p=a+b/c\n",
    "p1=p+78+6j"
   ]
  },
  {
   "cell_type": "code",
   "execution_count": 59,
   "id": "a417aa83",
   "metadata": {},
   "outputs": [
    {
     "data": {
      "text/plain": [
       "complex"
      ]
     },
     "execution_count": 59,
     "metadata": {},
     "output_type": "execute_result"
    }
   ],
   "source": [
    "type(p1)"
   ]
  },
  {
   "cell_type": "code",
   "execution_count": 60,
   "id": "df95af87",
   "metadata": {},
   "outputs": [
    {
     "data": {
      "text/plain": [
       "'(124.20270270270271+6j)good'"
      ]
     },
     "execution_count": 60,
     "metadata": {},
     "output_type": "execute_result"
    }
   ],
   "source": [
    "str(p1) + \"good\""
   ]
  },
  {
   "cell_type": "code",
   "execution_count": 62,
   "id": "1436e75c",
   "metadata": {},
   "outputs": [
    {
     "data": {
      "text/plain": [
       "(124.20270270270271+6j)"
      ]
     },
     "execution_count": 62,
     "metadata": {},
     "output_type": "execute_result"
    }
   ],
   "source": [
    "p1"
   ]
  },
  {
   "cell_type": "code",
   "execution_count": 67,
   "id": "ffd929b8",
   "metadata": {},
   "outputs": [
    {
     "name": "stdout",
     "output_type": "stream",
     "text": [
      "input a lesser then 34 --56\n"
     ]
    }
   ],
   "source": [
    "a=int(input(\"input a lesser then 34 --\"))"
   ]
  },
  {
   "cell_type": "code",
   "execution_count": 68,
   "id": "f88dbabd",
   "metadata": {},
   "outputs": [],
   "source": [
    "if a<34:\n",
    "    pass"
   ]
  },
  {
   "cell_type": "code",
   "execution_count": 70,
   "id": "70ba6388",
   "metadata": {
    "scrolled": false
   },
   "outputs": [
    {
     "name": "stdout",
     "output_type": "stream",
     "text": [
      "input a number78\n",
      "my data is lesser then 100\n"
     ]
    }
   ],
   "source": [
    "a=int(input(\"input a number\"))\n",
    "if a <34:\n",
    "    print(\"data input is lesser then 34 and i am fine with it\")\n",
    "elif a<100:\n",
    "    print(\"my data is lesser then 100\")\n",
    "else:\n",
    "    print(\"user input is not lesser then 34\")"
   ]
  },
  {
   "cell_type": "code",
   "execution_count": 1,
   "id": "26e58b13",
   "metadata": {},
   "outputs": [
    {
     "name": "stdout",
     "output_type": "stream",
     "text": [
      "enter your salary45\n",
      "i will buy a car\n"
     ]
    }
   ],
   "source": [
    "salary=int(input(\"enter your salary\"))\n",
    "if salary<1000:\n",
    "    print(\"i will buy a car\")\n",
    "elif salary<500:\n",
    "    print(\"i will go for bike\")\n",
    "elif salary<100:\n",
    "    print(\"i will not buy anything\")\n",
    "else:\n",
    "    print(\"i will go for saving\")"
   ]
  },
  {
   "cell_type": "code",
   "execution_count": 7,
   "id": "3a48d95e",
   "metadata": {},
   "outputs": [
    {
     "name": "stdout",
     "output_type": "stream",
     "text": [
      "enter your salary10056\n",
      "you salary is good\n",
      "i will go with maruti\n"
     ]
    }
   ],
   "source": [
    "salary=int(input(\"enter your salary\"))\n",
    "if(salary>1000):\n",
    "    print(\"you salary is good\")\n",
    "    if salary>5000 and salary<=10000:\n",
    "        print(\"i will go with a card nano\")\n",
    "        if True:\n",
    "            print(\"false code\")\n",
    "    elif salary > 10000:\n",
    "        print(\"i will go with maruti\")\n",
    "    elif salary >50000:\n",
    "        print(\"i will go with toyota\")\n",
    "    else:\n",
    "        print(\"i will rent a car\")           \n",
    "elif salary>500:\n",
    "    print(\"i will go for bike\")\n",
    "elif salary>100:\n",
    "    print(\"i will not buy anything\")\n",
    "else:\n",
    "    print(\"i will go for saving\")     \n",
    "            "
   ]
  },
  {
   "cell_type": "code",
   "execution_count": 4,
   "id": "f2db30ac",
   "metadata": {},
   "outputs": [
    {
     "data": {
      "text/plain": [
       "True"
      ]
     },
     "execution_count": 4,
     "metadata": {},
     "output_type": "execute_result"
    }
   ],
   "source": [
    "salary>5000"
   ]
  },
  {
   "cell_type": "code",
   "execution_count": null,
   "id": "cca8534d",
   "metadata": {},
   "outputs": [],
   "source": []
  }
 ],
 "metadata": {
  "kernelspec": {
   "display_name": "Python 3 (ipykernel)",
   "language": "python",
   "name": "python3"
  },
  "language_info": {
   "codemirror_mode": {
    "name": "ipython",
    "version": 3
   },
   "file_extension": ".py",
   "mimetype": "text/x-python",
   "name": "python",
   "nbconvert_exporter": "python",
   "pygments_lexer": "ipython3",
   "version": "3.9.7"
  }
 },
 "nbformat": 4,
 "nbformat_minor": 5
}
