{
 "cells": [
  {
   "cell_type": "code",
   "execution_count": null,
   "id": "5247ac35",
   "metadata": {},
   "outputs": [],
   "source": []
  },
  {
   "cell_type": "code",
   "execution_count": null,
   "id": "ee1b47a5",
   "metadata": {},
   "outputs": [],
   "source": [
    "name=2\n",
    "Name=4"
   ]
  },
  {
   "cell_type": "code",
   "execution_count": 1,
   "id": "a6adff96",
   "metadata": {},
   "outputs": [],
   "source": [
    "var=10"
   ]
  },
  {
   "cell_type": "code",
   "execution_count": 2,
   "id": "52a40b2d",
   "metadata": {},
   "outputs": [],
   "source": [
    "float_var=10.1"
   ]
  },
  {
   "cell_type": "code",
   "execution_count": 3,
   "id": "d3de1c90",
   "metadata": {},
   "outputs": [
    {
     "data": {
      "text/plain": [
       "int"
      ]
     },
     "execution_count": 3,
     "metadata": {},
     "output_type": "execute_result"
    }
   ],
   "source": [
    "type(var)"
   ]
  },
  {
   "cell_type": "code",
   "execution_count": 4,
   "id": "7df9be98",
   "metadata": {},
   "outputs": [
    {
     "data": {
      "text/plain": [
       "float"
      ]
     },
     "execution_count": 4,
     "metadata": {},
     "output_type": "execute_result"
    }
   ],
   "source": [
    "type(float_var)"
   ]
  },
  {
   "cell_type": "code",
   "execution_count": 5,
   "id": "e6af078e",
   "metadata": {},
   "outputs": [
    {
     "name": "stdout",
     "output_type": "stream",
     "text": [
      "hello\n"
     ]
    }
   ],
   "source": [
    "string1='hello'\n",
    "print(string1)"
   ]
  },
  {
   "cell_type": "code",
   "execution_count": 6,
   "id": "61e3249e",
   "metadata": {},
   "outputs": [
    {
     "name": "stdout",
     "output_type": "stream",
     "text": [
      "hello 123 world\n"
     ]
    }
   ],
   "source": [
    "string2=\"hello 123 world\"\n",
    "print(string2)"
   ]
  },
  {
   "cell_type": "code",
   "execution_count": 7,
   "id": "94c7340e",
   "metadata": {},
   "outputs": [],
   "source": [
    "new_var=10"
   ]
  },
  {
   "cell_type": "code",
   "execution_count": 8,
   "id": "80408e3a",
   "metadata": {},
   "outputs": [
    {
     "name": "stdout",
     "output_type": "stream",
     "text": [
      "10\n"
     ]
    }
   ],
   "source": [
    "print(new_var)"
   ]
  },
  {
   "cell_type": "code",
   "execution_count": 9,
   "id": "e0c66fcb",
   "metadata": {},
   "outputs": [
    {
     "name": "stdout",
     "output_type": "stream",
     "text": [
      "2\n",
      "4\n"
     ]
    }
   ],
   "source": [
    "name=2\n",
    "Name=4\n",
    "print(name)\n",
    "print(Name)"
   ]
  },
  {
   "cell_type": "code",
   "execution_count": 10,
   "id": "946ae994",
   "metadata": {},
   "outputs": [
    {
     "name": "stdout",
     "output_type": "stream",
     "text": [
      "9\n"
     ]
    }
   ],
   "source": [
    "a=4\n",
    "b=5\n",
    "c=a+b\n",
    "print(c)"
   ]
  },
  {
   "cell_type": "code",
   "execution_count": 13,
   "id": "7828ef49",
   "metadata": {},
   "outputs": [
    {
     "data": {
      "text/plain": [
       "9"
      ]
     },
     "execution_count": 13,
     "metadata": {},
     "output_type": "execute_result"
    }
   ],
   "source": [
    "def func_sum(a,b):\n",
    "    c=a+b\n",
    "    return c\n",
    "\n",
    "func_sum(4,5)"
   ]
  },
  {
   "cell_type": "code",
   "execution_count": 15,
   "id": "fbb4063d",
   "metadata": {},
   "outputs": [
    {
     "data": {
      "text/plain": [
       "69"
      ]
     },
     "execution_count": 15,
     "metadata": {},
     "output_type": "execute_result"
    }
   ],
   "source": [
    "def func_sum(a,b):\n",
    "    c=a+b\n",
    "    return c\n",
    "\n",
    "func_sum(14,55)"
   ]
  },
  {
   "cell_type": "code",
   "execution_count": 17,
   "id": "65286cb8",
   "metadata": {},
   "outputs": [],
   "source": [
    "lname=5"
   ]
  },
  {
   "cell_type": "code",
   "execution_count": 20,
   "id": "2e311c25",
   "metadata": {},
   "outputs": [
    {
     "data": {
      "text/plain": [
       "int"
      ]
     },
     "execution_count": 20,
     "metadata": {},
     "output_type": "execute_result"
    }
   ],
   "source": [
    "a=10\n",
    "type(a)"
   ]
  },
  {
   "cell_type": "code",
   "execution_count": 21,
   "id": "2f715680",
   "metadata": {},
   "outputs": [
    {
     "data": {
      "text/plain": [
       "float"
      ]
     },
     "execution_count": 21,
     "metadata": {},
     "output_type": "execute_result"
    }
   ],
   "source": [
    "a=10.1\n",
    "type(a)"
   ]
  },
  {
   "cell_type": "code",
   "execution_count": 23,
   "id": "6bb9b22d",
   "metadata": {},
   "outputs": [],
   "source": [
    "welcome_string=\"welcome to the python course\""
   ]
  },
  {
   "cell_type": "code",
   "execution_count": 25,
   "id": "2f358aa0",
   "metadata": {},
   "outputs": [
    {
     "name": "stdout",
     "output_type": "stream",
     "text": [
      "welcome to the python course\n"
     ]
    },
    {
     "data": {
      "text/plain": [
       "str"
      ]
     },
     "execution_count": 25,
     "metadata": {},
     "output_type": "execute_result"
    }
   ],
   "source": [
    "print(welcome_string)\n",
    "type(welcome_string)"
   ]
  },
  {
   "cell_type": "code",
   "execution_count": 26,
   "id": "1b0aafe1",
   "metadata": {},
   "outputs": [],
   "source": [
    "boolean_var=True"
   ]
  },
  {
   "cell_type": "code",
   "execution_count": 27,
   "id": "05d151dd",
   "metadata": {},
   "outputs": [
    {
     "data": {
      "text/plain": [
       "bool"
      ]
     },
     "execution_count": 27,
     "metadata": {},
     "output_type": "execute_result"
    }
   ],
   "source": [
    "type(boolean_var)"
   ]
  },
  {
   "cell_type": "code",
   "execution_count": 28,
   "id": "14e28814",
   "metadata": {},
   "outputs": [],
   "source": [
    "boolean_var='True'"
   ]
  },
  {
   "cell_type": "code",
   "execution_count": 29,
   "id": "9eaefffc",
   "metadata": {},
   "outputs": [
    {
     "data": {
      "text/plain": [
       "str"
      ]
     },
     "execution_count": 29,
     "metadata": {},
     "output_type": "execute_result"
    }
   ],
   "source": [
    "type (boolean_var)"
   ]
  },
  {
   "cell_type": "markdown",
   "id": "3968a924",
   "metadata": {},
   "source": [
    "# Type casting"
   ]
  },
  {
   "cell_type": "code",
   "execution_count": 32,
   "id": "1587c152",
   "metadata": {},
   "outputs": [
    {
     "data": {
      "text/plain": [
       "int"
      ]
     },
     "execution_count": 32,
     "metadata": {},
     "output_type": "execute_result"
    }
   ],
   "source": [
    "var=2\n",
    "type(var)"
   ]
  },
  {
   "cell_type": "code",
   "execution_count": 33,
   "id": "7610561b",
   "metadata": {},
   "outputs": [
    {
     "data": {
      "text/plain": [
       "2.0"
      ]
     },
     "execution_count": 33,
     "metadata": {},
     "output_type": "execute_result"
    }
   ],
   "source": [
    "float(var)"
   ]
  },
  {
   "cell_type": "code",
   "execution_count": 34,
   "id": "03d82e55",
   "metadata": {},
   "outputs": [
    {
     "data": {
      "text/plain": [
       "float"
      ]
     },
     "execution_count": 34,
     "metadata": {},
     "output_type": "execute_result"
    }
   ],
   "source": [
    "var=2.2\n",
    "type(var)"
   ]
  },
  {
   "cell_type": "code",
   "execution_count": 35,
   "id": "1b34def0",
   "metadata": {},
   "outputs": [
    {
     "data": {
      "text/plain": [
       "2"
      ]
     },
     "execution_count": 35,
     "metadata": {},
     "output_type": "execute_result"
    }
   ],
   "source": [
    "int(var)"
   ]
  },
  {
   "cell_type": "code",
   "execution_count": 36,
   "id": "264c4b92",
   "metadata": {},
   "outputs": [
    {
     "data": {
      "text/plain": [
       "2"
      ]
     },
     "execution_count": 36,
     "metadata": {},
     "output_type": "execute_result"
    }
   ],
   "source": [
    "int(\"2\")"
   ]
  },
  {
   "cell_type": "code",
   "execution_count": 37,
   "id": "ff933e63",
   "metadata": {},
   "outputs": [
    {
     "name": "stdout",
     "output_type": "stream",
     "text": [
      "2.5\n"
     ]
    }
   ],
   "source": [
    "string_var=\"2.5\"\n",
    "float_var=float(string_var)\n",
    "int_var=int()\n",
    "print(float_var)"
   ]
  },
  {
   "cell_type": "code",
   "execution_count": 40,
   "id": "a57fc36b",
   "metadata": {},
   "outputs": [
    {
     "name": "stdout",
     "output_type": "stream",
     "text": [
      "2\n"
     ]
    }
   ],
   "source": [
    "string_var=\"2.5\"\n",
    "float_var=float(string_var)\n",
    "int_var=int(float_var)\n",
    "print(int_var)"
   ]
  },
  {
   "cell_type": "code",
   "execution_count": 41,
   "id": "020fe6ef",
   "metadata": {},
   "outputs": [
    {
     "name": "stdout",
     "output_type": "stream",
     "text": [
      "2\n"
     ]
    }
   ],
   "source": [
    "string_var=\"2.5\"\n",
    "int_var=int(float(string_var))\n",
    "print(int_var)"
   ]
  },
  {
   "cell_type": "code",
   "execution_count": 42,
   "id": "fe134182",
   "metadata": {},
   "outputs": [
    {
     "name": "stdout",
     "output_type": "stream",
     "text": [
      "3\n"
     ]
    }
   ],
   "source": [
    "string_var=\"3.1\"\n",
    "int_var=int(float(string_var))\n",
    "print(int_var)"
   ]
  },
  {
   "cell_type": "markdown",
   "id": "2ef9ec8c",
   "metadata": {},
   "source": [
    "#string to int for floor number"
   ]
  },
  {
   "cell_type": "code",
   "execution_count": 44,
   "id": "f0cda4d6",
   "metadata": {},
   "outputs": [],
   "source": [
    "string_var='ABCDEFGH'"
   ]
  },
  {
   "cell_type": "code",
   "execution_count": 47,
   "id": "6080b20b",
   "metadata": {},
   "outputs": [
    {
     "name": "stdout",
     "output_type": "stream",
     "text": [
      "C\n"
     ]
    },
    {
     "data": {
      "text/plain": [
       "str"
      ]
     },
     "execution_count": 47,
     "metadata": {},
     "output_type": "execute_result"
    }
   ],
   "source": [
    "print(string_var[2])\n",
    "type(string_var)"
   ]
  },
  {
   "cell_type": "code",
   "execution_count": 48,
   "id": "c5ae3257",
   "metadata": {},
   "outputs": [
    {
     "ename": "NameError",
     "evalue": "name 'string' is not defined",
     "output_type": "error",
     "traceback": [
      "\u001b[1;31m---------------------------------------------------------------------------\u001b[0m",
      "\u001b[1;31mNameError\u001b[0m                                 Traceback (most recent call last)",
      "\u001b[1;32m~\\AppData\\Local\\Temp/ipykernel_17676/3533463867.py\u001b[0m in \u001b[0;36m<module>\u001b[1;34m\u001b[0m\n\u001b[1;32m----> 1\u001b[1;33m \u001b[0mstring\u001b[0m\u001b[1;33m[\u001b[0m\u001b[1;36m2\u001b[0m\u001b[1;33m]\u001b[0m\u001b[1;33m=\u001b[0m\u001b[1;34m't'\u001b[0m\u001b[1;33m\u001b[0m\u001b[1;33m\u001b[0m\u001b[0m\n\u001b[0m",
      "\u001b[1;31mNameError\u001b[0m: name 'string' is not defined"
     ]
    }
   ],
   "source": [
    "string[2]='t'"
   ]
  },
  {
   "cell_type": "code",
   "execution_count": 49,
   "id": "b4c5034f",
   "metadata": {},
   "outputs": [],
   "source": [
    "string_var='ABtDEFGH'"
   ]
  },
  {
   "cell_type": "code",
   "execution_count": 50,
   "id": "07c10319",
   "metadata": {},
   "outputs": [
    {
     "data": {
      "text/plain": [
       "str"
      ]
     },
     "execution_count": 50,
     "metadata": {},
     "output_type": "execute_result"
    }
   ],
   "source": [
    "type(string_var)"
   ]
  },
  {
   "cell_type": "code",
   "execution_count": 51,
   "id": "a031cda3",
   "metadata": {},
   "outputs": [
    {
     "data": {
      "text/plain": [
       "'ABtDEFGH'"
      ]
     },
     "execution_count": 51,
     "metadata": {},
     "output_type": "execute_result"
    }
   ],
   "source": [
    "string_var='ABtDEFGH'\n",
    "string_var"
   ]
  },
  {
   "cell_type": "code",
   "execution_count": 52,
   "id": "eb0bbd35",
   "metadata": {},
   "outputs": [
    {
     "name": "stdout",
     "output_type": "stream",
     "text": [
      "3.0\n"
     ]
    }
   ],
   "source": [
    "x=3.5\n",
    "print(float(int(x)))"
   ]
  },
  {
   "cell_type": "code",
   "execution_count": 53,
   "id": "44c965b4",
   "metadata": {},
   "outputs": [
    {
     "data": {
      "text/plain": [
       "3.0"
      ]
     },
     "execution_count": 53,
     "metadata": {},
     "output_type": "execute_result"
    }
   ],
   "source": [
    "x=3.5\n",
    "int(x)\n",
    "float(int(x))"
   ]
  },
  {
   "cell_type": "markdown",
   "id": "727f939d",
   "metadata": {},
   "source": [
    "# arithmatic operation"
   ]
  },
  {
   "cell_type": "code",
   "execution_count": 54,
   "id": "8c856411",
   "metadata": {},
   "outputs": [
    {
     "data": {
      "text/plain": [
       "4"
      ]
     },
     "execution_count": 54,
     "metadata": {},
     "output_type": "execute_result"
    }
   ],
   "source": [
    "2+2"
   ]
  },
  {
   "cell_type": "code",
   "execution_count": 55,
   "id": "620d99d6",
   "metadata": {},
   "outputs": [
    {
     "data": {
      "text/plain": [
       "6"
      ]
     },
     "execution_count": 55,
     "metadata": {},
     "output_type": "execute_result"
    }
   ],
   "source": [
    "9-3"
   ]
  },
  {
   "cell_type": "code",
   "execution_count": 56,
   "id": "11289378",
   "metadata": {},
   "outputs": [
    {
     "data": {
      "text/plain": [
       "30"
      ]
     },
     "execution_count": 56,
     "metadata": {},
     "output_type": "execute_result"
    }
   ],
   "source": [
    "5*6"
   ]
  },
  {
   "cell_type": "code",
   "execution_count": 57,
   "id": "bdb5b091",
   "metadata": {},
   "outputs": [
    {
     "data": {
      "text/plain": [
       "17.0"
      ]
     },
     "execution_count": 57,
     "metadata": {},
     "output_type": "execute_result"
    }
   ],
   "source": [
    "85/5"
   ]
  },
  {
   "cell_type": "code",
   "execution_count": 58,
   "id": "bfa6df65",
   "metadata": {},
   "outputs": [
    {
     "data": {
      "text/plain": [
       "243"
      ]
     },
     "execution_count": 58,
     "metadata": {},
     "output_type": "execute_result"
    }
   ],
   "source": [
    "3**5"
   ]
  },
  {
   "cell_type": "code",
   "execution_count": 60,
   "id": "2a101199",
   "metadata": {},
   "outputs": [
    {
     "data": {
      "text/plain": [
       "8"
      ]
     },
     "execution_count": 60,
     "metadata": {},
     "output_type": "execute_result"
    }
   ],
   "source": [
    "60//7"
   ]
  },
  {
   "cell_type": "code",
   "execution_count": 61,
   "id": "0972ffbf",
   "metadata": {},
   "outputs": [
    {
     "data": {
      "text/plain": [
       "4"
      ]
     },
     "execution_count": 61,
     "metadata": {},
     "output_type": "execute_result"
    }
   ],
   "source": [
    "60%7"
   ]
  },
  {
   "cell_type": "code",
   "execution_count": 62,
   "id": "469e511e",
   "metadata": {},
   "outputs": [
    {
     "name": "stdout",
     "output_type": "stream",
     "text": [
      "11.857142857142858\n"
     ]
    }
   ],
   "source": [
    "print((4*5)-9+6/7)"
   ]
  },
  {
   "cell_type": "code",
   "execution_count": 66,
   "id": "8915f9b7",
   "metadata": {},
   "outputs": [
    {
     "name": "stdout",
     "output_type": "stream",
     "text": [
      "68\n",
      "68\n",
      "68\n",
      "68\n",
      "68\n"
     ]
    }
   ],
   "source": [
    "print(4+(8**2)-3**2%1)\n",
    "print(4+(64)-3**2%1)\n",
    "print(4+(64)-9%1)\n",
    "print(4+(64)-0)\n",
    "print(68)"
   ]
  },
  {
   "cell_type": "code",
   "execution_count": 67,
   "id": "5812394b",
   "metadata": {},
   "outputs": [
    {
     "data": {
      "text/plain": [
       "0"
      ]
     },
     "execution_count": 67,
     "metadata": {},
     "output_type": "execute_result"
    }
   ],
   "source": [
    "9%1"
   ]
  },
  {
   "cell_type": "code",
   "execution_count": 64,
   "id": "3e85010f",
   "metadata": {},
   "outputs": [
    {
     "name": "stdout",
     "output_type": "stream",
     "text": [
      "0\n"
     ]
    }
   ],
   "source": [
    "print(4%(1+9)**260//(7+2))"
   ]
  },
  {
   "cell_type": "markdown",
   "id": "a5ab7258",
   "metadata": {},
   "source": [
    "# String operation"
   ]
  },
  {
   "cell_type": "code",
   "execution_count": 68,
   "id": "c04bbab1",
   "metadata": {},
   "outputs": [],
   "source": [
    "a='Rob'\n",
    "b='john'\n",
    "c='mike'"
   ]
  },
  {
   "cell_type": "code",
   "execution_count": 69,
   "id": "bf39c197",
   "metadata": {},
   "outputs": [
    {
     "name": "stdout",
     "output_type": "stream",
     "text": [
      "Rob\n",
      "john\n",
      "mike\n"
     ]
    }
   ],
   "source": [
    "print(a)\n",
    "print(b)\n",
    "print(c)"
   ]
  },
  {
   "cell_type": "code",
   "execution_count": 70,
   "id": "bd0006d5",
   "metadata": {},
   "outputs": [
    {
     "data": {
      "text/plain": [
       "3"
      ]
     },
     "execution_count": 70,
     "metadata": {},
     "output_type": "execute_result"
    }
   ],
   "source": [
    "len(a)"
   ]
  },
  {
   "cell_type": "code",
   "execution_count": 71,
   "id": "412a2207",
   "metadata": {},
   "outputs": [
    {
     "data": {
      "text/plain": [
       "4"
      ]
     },
     "execution_count": 71,
     "metadata": {},
     "output_type": "execute_result"
    }
   ],
   "source": [
    "len(c)"
   ]
  },
  {
   "cell_type": "code",
   "execution_count": 72,
   "id": "b3efcd39",
   "metadata": {},
   "outputs": [
    {
     "data": {
      "text/plain": [
       "'b'"
      ]
     },
     "execution_count": 72,
     "metadata": {},
     "output_type": "execute_result"
    }
   ],
   "source": [
    "a[2]"
   ]
  },
  {
   "cell_type": "code",
   "execution_count": 73,
   "id": "9f2163d4",
   "metadata": {},
   "outputs": [
    {
     "data": {
      "text/plain": [
       "'b'"
      ]
     },
     "execution_count": 73,
     "metadata": {},
     "output_type": "execute_result"
    }
   ],
   "source": [
    "a[-1]"
   ]
  },
  {
   "cell_type": "code",
   "execution_count": 75,
   "id": "d4c85f1a",
   "metadata": {},
   "outputs": [
    {
     "data": {
      "text/plain": [
       "'d'"
      ]
     },
     "execution_count": 75,
     "metadata": {},
     "output_type": "execute_result"
    }
   ],
   "source": [
    "string_var=\"hello world\"\n",
    "len_string_var=len(string_var)\n",
    "string_var[len_string_var-1]"
   ]
  },
  {
   "cell_type": "markdown",
   "id": "50ded574",
   "metadata": {},
   "source": [
    "# immutability"
   ]
  },
  {
   "cell_type": "code",
   "execution_count": 79,
   "id": "60dec3ed",
   "metadata": {},
   "outputs": [
    {
     "data": {
      "text/plain": [
       "'o'"
      ]
     },
     "execution_count": 79,
     "metadata": {},
     "output_type": "execute_result"
    }
   ],
   "source": [
    "a='Rob'\n",
    "a[1]"
   ]
  },
  {
   "cell_type": "code",
   "execution_count": 81,
   "id": "ddad4bd3",
   "metadata": {},
   "outputs": [
    {
     "data": {
      "text/plain": [
       "'t'"
      ]
     },
     "execution_count": 81,
     "metadata": {},
     "output_type": "execute_result"
    }
   ],
   "source": [
    "a='Rtb'\n",
    "a[1]"
   ]
  },
  {
   "cell_type": "markdown",
   "id": "45248601",
   "metadata": {},
   "source": [
    "# concat"
   ]
  },
  {
   "cell_type": "code",
   "execution_count": 83,
   "id": "9b79f2c5",
   "metadata": {},
   "outputs": [
    {
     "name": "stdout",
     "output_type": "stream",
     "text": [
      "ram verma\n",
      "ramverma\n"
     ]
    }
   ],
   "source": [
    "first_name=\"ram\"\n",
    "last_name=\"verma\"\n",
    "\n",
    "print(first_name+\" \" + last_name)\n",
    "print(first_name+ last_name)"
   ]
  },
  {
   "cell_type": "markdown",
   "id": "4d60e390",
   "metadata": {},
   "source": [
    "# Slicing"
   ]
  },
  {
   "cell_type": "markdown",
   "id": "a88b3fad",
   "metadata": {},
   "source": [
    "# string[start:end:step]"
   ]
  },
  {
   "cell_type": "code",
   "execution_count": 84,
   "id": "b7226938",
   "metadata": {},
   "outputs": [
    {
     "name": "stdout",
     "output_type": "stream",
     "text": [
      "hello \n"
     ]
    }
   ],
   "source": [
    "string='hello world'\n",
    "slice_string=string[:6]\n",
    "print(slice_string)"
   ]
  },
  {
   "cell_type": "code",
   "execution_count": 86,
   "id": "57e1787b",
   "metadata": {},
   "outputs": [
    {
     "name": "stdout",
     "output_type": "stream",
     "text": [
      "9 girls \n"
     ]
    }
   ],
   "source": [
    "class_students=\"9 girls 3 boys are in the class\"\n",
    "girls=class_students[:8]\n",
    "print(girls)"
   ]
  },
  {
   "cell_type": "code",
   "execution_count": 87,
   "id": "2eee6f88",
   "metadata": {},
   "outputs": [],
   "source": [
    "string='Raj! Did you attend the class today?'"
   ]
  },
  {
   "cell_type": "code",
   "execution_count": 88,
   "id": "ce7246f2",
   "metadata": {},
   "outputs": [
    {
     "name": "stdout",
     "output_type": "stream",
     "text": [
      "Raj! Did you attend the class today?\n"
     ]
    }
   ],
   "source": [
    "print(string)"
   ]
  },
  {
   "cell_type": "code",
   "execution_count": 89,
   "id": "f19fd322",
   "metadata": {},
   "outputs": [
    {
     "name": "stdout",
     "output_type": "stream",
     "text": [
      "False\n"
     ]
    }
   ],
   "source": [
    "print('raj' in string)"
   ]
  },
  {
   "cell_type": "code",
   "execution_count": 90,
   "id": "ca5a8cf2",
   "metadata": {},
   "outputs": [
    {
     "name": "stdout",
     "output_type": "stream",
     "text": [
      "True\n"
     ]
    }
   ],
   "source": [
    "print('Raj' in string)"
   ]
  },
  {
   "cell_type": "code",
   "execution_count": 91,
   "id": "c78609af",
   "metadata": {},
   "outputs": [
    {
     "name": "stdout",
     "output_type": "stream",
     "text": [
      "False\n"
     ]
    }
   ],
   "source": [
    "print('john' in string)"
   ]
  },
  {
   "cell_type": "code",
   "execution_count": 92,
   "id": "081d953c",
   "metadata": {},
   "outputs": [
    {
     "name": "stdout",
     "output_type": "stream",
     "text": [
      "abcdabcd\n"
     ]
    }
   ],
   "source": [
    "string='abcd'\n",
    "print(string*2)"
   ]
  },
  {
   "cell_type": "markdown",
   "id": "6f114ab6",
   "metadata": {},
   "source": [
    "# String methods"
   ]
  },
  {
   "cell_type": "code",
   "execution_count": 93,
   "id": "a4eec6e3",
   "metadata": {},
   "outputs": [
    {
     "name": "stdout",
     "output_type": "stream",
     "text": [
      "I HAVE A CAT\n"
     ]
    }
   ],
   "source": [
    "# upper()\n",
    "text='i have a cat'\n",
    "print(text.upper())"
   ]
  },
  {
   "cell_type": "code",
   "execution_count": 94,
   "id": "e5a45347",
   "metadata": {},
   "outputs": [
    {
     "name": "stdout",
     "output_type": "stream",
     "text": [
      "i have a cat\n"
     ]
    }
   ],
   "source": [
    "print(text)"
   ]
  },
  {
   "cell_type": "code",
   "execution_count": 95,
   "id": "33d71b3a",
   "metadata": {},
   "outputs": [
    {
     "name": "stdout",
     "output_type": "stream",
     "text": [
      "i have a cat\n"
     ]
    }
   ],
   "source": [
    "# lower()\n",
    "text='I Have a caT'\n",
    "print(text.lower())"
   ]
  },
  {
   "cell_type": "code",
   "execution_count": 96,
   "id": "521d36be",
   "metadata": {},
   "outputs": [
    {
     "name": "stdout",
     "output_type": "stream",
     "text": [
      "I Have a caT\n"
     ]
    }
   ],
   "source": [
    "print(text)"
   ]
  },
  {
   "cell_type": "code",
   "execution_count": null,
   "id": "4946d2a1",
   "metadata": {},
   "outputs": [],
   "source": [
    " strip--> remove white spaces"
   ]
  },
  {
   "cell_type": "code",
   "execution_count": 113,
   "id": "0b9eda71",
   "metadata": {},
   "outputs": [
    {
     "name": "stdout",
     "output_type": "stream",
     "text": [
      "i have a cat\n",
      "i have a cat\n"
     ]
    }
   ],
   "source": [
    "# rstrip()\n",
    "text='i have a cat'\n",
    "print(text)\n",
    "print(text.rstrip())\n",
    "new_text = text.rstrip()"
   ]
  },
  {
   "cell_type": "code",
   "execution_count": 114,
   "id": "899bec55",
   "metadata": {},
   "outputs": [
    {
     "name": "stdout",
     "output_type": "stream",
     "text": [
      "i have a cat                 \n",
      "i have a cat\n"
     ]
    }
   ],
   "source": [
    "# rstrip()  \n",
    "text = 'i have a cat                 '\n",
    "print(text)\n",
    "print(text.rstrip())\n",
    "new_text=text.rstrip()"
   ]
  },
  {
   "cell_type": "code",
   "execution_count": 115,
   "id": "434c8d74",
   "metadata": {},
   "outputs": [
    {
     "data": {
      "text/plain": [
       "29"
      ]
     },
     "execution_count": 115,
     "metadata": {},
     "output_type": "execute_result"
    }
   ],
   "source": [
    "len(text)"
   ]
  },
  {
   "cell_type": "code",
   "execution_count": 116,
   "id": "b13ddf98",
   "metadata": {},
   "outputs": [
    {
     "data": {
      "text/plain": [
       "12"
      ]
     },
     "execution_count": 116,
     "metadata": {},
     "output_type": "execute_result"
    }
   ],
   "source": [
    "len(new_text)"
   ]
  },
  {
   "cell_type": "code",
   "execution_count": 118,
   "id": "b73c1720",
   "metadata": {},
   "outputs": [
    {
     "name": "stdout",
     "output_type": "stream",
     "text": [
      "          i have a cat \n",
      "i have a cat \n"
     ]
    }
   ],
   "source": [
    "# lstrip()\n",
    "text='          i have a cat '\n",
    "print(text)\n",
    "print(text.lstrip())\n",
    "new_text_lstrip=text.lstrip()"
   ]
  },
  {
   "cell_type": "code",
   "execution_count": 126,
   "id": "019a5c99",
   "metadata": {},
   "outputs": [
    {
     "name": "stdout",
     "output_type": "stream",
     "text": [
      "*****************456789#########\n"
     ]
    }
   ],
   "source": [
    "# strip()\n",
    "text ='*****************456789#########'\n",
    "print(text)\n",
    "new_text=text.rstrip('#').lstrip('*')"
   ]
  },
  {
   "cell_type": "code",
   "execution_count": 127,
   "id": "b2ae8284",
   "metadata": {},
   "outputs": [
    {
     "name": "stdout",
     "output_type": "stream",
     "text": [
      "456789\n"
     ]
    }
   ],
   "source": [
    "print(new_text)"
   ]
  },
  {
   "cell_type": "code",
   "execution_count": 136,
   "id": "22c4bfcf",
   "metadata": {},
   "outputs": [
    {
     "name": "stdout",
     "output_type": "stream",
     "text": [
      "4\n",
      "3\n"
     ]
    }
   ],
   "source": [
    "#count()\n",
    "text='this is asample sentence in this example'\n",
    "C='Python'\n",
    "print(text.count('i'))\n",
    "print(text.count('i',5))"
   ]
  },
  {
   "cell_type": "markdown",
   "id": "e5c40d15",
   "metadata": {},
   "source": [
    "# encrypted message"
   ]
  },
  {
   "cell_type": "code",
   "execution_count": 142,
   "id": "42817299",
   "metadata": {},
   "outputs": [
    {
     "name": "stdout",
     "output_type": "stream",
     "text": [
      "bandai,mumra\n"
     ]
    }
   ],
   "source": [
    "input='bmaunmdraai'\n",
    "message1=input[0::2]\n",
    "message2=input[1::2]\n",
    "\n",
    "print(message1+','+ message2)"
   ]
  },
  {
   "cell_type": "markdown",
   "id": "beeacd08",
   "metadata": {},
   "source": [
    "# LIST"
   ]
  },
  {
   "cell_type": "code",
   "execution_count": 143,
   "id": "8c066b5e",
   "metadata": {},
   "outputs": [],
   "source": [
    "new_list=[1,2,3,4]"
   ]
  },
  {
   "cell_type": "code",
   "execution_count": 144,
   "id": "700567a7",
   "metadata": {},
   "outputs": [
    {
     "data": {
      "text/plain": [
       "[1, 2, 3, 4]"
      ]
     },
     "execution_count": 144,
     "metadata": {},
     "output_type": "execute_result"
    }
   ],
   "source": [
    "new_list"
   ]
  },
  {
   "cell_type": "code",
   "execution_count": 145,
   "id": "b6959118",
   "metadata": {},
   "outputs": [],
   "source": [
    "new_list=[\"python\",\"is\",2,5,5.6]"
   ]
  },
  {
   "cell_type": "code",
   "execution_count": 146,
   "id": "c5b1c331",
   "metadata": {},
   "outputs": [
    {
     "data": {
      "text/plain": [
       "['python', 'is', 2, 5, 5.6]"
      ]
     },
     "execution_count": 146,
     "metadata": {},
     "output_type": "execute_result"
    }
   ],
   "source": [
    "new_list"
   ]
  },
  {
   "cell_type": "code",
   "execution_count": 147,
   "id": "c2fb08b2",
   "metadata": {},
   "outputs": [
    {
     "data": {
      "text/plain": [
       "list"
      ]
     },
     "execution_count": 147,
     "metadata": {},
     "output_type": "execute_result"
    }
   ],
   "source": [
    "type(new_list)"
   ]
  },
  {
   "cell_type": "code",
   "execution_count": 149,
   "id": "f817e8d3",
   "metadata": {},
   "outputs": [],
   "source": [
    "list1=[1,2,3,4]\n",
    "list2=[5,6,7,8,[9,10]]"
   ]
  },
  {
   "cell_type": "code",
   "execution_count": 150,
   "id": "f9825660",
   "metadata": {},
   "outputs": [
    {
     "data": {
      "text/plain": [
       "5"
      ]
     },
     "execution_count": 150,
     "metadata": {},
     "output_type": "execute_result"
    }
   ],
   "source": [
    "len(list2)"
   ]
  },
  {
   "cell_type": "code",
   "execution_count": 151,
   "id": "395881e8",
   "metadata": {},
   "outputs": [
    {
     "data": {
      "text/plain": [
       "6"
      ]
     },
     "execution_count": 151,
     "metadata": {},
     "output_type": "execute_result"
    }
   ],
   "source": [
    "list2=[5,6,7,8,9,10]\n",
    "len(list2)"
   ]
  },
  {
   "cell_type": "code",
   "execution_count": 153,
   "id": "9a1ca612",
   "metadata": {},
   "outputs": [
    {
     "data": {
      "text/plain": [
       "5"
      ]
     },
     "execution_count": 153,
     "metadata": {},
     "output_type": "execute_result"
    }
   ],
   "source": [
    "list2[0]"
   ]
  },
  {
   "cell_type": "code",
   "execution_count": 154,
   "id": "4555ffeb",
   "metadata": {},
   "outputs": [
    {
     "name": "stdout",
     "output_type": "stream",
     "text": [
      "5\n",
      "[55, 6, 7, 8, 9, 10]\n"
     ]
    }
   ],
   "source": [
    "list2=[5,6,7,8,9,10]\n",
    "print(list2[0])\n",
    "list2[0]=55\n",
    "print(list2)"
   ]
  },
  {
   "cell_type": "code",
   "execution_count": 155,
   "id": "17e5cf20",
   "metadata": {},
   "outputs": [],
   "source": [
    "var2=[5,6,7,8,9,10]"
   ]
  },
  {
   "cell_type": "code",
   "execution_count": 156,
   "id": "df5a2169",
   "metadata": {},
   "outputs": [
    {
     "data": {
      "text/plain": [
       "list"
      ]
     },
     "execution_count": 156,
     "metadata": {},
     "output_type": "execute_result"
    }
   ],
   "source": [
    "type(var2)"
   ]
  },
  {
   "cell_type": "code",
   "execution_count": 157,
   "id": "b1ee1fe5",
   "metadata": {},
   "outputs": [],
   "source": [
    "var2=(5,6,7,8,9,10)"
   ]
  },
  {
   "cell_type": "code",
   "execution_count": 158,
   "id": "9f042f40",
   "metadata": {},
   "outputs": [
    {
     "data": {
      "text/plain": [
       "tuple"
      ]
     },
     "execution_count": 158,
     "metadata": {},
     "output_type": "execute_result"
    }
   ],
   "source": [
    "type(var2)"
   ]
  },
  {
   "cell_type": "code",
   "execution_count": 159,
   "id": "7c61dc37",
   "metadata": {},
   "outputs": [],
   "source": [
    "var2={5,6,7,8,9,10}"
   ]
  },
  {
   "cell_type": "code",
   "execution_count": 160,
   "id": "5921a316",
   "metadata": {},
   "outputs": [
    {
     "data": {
      "text/plain": [
       "set"
      ]
     },
     "execution_count": 160,
     "metadata": {},
     "output_type": "execute_result"
    }
   ],
   "source": [
    "type(var2)"
   ]
  },
  {
   "cell_type": "code",
   "execution_count": 161,
   "id": "734654e2",
   "metadata": {},
   "outputs": [
    {
     "name": "stdout",
     "output_type": "stream",
     "text": [
      "55\n",
      "[55, 6, 7, 8, 9, 10]\n"
     ]
    }
   ],
   "source": [
    "tuple2=[5,6,7,8,9,10] # tuple\n",
    "print(list2[0])\n",
    "tuple2[0]=55\n",
    "print(list2)"
   ]
  },
  {
   "cell_type": "code",
   "execution_count": 163,
   "id": "4388cd9c",
   "metadata": {},
   "outputs": [
    {
     "name": "stdout",
     "output_type": "stream",
     "text": [
      "5\n"
     ]
    },
    {
     "ename": "TypeError",
     "evalue": "'tuple' object does not support item assignment",
     "output_type": "error",
     "traceback": [
      "\u001b[1;31m---------------------------------------------------------------------------\u001b[0m",
      "\u001b[1;31mTypeError\u001b[0m                                 Traceback (most recent call last)",
      "\u001b[1;32m~\\AppData\\Local\\Temp/ipykernel_17676/2486954095.py\u001b[0m in \u001b[0;36m<module>\u001b[1;34m\u001b[0m\n\u001b[0;32m      1\u001b[0m \u001b[0mtuple2\u001b[0m\u001b[1;33m=\u001b[0m\u001b[1;33m(\u001b[0m\u001b[1;36m5\u001b[0m\u001b[1;33m,\u001b[0m\u001b[1;36m6\u001b[0m\u001b[1;33m,\u001b[0m\u001b[1;36m7\u001b[0m\u001b[1;33m,\u001b[0m\u001b[1;36m8\u001b[0m\u001b[1;33m,\u001b[0m\u001b[1;36m9\u001b[0m\u001b[1;33m,\u001b[0m\u001b[1;36m10\u001b[0m\u001b[1;33m)\u001b[0m\u001b[1;33m\u001b[0m\u001b[1;33m\u001b[0m\u001b[0m\n\u001b[0;32m      2\u001b[0m \u001b[0mprint\u001b[0m\u001b[1;33m(\u001b[0m\u001b[0mtuple2\u001b[0m\u001b[1;33m[\u001b[0m\u001b[1;36m0\u001b[0m\u001b[1;33m]\u001b[0m\u001b[1;33m)\u001b[0m\u001b[1;33m\u001b[0m\u001b[1;33m\u001b[0m\u001b[0m\n\u001b[1;32m----> 3\u001b[1;33m \u001b[0mtuple2\u001b[0m\u001b[1;33m[\u001b[0m\u001b[1;36m0\u001b[0m\u001b[1;33m]\u001b[0m\u001b[1;33m=\u001b[0m\u001b[1;36m55\u001b[0m\u001b[1;33m\u001b[0m\u001b[1;33m\u001b[0m\u001b[0m\n\u001b[0m\u001b[0;32m      4\u001b[0m \u001b[0mprint\u001b[0m\u001b[1;33m(\u001b[0m\u001b[0mtuple2\u001b[0m\u001b[1;33m)\u001b[0m\u001b[1;33m\u001b[0m\u001b[1;33m\u001b[0m\u001b[0m\n",
      "\u001b[1;31mTypeError\u001b[0m: 'tuple' object does not support item assignment"
     ]
    }
   ],
   "source": [
    "tuple2=(5,6,7,8,9,10)\n",
    "print(tuple2[0])\n",
    "tuple2[0]=55\n",
    "print(tuple2)"
   ]
  },
  {
   "cell_type": "code",
   "execution_count": 164,
   "id": "6d77d52f",
   "metadata": {},
   "outputs": [],
   "source": [
    "# set\n",
    "set_a={'a','b','c'}"
   ]
  },
  {
   "cell_type": "code",
   "execution_count": 165,
   "id": "54bfe52f",
   "metadata": {},
   "outputs": [
    {
     "name": "stdout",
     "output_type": "stream",
     "text": [
      "{'c', 'a', 'b'}\n"
     ]
    }
   ],
   "source": [
    "print(set_a)"
   ]
  },
  {
   "cell_type": "code",
   "execution_count": null,
   "id": "5cc9d9b9",
   "metadata": {},
   "outputs": [],
   "source": []
  }
 ],
 "metadata": {
  "kernelspec": {
   "display_name": "Python 3 (ipykernel)",
   "language": "python",
   "name": "python3"
  },
  "language_info": {
   "codemirror_mode": {
    "name": "ipython",
    "version": 3
   },
   "file_extension": ".py",
   "mimetype": "text/x-python",
   "name": "python",
   "nbconvert_exporter": "python",
   "pygments_lexer": "ipython3",
   "version": "3.9.7"
  }
 },
 "nbformat": 4,
 "nbformat_minor": 5
}
