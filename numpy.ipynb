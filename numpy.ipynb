{
 "cells": [
  {
   "cell_type": "markdown",
   "id": "a1b7da06",
   "metadata": {},
   "source": [
    "# numpy vs list "
   ]
  },
  {
   "cell_type": "code",
   "execution_count": 4,
   "id": "39d56721",
   "metadata": {},
   "outputs": [
    {
     "name": "stdout",
     "output_type": "stream",
     "text": [
      "[1, 4.0, 'apple']\n"
     ]
    }
   ],
   "source": [
    "list1=[1,4.0,'apple']\n",
    "print(list1)"
   ]
  },
  {
   "cell_type": "code",
   "execution_count": 7,
   "id": "4bbefbb5",
   "metadata": {},
   "outputs": [
    {
     "name": "stdout",
     "output_type": "stream",
     "text": [
      "[1 2 3 4]\n"
     ]
    }
   ],
   "source": [
    "import numpy as np\n",
    "arr1=np.array([1, 2, 3, 4])\n",
    "print(arr1)"
   ]
  },
  {
   "cell_type": "code",
   "execution_count": 9,
   "id": "90716cf8",
   "metadata": {},
   "outputs": [
    {
     "name": "stdout",
     "output_type": "stream",
     "text": [
      "[2.  4.  6.5 9. ]\n"
     ]
    }
   ],
   "source": [
    "import numpy as np \n",
    "arr1=np.array([1,2,3,4])\n",
    "arr2=np.array([1,2,3.5,5])\n",
    "print(arr1+arr2)"
   ]
  },
  {
   "cell_type": "markdown",
   "id": "2b7234b1",
   "metadata": {},
   "source": [
    "type conversion take place if stored different data types."
   ]
  },
  {
   "cell_type": "code",
   "execution_count": 10,
   "id": "39d477e1",
   "metadata": {},
   "outputs": [
    {
     "name": "stdout",
     "output_type": "stream",
     "text": [
      "['1' '4.0' 'Apple']\n"
     ]
    }
   ],
   "source": [
    "arr2=np.array([1,4.0,'Apple'])\n",
    "print(arr2)"
   ]
  },
  {
   "cell_type": "code",
   "execution_count": 21,
   "id": "1113c513",
   "metadata": {},
   "outputs": [
    {
     "name": "stdout",
     "output_type": "stream",
     "text": [
      "['5' '6.8' 'boy']\n"
     ]
    }
   ],
   "source": [
    "arr2=np.array([2,2.5,'apple'])\n",
    "arr2=np.array([5,6.8,'boy'])\n",
    "print(arr2)"
   ]
  },
  {
   "cell_type": "code",
   "execution_count": 25,
   "id": "507e4da3",
   "metadata": {},
   "outputs": [
    {
     "name": "stdout",
     "output_type": "stream",
     "text": [
      "['5' '6.8' 'boy']\n"
     ]
    }
   ],
   "source": [
    "print(arr2)"
   ]
  },
  {
   "cell_type": "code",
   "execution_count": 29,
   "id": "0dbc288e",
   "metadata": {},
   "outputs": [
    {
     "name": "stdout",
     "output_type": "stream",
     "text": [
      "[11.  15.6 13. ]\n"
     ]
    }
   ],
   "source": [
    "import numpy as np\n",
    "arr1=np.array([4,5.8,8])\n",
    "arr2=np.array([7,9.8,5])\n",
    "print(arr1+arr2)"
   ]
  },
  {
   "cell_type": "code",
   "execution_count": 30,
   "id": "f29b0a91",
   "metadata": {},
   "outputs": [
    {
     "name": "stdout",
     "output_type": "stream",
     "text": [
      "[ 5 10 15 20]\n",
      "<class 'numpy.ndarray'>\n"
     ]
    }
   ],
   "source": [
    "arr=np.array([5,10,15,20])\n",
    "print(arr)\n",
    "print(type(arr))"
   ]
  },
  {
   "cell_type": "code",
   "execution_count": 31,
   "id": "14ce6dfe",
   "metadata": {},
   "outputs": [
    {
     "data": {
      "text/plain": [
       "array([1., 2., 3., 4.])"
      ]
     },
     "execution_count": 31,
     "metadata": {},
     "output_type": "execute_result"
    }
   ],
   "source": [
    "arr/5"
   ]
  },
  {
   "cell_type": "code",
   "execution_count": 32,
   "id": "7e73ce18",
   "metadata": {},
   "outputs": [
    {
     "name": "stdout",
     "output_type": "stream",
     "text": [
      "[5, 10, 15, 20]\n"
     ]
    }
   ],
   "source": [
    "list1=[5,10,15,20]\n",
    "print(list1)"
   ]
  },
  {
   "cell_type": "markdown",
   "id": "e6fd7d79",
   "metadata": {},
   "source": [
    "creating a scalar array"
   ]
  },
  {
   "cell_type": "code",
   "execution_count": 50,
   "id": "f7b3d0a6",
   "metadata": {},
   "outputs": [
    {
     "name": "stdout",
     "output_type": "stream",
     "text": [
      "5\n",
      "0\n",
      "int32\n"
     ]
    }
   ],
   "source": [
    "s=np.array(5)\n",
    "print(s)\n",
    "print(np.ndim(s))\n",
    "print(s.dtype)"
   ]
  },
  {
   "cell_type": "code",
   "execution_count": 51,
   "id": "9fb030ba",
   "metadata": {},
   "outputs": [
    {
     "name": "stdout",
     "output_type": "stream",
     "text": [
      "int32\n"
     ]
    }
   ],
   "source": [
    "print(s.dtype)"
   ]
  },
  {
   "cell_type": "code",
   "execution_count": 52,
   "id": "419931ec",
   "metadata": {},
   "outputs": [
    {
     "name": "stdout",
     "output_type": "stream",
     "text": [
      "[ 5.  10.  15.  85.   5.5]\n"
     ]
    }
   ],
   "source": [
    "s=np.array([5,10,15,85,5.5])\n",
    "print(s)"
   ]
  },
  {
   "cell_type": "code",
   "execution_count": 53,
   "id": "c1cd4ecd",
   "metadata": {},
   "outputs": [
    {
     "name": "stdout",
     "output_type": "stream",
     "text": [
      "float64\n"
     ]
    }
   ],
   "source": [
    "print(s.dtype)"
   ]
  },
  {
   "cell_type": "code",
   "execution_count": 55,
   "id": "e9a775e6",
   "metadata": {},
   "outputs": [
    {
     "name": "stdout",
     "output_type": "stream",
     "text": [
      "['5' '10' '15' '85' '5.5' 'python']\n",
      "1\n",
      "<U32\n"
     ]
    }
   ],
   "source": [
    "s=np.array([5,10,15,85,5.5,'python'])\n",
    "print(s)\n",
    "print(np.ndim(s))\n",
    "print(s.dtype)"
   ]
  },
  {
   "cell_type": "markdown",
   "id": "7772ecda",
   "metadata": {},
   "source": [
    "# creating dimensional array"
   ]
  },
  {
   "cell_type": "code",
   "execution_count": 58,
   "id": "2b16cef2",
   "metadata": {},
   "outputs": [
    {
     "name": "stdout",
     "output_type": "stream",
     "text": [
      "[1 2 3 4]\n",
      "int32\n",
      "1\n"
     ]
    }
   ],
   "source": [
    "a=[1,2,3,4]\n",
    "A=np.array(a)\n",
    "print(A)\n",
    "print(A.dtype)\n",
    "print(np.ndim(A))"
   ]
  },
  {
   "cell_type": "code",
   "execution_count": 59,
   "id": "66b541bb",
   "metadata": {},
   "outputs": [
    {
     "name": "stdout",
     "output_type": "stream",
     "text": [
      "[[1 2 3]\n",
      " [4 5 6]\n",
      " [7 8 9]]\n"
     ]
    }
   ],
   "source": [
    "b=[[1,2,3],[4,5,6],[7,8,9]]\n",
    "B=np.array(b)\n",
    "print(B)"
   ]
  },
  {
   "cell_type": "code",
   "execution_count": 61,
   "id": "ccc2a07b",
   "metadata": {},
   "outputs": [
    {
     "name": "stdout",
     "output_type": "stream",
     "text": [
      "2\n",
      "int32\n"
     ]
    }
   ],
   "source": [
    "print(np.ndim(B))\n",
    "print(B.dtype)"
   ]
  },
  {
   "cell_type": "code",
   "execution_count": 64,
   "id": "25297e27",
   "metadata": {},
   "outputs": [
    {
     "name": "stdout",
     "output_type": "stream",
     "text": [
      "[[[ 1  2]\n",
      "  [ 3  4]]\n",
      "\n",
      " [[ 5  6]\n",
      "  [ 7  8]]\n",
      "\n",
      " [[ 9 10]\n",
      "  [11 12]]]\n",
      "3\n",
      "int32\n"
     ]
    }
   ],
   "source": [
    "C=[[[1,2],[3,4]],[[5,6],[7,8]],[[9,10],[11,12]]]\n",
    "C=np.array(c)\n",
    "print(c)\n",
    "print(np.ndim(C))\n",
    "print(C.dtype)"
   ]
  },
  {
   "cell_type": "code",
   "execution_count": 66,
   "id": "e44adc31",
   "metadata": {},
   "outputs": [
    {
     "name": "stdout",
     "output_type": "stream",
     "text": [
      "1\n",
      "2\n",
      "3\n"
     ]
    },
    {
     "data": {
      "text/plain": [
       "dtype('int32')"
      ]
     },
     "execution_count": 66,
     "metadata": {},
     "output_type": "execute_result"
    }
   ],
   "source": [
    "print(A.ndim)\n",
    "print(B.ndim)\n",
    "print(C.ndim)\n",
    "\n",
    "A.dtype\n",
    "B.dtype\n",
    "C.dtype"
   ]
  },
  {
   "cell_type": "markdown",
   "id": "b4ded7f5",
   "metadata": {},
   "source": [
    "Accessing one dimensional array"
   ]
  },
  {
   "cell_type": "code",
   "execution_count": 69,
   "id": "b3d29d85",
   "metadata": {},
   "outputs": [
    {
     "name": "stdout",
     "output_type": "stream",
     "text": [
      "[1, 2, 3, 4, 5]\n",
      "(5,)\n"
     ]
    }
   ],
   "source": [
    "a=[1,2,3,4,5]\n",
    "A=np.array(a)\n",
    "print(a)\n",
    "print(A.shape)"
   ]
  },
  {
   "cell_type": "code",
   "execution_count": 70,
   "id": "50e5839b",
   "metadata": {},
   "outputs": [
    {
     "name": "stdout",
     "output_type": "stream",
     "text": [
      "4\n",
      "5\n"
     ]
    }
   ],
   "source": [
    "# method-1:positive indexing\n",
    "print(a[3])\n",
    "\n",
    "#method-2:negative indexing\n",
    "print(a[-1])"
   ]
  },
  {
   "cell_type": "code",
   "execution_count": 71,
   "id": "33fd0456",
   "metadata": {},
   "outputs": [
    {
     "name": "stdout",
     "output_type": "stream",
     "text": [
      "1\n",
      "3\n"
     ]
    }
   ],
   "source": [
    "print(a[0])\n",
    "print(a[-3])"
   ]
  },
  {
   "cell_type": "markdown",
   "id": "b106a2de",
   "metadata": {},
   "source": [
    "# Accesing two dim array\n",
    "\n",
    "'i' respect to rows and 'j' respect to columns"
   ]
  },
  {
   "cell_type": "code",
   "execution_count": 72,
   "id": "0a7280fe",
   "metadata": {},
   "outputs": [
    {
     "name": "stdout",
     "output_type": "stream",
     "text": [
      "[[1 2]\n",
      " [3 4]]\n",
      "(2, 2)\n"
     ]
    }
   ],
   "source": [
    "# creating two dimensional array\n",
    "\n",
    "b=[[1,2],[3,4]]\n",
    "B=np.array(b)\n",
    "print(B)\n",
    "print(B.shape)"
   ]
  },
  {
   "cell_type": "code",
   "execution_count": 74,
   "id": "3d2eebc6",
   "metadata": {},
   "outputs": [
    {
     "name": "stdout",
     "output_type": "stream",
     "text": [
      "1\n",
      "1\n"
     ]
    }
   ],
   "source": [
    "print(B[0][0])\n",
    "print(B[-2][-2])"
   ]
  },
  {
   "cell_type": "code",
   "execution_count": 75,
   "id": "6315bf9c",
   "metadata": {},
   "outputs": [
    {
     "name": "stdout",
     "output_type": "stream",
     "text": [
      "3\n",
      "3\n"
     ]
    }
   ],
   "source": [
    "print(B[1][0])\n",
    "print(B[-1][-2])"
   ]
  },
  {
   "cell_type": "markdown",
   "id": "cbfd9191",
   "metadata": {},
   "source": [
    "Accessing Three _Dimension Array\n",
    "\n",
    "two dimension array within arrays is called three-dimension arrays.\n",
    "\n",
    "\"i\"matrix index.\"j\"is row and\"k\" is columns."
   ]
  },
  {
   "cell_type": "code",
   "execution_count": 81,
   "id": "8baddf82",
   "metadata": {},
   "outputs": [
    {
     "name": "stdout",
     "output_type": "stream",
     "text": [
      "[[[ 1  2  3]\n",
      "  [ 4  5  6]\n",
      "  [ 7  8  9]]\n",
      "\n",
      " [[10 11 12]\n",
      "  [13 14 15]\n",
      "  [16 17 18]]]\n",
      "(2, 3, 3)\n"
     ]
    }
   ],
   "source": [
    "c=[[[1,2,3],[4,5,6],[7,8,9]], [[10,11,12],[13,14,15],[16,17,18]]]\n",
    "D=np.array(c)\n",
    "print(D)\n",
    "print(C.shape)"
   ]
  },
  {
   "cell_type": "markdown",
   "id": "aab12548",
   "metadata": {},
   "source": [
    "accessing element 3"
   ]
  },
  {
   "cell_type": "code",
   "execution_count": 83,
   "id": "3c9d6e69",
   "metadata": {},
   "outputs": [
    {
     "name": "stdout",
     "output_type": "stream",
     "text": [
      "3\n",
      "3\n"
     ]
    }
   ],
   "source": [
    "print(c[0][0][2])\n",
    "print(c[-2][-3][-1])"
   ]
  },
  {
   "cell_type": "markdown",
   "id": "27bc3b3f",
   "metadata": {},
   "source": [
    "accessing element 6 and 13"
   ]
  },
  {
   "cell_type": "code",
   "execution_count": 89,
   "id": "7aa9c6d4",
   "metadata": {},
   "outputs": [
    {
     "name": "stdout",
     "output_type": "stream",
     "text": [
      "6\n",
      "13\n"
     ]
    }
   ],
   "source": [
    "print(c[0][1][2])\n",
    "print(c[-1][-2][-3])"
   ]
  },
  {
   "cell_type": "markdown",
   "id": "19b1a19b",
   "metadata": {},
   "source": [
    "accessing element 18"
   ]
  },
  {
   "cell_type": "code",
   "execution_count": 91,
   "id": "88901228",
   "metadata": {},
   "outputs": [
    {
     "name": "stdout",
     "output_type": "stream",
     "text": [
      "18\n",
      "18\n"
     ]
    }
   ],
   "source": [
    "print(c[1][2][2])\n",
    "print(c[-1][-1][-1])"
   ]
  },
  {
   "cell_type": "markdown",
   "id": "328630f9",
   "metadata": {},
   "source": [
    "Numpy array "
   ]
  },
  {
   "cell_type": "markdown",
   "id": "78690a9d",
   "metadata": {},
   "source": [
    "create sample numpy array"
   ]
  },
  {
   "cell_type": "code",
   "execution_count": 7,
   "id": "b6858a57",
   "metadata": {},
   "outputs": [
    {
     "name": "stdout",
     "output_type": "stream",
     "text": [
      "[ 0  1  2  3  4  5  6  7  8  9 10 11]\n",
      "<class 'numpy.ndarray'>\n",
      "[[ 0  1  2  3  4  5]\n",
      " [ 6  7  8  9 10 11]]\n",
      "2\n"
     ]
    }
   ],
   "source": [
    "import numpy as np\n",
    "a=np.arange(12)\n",
    "new_a=a.reshape(2,6)\n",
    "print(a)\n",
    "print(type(a))\n",
    "print(new_a)\n",
    "print(new_a.ndim)"
   ]
  },
  {
   "cell_type": "markdown",
   "id": "d9fc33fc",
   "metadata": {},
   "source": [
    "let's convert 2-d array to 1-d array"
   ]
  },
  {
   "cell_type": "code",
   "execution_count": 8,
   "id": "7e631240",
   "metadata": {},
   "outputs": [
    {
     "name": "stdout",
     "output_type": "stream",
     "text": [
      "[[1 2 3]\n",
      " [4 5 6]\n",
      " [7 8 9]]\n",
      "2\n"
     ]
    }
   ],
   "source": [
    "b=[[1,2,3],[4,5,6],[7,8,9]]\n",
    "B=np.array(b)\n",
    "print(B)\n",
    "print(B.ndim)"
   ]
  },
  {
   "cell_type": "code",
   "execution_count": 10,
   "id": "f247dac7",
   "metadata": {},
   "outputs": [
    {
     "name": "stdout",
     "output_type": "stream",
     "text": [
      "[1 2 3 4 5 6 7 8 9]\n",
      "2\n"
     ]
    }
   ],
   "source": [
    "new_B=B.reshape(9)\n",
    "print(new_B)\n",
    "print(B.ndim)"
   ]
  },
  {
   "cell_type": "code",
   "execution_count": 11,
   "id": "93769529",
   "metadata": {},
   "outputs": [
    {
     "name": "stdout",
     "output_type": "stream",
     "text": [
      "[[ 1  2  3  4]\n",
      " [ 5  6  7  8]\n",
      " [ 9 10 11 12]]\n"
     ]
    }
   ],
   "source": [
    "b=[[1,2,3,4],[5,6,7,8],[9,10,11,12]]\n",
    "B=np.array(b)\n",
    "print(B)"
   ]
  },
  {
   "cell_type": "code",
   "execution_count": 12,
   "id": "761b102b",
   "metadata": {},
   "outputs": [
    {
     "name": "stdout",
     "output_type": "stream",
     "text": [
      "[[ 1  2  3]\n",
      " [ 4  5  6]\n",
      " [ 7  8  9]\n",
      " [10 11 12]]\n"
     ]
    }
   ],
   "source": [
    "new_B=B.reshape(4,-1)\n",
    "print(new_B)"
   ]
  },
  {
   "cell_type": "markdown",
   "id": "3db78e43",
   "metadata": {},
   "source": [
    "Slicing operation"
   ]
  },
  {
   "cell_type": "markdown",
   "id": "4a681996",
   "metadata": {},
   "source": [
    "one dim array"
   ]
  },
  {
   "cell_type": "code",
   "execution_count": 13,
   "id": "9fe53683",
   "metadata": {},
   "outputs": [
    {
     "name": "stdout",
     "output_type": "stream",
     "text": [
      "[ 1  4  7 11  6  3]\n",
      "<class 'numpy.ndarray'>\n"
     ]
    }
   ],
   "source": [
    "a=[1,4,7,11,6,3]\n",
    "A=np.array(a)\n",
    "print(A)\n",
    "print(type(A))"
   ]
  },
  {
   "cell_type": "code",
   "execution_count": 21,
   "id": "0dff9832",
   "metadata": {},
   "outputs": [
    {
     "name": "stdout",
     "output_type": "stream",
     "text": [
      "[ 4  7 11]\n",
      "[]\n",
      "[]\n",
      "[ 4  7 11]\n",
      "[7 6]\n",
      "[1 4 7]\n"
     ]
    }
   ],
   "source": [
    "print(A[1:4:1])\n",
    "print(A[-1:4:2])\n",
    "print(A[-1:4:1])\n",
    "print(A[1:-2:1])\n",
    "print(A[2:5:2])\n",
    "print(A[0:3:1])"
   ]
  },
  {
   "cell_type": "code",
   "execution_count": 24,
   "id": "d66bb50e",
   "metadata": {},
   "outputs": [
    {
     "name": "stdout",
     "output_type": "stream",
     "text": [
      "[1 4 7]\n",
      "[ 7 11  6  3]\n",
      "[1 7 6]\n"
     ]
    }
   ],
   "source": [
    "print(A[:3])\n",
    "print(A[2:])\n",
    "print(A[::2])"
   ]
  },
  {
   "cell_type": "code",
   "execution_count": 25,
   "id": "d242c981",
   "metadata": {},
   "outputs": [
    {
     "name": "stdout",
     "output_type": "stream",
     "text": [
      "[ 1  4  7 11  6  3]\n"
     ]
    }
   ],
   "source": [
    "print(A[::])"
   ]
  },
  {
   "cell_type": "code",
   "execution_count": 26,
   "id": "fb1d0983",
   "metadata": {},
   "outputs": [
    {
     "name": "stdout",
     "output_type": "stream",
     "text": [
      "[[  4   7  11]\n",
      " [  6  13   9]\n",
      " [  2  12 100]]\n",
      "<class 'numpy.ndarray'>\n"
     ]
    }
   ],
   "source": [
    "b=[[4,7,11],[6,13,9],[2,12,100]]\n",
    "B=np.array(b)\n",
    "print(B)\n",
    "print(type(B))"
   ]
  },
  {
   "cell_type": "markdown",
   "id": "ecf38a8e",
   "metadata": {},
   "source": [
    "General format\n",
    "\n",
    ".array_name[rows_format,column_format]\n",
    "rows_format and column format\n",
    "=[start,end,step]\n",
    "step is optional and default value is 1"
   ]
  },
  {
   "cell_type": "code",
   "execution_count": 27,
   "id": "8434e6f8",
   "metadata": {},
   "outputs": [
    {
     "name": "stdout",
     "output_type": "stream",
     "text": [
      "[[ 6 13]\n",
      " [ 2 12]]\n"
     ]
    }
   ],
   "source": [
    "print(B[1: 3: 1, 0: 2: 1]) #get sub matrix[6,13],[2,12] "
   ]
  },
  {
   "cell_type": "code",
   "execution_count": 28,
   "id": "3954ec25",
   "metadata": {},
   "outputs": [
    {
     "name": "stdout",
     "output_type": "stream",
     "text": [
      "[[  9]\n",
      " [100]]\n"
     ]
    }
   ],
   "source": [
    "print(B[1:3:1,2:3:1]) # starting index of rows is 1 and ending is 3 as 3 is exclusive.starting index of column is 2 and ending is 3"
   ]
  },
  {
   "cell_type": "code",
   "execution_count": 29,
   "id": "1f822479",
   "metadata": {},
   "outputs": [
    {
     "name": "stdout",
     "output_type": "stream",
     "text": [
      "[[  4   7  11]\n",
      " [  6  13   9]\n",
      " [  2  12 100]]\n"
     ]
    }
   ],
   "source": [
    "print(B[:,:])"
   ]
  },
  {
   "cell_type": "markdown",
   "id": "f55df903",
   "metadata": {},
   "source": [
    "THREE DIMENSIONAL ARRAY\n",
    "\n",
    "General format(i,j,k)"
   ]
  },
  {
   "cell_type": "code",
   "execution_count": 31,
   "id": "98b29e0b",
   "metadata": {},
   "outputs": [
    {
     "name": "stdout",
     "output_type": "stream",
     "text": [
      "[[[ 1  2  3]\n",
      "  [ 4  5  6]]\n",
      "\n",
      " [[ 7  8  9]\n",
      "  [10 11 12]]]\n",
      "(2, 2, 3)\n"
     ]
    }
   ],
   "source": [
    "c=[[[1,2,3],[4,5,6]],[[7,8,9],[10,11,12]]]\n",
    "C=np.array(c)\n",
    "print(C)\n",
    "print(C.shape)\n"
   ]
  },
  {
   "cell_type": "code",
   "execution_count": 32,
   "id": "bd2a9bb8",
   "metadata": {},
   "outputs": [
    {
     "name": "stdout",
     "output_type": "stream",
     "text": [
      "[[ 1  2  3]\n",
      " [10 11 12]]\n",
      "(2, 3)\n"
     ]
    }
   ],
   "source": [
    "c=[[1,2,3],[10,11,12]]\n",
    "C=np.array(c)\n",
    "print(C)\n",
    "print(C.shape)"
   ]
  },
  {
   "cell_type": "code",
   "execution_count": 36,
   "id": "efa33678",
   "metadata": {},
   "outputs": [
    {
     "name": "stdout",
     "output_type": "stream",
     "text": [
      "[[[ 1  2  3]\n",
      "  [ 4  5  6]]\n",
      "\n",
      " [[ 7  8  9]\n",
      "  [10 11 12]]]\n",
      "(2, 2, 3)\n"
     ]
    }
   ],
   "source": [
    "c=[[[1,2,3],[4,5,6]],[[7,8,9],[10,11,12]]]\n",
    "C=np.array(c)\n",
    "print(C)\n",
    "print(C.shape)"
   ]
  },
  {
   "cell_type": "code",
   "execution_count": 38,
   "id": "c1fcb528",
   "metadata": {},
   "outputs": [
    {
     "data": {
      "text/plain": [
       "array([[[ 1,  2,  3],\n",
       "        [ 4,  5,  6]],\n",
       "\n",
       "       [[ 7,  8,  9],\n",
       "        [10, 11, 12]]])"
      ]
     },
     "execution_count": 38,
     "metadata": {},
     "output_type": "execute_result"
    }
   ],
   "source": [
    "C[:,:,:] "
   ]
  },
  {
   "cell_type": "code",
   "execution_count": 39,
   "id": "ed77f766",
   "metadata": {},
   "outputs": [
    {
     "data": {
      "text/plain": [
       "array([[[1, 2, 3],\n",
       "        [4, 5, 6]]])"
      ]
     },
     "execution_count": 39,
     "metadata": {},
     "output_type": "execute_result"
    }
   ],
   "source": [
    "C[0:1,:,:]#slice only one matrix in the 3-D array"
   ]
  },
  {
   "cell_type": "code",
   "execution_count": 40,
   "id": "6f16bdc8",
   "metadata": {},
   "outputs": [
    {
     "data": {
      "text/plain": [
       "array([[[ 1],\n",
       "        [ 4]],\n",
       "\n",
       "       [[ 7],\n",
       "        [10]]])"
      ]
     },
     "execution_count": 40,
     "metadata": {},
     "output_type": "execute_result"
    }
   ],
   "source": [
    "C[:,:,0:1] #the 0th column in all the matrices"
   ]
  },
  {
   "cell_type": "markdown",
   "id": "2e6a9425",
   "metadata": {},
   "source": [
    "view vs. in numpy\n",
    "\n",
    "1.changes made to the view will affect to the original array,whereas changes made to the copy will not affect original array.\n",
    "2.view is just the view of original array and copy is like creating a new array."
   ]
  },
  {
   "cell_type": "markdown",
   "id": "548f7631",
   "metadata": {},
   "source": [
    "# Understand the functionality of view()\n",
    "\n",
    "note:view does not owns the data"
   ]
  },
  {
   "cell_type": "code",
   "execution_count": 41,
   "id": "bef4452d",
   "metadata": {},
   "outputs": [
    {
     "name": "stdout",
     "output_type": "stream",
     "text": [
      "[10 20 30 40]\n"
     ]
    }
   ],
   "source": [
    "arr1=np.array([10,20,30,40])\n",
    "print(arr1)\n"
   ]
  },
  {
   "cell_type": "code",
   "execution_count": 42,
   "id": "4765fc23",
   "metadata": {},
   "outputs": [
    {
     "name": "stdout",
     "output_type": "stream",
     "text": [
      "[10 20 30 40]\n"
     ]
    }
   ],
   "source": [
    "arr=np.array([10,20,30,40])\n",
    "print(arr)\n"
   ]
  },
  {
   "cell_type": "code",
   "execution_count": 44,
   "id": "d411191f",
   "metadata": {},
   "outputs": [
    {
     "name": "stdout",
     "output_type": "stream",
     "text": [
      "[  10 1000   30   40]\n"
     ]
    }
   ],
   "source": [
    "arr2=arr1.view()\n",
    "arr2[1]=1000\n",
    "print(arr2)"
   ]
  },
  {
   "cell_type": "code",
   "execution_count": 45,
   "id": "9ba9bc95",
   "metadata": {},
   "outputs": [
    {
     "name": "stdout",
     "output_type": "stream",
     "text": [
      "[  10 1000 2000   40]\n"
     ]
    }
   ],
   "source": [
    "arr2=arr1.view()\n",
    "arr2[2]=2000\n",
    "print(arr2)"
   ]
  },
  {
   "cell_type": "code",
   "execution_count": 46,
   "id": "701183ac",
   "metadata": {},
   "outputs": [
    {
     "name": "stdout",
     "output_type": "stream",
     "text": [
      "[  10 1000 4000   40]\n"
     ]
    }
   ],
   "source": [
    "arr2=arr1.view()\n",
    "arr2[-2]=4000\n",
    "print(arr2)"
   ]
  },
  {
   "cell_type": "code",
   "execution_count": 47,
   "id": "63fc953c",
   "metadata": {},
   "outputs": [
    {
     "name": "stdout",
     "output_type": "stream",
     "text": [
      "[  10 1000 4000   40]\n"
     ]
    }
   ],
   "source": [
    "print(arr1)"
   ]
  },
  {
   "cell_type": "markdown",
   "id": "12f9450c",
   "metadata": {},
   "source": [
    "Let's understand the functionality of copy()"
   ]
  },
  {
   "cell_type": "code",
   "execution_count": 49,
   "id": "e142e59f",
   "metadata": {},
   "outputs": [
    {
     "name": "stdout",
     "output_type": "stream",
     "text": [
      "[10 20 30 40]\n"
     ]
    }
   ],
   "source": [
    "arr1=np.array([10,20,30,40])\n",
    "print(arr1)"
   ]
  },
  {
   "cell_type": "code",
   "execution_count": 52,
   "id": "e3c19d39",
   "metadata": {},
   "outputs": [
    {
     "name": "stdout",
     "output_type": "stream",
     "text": [
      "[  10 1000   30   40]\n",
      "[10 20 30 40]\n"
     ]
    }
   ],
   "source": [
    "arr2=arr1.copy()\n",
    "arr2[1]=1000\n",
    "print(arr2)\n",
    "print(arr1)"
   ]
  },
  {
   "cell_type": "markdown",
   "id": "894f19dd",
   "metadata": {},
   "source": [
    "# Hstack vs Vstack\n",
    "1.Hstack is used to join two arrays Horizontally.\n",
    "2.Vstack is used to join two arrays vertically."
   ]
  },
  {
   "cell_type": "code",
   "execution_count": 54,
   "id": "0a71f373",
   "metadata": {},
   "outputs": [
    {
     "name": "stdout",
     "output_type": "stream",
     "text": [
      "a:[1 2 3]\n",
      "Dimension of a: 1\n",
      "b:[4 5 6]\n",
      "Dimension of b: 1\n"
     ]
    }
   ],
   "source": [
    "# Hstack\n",
    "a=np.array([1,2,3])\n",
    "b=np.array([4,5,6])\n",
    "\n",
    "print(\"a:{}\".format(a))\n",
    "print(\"Dimension of a:\",a.ndim)\n",
    "\n",
    "print(\"b:{}\".format(b))\n",
    "print(\"Dimension of b:\",b.ndim)"
   ]
  },
  {
   "cell_type": "code",
   "execution_count": 56,
   "id": "1e22850c",
   "metadata": {},
   "outputs": [
    {
     "name": "stdout",
     "output_type": "stream",
     "text": [
      "c:[1 2 3 4 5 6]\n",
      "Dimension of c: 1\n"
     ]
    }
   ],
   "source": [
    "c=np.hstack((a,b))\n",
    "print(\"c:{}\".format(c))\n",
    "print(\"Dimension of c:\",c.ndim)"
   ]
  },
  {
   "cell_type": "code",
   "execution_count": 57,
   "id": "dd385533",
   "metadata": {},
   "outputs": [
    {
     "name": "stdout",
     "output_type": "stream",
     "text": [
      "a:[1 2 3]\n",
      "Dimension of a: 1\n",
      "b:[4 5 6]\n",
      "Dimension of b: 1\n"
     ]
    }
   ],
   "source": [
    "#Vstack\n",
    "a=np.array([1,2,3])\n",
    "b=np.array([4,5,6])\n",
    "\n",
    "print(\"a:{}\".format(a))\n",
    "print(\"Dimension of a:\",a.ndim)\n",
    "\n",
    "print(\"b:{}\".format(b))\n",
    "print(\"Dimension of b:\",b.ndim)"
   ]
  },
  {
   "cell_type": "code",
   "execution_count": 58,
   "id": "6a4c5aa2",
   "metadata": {},
   "outputs": [
    {
     "name": "stdout",
     "output_type": "stream",
     "text": [
      "c:[1 2 3 4 5 6]\n",
      "Dimension of c: 1\n"
     ]
    }
   ],
   "source": [
    "c=np.hstack((a,b))\n",
    "print(\"c:{}\".format(c))\n",
    "print(\"Dimension of c:\",c.ndim)"
   ]
  },
  {
   "cell_type": "markdown",
   "id": "ec33fcdc",
   "metadata": {},
   "source": [
    "# Numpy concatenation "
   ]
  },
  {
   "cell_type": "code",
   "execution_count": 60,
   "id": "b205b87f",
   "metadata": {},
   "outputs": [
    {
     "name": "stdout",
     "output_type": "stream",
     "text": [
      "[[1 2]\n",
      " [4 5]]\n",
      "(2, 2)\n"
     ]
    }
   ],
   "source": [
    "#Array A\n",
    "import numpy as np\n",
    "a=[[1,2],[4,5]]\n",
    "A=np.array(a)\n",
    "print(A)\n",
    "print(A.shape)"
   ]
  },
  {
   "cell_type": "code",
   "execution_count": 61,
   "id": "5026639b",
   "metadata": {},
   "outputs": [
    {
     "name": "stdout",
     "output_type": "stream",
     "text": [
      "[[7]\n",
      " [8]]\n",
      "(2, 1)\n"
     ]
    }
   ],
   "source": [
    "# Array B\n",
    "b=[[7],[8]]\n",
    "B=np.array(b)\n",
    "print(B)\n",
    "print(B.shape)"
   ]
  },
  {
   "cell_type": "code",
   "execution_count": 85,
   "id": "58d6f183",
   "metadata": {},
   "outputs": [
    {
     "name": "stdout",
     "output_type": "stream",
     "text": [
      "[[ 9 10]]\n",
      "(1, 2)\n"
     ]
    }
   ],
   "source": [
    "# Array c\n",
    "c=[[9,10]]\n",
    "C=np.array(c)\n",
    "print(C)\n",
    "print(C.shape)"
   ]
  },
  {
   "cell_type": "markdown",
   "id": "ca78cbac",
   "metadata": {},
   "source": [
    "# note:\n",
    "1.when axis=0 both concatination arrays should have same number of columns[Think like adding a new row]\n",
    "2.When axis=1,both concatinating arrays should have same number of rows[adding a new column]"
   ]
  },
  {
   "cell_type": "code",
   "execution_count": 86,
   "id": "db0d2bf7",
   "metadata": {},
   "outputs": [
    {
     "name": "stdout",
     "output_type": "stream",
     "text": [
      "(2, 2)\n",
      "(1, 2)\n"
     ]
    }
   ],
   "source": [
    "# concatination Aand C\n",
    "\n",
    "print(A.shape)\n",
    "print(C.shape)"
   ]
  },
  {
   "cell_type": "markdown",
   "id": "441a0270",
   "metadata": {},
   "source": [
    ".Here we have same number of columns."
   ]
  },
  {
   "cell_type": "code",
   "execution_count": 87,
   "id": "e06a2548",
   "metadata": {},
   "outputs": [
    {
     "name": "stdout",
     "output_type": "stream",
     "text": [
      "[[ 1  2]\n",
      " [ 4  5]\n",
      " [ 9 10]]\n",
      "(3, 2)\n"
     ]
    }
   ],
   "source": [
    "D=np.concatenate((A,C),axis=0)\n",
    "print(D)\n",
    "print(D.shape)"
   ]
  },
  {
   "cell_type": "markdown",
   "id": "8ea1f036",
   "metadata": {},
   "source": [
    "# concatenate A and B"
   ]
  },
  {
   "cell_type": "code",
   "execution_count": 79,
   "id": "7bc70a25",
   "metadata": {},
   "outputs": [
    {
     "name": "stdout",
     "output_type": "stream",
     "text": [
      "(2, 2)\n"
     ]
    }
   ],
   "source": [
    "print(A.shape)"
   ]
  },
  {
   "cell_type": "code",
   "execution_count": 80,
   "id": "efa4e402",
   "metadata": {},
   "outputs": [
    {
     "name": "stdout",
     "output_type": "stream",
     "text": [
      "(2, 1)\n"
     ]
    }
   ],
   "source": [
    "print(B.shape)"
   ]
  },
  {
   "cell_type": "markdown",
   "id": "6ca8d1c4",
   "metadata": {},
   "source": [
    ".Here we have same number of rows"
   ]
  },
  {
   "cell_type": "code",
   "execution_count": 81,
   "id": "d82c56a0",
   "metadata": {},
   "outputs": [
    {
     "name": "stdout",
     "output_type": "stream",
     "text": [
      "[[1 2 7]\n",
      " [4 5 8]]\n",
      "(2, 3)\n"
     ]
    }
   ],
   "source": [
    "E=np.concatenate((A,B),axis=1)\n",
    "print(E)\n",
    "print(E.shape)"
   ]
  },
  {
   "cell_type": "markdown",
   "id": "7c528358",
   "metadata": {},
   "source": [
    "# note:when you tried to add of different rows with axis=1,we will get error.\n",
    "    \n",
    "    Different Columns."
   ]
  },
  {
   "cell_type": "code",
   "execution_count": 90,
   "id": "e3f3b50b",
   "metadata": {},
   "outputs": [
    {
     "name": "stdout",
     "output_type": "stream",
     "text": [
      "(2, 2)\n",
      "(1, 2)\n"
     ]
    }
   ],
   "source": [
    "print(A.shape)\n",
    "print(C.shape)     "
   ]
  },
  {
   "cell_type": "code",
   "execution_count": 94,
   "id": "9444c819",
   "metadata": {},
   "outputs": [
    {
     "ename": "ValueError",
     "evalue": "all the input array dimensions for the concatenation axis must match exactly, but along dimension 0, the array at index 0 has size 2 and the array at index 1 has size 1",
     "output_type": "error",
     "traceback": [
      "\u001b[1;31m---------------------------------------------------------------------------\u001b[0m",
      "\u001b[1;31mValueError\u001b[0m                                Traceback (most recent call last)",
      "\u001b[1;32m~\\AppData\\Local\\Temp/ipykernel_13204/2424235574.py\u001b[0m in \u001b[0;36m<module>\u001b[1;34m\u001b[0m\n\u001b[1;32m----> 1\u001b[1;33m \u001b[0mF\u001b[0m\u001b[1;33m=\u001b[0m\u001b[0mnp\u001b[0m\u001b[1;33m.\u001b[0m\u001b[0mconcatenate\u001b[0m\u001b[1;33m(\u001b[0m\u001b[1;33m(\u001b[0m\u001b[0mA\u001b[0m\u001b[1;33m,\u001b[0m\u001b[0mC\u001b[0m\u001b[1;33m)\u001b[0m\u001b[1;33m,\u001b[0m\u001b[0maxis\u001b[0m\u001b[1;33m=\u001b[0m\u001b[1;36m1\u001b[0m\u001b[1;33m)\u001b[0m\u001b[1;33m\u001b[0m\u001b[1;33m\u001b[0m\u001b[0m\n\u001b[0m\u001b[0;32m      2\u001b[0m \u001b[0mprint\u001b[0m\u001b[1;33m(\u001b[0m\u001b[0mF\u001b[0m\u001b[1;33m)\u001b[0m\u001b[1;33m\u001b[0m\u001b[1;33m\u001b[0m\u001b[0m\n\u001b[0;32m      3\u001b[0m \u001b[0mprint\u001b[0m\u001b[1;33m(\u001b[0m\u001b[0mF\u001b[0m\u001b[1;33m.\u001b[0m\u001b[0mshape\u001b[0m\u001b[1;33m)\u001b[0m\u001b[1;33m\u001b[0m\u001b[1;33m\u001b[0m\u001b[0m\n",
      "\u001b[1;32m<__array_function__ internals>\u001b[0m in \u001b[0;36mconcatenate\u001b[1;34m(*args, **kwargs)\u001b[0m\n",
      "\u001b[1;31mValueError\u001b[0m: all the input array dimensions for the concatenation axis must match exactly, but along dimension 0, the array at index 0 has size 2 and the array at index 1 has size 1"
     ]
    }
   ],
   "source": [
    "F=np.concatenate((A,C),axis=1)\n",
    "print(F)\n",
    "print(F.shape)"
   ]
  },
  {
   "cell_type": "markdown",
   "id": "cfd3f600",
   "metadata": {},
   "source": [
    "while concatenate arrays of different columns"
   ]
  },
  {
   "cell_type": "code",
   "execution_count": 92,
   "id": "4bb8a0b4",
   "metadata": {},
   "outputs": [
    {
     "name": "stdout",
     "output_type": "stream",
     "text": [
      "(2, 2)\n",
      "(2, 1)\n"
     ]
    }
   ],
   "source": [
    "print(A.shape)\n",
    "print(B.shape)    "
   ]
  },
  {
   "cell_type": "code",
   "execution_count": 93,
   "id": "60fe57b6",
   "metadata": {},
   "outputs": [
    {
     "ename": "ValueError",
     "evalue": "all the input array dimensions for the concatenation axis must match exactly, but along dimension 1, the array at index 0 has size 2 and the array at index 1 has size 1",
     "output_type": "error",
     "traceback": [
      "\u001b[1;31m---------------------------------------------------------------------------\u001b[0m",
      "\u001b[1;31mValueError\u001b[0m                                Traceback (most recent call last)",
      "\u001b[1;32m~\\AppData\\Local\\Temp/ipykernel_13204/2342450691.py\u001b[0m in \u001b[0;36m<module>\u001b[1;34m\u001b[0m\n\u001b[1;32m----> 1\u001b[1;33m \u001b[0mG\u001b[0m\u001b[1;33m=\u001b[0m\u001b[0mnp\u001b[0m\u001b[1;33m.\u001b[0m\u001b[0mconcatenate\u001b[0m\u001b[1;33m(\u001b[0m\u001b[1;33m(\u001b[0m\u001b[0mA\u001b[0m\u001b[1;33m,\u001b[0m\u001b[0mB\u001b[0m\u001b[1;33m)\u001b[0m\u001b[1;33m,\u001b[0m\u001b[0maxis\u001b[0m\u001b[1;33m=\u001b[0m\u001b[1;36m0\u001b[0m\u001b[1;33m)\u001b[0m\u001b[1;33m\u001b[0m\u001b[1;33m\u001b[0m\u001b[0m\n\u001b[0m\u001b[0;32m      2\u001b[0m \u001b[0mprint\u001b[0m\u001b[1;33m(\u001b[0m\u001b[0mG\u001b[0m\u001b[1;33m)\u001b[0m\u001b[1;33m\u001b[0m\u001b[1;33m\u001b[0m\u001b[0m\n\u001b[0;32m      3\u001b[0m \u001b[0mprint\u001b[0m\u001b[1;33m(\u001b[0m\u001b[0mG\u001b[0m\u001b[1;33m.\u001b[0m\u001b[0mshape\u001b[0m\u001b[1;33m)\u001b[0m\u001b[1;33m\u001b[0m\u001b[1;33m\u001b[0m\u001b[0m\n",
      "\u001b[1;32m<__array_function__ internals>\u001b[0m in \u001b[0;36mconcatenate\u001b[1;34m(*args, **kwargs)\u001b[0m\n",
      "\u001b[1;31mValueError\u001b[0m: all the input array dimensions for the concatenation axis must match exactly, but along dimension 1, the array at index 0 has size 2 and the array at index 1 has size 1"
     ]
    }
   ],
   "source": [
    "G=np.concatenate((A,B),axis=0)\n",
    "print(G)\n",
    "print(G.shape)"
   ]
  },
  {
   "cell_type": "code",
   "execution_count": null,
   "id": "60249c4d",
   "metadata": {},
   "outputs": [],
   "source": []
  }
 ],
 "metadata": {
  "kernelspec": {
   "display_name": "Python 3 (ipykernel)",
   "language": "python",
   "name": "python3"
  },
  "language_info": {
   "codemirror_mode": {
    "name": "ipython",
    "version": 3
   },
   "file_extension": ".py",
   "mimetype": "text/x-python",
   "name": "python",
   "nbconvert_exporter": "python",
   "pygments_lexer": "ipython3",
   "version": "3.9.7"
  }
 },
 "nbformat": 4,
 "nbformat_minor": 5
}
