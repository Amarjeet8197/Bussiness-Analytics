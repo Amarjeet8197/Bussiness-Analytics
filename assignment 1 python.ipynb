{
 "cells": [
  {
   "cell_type": "markdown",
   "id": "85cf6895",
   "metadata": {},
   "source": [
    "#### assignment 1"
   ]
  },
  {
   "cell_type": "code",
   "execution_count": 4,
   "id": "38630af2",
   "metadata": {},
   "outputs": [],
   "source": [
    "#the type() function"
   ]
  },
  {
   "cell_type": "code",
   "execution_count": 5,
   "id": "3f45e62e",
   "metadata": {},
   "outputs": [
    {
     "name": "stdout",
     "output_type": "stream",
     "text": [
      "True\n"
     ]
    }
   ],
   "source": [
    "print (type ([]) is list)"
   ]
  },
  {
   "cell_type": "code",
   "execution_count": 6,
   "id": "99ab8628",
   "metadata": {},
   "outputs": [
    {
     "name": "stdout",
     "output_type": "stream",
     "text": [
      "False\n"
     ]
    }
   ],
   "source": [
    "print(type([]) is not list)"
   ]
  },
  {
   "cell_type": "code",
   "execution_count": 8,
   "id": "bfa6f2a0",
   "metadata": {},
   "outputs": [
    {
     "name": "stdout",
     "output_type": "stream",
     "text": [
      "True\n"
     ]
    }
   ],
   "source": [
    "print(type([])is not tuple)"
   ]
  },
  {
   "cell_type": "code",
   "execution_count": 12,
   "id": "841d2a42",
   "metadata": {},
   "outputs": [
    {
     "name": "stdout",
     "output_type": "stream",
     "text": [
      "True\n"
     ]
    }
   ],
   "source": [
    "print(type({})is dict )"
   ]
  },
  {
   "cell_type": "code",
   "execution_count": 13,
   "id": "9bb6673b",
   "metadata": {},
   "outputs": [
    {
     "name": "stdout",
     "output_type": "stream",
     "text": [
      "True\n"
     ]
    }
   ],
   "source": [
    "print(type(()) is tuple)"
   ]
  },
  {
   "cell_type": "code",
   "execution_count": null,
   "id": "091815e2",
   "metadata": {},
   "outputs": [],
   "source": [
    "# the isinstance()"
   ]
  },
  {
   "cell_type": "code",
   "execution_count": 14,
   "id": "02bb9730",
   "metadata": {},
   "outputs": [],
   "source": [
    "x =isinstance(10,int)"
   ]
  },
  {
   "cell_type": "code",
   "execution_count": 17,
   "id": "20118cd6",
   "metadata": {},
   "outputs": [
    {
     "name": "stdout",
     "output_type": "stream",
     "text": [
      "True\n"
     ]
    }
   ],
   "source": [
    "print(x)"
   ]
  },
  {
   "cell_type": "code",
   "execution_count": 18,
   "id": "e9cc8c14",
   "metadata": {},
   "outputs": [],
   "source": [
    "x= isinstance(\"hii\",( float,str,int,dict,tuple,list))"
   ]
  },
  {
   "cell_type": "code",
   "execution_count": 19,
   "id": "88458c56",
   "metadata": {},
   "outputs": [
    {
     "name": "stdout",
     "output_type": "stream",
     "text": [
      "True\n"
     ]
    }
   ],
   "source": [
    "print(x)"
   ]
  },
  {
   "cell_type": "code",
   "execution_count": null,
   "id": "b3b5ff60",
   "metadata": {},
   "outputs": [],
   "source": [
    "# y is the object of my object"
   ]
  },
  {
   "cell_type": "code",
   "execution_count": null,
   "id": "018e9b92",
   "metadata": {},
   "outputs": [],
   "source": [
    "class my object:\n",
    "    name=\"cdac\"\n",
    "    y=my obj()\n",
    "    x=isinstance(y,my obj)"
   ]
  },
  {
   "cell_type": "code",
   "execution_count": 24,
   "id": "0808586e",
   "metadata": {},
   "outputs": [
    {
     "name": "stdout",
     "output_type": "stream",
     "text": [
      "True\n"
     ]
    }
   ],
   "source": [
    "print(x)"
   ]
  },
  {
   "cell_type": "code",
   "execution_count": null,
   "id": "e964f8ee",
   "metadata": {},
   "outputs": [],
   "source": [
    "# chr ()"
   ]
  },
  {
   "cell_type": "code",
   "execution_count": 25,
   "id": "6efa47af",
   "metadata": {},
   "outputs": [],
   "source": [
    "x=(105)"
   ]
  },
  {
   "cell_type": "code",
   "execution_count": 26,
   "id": "24da15e6",
   "metadata": {},
   "outputs": [
    {
     "name": "stdout",
     "output_type": "stream",
     "text": [
      "105\n"
     ]
    }
   ],
   "source": [
    "print (x)"
   ]
  },
  {
   "cell_type": "code",
   "execution_count": 27,
   "id": "4f9f7e22",
   "metadata": {},
   "outputs": [],
   "source": [
    "x=chr(105)"
   ]
  },
  {
   "cell_type": "code",
   "execution_count": 28,
   "id": "050450ea",
   "metadata": {},
   "outputs": [
    {
     "name": "stdout",
     "output_type": "stream",
     "text": [
      "i\n"
     ]
    }
   ],
   "source": [
    "print(x)"
   ]
  },
  {
   "cell_type": "code",
   "execution_count": null,
   "id": "6d9ff000",
   "metadata": {},
   "outputs": [],
   "source": [
    "# ord()"
   ]
  },
  {
   "cell_type": "code",
   "execution_count": 30,
   "id": "107efbe6",
   "metadata": {},
   "outputs": [
    {
     "name": "stdout",
     "output_type": "stream",
     "text": [
      "i\n"
     ]
    }
   ],
   "source": [
    "print (x)"
   ]
  },
  {
   "cell_type": "code",
   "execution_count": 33,
   "id": "33d51cf3",
   "metadata": {},
   "outputs": [
    {
     "name": "stdout",
     "output_type": "stream",
     "text": [
      "56\n"
     ]
    }
   ],
   "source": [
    "print(ord('8'))"
   ]
  },
  {
   "cell_type": "code",
   "execution_count": 34,
   "id": "2b041314",
   "metadata": {},
   "outputs": [
    {
     "name": "stdout",
     "output_type": "stream",
     "text": [
      "117\n"
     ]
    }
   ],
   "source": [
    "print(ord('u'))"
   ]
  },
  {
   "cell_type": "code",
   "execution_count": 35,
   "id": "68680062",
   "metadata": {},
   "outputs": [
    {
     "name": "stdout",
     "output_type": "stream",
     "text": [
      "36\n"
     ]
    }
   ],
   "source": [
    "print(ord('$'))"
   ]
  },
  {
   "cell_type": "code",
   "execution_count": 36,
   "id": "3f7dbeca",
   "metadata": {},
   "outputs": [
    {
     "name": "stdout",
     "output_type": "stream",
     "text": [
      "how's everyone\n"
     ]
    }
   ],
   "source": [
    "print(\"how's everyone\")"
   ]
  },
  {
   "cell_type": "code",
   "execution_count": 43,
   "id": "3aee0c26",
   "metadata": {},
   "outputs": [
    {
     "name": "stdout",
     "output_type": "stream",
     "text": [
      "'it's' too cold today\n"
     ]
    }
   ],
   "source": [
    "print(\"'it's' too cold today\")"
   ]
  },
  {
   "cell_type": "markdown",
   "id": "e0c22ee4",
   "metadata": {},
   "source": []
  }
 ],
 "metadata": {
  "kernelspec": {
   "display_name": "Python 3 (ipykernel)",
   "language": "python",
   "name": "python3"
  },
  "language_info": {
   "codemirror_mode": {
    "name": "ipython",
    "version": 3
   },
   "file_extension": ".py",
   "mimetype": "text/x-python",
   "name": "python",
   "nbconvert_exporter": "python",
   "pygments_lexer": "ipython3",
   "version": "3.9.7"
  }
 },
 "nbformat": 4,
 "nbformat_minor": 5
}
