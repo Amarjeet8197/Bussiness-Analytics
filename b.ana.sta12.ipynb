{
 "cells": [
  {
   "cell_type": "markdown",
   "id": "badcafd7",
   "metadata": {},
   "source": [
    "# Standard Deviation"
   ]
  },
  {
   "cell_type": "code",
   "execution_count": 1,
   "id": "0f18eddd",
   "metadata": {},
   "outputs": [],
   "source": [
    "import numpy as np\n",
    "import matplotlib.pyplot as plt\n",
    "import statistics"
   ]
  },
  {
   "cell_type": "code",
   "execution_count": 5,
   "id": "b258185b",
   "metadata": {},
   "outputs": [
    {
     "data": {
      "text/plain": [
       "array([32.16665089, 14.57412739, 23.67025165, ..., 48.94951335,\n",
       "       30.80941297, 24.37098516])"
      ]
     },
     "execution_count": 5,
     "metadata": {},
     "output_type": "execute_result"
    }
   ],
   "source": [
    "# multiply and add by random number to get some real values\n",
    "data=np.random.randn(50000) *20+20\n",
    "data"
   ]
  },
  {
   "cell_type": "code",
   "execution_count": 13,
   "id": "c50d4a14",
   "metadata": {},
   "outputs": [],
   "source": [
    "# Function to Detection Outlier on one-dimensional datasets.\n",
    "def find_anomalies(data):\n",
    "    #define a list to accumlate anomalies\n",
    "    anomalies=[]\n",
    "    #Set upper and Lower Limit to 3 standard deviation\n",
    "    random_data_std=statistics.stdev(data)\n",
    "    random_data_mean=statistics.mean(data)\n",
    "    #3-standard deviation\n",
    "    \n",
    "    anomaly_cut_off=random_data_std * 3\n",
    "    \n",
    "    lower_limit=random_data_mean - anomaly_cut_off\n",
    "    upper_limit=random_data_mean + anomaly_cut_off\n",
    "    \n",
    "    #Generate outliers\n",
    "    for outlier in data:\n",
    "        if outlier>upper_limit or outlier < lower_limit:\n",
    "            anomalies.append(outlier)\n",
    "    return anomalies"
   ]
  },
  {
   "cell_type": "code",
   "execution_count": 14,
   "id": "53bfdd0d",
   "metadata": {},
   "outputs": [
    {
     "data": {
      "text/plain": [
       "array([32.16665089, 14.57412739, 23.67025165, ..., 48.94951335,\n",
       "       30.80941297, 24.37098516])"
      ]
     },
     "execution_count": 14,
     "metadata": {},
     "output_type": "execute_result"
    }
   ],
   "source": [
    "data"
   ]
  },
  {
   "cell_type": "code",
   "execution_count": 15,
   "id": "dd2126ba",
   "metadata": {},
   "outputs": [
    {
     "data": {
      "text/plain": [
       "[-47.67842822453075,\n",
       " -43.146203277474164,\n",
       " -42.87638833189273,\n",
       " 99.41273303944034,\n",
       " -42.31711223373637,\n",
       " -49.025579373775955,\n",
       " 81.6100673795174,\n",
       " 84.54587179753102,\n",
       " 80.71804663662547,\n",
       " -44.8790585078591,\n",
       " -42.46768204589383,\n",
       " -48.51777852479033,\n",
       " 85.71445663636636,\n",
       " 80.7662572850812,\n",
       " -47.18589758822135,\n",
       " 82.46298588504615,\n",
       " -52.56150311974383,\n",
       " -52.56413629277267,\n",
       " -48.598645974233904,\n",
       " -47.2336698578316,\n",
       " -52.99496355074953,\n",
       " 105.57907424920307,\n",
       " 86.42401872869024,\n",
       " -39.68957630115888,\n",
       " -43.37758806254485,\n",
       " 88.28148708163502,\n",
       " -47.051065173695264,\n",
       " 99.07064771857789,\n",
       " 82.95586638635713,\n",
       " -41.06399561395476,\n",
       " 86.4299742303521,\n",
       " 90.91578592381742,\n",
       " -40.79219541907817,\n",
       " -40.74764421256111,\n",
       " 94.68444750707783,\n",
       " 80.21565110661362,\n",
       " 84.32015595626386,\n",
       " -41.65272127007209,\n",
       " 80.40037636364914,\n",
       " 81.70968249313223,\n",
       " 90.43908456120568,\n",
       " -42.75726047976336,\n",
       " -47.92292751504232,\n",
       " 84.51442489921352,\n",
       " 84.37986033451969,\n",
       " 84.36289252531141,\n",
       " 82.09312273713363,\n",
       " -44.215920404461016,\n",
       " -55.529020588834285,\n",
       " -45.828002930688655,\n",
       " 81.68140973248383,\n",
       " -48.855307270218745,\n",
       " -47.187060783098175,\n",
       " -47.67199376265066,\n",
       " 80.76099873657597,\n",
       " 81.03766865481019,\n",
       " -41.66813160305102,\n",
       " 88.92600449078832,\n",
       " -40.356921295106176,\n",
       " 88.15358963235576,\n",
       " -41.45187786958168,\n",
       " -49.278630134249056,\n",
       " -45.070178510522766,\n",
       " -45.52635968380625,\n",
       " 88.32652340511305,\n",
       " 80.11814017243304,\n",
       " 79.98274767714385,\n",
       " 81.66112044782967,\n",
       " 81.75171314430725,\n",
       " 94.31576123421159,\n",
       " -46.77663716288828,\n",
       " 88.16205469198552,\n",
       " -41.92624836598307,\n",
       " -48.384424240240264,\n",
       " 84.46266699461583,\n",
       " 87.37404511734438,\n",
       " -41.157015886420155,\n",
       " 81.16983300047934,\n",
       " 96.88586636105728,\n",
       " -43.16894015614285,\n",
       " -42.908832329539436,\n",
       " -52.281303416877066,\n",
       " -41.21210294222099,\n",
       " -47.57564922509458,\n",
       " 80.66835202115396,\n",
       " 80.37171946450331,\n",
       " -43.177439264612865,\n",
       " -49.053853071771925,\n",
       " -41.45804239482419,\n",
       " -41.8946556641227,\n",
       " -57.33298354554,\n",
       " -39.88150064443523,\n",
       " 80.28526183407618,\n",
       " 80.0757068963535,\n",
       " -40.58449714925871,\n",
       " -47.426282383741636,\n",
       " 82.70202013309074,\n",
       " 105.25591238145242,\n",
       " 83.26836973942221,\n",
       " 88.36739064929478,\n",
       " -40.556152592036945,\n",
       " -51.556014406144655,\n",
       " -42.97745401095177,\n",
       " -42.46772114715492,\n",
       " 84.96600378958877,\n",
       " -40.645068851354424,\n",
       " 80.73702658069405,\n",
       " -39.79854103957707,\n",
       " -44.34482166177591,\n",
       " -44.570709765441535,\n",
       " 80.7135001500319,\n",
       " -49.11923383014219,\n",
       " 82.03017429475972,\n",
       " -42.60325700100117,\n",
       " 90.35298695303455,\n",
       " 89.46473324685174,\n",
       " 80.7789928938783,\n",
       " 79.83644372469413,\n",
       " -47.613301082843435,\n",
       " -44.39366506286558,\n",
       " -44.27264646216861,\n",
       " -46.99299216582705,\n",
       " -60.896272406671415,\n",
       " -44.858820906225475,\n",
       " -44.93923933489316,\n",
       " -50.43856964437876,\n",
       " -44.49962144206603,\n",
       " -64.75621883567618,\n",
       " -50.157661698583894,\n",
       " 89.53756139383883,\n",
       " 86.24241468534242,\n",
       " -43.83869434340773,\n",
       " -47.033066521536426,\n",
       " 79.62336623969588,\n",
       " 79.72535240937866,\n",
       " 82.28521157563307,\n",
       " 81.76452755741994,\n",
       " -48.342784692711106]"
      ]
     },
     "execution_count": 15,
     "metadata": {},
     "output_type": "execute_result"
    }
   ],
   "source": [
    "find_anomalies(data)"
   ]
  },
  {
   "cell_type": "markdown",
   "id": "a2a9e645",
   "metadata": {},
   "source": [
    "# .Anything below 40.or above 80 are considerd as outliers"
   ]
  },
  {
   "cell_type": "code",
   "execution_count": null,
   "id": "5159f34c",
   "metadata": {},
   "outputs": [],
   "source": []
  },
  {
   "cell_type": "markdown",
   "id": "526fada6",
   "metadata": {},
   "source": [
    "# Boxplots"
   ]
  },
  {
   "cell_type": "code",
   "execution_count": 16,
   "id": "1bffbea7",
   "metadata": {},
   "outputs": [
    {
     "data": {
      "text/plain": [
       "<AxesSubplot:>"
      ]
     },
     "execution_count": 16,
     "metadata": {},
     "output_type": "execute_result"
    },
    {
     "data": {
      "image/png": "[encoded data removed]",
      "text/plain": [
       "<Figure size 432x288 with 1 Axes>"
      ]
     },
     "metadata": {
      "needs_background": "light"
     },
     "output_type": "display_data"
    }
   ],
   "source": [
    "import seaborn as sns\n",
    "import matplotlib.pyplot as plt\n",
    "\n",
    "sns.boxplot(data=data)"
   ]
  },
  {
   "cell_type": "markdown",
   "id": "1f6cd5e5",
   "metadata": {},
   "source": [
    "The above code displays the below.\n",
    "\n",
    ".As you can see,it considers everything above 75 or below ~ -35 to be an outlier.The results are very close to method 1 above."
   ]
  },
  {
   "cell_type": "code",
   "execution_count": 17,
   "id": "6fe398fe",
   "metadata": {},
   "outputs": [],
   "source": [
    "import pandas as pd\n",
    "df=pd.DataFrame(data)"
   ]
  },
  {
   "cell_type": "code",
   "execution_count": 19,
   "id": "de6f1e55",
   "metadata": {},
   "outputs": [
    {
     "data": {
      "text/html": [
       "<div>\n",
       "<style scoped>\n",
       "    .dataframe tbody tr th:only-of-type {\n",
       "        vertical-align: middle;\n",
       "    }\n",
       "\n",
       "    .dataframe tbody tr th {\n",
       "        vertical-align: top;\n",
       "    }\n",
       "\n",
       "    .dataframe thead th {\n",
       "        text-align: right;\n",
       "    }\n",
       "</style>\n",
       "<table border=\"1\" class=\"dataframe\">\n",
       "  <thead>\n",
       "    <tr style=\"text-align: right;\">\n",
       "      <th></th>\n",
       "      <th>0</th>\n",
       "    </tr>\n",
       "  </thead>\n",
       "  <tbody>\n",
       "    <tr>\n",
       "      <th>0</th>\n",
       "      <td>32.166651</td>\n",
       "    </tr>\n",
       "    <tr>\n",
       "      <th>1</th>\n",
       "      <td>14.574127</td>\n",
       "    </tr>\n",
       "    <tr>\n",
       "      <th>2</th>\n",
       "      <td>23.670252</td>\n",
       "    </tr>\n",
       "    <tr>\n",
       "      <th>3</th>\n",
       "      <td>12.315476</td>\n",
       "    </tr>\n",
       "    <tr>\n",
       "      <th>4</th>\n",
       "      <td>-3.576946</td>\n",
       "    </tr>\n",
       "  </tbody>\n",
       "</table>\n",
       "</div>"
      ],
      "text/plain": [
       "           0\n",
       "0  32.166651\n",
       "1  14.574127\n",
       "2  23.670252\n",
       "3  12.315476\n",
       "4  -3.576946"
      ]
     },
     "execution_count": 19,
     "metadata": {},
     "output_type": "execute_result"
    }
   ],
   "source": [
    "df.head(5)"
   ]
  },
  {
   "cell_type": "code",
   "execution_count": 20,
   "id": "2ca32f2d",
   "metadata": {},
   "outputs": [
    {
     "data": {
      "text/plain": [
       "50000"
      ]
     },
     "execution_count": 20,
     "metadata": {},
     "output_type": "execute_result"
    }
   ],
   "source": [
    "len(df)"
   ]
  },
  {
   "cell_type": "code",
   "execution_count": 21,
   "id": "792bc2da",
   "metadata": {},
   "outputs": [
    {
     "data": {
      "text/html": [
       "<div>\n",
       "<style scoped>\n",
       "    .dataframe tbody tr th:only-of-type {\n",
       "        vertical-align: middle;\n",
       "    }\n",
       "\n",
       "    .dataframe tbody tr th {\n",
       "        vertical-align: top;\n",
       "    }\n",
       "\n",
       "    .dataframe thead th {\n",
       "        text-align: right;\n",
       "    }\n",
       "</style>\n",
       "<table border=\"1\" class=\"dataframe\">\n",
       "  <thead>\n",
       "    <tr style=\"text-align: right;\">\n",
       "      <th></th>\n",
       "      <th>0</th>\n",
       "    </tr>\n",
       "  </thead>\n",
       "  <tbody>\n",
       "    <tr>\n",
       "      <th>count</th>\n",
       "      <td>50000.000000</td>\n",
       "    </tr>\n",
       "    <tr>\n",
       "      <th>mean</th>\n",
       "      <td>20.000587</td>\n",
       "    </tr>\n",
       "    <tr>\n",
       "      <th>std</th>\n",
       "      <td>19.874110</td>\n",
       "    </tr>\n",
       "    <tr>\n",
       "      <th>min</th>\n",
       "      <td>-64.756219</td>\n",
       "    </tr>\n",
       "    <tr>\n",
       "      <th>25%</th>\n",
       "      <td>6.602838</td>\n",
       "    </tr>\n",
       "    <tr>\n",
       "      <th>50%</th>\n",
       "      <td>20.087990</td>\n",
       "    </tr>\n",
       "    <tr>\n",
       "      <th>75%</th>\n",
       "      <td>33.335234</td>\n",
       "    </tr>\n",
       "    <tr>\n",
       "      <th>max</th>\n",
       "      <td>105.579074</td>\n",
       "    </tr>\n",
       "  </tbody>\n",
       "</table>\n",
       "</div>"
      ],
      "text/plain": [
       "                  0\n",
       "count  50000.000000\n",
       "mean      20.000587\n",
       "std       19.874110\n",
       "min      -64.756219\n",
       "25%        6.602838\n",
       "50%       20.087990\n",
       "75%       33.335234\n",
       "max      105.579074"
      ]
     },
     "execution_count": 21,
     "metadata": {},
     "output_type": "execute_result"
    }
   ],
   "source": [
    "# Statistical information of the dataframe columns\n",
    "df.describe()"
   ]
  },
  {
   "cell_type": "markdown",
   "id": "d7d30bb4",
   "metadata": {},
   "source": [
    "# Inter Quartile Range\n",
    "\n",
    "IQR -Q3-Q1"
   ]
  },
  {
   "cell_type": "code",
   "execution_count": 22,
   "id": "18cbb46d",
   "metadata": {},
   "outputs": [],
   "source": [
    "list1=[43,54,56,61,62,66,68,69,69,70,71,72,77,78,79,85,87,88,89,93,95,96,98,99,99]"
   ]
  },
  {
   "cell_type": "code",
   "execution_count": 23,
   "id": "0cda747e",
   "metadata": {},
   "outputs": [
    {
     "data": {
      "text/plain": [
       "[43,\n",
       " 54,\n",
       " 56,\n",
       " 61,\n",
       " 62,\n",
       " 66,\n",
       " 68,\n",
       " 69,\n",
       " 69,\n",
       " 70,\n",
       " 71,\n",
       " 72,\n",
       " 77,\n",
       " 78,\n",
       " 79,\n",
       " 85,\n",
       " 87,\n",
       " 88,\n",
       " 89,\n",
       " 93,\n",
       " 95,\n",
       " 96,\n",
       " 98,\n",
       " 99,\n",
       " 99]"
      ]
     },
     "execution_count": 23,
     "metadata": {},
     "output_type": "execute_result"
    }
   ],
   "source": [
    "list1"
   ]
  },
  {
   "cell_type": "markdown",
   "id": "0c4b8a75",
   "metadata": {},
   "source": [
    "# Hence,98 is the 90th percentile for this dataset\n",
    "Now say yoy want to find the 20th percentile.start by taking 0.20x25=5(the index );this is a whole number ,which tells yoy the 20th percentile is the average of the 5th and 6th values in the ordered data set(62 and 66).\n",
    "\n",
    "so,20th percentile is 62+66/2=64\n",
    "The median (the 50th percentile)for the test scores is the 13th score:77.\n"
   ]
  },
  {
   "cell_type": "code",
   "execution_count": 24,
   "id": "1ae1fb35",
   "metadata": {},
   "outputs": [
    {
     "data": {
      "text/plain": [
       "25"
      ]
     },
     "execution_count": 24,
     "metadata": {},
     "output_type": "execute_result"
    }
   ],
   "source": [
    "len(list1)"
   ]
  },
  {
   "cell_type": "code",
   "execution_count": 25,
   "id": "ffc688c2",
   "metadata": {},
   "outputs": [
    {
     "data": {
      "text/plain": [
       "99"
      ]
     },
     "execution_count": 25,
     "metadata": {},
     "output_type": "execute_result"
    }
   ],
   "source": [
    "max(list1)"
   ]
  },
  {
   "cell_type": "code",
   "execution_count": 26,
   "id": "3922f480",
   "metadata": {},
   "outputs": [
    {
     "data": {
      "text/plain": [
       "43"
      ]
     },
     "execution_count": 26,
     "metadata": {},
     "output_type": "execute_result"
    }
   ],
   "source": [
    "min(list1)"
   ]
  },
  {
   "cell_type": "code",
   "execution_count": 28,
   "id": "e9497643",
   "metadata": {},
   "outputs": [
    {
     "data": {
      "text/plain": [
       "76.96"
      ]
     },
     "execution_count": 28,
     "metadata": {},
     "output_type": "execute_result"
    }
   ],
   "source": [
    "import statistics\n",
    "statistics.mean(list1)"
   ]
  },
  {
   "cell_type": "markdown",
   "id": "d7e68f3e",
   "metadata": {},
   "source": [
    "# Mean,Median, & Mode"
   ]
  },
  {
   "cell_type": "code",
   "execution_count": 29,
   "id": "3bbe8b1b",
   "metadata": {},
   "outputs": [],
   "source": [
    "import statistics"
   ]
  },
  {
   "cell_type": "code",
   "execution_count": 30,
   "id": "b5aac105",
   "metadata": {},
   "outputs": [],
   "source": [
    "list1=[43,54,56,61,62,66,68,69,69,70,71,72,77,78,79,85,87,88,89,93,95,96,98,99,99]"
   ]
  },
  {
   "cell_type": "code",
   "execution_count": 32,
   "id": "4b1fd48f",
   "metadata": {},
   "outputs": [
    {
     "data": {
      "text/plain": [
       "[43,\n",
       " 54,\n",
       " 56,\n",
       " 61,\n",
       " 62,\n",
       " 66,\n",
       " 68,\n",
       " 69,\n",
       " 69,\n",
       " 70,\n",
       " 71,\n",
       " 72,\n",
       " 77,\n",
       " 78,\n",
       " 79,\n",
       " 85,\n",
       " 87,\n",
       " 88,\n",
       " 89,\n",
       " 93,\n",
       " 95,\n",
       " 96,\n",
       " 98,\n",
       " 99,\n",
       " 99]"
      ]
     },
     "execution_count": 32,
     "metadata": {},
     "output_type": "execute_result"
    }
   ],
   "source": [
    "list1"
   ]
  },
  {
   "cell_type": "code",
   "execution_count": 33,
   "id": "ed352bc0",
   "metadata": {},
   "outputs": [
    {
     "data": {
      "text/plain": [
       "25"
      ]
     },
     "execution_count": 33,
     "metadata": {},
     "output_type": "execute_result"
    }
   ],
   "source": [
    "len(list1)"
   ]
  },
  {
   "cell_type": "code",
   "execution_count": 34,
   "id": "a779c1b4",
   "metadata": {},
   "outputs": [],
   "source": [
    "list2=sorted(list1)"
   ]
  },
  {
   "cell_type": "code",
   "execution_count": 35,
   "id": "0df86780",
   "metadata": {},
   "outputs": [
    {
     "data": {
      "text/plain": [
       "76.96"
      ]
     },
     "execution_count": 35,
     "metadata": {},
     "output_type": "execute_result"
    }
   ],
   "source": [
    "statistics.mean(list2)"
   ]
  },
  {
   "cell_type": "code",
   "execution_count": 36,
   "id": "931d93b8",
   "metadata": {},
   "outputs": [
    {
     "data": {
      "text/plain": [
       "77"
      ]
     },
     "execution_count": 36,
     "metadata": {},
     "output_type": "execute_result"
    }
   ],
   "source": [
    "statistics.median(list2)"
   ]
  },
  {
   "cell_type": "code",
   "execution_count": 37,
   "id": "eee44db2",
   "metadata": {},
   "outputs": [],
   "source": [
    "list2=['F','F','F','M','M','M']"
   ]
  },
  {
   "cell_type": "code",
   "execution_count": 38,
   "id": "491e04cf",
   "metadata": {},
   "outputs": [
    {
     "data": {
      "text/plain": [
       "'F'"
      ]
     },
     "execution_count": 38,
     "metadata": {},
     "output_type": "execute_result"
    }
   ],
   "source": [
    "statistics.mode(list2)"
   ]
  },
  {
   "cell_type": "code",
   "execution_count": 39,
   "id": "0bbaeb9b",
   "metadata": {},
   "outputs": [],
   "source": [
    "list1=[171,172,171,188,160,154,122,190,152,188]"
   ]
  },
  {
   "cell_type": "code",
   "execution_count": 40,
   "id": "fbb30764",
   "metadata": {},
   "outputs": [],
   "source": [
    "import pandas as pd\n",
    "\n",
    "#df=pd.read_csv('filename.csv')"
   ]
  },
  {
   "cell_type": "code",
   "execution_count": 41,
   "id": "aaab98e7",
   "metadata": {},
   "outputs": [],
   "source": [
    "df=pd.DataFrame(list1)"
   ]
  },
  {
   "cell_type": "code",
   "execution_count": 42,
   "id": "7a4ad493",
   "metadata": {},
   "outputs": [
    {
     "data": {
      "text/html": [
       "<div>\n",
       "<style scoped>\n",
       "    .dataframe tbody tr th:only-of-type {\n",
       "        vertical-align: middle;\n",
       "    }\n",
       "\n",
       "    .dataframe tbody tr th {\n",
       "        vertical-align: top;\n",
       "    }\n",
       "\n",
       "    .dataframe thead th {\n",
       "        text-align: right;\n",
       "    }\n",
       "</style>\n",
       "<table border=\"1\" class=\"dataframe\">\n",
       "  <thead>\n",
       "    <tr style=\"text-align: right;\">\n",
       "      <th></th>\n",
       "      <th>0</th>\n",
       "    </tr>\n",
       "  </thead>\n",
       "  <tbody>\n",
       "    <tr>\n",
       "      <th>0</th>\n",
       "      <td>171</td>\n",
       "    </tr>\n",
       "    <tr>\n",
       "      <th>1</th>\n",
       "      <td>172</td>\n",
       "    </tr>\n",
       "    <tr>\n",
       "      <th>2</th>\n",
       "      <td>171</td>\n",
       "    </tr>\n",
       "    <tr>\n",
       "      <th>3</th>\n",
       "      <td>188</td>\n",
       "    </tr>\n",
       "    <tr>\n",
       "      <th>4</th>\n",
       "      <td>160</td>\n",
       "    </tr>\n",
       "  </tbody>\n",
       "</table>\n",
       "</div>"
      ],
      "text/plain": [
       "     0\n",
       "0  171\n",
       "1  172\n",
       "2  171\n",
       "3  188\n",
       "4  160"
      ]
     },
     "execution_count": 42,
     "metadata": {},
     "output_type": "execute_result"
    }
   ],
   "source": [
    "df.head(5)"
   ]
  },
  {
   "cell_type": "code",
   "execution_count": 43,
   "id": "37292b43",
   "metadata": {},
   "outputs": [
    {
     "data": {
      "text/html": [
       "<div>\n",
       "<style scoped>\n",
       "    .dataframe tbody tr th:only-of-type {\n",
       "        vertical-align: middle;\n",
       "    }\n",
       "\n",
       "    .dataframe tbody tr th {\n",
       "        vertical-align: top;\n",
       "    }\n",
       "\n",
       "    .dataframe thead th {\n",
       "        text-align: right;\n",
       "    }\n",
       "</style>\n",
       "<table border=\"1\" class=\"dataframe\">\n",
       "  <thead>\n",
       "    <tr style=\"text-align: right;\">\n",
       "      <th></th>\n",
       "      <th>0</th>\n",
       "    </tr>\n",
       "  </thead>\n",
       "  <tbody>\n",
       "    <tr>\n",
       "      <th>0</th>\n",
       "      <td>171</td>\n",
       "    </tr>\n",
       "    <tr>\n",
       "      <th>1</th>\n",
       "      <td>172</td>\n",
       "    </tr>\n",
       "    <tr>\n",
       "      <th>2</th>\n",
       "      <td>171</td>\n",
       "    </tr>\n",
       "    <tr>\n",
       "      <th>3</th>\n",
       "      <td>188</td>\n",
       "    </tr>\n",
       "    <tr>\n",
       "      <th>4</th>\n",
       "      <td>160</td>\n",
       "    </tr>\n",
       "    <tr>\n",
       "      <th>5</th>\n",
       "      <td>154</td>\n",
       "    </tr>\n",
       "    <tr>\n",
       "      <th>6</th>\n",
       "      <td>122</td>\n",
       "    </tr>\n",
       "    <tr>\n",
       "      <th>7</th>\n",
       "      <td>190</td>\n",
       "    </tr>\n",
       "    <tr>\n",
       "      <th>8</th>\n",
       "      <td>152</td>\n",
       "    </tr>\n",
       "    <tr>\n",
       "      <th>9</th>\n",
       "      <td>188</td>\n",
       "    </tr>\n",
       "  </tbody>\n",
       "</table>\n",
       "</div>"
      ],
      "text/plain": [
       "     0\n",
       "0  171\n",
       "1  172\n",
       "2  171\n",
       "3  188\n",
       "4  160\n",
       "5  154\n",
       "6  122\n",
       "7  190\n",
       "8  152\n",
       "9  188"
      ]
     },
     "execution_count": 43,
     "metadata": {},
     "output_type": "execute_result"
    }
   ],
   "source": [
    "df"
   ]
  },
  {
   "cell_type": "code",
   "execution_count": 44,
   "id": "4f0a919d",
   "metadata": {},
   "outputs": [
    {
     "data": {
      "text/plain": [
       "0   -0.968063\n",
       "dtype: float64"
      ]
     },
     "execution_count": 44,
     "metadata": {},
     "output_type": "execute_result"
    }
   ],
   "source": [
    "df.skew()"
   ]
  },
  {
   "cell_type": "code",
   "execution_count": 45,
   "id": "277d691e",
   "metadata": {},
   "outputs": [
    {
     "data": {
      "text/plain": [
       "0    1.139524\n",
       "dtype: float64"
      ]
     },
     "execution_count": 45,
     "metadata": {},
     "output_type": "execute_result"
    }
   ],
   "source": [
    "df.kurt()"
   ]
  },
  {
   "cell_type": "code",
   "execution_count": 9,
   "id": "a019af71",
   "metadata": {},
   "outputs": [],
   "source": [
    "import pandas as pd \n",
    "import numpy as np"
   ]
  },
  {
   "cell_type": "code",
   "execution_count": 10,
   "id": "5527a711",
   "metadata": {},
   "outputs": [],
   "source": [
    "data=pd.read_csv(\"E:/b.ana/cars_datasets.csv\")"
   ]
  },
  {
   "cell_type": "code",
   "execution_count": 11,
   "id": "468d856c",
   "metadata": {
    "scrolled": true
   },
   "outputs": [
    {
     "data": {
      "text/html": [
       "<div>\n",
       "<style scoped>\n",
       "    .dataframe tbody tr th:only-of-type {\n",
       "        vertical-align: middle;\n",
       "    }\n",
       "\n",
       "    .dataframe tbody tr th {\n",
       "        vertical-align: top;\n",
       "    }\n",
       "\n",
       "    .dataframe thead th {\n",
       "        text-align: right;\n",
       "    }\n",
       "</style>\n",
       "<table border=\"1\" class=\"dataframe\">\n",
       "  <thead>\n",
       "    <tr style=\"text-align: right;\">\n",
       "      <th></th>\n",
       "      <th>Unnamed: 0</th>\n",
       "      <th>price</th>\n",
       "      <th>brand</th>\n",
       "      <th>model</th>\n",
       "      <th>year</th>\n",
       "      <th>title_status</th>\n",
       "      <th>mileage</th>\n",
       "      <th>color</th>\n",
       "      <th>vin</th>\n",
       "      <th>lot</th>\n",
       "      <th>state</th>\n",
       "      <th>country</th>\n",
       "      <th>condition</th>\n",
       "    </tr>\n",
       "  </thead>\n",
       "  <tbody>\n",
       "    <tr>\n",
       "      <th>0</th>\n",
       "      <td>0</td>\n",
       "      <td>6300</td>\n",
       "      <td>toyota</td>\n",
       "      <td>cruiser</td>\n",
       "      <td>2008</td>\n",
       "      <td>clean vehicle</td>\n",
       "      <td>274117.0</td>\n",
       "      <td>black</td>\n",
       "      <td>jtezu11f88k007763</td>\n",
       "      <td>159348797</td>\n",
       "      <td>new jersey</td>\n",
       "      <td>usa</td>\n",
       "      <td>10 days left</td>\n",
       "    </tr>\n",
       "    <tr>\n",
       "      <th>1</th>\n",
       "      <td>1</td>\n",
       "      <td>2899</td>\n",
       "      <td>ford</td>\n",
       "      <td>se</td>\n",
       "      <td>2011</td>\n",
       "      <td>clean vehicle</td>\n",
       "      <td>190552.0</td>\n",
       "      <td>silver</td>\n",
       "      <td>2fmdk3gc4bbb02217</td>\n",
       "      <td>166951262</td>\n",
       "      <td>tennessee</td>\n",
       "      <td>usa</td>\n",
       "      <td>6 days left</td>\n",
       "    </tr>\n",
       "    <tr>\n",
       "      <th>2</th>\n",
       "      <td>2</td>\n",
       "      <td>5350</td>\n",
       "      <td>dodge</td>\n",
       "      <td>mpv</td>\n",
       "      <td>2018</td>\n",
       "      <td>clean vehicle</td>\n",
       "      <td>39590.0</td>\n",
       "      <td>silver</td>\n",
       "      <td>3c4pdcgg5jt346413</td>\n",
       "      <td>167655728</td>\n",
       "      <td>georgia</td>\n",
       "      <td>usa</td>\n",
       "      <td>2 days left</td>\n",
       "    </tr>\n",
       "    <tr>\n",
       "      <th>3</th>\n",
       "      <td>3</td>\n",
       "      <td>25000</td>\n",
       "      <td>ford</td>\n",
       "      <td>door</td>\n",
       "      <td>2014</td>\n",
       "      <td>clean vehicle</td>\n",
       "      <td>64146.0</td>\n",
       "      <td>blue</td>\n",
       "      <td>1ftfw1et4efc23745</td>\n",
       "      <td>167753855</td>\n",
       "      <td>virginia</td>\n",
       "      <td>usa</td>\n",
       "      <td>22 hours left</td>\n",
       "    </tr>\n",
       "    <tr>\n",
       "      <th>4</th>\n",
       "      <td>4</td>\n",
       "      <td>27700</td>\n",
       "      <td>chevrolet</td>\n",
       "      <td>1500</td>\n",
       "      <td>2018</td>\n",
       "      <td>clean vehicle</td>\n",
       "      <td>6654.0</td>\n",
       "      <td>red</td>\n",
       "      <td>3gcpcrec2jg473991</td>\n",
       "      <td>167763266</td>\n",
       "      <td>florida</td>\n",
       "      <td>usa</td>\n",
       "      <td>22 hours left</td>\n",
       "    </tr>\n",
       "  </tbody>\n",
       "</table>\n",
       "</div>"
      ],
      "text/plain": [
       "   Unnamed: 0  price      brand    model  year   title_status   mileage  \\\n",
       "0           0   6300     toyota  cruiser  2008  clean vehicle  274117.0   \n",
       "1           1   2899       ford       se  2011  clean vehicle  190552.0   \n",
       "2           2   5350      dodge      mpv  2018  clean vehicle   39590.0   \n",
       "3           3  25000       ford     door  2014  clean vehicle   64146.0   \n",
       "4           4  27700  chevrolet     1500  2018  clean vehicle    6654.0   \n",
       "\n",
       "    color                  vin        lot       state country      condition  \n",
       "0   black    jtezu11f88k007763  159348797  new jersey     usa   10 days left  \n",
       "1  silver    2fmdk3gc4bbb02217  166951262   tennessee     usa    6 days left  \n",
       "2  silver    3c4pdcgg5jt346413  167655728     georgia     usa    2 days left  \n",
       "3    blue    1ftfw1et4efc23745  167753855    virginia     usa  22 hours left  \n",
       "4     red    3gcpcrec2jg473991  167763266     florida     usa  22 hours left  "
      ]
     },
     "execution_count": 11,
     "metadata": {},
     "output_type": "execute_result"
    }
   ],
   "source": [
    "data.head()"
   ]
  },
  {
   "cell_type": "code",
   "execution_count": 12,
   "id": "8ba04470",
   "metadata": {},
   "outputs": [
    {
     "data": {
      "text/plain": [
       "(2499, 13)"
      ]
     },
     "execution_count": 12,
     "metadata": {},
     "output_type": "execute_result"
    }
   ],
   "source": [
    "#cheking dimension of dataset\n",
    "data.shape"
   ]
  },
  {
   "cell_type": "markdown",
   "id": "6e5eec00",
   "metadata": {},
   "source": [
    "data=data.drop(['Unnamed:0'],axis=1)"
   ]
  },
  {
   "cell_type": "code",
   "execution_count": 15,
   "id": "18125755",
   "metadata": {},
   "outputs": [
    {
     "name": "stdout",
     "output_type": "stream",
     "text": [
      "<class 'pandas.core.frame.DataFrame'>\n",
      "RangeIndex: 2499 entries, 0 to 2498\n",
      "Data columns (total 13 columns):\n",
      " #   Column        Non-Null Count  Dtype  \n",
      "---  ------        --------------  -----  \n",
      " 0   Unnamed: 0    2499 non-null   int64  \n",
      " 1   price         2499 non-null   int64  \n",
      " 2   brand         2499 non-null   object \n",
      " 3   model         2499 non-null   object \n",
      " 4   year          2499 non-null   int64  \n",
      " 5   title_status  2499 non-null   object \n",
      " 6   mileage       2499 non-null   float64\n",
      " 7   color         2499 non-null   object \n",
      " 8   vin           2499 non-null   object \n",
      " 9   lot           2499 non-null   int64  \n",
      " 10  state         2499 non-null   object \n",
      " 11  country       2499 non-null   object \n",
      " 12  condition     2499 non-null   object \n",
      "dtypes: float64(1), int64(4), object(8)\n",
      "memory usage: 253.9+ KB\n"
     ]
    }
   ],
   "source": [
    "#Exploring the dataset information\n",
    "data.info()"
   ]
  },
  {
   "cell_type": "code",
   "execution_count": 16,
   "id": "3eb97845",
   "metadata": {},
   "outputs": [
    {
     "data": {
      "text/plain": [
       "<AxesSubplot:>"
      ]
     },
     "execution_count": 16,
     "metadata": {},
     "output_type": "execute_result"
    },
    {
     "data": {
      "image/png": "[encoded data removed]",
      "text/plain": [
       "<Figure size 432x288 with 1 Axes>"
      ]
     },
     "metadata": {
      "needs_background": "light"
     },
     "output_type": "display_data"
    }
   ],
   "source": [
    "#importing library for visualizing dataset and plotting the histogram for price attributes\n",
    "import seaborn as sns \n",
    "data['price'].hist(grid=False)"
   ]
  },
  {
   "cell_type": "code",
   "execution_count": 17,
   "id": "b72e2d97",
   "metadata": {},
   "outputs": [
    {
     "data": {
      "text/plain": [
       "0.9227307836499805"
      ]
     },
     "execution_count": 17,
     "metadata": {},
     "output_type": "execute_result"
    }
   ],
   "source": [
    "# Checking the skewness of price column of dataset\n",
    "data['price'].skew()"
   ]
  },
  {
   "cell_type": "code",
   "execution_count": 18,
   "id": "5e59b866",
   "metadata": {},
   "outputs": [
    {
     "name": "stderr",
     "output_type": "stream",
     "text": [
      "C:\\Users\\HP\\anaconda3\\lib\\site-packages\\seaborn\\distributions.py:2619: FutureWarning: `distplot` is a deprecated function and will be removed in a future version. Please adapt your code to use either `displot` (a figure-level function with similar flexibility) or `histplot` (an axes-level function for histograms).\n",
      "  warnings.warn(msg, FutureWarning)\n"
     ]
    },
    {
     "data": {
      "text/plain": [
       "<AxesSubplot:xlabel='price', ylabel='Density'>"
      ]
     },
     "execution_count": 18,
     "metadata": {},
     "output_type": "execute_result"
    },
    {
     "data": {
      "image/png": "[encoded data removed]",
      "text/plain": [
       "<Figure size 432x288 with 1 Axes>"
      ]
     },
     "metadata": {
      "needs_background": "light"
     },
     "output_type": "display_data"
    }
   ],
   "source": [
    "# density plot\n",
    "sns.distplot(data['price'],hist=True)"
   ]
  },
  {
   "cell_type": "markdown",
   "id": "4d237154",
   "metadata": {},
   "source": [
    "# Note:As we can see the skewed values lies between the 0.5 to 1 range.so,data is moderately skewed and right skewed(but it's fine to train the model with it).Let's explore another attribute."
   ]
  },
  {
   "cell_type": "code",
   "execution_count": 19,
   "id": "cfd44c5f",
   "metadata": {},
   "outputs": [
    {
     "data": {
      "text/plain": [
       "7.0793210165347915"
      ]
     },
     "execution_count": 19,
     "metadata": {},
     "output_type": "execute_result"
    }
   ],
   "source": [
    "# checking the skewness of mileage column of dataset\n",
    "data['mileage'].skew()"
   ]
  },
  {
   "cell_type": "code",
   "execution_count": 20,
   "id": "e90f3945",
   "metadata": {},
   "outputs": [
    {
     "name": "stderr",
     "output_type": "stream",
     "text": [
      "C:\\Users\\HP\\anaconda3\\lib\\site-packages\\seaborn\\distributions.py:2619: FutureWarning: `distplot` is a deprecated function and will be removed in a future version. Please adapt your code to use either `displot` (a figure-level function with similar flexibility) or `histplot` (an axes-level function for histograms).\n",
      "  warnings.warn(msg, FutureWarning)\n"
     ]
    },
    {
     "data": {
      "text/plain": [
       "<AxesSubplot:xlabel='mileage', ylabel='Density'>"
      ]
     },
     "execution_count": 20,
     "metadata": {},
     "output_type": "execute_result"
    },
    {
     "data": {
      "image/png": "[encoded data removed]",
      "text/plain": [
       "<Figure size 432x288 with 1 Axes>"
      ]
     },
     "metadata": {
      "needs_background": "light"
     },
     "output_type": "display_data"
    }
   ],
   "source": [
    "sns.distplot(data['mileage'],hist=True)"
   ]
  },
  {
   "cell_type": "markdown",
   "id": "dc0484af",
   "metadata": {},
   "source": [
    "Note:As we can see the skewed values lies between -1 and greater\n",
    "    \n",
    "than +1 then our data is heavily skewed so,data is heavily skewed.\n",
    "    data ['mileage']is right-skewed by looking at the graph and skewed values.\n",
    "    \n",
    "    How to handle these skewed data?\n",
    "    \n",
    "    Let's start with Right Skewness\n",
    "    \n",
    "    Transformation\n",
    "    \n",
    "    in data analysis transformation is the replacement of a variably\n",
    "    \n",
    "    by a function of that variable:\n",
    "        \n",
    "        for example,replacing a variable x by the sqare root of x or\n",
    "        the logarithm of x.in a stronger sense,\n",
    "        \n",
    "        a transformation is a a replacement that changes the shape of distribution or relationship.\n",
    "        "
   ]
  },
  {
   "cell_type": "markdown",
   "id": "4bd63820",
   "metadata": {},
   "source": [
    "Log Transformation"
   ]
  },
  {
   "cell_type": "code",
   "execution_count": 21,
   "id": "726611db",
   "metadata": {},
   "outputs": [
    {
     "name": "stderr",
     "output_type": "stream",
     "text": [
      "C:\\Users\\HP\\anaconda3\\lib\\site-packages\\pandas\\core\\arraylike.py:364: RuntimeWarning: divide by zero encountered in log\n",
      "  result = getattr(ufunc, method)(*inputs, **kwargs)\n"
     ]
    },
    {
     "data": {
      "text/plain": [
       "0    12.521310\n",
       "1    12.157680\n",
       "2    10.586332\n",
       "3    11.068917\n",
       "4     8.802973\n",
       "Name: mileage, dtype: float64"
      ]
     },
     "execution_count": 21,
     "metadata": {},
     "output_type": "execute_result"
    }
   ],
   "source": [
    "# performing the log transformation using numpy\n",
    "\n",
    "log_mileage=np.log(data['mileage'])\n",
    "log_mileage.head(5)"
   ]
  },
  {
   "cell_type": "code",
   "execution_count": 22,
   "id": "0346839f",
   "metadata": {},
   "outputs": [
    {
     "data": {
      "text/plain": [
       "nan"
      ]
     },
     "execution_count": 22,
     "metadata": {},
     "output_type": "execute_result"
    }
   ],
   "source": [
    "#checking the skewness after the log.transformation\n",
    "log_mileage.skew()"
   ]
  },
  {
   "cell_type": "code",
   "execution_count": null,
   "id": "cb00f086",
   "metadata": {},
   "outputs": [],
   "source": [
    "# Replace all your 0 values to 0.01 or 0.001"
   ]
  },
  {
   "cell_type": "markdown",
   "id": "b5acd693",
   "metadata": {},
   "source": [
    "it's giving us nan because there are some values as the zero.in log transformation ,it deals with only the positive and neagative numbers,not\n",
    "\n",
    "with zero.The log is the range in between(-infinity to infinity) but grater or less than zero.\n",
    "\n",
    "for better understanding you can check the log graph below:\n",
    "    \n",
    "    Note:if you are getting zeros inside the data,refer to root Transformation.\n",
    "        \n",
    "        Root Transformation\n",
    "        \n",
    "        The square root means x to x^(1/2)=sqrt(x), is a transformation with a moderate effect on distribution shape. it is weaker than logarithm and cube root.\n",
    "        it is also used for reducing right skewness,and also has advantages\n",
    "        \n",
    "    that it can be applied to zero values. Note that the square root of an area has the the units of a length.\n",
    "        it is commonnly applied to counted data,especially if the values are mostly rather small.\n",
    "        "
   ]
  },
  {
   "cell_type": "code",
   "execution_count": 23,
   "id": "a5ac905c",
   "metadata": {},
   "outputs": [],
   "source": [
    "#calculating the square root for data['mileage'] column\n",
    "\n",
    "sqrt_mileage=np.sqrt(data['mileage'])"
   ]
  },
  {
   "cell_type": "code",
   "execution_count": 24,
   "id": "3daa32bf",
   "metadata": {},
   "outputs": [
    {
     "data": {
      "text/plain": [
       "0    523.561840\n",
       "1    436.522623\n",
       "2    198.972360\n",
       "3    253.270606\n",
       "4     81.572054\n",
       "Name: mileage, dtype: float64"
      ]
     },
     "execution_count": 24,
     "metadata": {},
     "output_type": "execute_result"
    }
   ],
   "source": [
    "sqrt_mileage.head(5)"
   ]
  },
  {
   "cell_type": "code",
   "execution_count": 25,
   "id": "8dbbec4b",
   "metadata": {},
   "outputs": [
    {
     "data": {
      "text/plain": [
       "1.6676282633339148"
      ]
     },
     "execution_count": 25,
     "metadata": {},
     "output_type": "execute_result"
    }
   ],
   "source": [
    "#calulating skewness after calculating the square root & we can observe the change in the value of skewness\n",
    "\n",
    "sqrt_mileage.skew()"
   ]
  },
  {
   "cell_type": "code",
   "execution_count": 26,
   "id": "c002dfd4",
   "metadata": {},
   "outputs": [
    {
     "name": "stderr",
     "output_type": "stream",
     "text": [
      "C:\\Users\\HP\\anaconda3\\lib\\site-packages\\seaborn\\distributions.py:2619: FutureWarning: `distplot` is a deprecated function and will be removed in a future version. Please adapt your code to use either `displot` (a figure-level function with similar flexibility) or `histplot` (an axes-level function for histograms).\n",
      "  warnings.warn(msg, FutureWarning)\n"
     ]
    },
    {
     "data": {
      "text/plain": [
       "<AxesSubplot:xlabel='mileage', ylabel='Density'>"
      ]
     },
     "execution_count": 26,
     "metadata": {},
     "output_type": "execute_result"
    },
    {
     "data": {
      "image/png": "[encoded data removed]",
      "text/plain": [
       "<Figure size 432x288 with 1 Axes>"
      ]
     },
     "metadata": {
      "needs_background": "light"
     },
     "output_type": "display_data"
    }
   ],
   "source": [
    "#visualising by density plot\n",
    "\n",
    "sns.distplot(sqrt_mileage,hist=True)"
   ]
  },
  {
   "cell_type": "markdown",
   "id": "8d79b026",
   "metadata": {},
   "source": [
    "Note:in the previous case,we got the nan because of zero,but the square root transformation has reduced the skewed values from 7.07 to\n",
    "    1.66 which is nearer to zero compared to 7.07\n",
    "    \n",
    "    the cube Root Transformation\n",
    "    \n",
    "    The cube root means x to x^(1/3).This is a fairly Strong transformation with a substantial effect on distribution shape,\n",
    "    \n",
    "    \n",
    "    it is weaker than the logarithm but stronger than the square root taransformation.\n",
    "    \n",
    "    it is also used for reducing right skewness and has advantage that it can be applied to zero and negative values ,\n",
    "    Note:that the cube root of a volume has the units of a length.it is commonly to rainfall data.\n",
    "    "
   ]
  },
  {
   "cell_type": "code",
   "execution_count": 27,
   "id": "62375e6a",
   "metadata": {},
   "outputs": [
    {
     "data": {
      "text/plain": [
       "0    64.959896\n",
       "1    57.544590\n",
       "2    34.082269\n",
       "3    40.030394\n",
       "4    18.808793\n",
       "Name: mileage, dtype: float64"
      ]
     },
     "execution_count": 27,
     "metadata": {},
     "output_type": "execute_result"
    }
   ],
   "source": [
    "#calculating the cube root for the column\n",
    "\n",
    "cube_root_mileage=np.cbrt(data['mileage'])\n",
    "\n",
    "cube_root_mileage.head(5)\n"
   ]
  },
  {
   "cell_type": "code",
   "execution_count": 28,
   "id": "83889844",
   "metadata": {},
   "outputs": [
    {
     "data": {
      "text/plain": [
       "0.6866069687334178"
      ]
     },
     "execution_count": 28,
     "metadata": {},
     "output_type": "execute_result"
    }
   ],
   "source": [
    "# calculating skewness after calculating the cube root\n",
    "\n",
    "cube_root_mileage.skew()"
   ]
  },
  {
   "cell_type": "code",
   "execution_count": 29,
   "id": "585998cc",
   "metadata": {},
   "outputs": [
    {
     "name": "stderr",
     "output_type": "stream",
     "text": [
      "C:\\Users\\HP\\anaconda3\\lib\\site-packages\\seaborn\\distributions.py:2619: FutureWarning: `distplot` is a deprecated function and will be removed in a future version. Please adapt your code to use either `displot` (a figure-level function with similar flexibility) or `histplot` (an axes-level function for histograms).\n",
      "  warnings.warn(msg, FutureWarning)\n"
     ]
    },
    {
     "data": {
      "text/plain": [
       "<AxesSubplot:xlabel='mileage', ylabel='Density'>"
      ]
     },
     "execution_count": 29,
     "metadata": {},
     "output_type": "execute_result"
    },
    {
     "data": {
      "image/png": "[encoded data removed]",
      "text/plain": [
       "<Figure size 432x288 with 1 Axes>"
      ]
     },
     "metadata": {
      "needs_background": "light"
     },
     "output_type": "display_data"
    }
   ],
   "source": [
    "#visualisingly by density plot\n",
    "\n",
    "sns.distplot(cube_root_mileage,hist=True)"
   ]
  },
  {
   "cell_type": "markdown",
   "id": "54020c1a",
   "metadata": {},
   "source": [
    "# Reciprocals Transformation\n",
    "\n",
    "The reciprocal,x to 1/x, with its sibling the negative reciprocal ,x to -1/x, is a verystrong transformation with a drastic effect on distribution\n",
    "shape.\n",
    "\n",
    "it cannot be applied to zero values.although it can be applied to negative values,\n",
    "it is not useful unless values are positive.\n",
    "\n",
    "For Example :we might want to multiply or divide the results of the reciprocal by some constant,such as 100 or 1000,to get numbers\n",
    "    \n",
    "    that are easy to manage ,but that it has no effect on skewness or linearity.\n"
   ]
  },
  {
   "cell_type": "code",
   "execution_count": 30,
   "id": "97fd4de7",
   "metadata": {},
   "outputs": [
    {
     "name": "stderr",
     "output_type": "stream",
     "text": [
      "C:\\Users\\HP\\anaconda3\\lib\\site-packages\\pandas\\core\\arraylike.py:364: RuntimeWarning: divide by zero encountered in reciprocal\n",
      "  result = getattr(ufunc, method)(*inputs, **kwargs)\n"
     ]
    },
    {
     "data": {
      "text/plain": [
       "0    0.000004\n",
       "1    0.000005\n",
       "2    0.000025\n",
       "3    0.000016\n",
       "4    0.000150\n",
       "Name: mileage, dtype: float64"
      ]
     },
     "execution_count": 30,
     "metadata": {},
     "output_type": "execute_result"
    }
   ],
   "source": [
    "# calculating the reciprocal for the column data['mileage']column\n",
    "\n",
    "recipr_mileage=np.reciprocal(data['mileage'])\n",
    "recipr_mileage.head(5)"
   ]
  },
  {
   "cell_type": "code",
   "execution_count": 31,
   "id": "b44e1aaa",
   "metadata": {},
   "outputs": [
    {
     "data": {
      "text/plain": [
       "nan"
      ]
     },
     "execution_count": 31,
     "metadata": {},
     "output_type": "execute_result"
    }
   ],
   "source": [
    "recipr_mileage.skew()"
   ]
  },
  {
   "cell_type": "markdown",
   "id": "267e705e",
   "metadata": {},
   "source": [
    "# Note:it's giving outpot as nan because there are some values as the zero.in reciprocal transformation ,\n",
    "    it's good to deal with negative numbers,not with zero."
   ]
  },
  {
   "cell_type": "markdown",
   "id": "578df76f",
   "metadata": {},
   "source": [
    "# Left Skewness\n",
    "\n",
    "let's crate small dataset & have alook on left skewness."
   ]
  },
  {
   "cell_type": "code",
   "execution_count": 32,
   "id": "eb990dbe",
   "metadata": {},
   "outputs": [],
   "source": [
    "import numpy as np\n",
    "import pandas as pd"
   ]
  },
  {
   "cell_type": "code",
   "execution_count": 33,
   "id": "580cd893",
   "metadata": {},
   "outputs": [
    {
     "data": {
      "text/html": [
       "<div>\n",
       "<style scoped>\n",
       "    .dataframe tbody tr th:only-of-type {\n",
       "        vertical-align: middle;\n",
       "    }\n",
       "\n",
       "    .dataframe tbody tr th {\n",
       "        vertical-align: top;\n",
       "    }\n",
       "\n",
       "    .dataframe thead th {\n",
       "        text-align: right;\n",
       "    }\n",
       "</style>\n",
       "<table border=\"1\" class=\"dataframe\">\n",
       "  <thead>\n",
       "    <tr style=\"text-align: right;\">\n",
       "      <th></th>\n",
       "      <th>Name</th>\n",
       "      <th>Marks</th>\n",
       "    </tr>\n",
       "  </thead>\n",
       "  <tbody>\n",
       "    <tr>\n",
       "      <th>0</th>\n",
       "      <td>sameer</td>\n",
       "      <td>10</td>\n",
       "    </tr>\n",
       "    <tr>\n",
       "      <th>1</th>\n",
       "      <td>pankaj</td>\n",
       "      <td>20</td>\n",
       "    </tr>\n",
       "    <tr>\n",
       "      <th>2</th>\n",
       "      <td>sam</td>\n",
       "      <td>30</td>\n",
       "    </tr>\n",
       "    <tr>\n",
       "      <th>3</th>\n",
       "      <td>Hemant</td>\n",
       "      <td>48</td>\n",
       "    </tr>\n",
       "    <tr>\n",
       "      <th>4</th>\n",
       "      <td>vivek</td>\n",
       "      <td>62</td>\n",
       "    </tr>\n",
       "  </tbody>\n",
       "</table>\n",
       "</div>"
      ],
      "text/plain": [
       "     Name  Marks\n",
       "0  sameer     10\n",
       "1  pankaj     20\n",
       "2     sam     30\n",
       "3  Hemant     48\n",
       "4   vivek     62"
      ]
     },
     "execution_count": 33,
     "metadata": {},
     "output_type": "execute_result"
    }
   ],
   "source": [
    "Data=[['sameer',10],['pankaj',20],['sam',30],['Hemant',48],['vivek',62],['ram',87],['suman',93],['anup',85],['mohit',60],['sandeep',75],['ajeet',84],['yash',90],['sam',99],['deepak',92],['vikas',99],['rajiv',95],['sivam',94],['akash',89],['vinod',90],['kundan',87],['Abhay',99]]\n",
    "\n",
    "# converting in dataframe\n",
    "df=pd.DataFrame(Data,columns=['Name','Marks'])\n",
    "df.head(5)"
   ]
  },
  {
   "cell_type": "code",
   "execution_count": 34,
   "id": "8933e96c",
   "metadata": {},
   "outputs": [
    {
     "name": "stderr",
     "output_type": "stream",
     "text": [
      "C:\\Users\\HP\\anaconda3\\lib\\site-packages\\seaborn\\distributions.py:2619: FutureWarning: `distplot` is a deprecated function and will be removed in a future version. Please adapt your code to use either `displot` (a figure-level function with similar flexibility) or `histplot` (an axes-level function for histograms).\n",
      "  warnings.warn(msg, FutureWarning)\n"
     ]
    },
    {
     "data": {
      "text/plain": [
       "<AxesSubplot:xlabel='Marks', ylabel='Density'>"
      ]
     },
     "execution_count": 34,
     "metadata": {},
     "output_type": "execute_result"
    },
    {
     "data": {
      "image/png": "[encoded data removed]",
      "text/plain": [
       "<Figure size 432x288 with 1 Axes>"
      ]
     },
     "metadata": {
      "needs_background": "light"
     },
     "output_type": "display_data"
    }
   ],
   "source": [
    "sns.distplot(df['Marks'],hist=True)"
   ]
  },
  {
   "cell_type": "code",
   "execution_count": 35,
   "id": "1298c7e5",
   "metadata": {},
   "outputs": [
    {
     "data": {
      "text/plain": [
       "-1.4076657771292151"
      ]
     },
     "execution_count": 35,
     "metadata": {},
     "output_type": "execute_result"
    }
   ],
   "source": [
    "#checking the skewness\n",
    "df['Marks'].skew()"
   ]
  },
  {
   "cell_type": "markdown",
   "id": "e378baba",
   "metadata": {},
   "source": [
    "# Note:if the skewness is less than -1 and greater than +1 then our data is heavily skewed.our data is left-skewed value is less than -1.let's try to make it symmetric."
   ]
  },
  {
   "cell_type": "markdown",
   "id": "e9d15578",
   "metadata": {},
   "source": [
    "# Squares Transformation"
   ]
  },
  {
   "cell_type": "markdown",
   "id": "5a04bcb0",
   "metadata": {},
   "source": [
    "The square,x to x^2,has a moderate effect on distribution shape and it could be used to reduce left skewness.\n",
    "\n",
    "Squaring usually makes sense only if the variable concerned is zero or positive,given that(-x)^2 and are identical."
   ]
  },
  {
   "cell_type": "code",
   "execution_count": 36,
   "id": "2887f795",
   "metadata": {},
   "outputs": [
    {
     "data": {
      "text/plain": [
       "0     100\n",
       "1     400\n",
       "2     900\n",
       "3    2304\n",
       "4    3844\n",
       "Name: Marks, dtype: int64"
      ]
     },
     "execution_count": 36,
     "metadata": {},
     "output_type": "execute_result"
    }
   ],
   "source": [
    "#calculating the square for the column df['Marks']\n",
    "\n",
    "Square_marks=np.square(df['Marks'])\n",
    "Square_marks.head(5)"
   ]
  },
  {
   "cell_type": "code",
   "execution_count": 37,
   "id": "3f95002c",
   "metadata": {},
   "outputs": [
    {
     "data": {
      "text/plain": [
       "-0.9341854225868288"
      ]
     },
     "execution_count": 37,
     "metadata": {},
     "output_type": "execute_result"
    }
   ],
   "source": [
    "#checking the skewness\n",
    "\n",
    "Square_marks.skew()"
   ]
  },
  {
   "cell_type": "code",
   "execution_count": 38,
   "id": "385b01e6",
   "metadata": {},
   "outputs": [
    {
     "name": "stderr",
     "output_type": "stream",
     "text": [
      "C:\\Users\\HP\\anaconda3\\lib\\site-packages\\seaborn\\distributions.py:2619: FutureWarning: `distplot` is a deprecated function and will be removed in a future version. Please adapt your code to use either `displot` (a figure-level function with similar flexibility) or `histplot` (an axes-level function for histograms).\n",
      "  warnings.warn(msg, FutureWarning)\n"
     ]
    },
    {
     "data": {
      "text/plain": [
       "<AxesSubplot:xlabel='Marks', ylabel='Density'>"
      ]
     },
     "execution_count": 38,
     "metadata": {},
     "output_type": "execute_result"
    },
    {
     "data": {
      "image/png": "[encoded data removed]",
      "text/plain": [
       "<Figure size 432x288 with 1 Axes>"
      ]
     },
     "metadata": {
      "needs_background": "light"
     },
     "output_type": "display_data"
    }
   ],
   "source": [
    "#plotting the density and histogram plot\n",
    "\n",
    "sns.distplot(Square_marks,hist=True)"
   ]
  },
  {
   "cell_type": "markdown",
   "id": "9d43b9be",
   "metadata": {},
   "source": [
    "Note:After applying the square Transformation,we are getting the skewed value as 0.93.if the skewed value lies in between -1 to 0.5 then data is moderately skewed.Let's try some other transformation."
   ]
  },
  {
   "cell_type": "markdown",
   "id": "10d736ff",
   "metadata": {},
   "source": [
    "# Cubes Transformation"
   ]
  },
  {
   "cell_type": "markdown",
   "id": "3c050d30",
   "metadata": {},
   "source": [
    "The cube,x to x^3,has a better effect on distribution shape than squaring and it could be used to reduce left skewness."
   ]
  },
  {
   "cell_type": "code",
   "execution_count": 39,
   "id": "8cee6578",
   "metadata": {},
   "outputs": [
    {
     "data": {
      "text/plain": [
       "0      1000\n",
       "1      8000\n",
       "2     27000\n",
       "3    110592\n",
       "4    238328\n",
       "5    658503\n",
       "6    804357\n",
       "7    614125\n",
       "8    216000\n",
       "9    421875\n",
       "Name: Marks, dtype: int64"
      ]
     },
     "execution_count": 39,
     "metadata": {},
     "output_type": "execute_result"
    }
   ],
   "source": [
    "#calculating the cubes for the column df ['Marks']\n",
    "cube_marks=np.power(df['Marks'],3)\n",
    "cube_marks.head(10)"
   ]
  },
  {
   "cell_type": "code",
   "execution_count": 40,
   "id": "015fe0bc",
   "metadata": {},
   "outputs": [
    {
     "data": {
      "text/plain": [
       "-0.6133662709032679"
      ]
     },
     "execution_count": 40,
     "metadata": {},
     "output_type": "execute_result"
    }
   ],
   "source": [
    "#calculating the skewness\n",
    "cube_marks.skew()"
   ]
  },
  {
   "cell_type": "code",
   "execution_count": 44,
   "id": "e83711db",
   "metadata": {},
   "outputs": [
    {
     "name": "stderr",
     "output_type": "stream",
     "text": [
      "C:\\Users\\HP\\anaconda3\\lib\\site-packages\\seaborn\\distributions.py:2619: FutureWarning: `distplot` is a deprecated function and will be removed in a future version. Please adapt your code to use either `displot` (a figure-level function with similar flexibility) or `histplot` (an axes-level function for histograms).\n",
      "  warnings.warn(msg, FutureWarning)\n"
     ]
    },
    {
     "data": {
      "text/plain": [
       "<AxesSubplot:xlabel='Marks', ylabel='Density'>"
      ]
     },
     "execution_count": 44,
     "metadata": {},
     "output_type": "execute_result"
    },
    {
     "data": {
      "image/png": "[encoded data removed]",
      "text/plain": [
       "<Figure size 432x288 with 1 Axes>"
      ]
     },
     "metadata": {
      "needs_background": "light"
     },
     "output_type": "display_data"
    }
   ],
   "source": [
    " #plotting the density and histogram plot\n",
    "\n",
    "sns.distplot(cube_marks,hist=True)"
   ]
  },
  {
   "cell_type": "markdown",
   "id": "b4901109",
   "metadata": {},
   "source": [
    "Note:After applying the cube transformation,the skewed value is -0.6,and if the skewed value lies in between -1to o.5 then data is moderately\n",
    "    skewed.Let's try some other transformation."
   ]
  },
  {
   "cell_type": "markdown",
   "id": "f35e3ba6",
   "metadata": {},
   "source": [
    "# Higher Powers"
   ]
  },
  {
   "cell_type": "markdown",
   "id": "e9b33bbd",
   "metadata": {},
   "source": [
    " When simple transformation like square and cubes doesn't reduce the skewness in the data distribution,we can use higher powers to transform to data.\n",
    "it is only useful in left skewness."
   ]
  },
  {
   "cell_type": "code",
   "execution_count": 45,
   "id": "41c8d89d",
   "metadata": {},
   "outputs": [
    {
     "data": {
      "text/plain": [
       "0       10000\n",
       "1      160000\n",
       "2      810000\n",
       "3     5308416\n",
       "4    14776336\n",
       "Name: Marks, dtype: int64"
      ]
     },
     "execution_count": 45,
     "metadata": {},
     "output_type": "execute_result"
    }
   ],
   "source": [
    "higher_power_4=np.power(df['Marks'],4)\n",
    "higher_power_4.head(5)"
   ]
  },
  {
   "cell_type": "code",
   "execution_count": 46,
   "id": "0dcc9994",
   "metadata": {},
   "outputs": [
    {
     "name": "stderr",
     "output_type": "stream",
     "text": [
      "C:\\Users\\HP\\anaconda3\\lib\\site-packages\\seaborn\\distributions.py:2619: FutureWarning: `distplot` is a deprecated function and will be removed in a future version. Please adapt your code to use either `displot` (a figure-level function with similar flexibility) or `histplot` (an axes-level function for histograms).\n",
      "  warnings.warn(msg, FutureWarning)\n"
     ]
    },
    {
     "data": {
      "text/plain": [
       "<AxesSubplot:xlabel='Marks', ylabel='Density'>"
      ]
     },
     "execution_count": 46,
     "metadata": {},
     "output_type": "execute_result"
    },
    {
     "data": {
      "image/png": "[encoded data removed]",
      "text/plain": [
       "<Figure size 432x288 with 1 Axes>"
      ]
     },
     "metadata": {
      "needs_background": "light"
     },
     "output_type": "display_data"
    }
   ],
   "source": [
    "#calculating the skewness\n",
    "sns.distplot(higher_power_4,hist=True)"
   ]
  },
  {
   "cell_type": "code",
   "execution_count": 47,
   "id": "2e06ec55",
   "metadata": {},
   "outputs": [],
   "source": [
    "import numpy as np\n",
    "import pandas as pd\n",
    "import seaborn as sns"
   ]
  },
  {
   "cell_type": "markdown",
   "id": "2b19b6d0",
   "metadata": {},
   "source": [
    "Null Hypothesis: The data is normally distributed\n",
    "\n",
    "Alternate Hypothesis:The data is not normally distributed"
   ]
  },
  {
   "cell_type": "markdown",
   "id": "5152ea28",
   "metadata": {},
   "source": [
    "Ap-value less than 0.05(typically <_ 0.05)is statistically significant.it indicates strong evidence against the null hypothesis, as there is less than\n",
    "\n",
    "a5% probability the null is correct (and theresults are random).Therefore,we reject the nullhypothesis,\n",
    "and accept the alternative hypothesis."
   ]
  },
  {
   "cell_type": "code",
   "execution_count": 48,
   "id": "32195079",
   "metadata": {},
   "outputs": [],
   "source": [
    "list1=[26,33,65,28,34,55,25,44,50,36,26,37,43,62,35,38,45,32,28,34]"
   ]
  },
  {
   "cell_type": "code",
   "execution_count": 49,
   "id": "fcc912d3",
   "metadata": {},
   "outputs": [],
   "source": [
    "df=pd.DataFrame(list1)"
   ]
  },
  {
   "cell_type": "code",
   "execution_count": 50,
   "id": "231a7cf0",
   "metadata": {},
   "outputs": [
    {
     "name": "stderr",
     "output_type": "stream",
     "text": [
      "C:\\Users\\HP\\anaconda3\\lib\\site-packages\\seaborn\\distributions.py:2619: FutureWarning: `distplot` is a deprecated function and will be removed in a future version. Please adapt your code to use either `displot` (a figure-level function with similar flexibility) or `histplot` (an axes-level function for histograms).\n",
      "  warnings.warn(msg, FutureWarning)\n"
     ]
    },
    {
     "data": {
      "text/plain": [
       "<AxesSubplot:ylabel='Density'>"
      ]
     },
     "execution_count": 50,
     "metadata": {},
     "output_type": "execute_result"
    },
    {
     "data": {
      "image/png": "[encoded data removed]",
      "text/plain": [
       "<Figure size 432x288 with 1 Axes>"
      ]
     },
     "metadata": {
      "needs_background": "light"
     },
     "output_type": "display_data"
    }
   ],
   "source": [
    "sns.distplot(df)"
   ]
  },
  {
   "cell_type": "code",
   "execution_count": 51,
   "id": "8b9ed01c",
   "metadata": {},
   "outputs": [
    {
     "data": {
      "text/plain": [
       "0    0.96583\n",
       "dtype: float64"
      ]
     },
     "execution_count": 51,
     "metadata": {},
     "output_type": "execute_result"
    }
   ],
   "source": [
    "df.skew()"
   ]
  },
  {
   "cell_type": "code",
   "execution_count": 52,
   "id": "3c825a64",
   "metadata": {},
   "outputs": [],
   "source": [
    "from scipy import stats"
   ]
  },
  {
   "cell_type": "code",
   "execution_count": 53,
   "id": "8a180cbb",
   "metadata": {},
   "outputs": [],
   "source": [
    "k2,p=stats.normaltest(df)"
   ]
  },
  {
   "cell_type": "code",
   "execution_count": 54,
   "id": "80a0f8b8",
   "metadata": {},
   "outputs": [
    {
     "data": {
      "text/plain": [
       "array([0.15717757])"
      ]
     },
     "execution_count": 54,
     "metadata": {},
     "output_type": "execute_result"
    }
   ],
   "source": [
    "p"
   ]
  },
  {
   "cell_type": "code",
   "execution_count": 55,
   "id": "0c3b8e70",
   "metadata": {},
   "outputs": [],
   "source": [
    "alpha=0.05"
   ]
  },
  {
   "cell_type": "code",
   "execution_count": 60,
   "id": "7dc915a3",
   "metadata": {},
   "outputs": [
    {
     "name": "stdout",
     "output_type": "stream",
     "text": [
      "The null hypothesis can be rejected\n"
     ]
    }
   ],
   "source": [
    "if p < alpha:    \n",
    "    print(\"The null hypothesis can't be rejected\")\n",
    "else:\n",
    "    print(\"The null hypothesis can be rejected\")"
   ]
  },
  {
   "cell_type": "markdown",
   "id": "8b0f767b",
   "metadata": {},
   "source": [
    "1.T Test\n",
    "2.Z Test\n",
    "3.Annova\n",
    "4.Chi-Square"
   ]
  },
  {
   "cell_type": "code",
   "execution_count": 61,
   "id": "ae8a108a",
   "metadata": {},
   "outputs": [],
   "source": [
    "import numpy as np\n",
    "import pandas as pd\n",
    "import seaborn as sb\n",
    "from numpy import sqrt,abs,round\n",
    "import scipy.stats as stats\n",
    "from scipy.stats import norm"
   ]
  },
  {
   "cell_type": "code",
   "execution_count": 67,
   "id": "00794420",
   "metadata": {},
   "outputs": [
    {
     "data": {
      "text/html": [
       "<div>\n",
       "<style scoped>\n",
       "    .dataframe tbody tr th:only-of-type {\n",
       "        vertical-align: middle;\n",
       "    }\n",
       "\n",
       "    .dataframe tbody tr th {\n",
       "        vertical-align: top;\n",
       "    }\n",
       "\n",
       "    .dataframe thead th {\n",
       "        text-align: right;\n",
       "    }\n",
       "</style>\n",
       "<table border=\"1\" class=\"dataframe\">\n",
       "  <thead>\n",
       "    <tr style=\"text-align: right;\">\n",
       "      <th></th>\n",
       "      <th>Loan_ID</th>\n",
       "      <th>Gender</th>\n",
       "      <th>Married</th>\n",
       "      <th>Dependents</th>\n",
       "      <th>Education</th>\n",
       "      <th>Self_Employed</th>\n",
       "      <th>ApplicantIncome</th>\n",
       "      <th>CoapplicantIncome</th>\n",
       "      <th>LoanAmount</th>\n",
       "      <th>Loan_Amount_Term</th>\n",
       "      <th>Credit_History</th>\n",
       "      <th>Property_Area</th>\n",
       "      <th>Loan_Status</th>\n",
       "    </tr>\n",
       "  </thead>\n",
       "  <tbody>\n",
       "    <tr>\n",
       "      <th>0</th>\n",
       "      <td>LP001002</td>\n",
       "      <td>Male</td>\n",
       "      <td>No</td>\n",
       "      <td>0</td>\n",
       "      <td>Graduate</td>\n",
       "      <td>No</td>\n",
       "      <td>5849</td>\n",
       "      <td>0.0</td>\n",
       "      <td>NaN</td>\n",
       "      <td>360.0</td>\n",
       "      <td>1.0</td>\n",
       "      <td>Urban</td>\n",
       "      <td>Y</td>\n",
       "    </tr>\n",
       "    <tr>\n",
       "      <th>1</th>\n",
       "      <td>LP001003</td>\n",
       "      <td>Male</td>\n",
       "      <td>Yes</td>\n",
       "      <td>1</td>\n",
       "      <td>Graduate</td>\n",
       "      <td>No</td>\n",
       "      <td>4583</td>\n",
       "      <td>1508.0</td>\n",
       "      <td>128.0</td>\n",
       "      <td>360.0</td>\n",
       "      <td>1.0</td>\n",
       "      <td>Rural</td>\n",
       "      <td>N</td>\n",
       "    </tr>\n",
       "    <tr>\n",
       "      <th>2</th>\n",
       "      <td>LP001005</td>\n",
       "      <td>Male</td>\n",
       "      <td>Yes</td>\n",
       "      <td>0</td>\n",
       "      <td>Graduate</td>\n",
       "      <td>Yes</td>\n",
       "      <td>3000</td>\n",
       "      <td>0.0</td>\n",
       "      <td>66.0</td>\n",
       "      <td>360.0</td>\n",
       "      <td>1.0</td>\n",
       "      <td>Urban</td>\n",
       "      <td>Y</td>\n",
       "    </tr>\n",
       "    <tr>\n",
       "      <th>3</th>\n",
       "      <td>LP001006</td>\n",
       "      <td>Male</td>\n",
       "      <td>Yes</td>\n",
       "      <td>0</td>\n",
       "      <td>Not Graduate</td>\n",
       "      <td>No</td>\n",
       "      <td>2583</td>\n",
       "      <td>2358.0</td>\n",
       "      <td>120.0</td>\n",
       "      <td>360.0</td>\n",
       "      <td>1.0</td>\n",
       "      <td>Urban</td>\n",
       "      <td>Y</td>\n",
       "    </tr>\n",
       "    <tr>\n",
       "      <th>4</th>\n",
       "      <td>LP001008</td>\n",
       "      <td>Male</td>\n",
       "      <td>No</td>\n",
       "      <td>0</td>\n",
       "      <td>Graduate</td>\n",
       "      <td>No</td>\n",
       "      <td>6000</td>\n",
       "      <td>0.0</td>\n",
       "      <td>141.0</td>\n",
       "      <td>360.0</td>\n",
       "      <td>1.0</td>\n",
       "      <td>Urban</td>\n",
       "      <td>Y</td>\n",
       "    </tr>\n",
       "  </tbody>\n",
       "</table>\n",
       "</div>"
      ],
      "text/plain": [
       "    Loan_ID Gender Married Dependents     Education Self_Employed  \\\n",
       "0  LP001002   Male      No          0      Graduate            No   \n",
       "1  LP001003   Male     Yes          1      Graduate            No   \n",
       "2  LP001005   Male     Yes          0      Graduate           Yes   \n",
       "3  LP001006   Male     Yes          0  Not Graduate            No   \n",
       "4  LP001008   Male      No          0      Graduate            No   \n",
       "\n",
       "   ApplicantIncome  CoapplicantIncome  LoanAmount  Loan_Amount_Term  \\\n",
       "0             5849                0.0         NaN             360.0   \n",
       "1             4583             1508.0       128.0             360.0   \n",
       "2             3000                0.0        66.0             360.0   \n",
       "3             2583             2358.0       120.0             360.0   \n",
       "4             6000                0.0       141.0             360.0   \n",
       "\n",
       "   Credit_History Property_Area Loan_Status  \n",
       "0             1.0         Urban           Y  \n",
       "1             1.0         Rural           N  \n",
       "2             1.0         Urban           Y  \n",
       "3             1.0         Urban           Y  \n",
       "4             1.0         Urban           Y  "
      ]
     },
     "execution_count": 67,
     "metadata": {},
     "output_type": "execute_result"
    }
   ],
   "source": [
    "df=pd.read_csv(\"E:/b.ana/trains.csv\")\n",
    "df.head()"
   ]
  },
  {
   "cell_type": "markdown",
   "id": "065a395a",
   "metadata": {},
   "source": [
    "There are many feature dataset such as Gender,Dependents,Education,Application Income,Loan Amount,Credit history.we will be using\n",
    "\n",
    "these features and check whether one feature effect affects other features using Several tests i.e Z-Test,correlation test,ANOVA Test,and Chi-square test."
   ]
  },
  {
   "cell_type": "markdown",
   "id": "c7cc217c",
   "metadata": {},
   "source": [
    "# Z-Test"
   ]
  },
  {
   "cell_type": "markdown",
   "id": "8725daf5",
   "metadata": {},
   "source": [
    ".AZ-test is used to compare the mean of two given samples and infer whether they are from the same distribution or not.\n",
    "We do not implement Z-test when the sample size is less than 30.\n",
    "\n",
    ".A Z-test may be a one-sample Z test or a two-sample Z test.\n",
    "\n",
    ".The one -sample t-Test determines whether the sample mean is statistically different from a known or hypothesized population mean.\n",
    "the two-sample,Z-test compares 2 independent variables.\n",
    "\n",
    "we will implement a two-Sample Z test.\n",
    "\n",
    "please note that we will implement 2 sample Z-test where one variable will be categorical with two categories and the other variable will be\n",
    "continuous to apply the Z-test.\n",
    "\n",
    "\n",
    "Here we will be using the Gender categorical variable and Applicanincome continuous variable .Gender has 2 groups:male and female.\n",
    "    therefore the hypothesis will be.\n",
    "    \n",
    "    Null Hypothesis:There is no significant difference between the mean income of males and females.\n",
    "        \n",
    "        Alternate Hypothesis:There is asignificant difference between the mean income of males and females."
   ]
  },
  {
   "cell_type": "code",
   "execution_count": 74,
   "id": "6221f3c0",
   "metadata": {},
   "outputs": [],
   "source": [
    "M_mean=df.loc[df['Gender']=='Male','ApplicantIncome'].mean()\n",
    "F_mean=df.loc[df['Gender']=='Female','ApplicantIncome'].mean()\n",
    "M_std=df.loc[df['Gender']=='Male','ApplicantIncome'].std()\n",
    "F_std=df.loc[df['Gender']=='Female','ApplicantIncome'].std()\n",
    "no_of_M=df.loc[df['Gender']=='Male','ApplicantIncome'].count()\n",
    "no_of_F=df.loc[df['Gender']=='Female','ApplicantIncome'].count()"
   ]
  },
  {
   "cell_type": "code",
   "execution_count": 75,
   "id": "d6c71653",
   "metadata": {},
   "outputs": [
    {
     "data": {
      "text/plain": [
       "5446.460122699386"
      ]
     },
     "execution_count": 75,
     "metadata": {},
     "output_type": "execute_result"
    }
   ],
   "source": [
    "M_mean"
   ]
  },
  {
   "cell_type": "code",
   "execution_count": 76,
   "id": "26a690b1",
   "metadata": {},
   "outputs": [
    {
     "data": {
      "text/plain": [
       "4643.473214285715"
      ]
     },
     "execution_count": 76,
     "metadata": {},
     "output_type": "execute_result"
    }
   ],
   "source": [
    "F_mean"
   ]
  },
  {
   "cell_type": "code",
   "execution_count": 77,
   "id": "9e06ab13",
   "metadata": {},
   "outputs": [
    {
     "name": "stdout",
     "output_type": "stream",
     "text": [
      "Z & p values respectively are: -,z,-and 0.06759726635832197\n"
     ]
    }
   ],
   "source": [
    "def twoSampZ(x1,x2, mudiff,sd1,sd2,n1,n2):\n",
    "    pooledSE=sqrt(sd1**2/n1 + sd2**2/n2)\n",
    "    z=((x1-x2) - mudiff)/pooledSE\n",
    "    pval=2*(1-norm.cdf(abs(z)))\n",
    "    return round(z,3),pval\n",
    "z,p=twoSampZ(M_mean,F_mean,0,M_std,F_std,no_of_M,no_of_F)\n",
    "print(\"Z & p values respectively are: -,z,-and\",p)"
   ]
  },
  {
   "cell_type": "code",
   "execution_count": 78,
   "id": "a8fc9e19",
   "metadata": {},
   "outputs": [
    {
     "name": "stdout",
     "output_type": "stream",
     "text": [
      "we accept null hypothesis\n"
     ]
    }
   ],
   "source": [
    "if p<0.05:\n",
    "    print(\"we reject null hypothesis\")\n",
    "else:\n",
    "    print(\"we accept null hypothesis\")"
   ]
  },
  {
   "cell_type": "markdown",
   "id": "530ea739",
   "metadata": {},
   "source": [
    "since value p is greater than 0.5 we accept the null hypothesis.There we conclude that there is no significant difference between the income of males and females."
   ]
  },
  {
   "cell_type": "markdown",
   "id": "18b81918",
   "metadata": {},
   "source": [
    "T Test"
   ]
  },
  {
   "cell_type": "markdown",
   "id": "9b917852",
   "metadata": {},
   "source": [
    " .A T-test isalso used to compare the mean of two given samples like the Z-test.However,it is implemented when the sample size is less\n",
    "than 30.it assumes anormal distribution of the sample it can also be one-sample or two-sample.The degree of freedom is calculated by\n",
    "n-1 where n is the number of samples."
   ]
  },
  {
   "cell_type": "markdown",
   "id": "bb272610",
   "metadata": {},
   "source": [
    "# Correlation Test"
   ]
  },
  {
   "cell_type": "markdown",
   "id": "09f44cdb",
   "metadata": {},
   "source": [
    ".Acorrelation test is a metric to evaluate the extent to which variables are associated with one another.\n",
    "\n",
    ".please note that the variables must be continuous to apply the correlation test.\n",
    "\n",
    ".we will use the person correlation coefficient since it is independent of the values of variables.\n",
    "\n",
    ".There are several methods for correlation tests i.e.Covariance,pearson correlation coefficient,Spearman rank correlation coeffici"
   ]
  },
  {
   "cell_type": "markdown",
   "id": "731d320b",
   "metadata": {},
   "source": [
    "# Pearson Correlation Coefficient"
   ]
  },
  {
   "cell_type": "markdown",
   "id": "bb1a0d63",
   "metadata": {},
   "source": [
    " .it is used to measure the linear correlation between 2 variables."
   ]
  },
  {
   "cell_type": "code",
   "execution_count": 79,
   "id": "c11b8081",
   "metadata": {},
   "outputs": [
    {
     "name": "stdout",
     "output_type": "stream",
     "text": [
      "[[1.         0.56562046]\n",
      " [0.56562046 1.        ]]\n"
     ]
    }
   ],
   "source": [
    "#Lets analysis loanAmount\n",
    "df['LoanAmount']=df['LoanAmount'].fillna(df['LoanAmount'].mean())\n",
    "pcc=np.corrcoef(df.ApplicantIncome,df.LoanAmount)\n",
    "print(pcc)"
   ]
  },
  {
   "cell_type": "markdown",
   "id": "f2e180d3",
   "metadata": {},
   "source": [
    "# the values on the diagonals indicate the correlation of features with themselves.0.56 represent that there is some correlation between the two features."
   ]
  },
  {
   "cell_type": "code",
   "execution_count": 80,
   "id": "4c0ed448",
   "metadata": {},
   "outputs": [
    {
     "data": {
      "text/plain": [
       "<AxesSubplot:xlabel='LoanAmount', ylabel='ApplicantIncome'>"
      ]
     },
     "execution_count": 80,
     "metadata": {},
     "output_type": "execute_result"
    },
    {
     "data": {
      "image/png": "[encoded data removed]",
      "text/plain": [
       "<Figure size 432x288 with 1 Axes>"
      ]
     },
     "metadata": {
      "needs_background": "light"
     },
     "output_type": "display_data"
    }
   ],
   "source": [
    "sns.lineplot(data=df,x='LoanAmount',y='ApplicantIncome')"
   ]
  },
  {
   "cell_type": "markdown",
   "id": "57cec8bf",
   "metadata": {},
   "source": [
    "# ANOVA Test"
   ]
  },
  {
   "cell_type": "markdown",
   "id": "39b9c8d2",
   "metadata": {},
   "source": [
    "ANOVA stands for Analysis of variance.as thename,suggests it uses variance as its parameter to compare multiple independent groups.\n",
    "\n",
    ".ANOVA can be one-way ANOVA or two-way ANOVA.One-wayANOVA is applied when there are three or more independent groups of a variable.\n",
    "\n",
    "wewill implement the same in python."
   ]
  },
  {
   "cell_type": "markdown",
   "id": "3ffb1224",
   "metadata": {},
   "source": [
    "# Implementation"
   ]
  },
  {
   "cell_type": "markdown",
   "id": "8fa8b26c",
   "metadata": {},
   "source": [
    "Here we will be using the Dependents categorial variable and Applicantincome continuous variable.\n",
    "Dependents has 4 groups :0,1,2,3+.Therefore the hypothesis will be:\n",
    " \n",
    "Null Hypothesis:There is no significant difference the mean income among different groups of dependents."
   ]
  },
  {
   "cell_type": "code",
   "execution_count": 83,
   "id": "d2e503ee",
   "metadata": {},
   "outputs": [],
   "source": [
    "df['Dependents'].isnull().sum()\n",
    "df['Dependents']=df['Dependents'].fillna('0')"
   ]
  },
  {
   "cell_type": "code",
   "execution_count": 84,
   "id": "470c8aec",
   "metadata": {},
   "outputs": [
    {
     "data": {
      "text/html": [
       "<div>\n",
       "<style scoped>\n",
       "    .dataframe tbody tr th:only-of-type {\n",
       "        vertical-align: middle;\n",
       "    }\n",
       "\n",
       "    .dataframe tbody tr th {\n",
       "        vertical-align: top;\n",
       "    }\n",
       "\n",
       "    .dataframe thead th {\n",
       "        text-align: right;\n",
       "    }\n",
       "</style>\n",
       "<table border=\"1\" class=\"dataframe\">\n",
       "  <thead>\n",
       "    <tr style=\"text-align: right;\">\n",
       "      <th></th>\n",
       "      <th>Loan_ID</th>\n",
       "      <th>Gender</th>\n",
       "      <th>Married</th>\n",
       "      <th>Dependents</th>\n",
       "      <th>Education</th>\n",
       "      <th>Self_Employed</th>\n",
       "      <th>ApplicantIncome</th>\n",
       "      <th>CoapplicantIncome</th>\n",
       "      <th>LoanAmount</th>\n",
       "      <th>Loan_Amount_Term</th>\n",
       "      <th>Credit_History</th>\n",
       "      <th>Property_Area</th>\n",
       "      <th>Loan_Status</th>\n",
       "    </tr>\n",
       "  </thead>\n",
       "  <tbody>\n",
       "    <tr>\n",
       "      <th>0</th>\n",
       "      <td>LP001002</td>\n",
       "      <td>Male</td>\n",
       "      <td>No</td>\n",
       "      <td>0</td>\n",
       "      <td>Graduate</td>\n",
       "      <td>No</td>\n",
       "      <td>5849</td>\n",
       "      <td>0.0</td>\n",
       "      <td>146.412162</td>\n",
       "      <td>360.0</td>\n",
       "      <td>1.0</td>\n",
       "      <td>Urban</td>\n",
       "      <td>Y</td>\n",
       "    </tr>\n",
       "    <tr>\n",
       "      <th>1</th>\n",
       "      <td>LP001003</td>\n",
       "      <td>Male</td>\n",
       "      <td>Yes</td>\n",
       "      <td>1</td>\n",
       "      <td>Graduate</td>\n",
       "      <td>No</td>\n",
       "      <td>4583</td>\n",
       "      <td>1508.0</td>\n",
       "      <td>128.000000</td>\n",
       "      <td>360.0</td>\n",
       "      <td>1.0</td>\n",
       "      <td>Rural</td>\n",
       "      <td>N</td>\n",
       "    </tr>\n",
       "    <tr>\n",
       "      <th>2</th>\n",
       "      <td>LP001005</td>\n",
       "      <td>Male</td>\n",
       "      <td>Yes</td>\n",
       "      <td>0</td>\n",
       "      <td>Graduate</td>\n",
       "      <td>Yes</td>\n",
       "      <td>3000</td>\n",
       "      <td>0.0</td>\n",
       "      <td>66.000000</td>\n",
       "      <td>360.0</td>\n",
       "      <td>1.0</td>\n",
       "      <td>Urban</td>\n",
       "      <td>Y</td>\n",
       "    </tr>\n",
       "    <tr>\n",
       "      <th>3</th>\n",
       "      <td>LP001006</td>\n",
       "      <td>Male</td>\n",
       "      <td>Yes</td>\n",
       "      <td>0</td>\n",
       "      <td>Not Graduate</td>\n",
       "      <td>No</td>\n",
       "      <td>2583</td>\n",
       "      <td>2358.0</td>\n",
       "      <td>120.000000</td>\n",
       "      <td>360.0</td>\n",
       "      <td>1.0</td>\n",
       "      <td>Urban</td>\n",
       "      <td>Y</td>\n",
       "    </tr>\n",
       "    <tr>\n",
       "      <th>4</th>\n",
       "      <td>LP001008</td>\n",
       "      <td>Male</td>\n",
       "      <td>No</td>\n",
       "      <td>0</td>\n",
       "      <td>Graduate</td>\n",
       "      <td>No</td>\n",
       "      <td>6000</td>\n",
       "      <td>0.0</td>\n",
       "      <td>141.000000</td>\n",
       "      <td>360.0</td>\n",
       "      <td>1.0</td>\n",
       "      <td>Urban</td>\n",
       "      <td>Y</td>\n",
       "    </tr>\n",
       "  </tbody>\n",
       "</table>\n",
       "</div>"
      ],
      "text/plain": [
       "    Loan_ID Gender Married Dependents     Education Self_Employed  \\\n",
       "0  LP001002   Male      No          0      Graduate            No   \n",
       "1  LP001003   Male     Yes          1      Graduate            No   \n",
       "2  LP001005   Male     Yes          0      Graduate           Yes   \n",
       "3  LP001006   Male     Yes          0  Not Graduate            No   \n",
       "4  LP001008   Male      No          0      Graduate            No   \n",
       "\n",
       "   ApplicantIncome  CoapplicantIncome  LoanAmount  Loan_Amount_Term  \\\n",
       "0             5849                0.0  146.412162             360.0   \n",
       "1             4583             1508.0  128.000000             360.0   \n",
       "2             3000                0.0   66.000000             360.0   \n",
       "3             2583             2358.0  120.000000             360.0   \n",
       "4             6000                0.0  141.000000             360.0   \n",
       "\n",
       "   Credit_History Property_Area Loan_Status  \n",
       "0             1.0         Urban           Y  \n",
       "1             1.0         Rural           N  \n",
       "2             1.0         Urban           Y  \n",
       "3             1.0         Urban           Y  \n",
       "4             1.0         Urban           Y  "
      ]
     },
     "execution_count": 84,
     "metadata": {},
     "output_type": "execute_result"
    }
   ],
   "source": [
    "df.head(5)"
   ]
  },
  {
   "cell_type": "code",
   "execution_count": 86,
   "id": "610c7e77",
   "metadata": {},
   "outputs": [],
   "source": [
    "df_anova=df[['Dependents','ApplicantIncome']]"
   ]
  },
  {
   "cell_type": "code",
   "execution_count": 87,
   "id": "fcd9fa11",
   "metadata": {},
   "outputs": [
    {
     "data": {
      "text/html": [
       "<div>\n",
       "<style scoped>\n",
       "    .dataframe tbody tr th:only-of-type {\n",
       "        vertical-align: middle;\n",
       "    }\n",
       "\n",
       "    .dataframe tbody tr th {\n",
       "        vertical-align: top;\n",
       "    }\n",
       "\n",
       "    .dataframe thead th {\n",
       "        text-align: right;\n",
       "    }\n",
       "</style>\n",
       "<table border=\"1\" class=\"dataframe\">\n",
       "  <thead>\n",
       "    <tr style=\"text-align: right;\">\n",
       "      <th></th>\n",
       "      <th>Dependents</th>\n",
       "      <th>ApplicantIncome</th>\n",
       "    </tr>\n",
       "  </thead>\n",
       "  <tbody>\n",
       "    <tr>\n",
       "      <th>0</th>\n",
       "      <td>0</td>\n",
       "      <td>5849</td>\n",
       "    </tr>\n",
       "    <tr>\n",
       "      <th>1</th>\n",
       "      <td>1</td>\n",
       "      <td>4583</td>\n",
       "    </tr>\n",
       "    <tr>\n",
       "      <th>2</th>\n",
       "      <td>0</td>\n",
       "      <td>3000</td>\n",
       "    </tr>\n",
       "    <tr>\n",
       "      <th>3</th>\n",
       "      <td>0</td>\n",
       "      <td>2583</td>\n",
       "    </tr>\n",
       "    <tr>\n",
       "      <th>4</th>\n",
       "      <td>0</td>\n",
       "      <td>6000</td>\n",
       "    </tr>\n",
       "    <tr>\n",
       "      <th>...</th>\n",
       "      <td>...</td>\n",
       "      <td>...</td>\n",
       "    </tr>\n",
       "    <tr>\n",
       "      <th>609</th>\n",
       "      <td>0</td>\n",
       "      <td>2900</td>\n",
       "    </tr>\n",
       "    <tr>\n",
       "      <th>610</th>\n",
       "      <td>3+</td>\n",
       "      <td>4106</td>\n",
       "    </tr>\n",
       "    <tr>\n",
       "      <th>611</th>\n",
       "      <td>1</td>\n",
       "      <td>8072</td>\n",
       "    </tr>\n",
       "    <tr>\n",
       "      <th>612</th>\n",
       "      <td>2</td>\n",
       "      <td>7583</td>\n",
       "    </tr>\n",
       "    <tr>\n",
       "      <th>613</th>\n",
       "      <td>0</td>\n",
       "      <td>4583</td>\n",
       "    </tr>\n",
       "  </tbody>\n",
       "</table>\n",
       "<p>614 rows × 2 columns</p>\n",
       "</div>"
      ],
      "text/plain": [
       "    Dependents  ApplicantIncome\n",
       "0            0             5849\n",
       "1            1             4583\n",
       "2            0             3000\n",
       "3            0             2583\n",
       "4            0             6000\n",
       "..         ...              ...\n",
       "609          0             2900\n",
       "610         3+             4106\n",
       "611          1             8072\n",
       "612          2             7583\n",
       "613          0             4583\n",
       "\n",
       "[614 rows x 2 columns]"
      ]
     },
     "execution_count": 87,
     "metadata": {},
     "output_type": "execute_result"
    }
   ],
   "source": [
    "df_anova"
   ]
  },
  {
   "cell_type": "code",
   "execution_count": 91,
   "id": "20468f87",
   "metadata": {},
   "outputs": [],
   "source": [
    "df_anova=df[['Dependents','ApplicantIncome']]"
   ]
  },
  {
   "cell_type": "code",
   "execution_count": 92,
   "id": "1aa0dfb6",
   "metadata": {},
   "outputs": [],
   "source": [
    "grps=pd.unique(df.Dependents.values)\n",
    "d_data={grp:df_anova['ApplicantIncome'][df_anova.Dependents==grp]for grp in grps}\n",
    "F,P=stats.f_oneway(d_data['0'],d_data['1'])"
   ]
  },
  {
   "cell_type": "code",
   "execution_count": 93,
   "id": "3beec07a",
   "metadata": {},
   "outputs": [
    {
     "name": "stdout",
     "output_type": "stream",
     "text": [
      "F=3.2607598144037464,p=0.06759726635832197\n"
     ]
    }
   ],
   "source": [
    "print('F={},p={}'.format(F,p))"
   ]
  },
  {
   "cell_type": "code",
   "execution_count": 94,
   "id": "97b8e91c",
   "metadata": {},
   "outputs": [
    {
     "name": "stdout",
     "output_type": "stream",
     "text": [
      "accept null hypothesis\n"
     ]
    }
   ],
   "source": [
    "if p<0.05:\n",
    "    print(\"reject null hypothesis\")\n",
    "else:\n",
    "    print(\"accept null hypothesis\")"
   ]
  },
  {
   "cell_type": "markdown",
   "id": "f586bc06",
   "metadata": {},
   "source": [
    "Since value p is less than 0.5 we reject the null hypothesis.Therefore,we conclude that there is no significant difference between the income of \n",
    "several groups of Dependents."
   ]
  },
  {
   "cell_type": "markdown",
   "id": "c2c42ac7",
   "metadata": {},
   "source": [
    "# Chi-Square Test"
   ]
  },
  {
   "cell_type": "markdown",
   "id": "87768159",
   "metadata": {},
   "source": [
    " .This test is applied when you have two categorical variables from a population.it is used to determine whether there is a significant\n",
    "association or relationship between the two variables.\n",
    "\n",
    ".There are 2 types of chi-square tests:chi-square test for independence,we will implement the latter one.\n",
    "    \n",
    "    The degree of freedom in the chi-square test is  calculated by (n-1)*(m-1) where n and m are numbers of rows and columns respectievely."
   ]
  },
  {
   "cell_type": "markdown",
   "id": "6be3988c",
   "metadata": {},
   "source": [
    "ImpLEMENTATION"
   ]
  },
  {
   "cell_type": "markdown",
   "id": "cdb6a909",
   "metadata": {},
   "source": [
    "We will be two categorical features Gender and Loan Status features.\n",
    "Alternative Hypothesis :There is a significant association between Gender and Status features.\n",
    "    \n",
    "    Alternate Hypothesis:There is a significant association between Gender and Loan status features."
   ]
  },
  {
   "cell_type": "code",
   "execution_count": 100,
   "id": "6e106e9c",
   "metadata": {},
   "outputs": [],
   "source": [
    "df['Dependents'].isnull().sum()\n",
    "df['Dependents']=df['Dependents'].fillna('0')"
   ]
  },
  {
   "cell_type": "code",
   "execution_count": 101,
   "id": "6bfd017f",
   "metadata": {},
   "outputs": [
    {
     "data": {
      "text/html": [
       "<div>\n",
       "<style scoped>\n",
       "    .dataframe tbody tr th:only-of-type {\n",
       "        vertical-align: middle;\n",
       "    }\n",
       "\n",
       "    .dataframe tbody tr th {\n",
       "        vertical-align: top;\n",
       "    }\n",
       "\n",
       "    .dataframe thead th {\n",
       "        text-align: right;\n",
       "    }\n",
       "</style>\n",
       "<table border=\"1\" class=\"dataframe\">\n",
       "  <thead>\n",
       "    <tr style=\"text-align: right;\">\n",
       "      <th></th>\n",
       "      <th>Loan_ID</th>\n",
       "      <th>Gender</th>\n",
       "      <th>Married</th>\n",
       "      <th>Dependents</th>\n",
       "      <th>Education</th>\n",
       "      <th>Self_Employed</th>\n",
       "      <th>ApplicantIncome</th>\n",
       "      <th>CoapplicantIncome</th>\n",
       "      <th>LoanAmount</th>\n",
       "      <th>Loan_Amount_Term</th>\n",
       "      <th>Credit_History</th>\n",
       "      <th>Property_Area</th>\n",
       "      <th>Loan_Status</th>\n",
       "    </tr>\n",
       "  </thead>\n",
       "  <tbody>\n",
       "    <tr>\n",
       "      <th>0</th>\n",
       "      <td>LP001002</td>\n",
       "      <td>Male</td>\n",
       "      <td>No</td>\n",
       "      <td>0</td>\n",
       "      <td>Graduate</td>\n",
       "      <td>No</td>\n",
       "      <td>5849</td>\n",
       "      <td>0.0</td>\n",
       "      <td>146.412162</td>\n",
       "      <td>360.0</td>\n",
       "      <td>1.0</td>\n",
       "      <td>Urban</td>\n",
       "      <td>Y</td>\n",
       "    </tr>\n",
       "    <tr>\n",
       "      <th>1</th>\n",
       "      <td>LP001003</td>\n",
       "      <td>Male</td>\n",
       "      <td>Yes</td>\n",
       "      <td>1</td>\n",
       "      <td>Graduate</td>\n",
       "      <td>No</td>\n",
       "      <td>4583</td>\n",
       "      <td>1508.0</td>\n",
       "      <td>128.000000</td>\n",
       "      <td>360.0</td>\n",
       "      <td>1.0</td>\n",
       "      <td>Rural</td>\n",
       "      <td>N</td>\n",
       "    </tr>\n",
       "    <tr>\n",
       "      <th>2</th>\n",
       "      <td>LP001005</td>\n",
       "      <td>Male</td>\n",
       "      <td>Yes</td>\n",
       "      <td>0</td>\n",
       "      <td>Graduate</td>\n",
       "      <td>Yes</td>\n",
       "      <td>3000</td>\n",
       "      <td>0.0</td>\n",
       "      <td>66.000000</td>\n",
       "      <td>360.0</td>\n",
       "      <td>1.0</td>\n",
       "      <td>Urban</td>\n",
       "      <td>Y</td>\n",
       "    </tr>\n",
       "    <tr>\n",
       "      <th>3</th>\n",
       "      <td>LP001006</td>\n",
       "      <td>Male</td>\n",
       "      <td>Yes</td>\n",
       "      <td>0</td>\n",
       "      <td>Not Graduate</td>\n",
       "      <td>No</td>\n",
       "      <td>2583</td>\n",
       "      <td>2358.0</td>\n",
       "      <td>120.000000</td>\n",
       "      <td>360.0</td>\n",
       "      <td>1.0</td>\n",
       "      <td>Urban</td>\n",
       "      <td>Y</td>\n",
       "    </tr>\n",
       "    <tr>\n",
       "      <th>4</th>\n",
       "      <td>LP001008</td>\n",
       "      <td>Male</td>\n",
       "      <td>No</td>\n",
       "      <td>0</td>\n",
       "      <td>Graduate</td>\n",
       "      <td>No</td>\n",
       "      <td>6000</td>\n",
       "      <td>0.0</td>\n",
       "      <td>141.000000</td>\n",
       "      <td>360.0</td>\n",
       "      <td>1.0</td>\n",
       "      <td>Urban</td>\n",
       "      <td>Y</td>\n",
       "    </tr>\n",
       "  </tbody>\n",
       "</table>\n",
       "</div>"
      ],
      "text/plain": [
       "    Loan_ID Gender Married Dependents     Education Self_Employed  \\\n",
       "0  LP001002   Male      No          0      Graduate            No   \n",
       "1  LP001003   Male     Yes          1      Graduate            No   \n",
       "2  LP001005   Male     Yes          0      Graduate           Yes   \n",
       "3  LP001006   Male     Yes          0  Not Graduate            No   \n",
       "4  LP001008   Male      No          0      Graduate            No   \n",
       "\n",
       "   ApplicantIncome  CoapplicantIncome  LoanAmount  Loan_Amount_Term  \\\n",
       "0             5849                0.0  146.412162             360.0   \n",
       "1             4583             1508.0  128.000000             360.0   \n",
       "2             3000                0.0   66.000000             360.0   \n",
       "3             2583             2358.0  120.000000             360.0   \n",
       "4             6000                0.0  141.000000             360.0   \n",
       "\n",
       "   Credit_History Property_Area Loan_Status  \n",
       "0             1.0         Urban           Y  \n",
       "1             1.0         Rural           N  \n",
       "2             1.0         Urban           Y  \n",
       "3             1.0         Urban           Y  \n",
       "4             1.0         Urban           Y  "
      ]
     },
     "execution_count": 101,
     "metadata": {},
     "output_type": "execute_result"
    }
   ],
   "source": [
    "df.head(5)"
   ]
  },
  {
   "cell_type": "code",
   "execution_count": 103,
   "id": "042dbe4f",
   "metadata": {
    "scrolled": false
   },
   "outputs": [
    {
     "data": {
      "text/html": [
       "<div>\n",
       "<style scoped>\n",
       "    .dataframe tbody tr th:only-of-type {\n",
       "        vertical-align: middle;\n",
       "    }\n",
       "\n",
       "    .dataframe tbody tr th {\n",
       "        vertical-align: top;\n",
       "    }\n",
       "\n",
       "    .dataframe thead th {\n",
       "        text-align: right;\n",
       "    }\n",
       "</style>\n",
       "<table border=\"1\" class=\"dataframe\">\n",
       "  <thead>\n",
       "    <tr style=\"text-align: right;\">\n",
       "      <th>Loan_Status</th>\n",
       "      <th>N</th>\n",
       "      <th>Y</th>\n",
       "    </tr>\n",
       "    <tr>\n",
       "      <th>Gender</th>\n",
       "      <th></th>\n",
       "      <th></th>\n",
       "    </tr>\n",
       "  </thead>\n",
       "  <tbody>\n",
       "    <tr>\n",
       "      <th>Female</th>\n",
       "      <td>37</td>\n",
       "      <td>75</td>\n",
       "    </tr>\n",
       "    <tr>\n",
       "      <th>Male</th>\n",
       "      <td>150</td>\n",
       "      <td>339</td>\n",
       "    </tr>\n",
       "  </tbody>\n",
       "</table>\n",
       "</div>"
      ],
      "text/plain": [
       "Loan_Status    N    Y\n",
       "Gender               \n",
       "Female        37   75\n",
       "Male         150  339"
      ]
     },
     "execution_count": 103,
     "metadata": {},
     "output_type": "execute_result"
    }
   ],
   "source": [
    "dataset_table=pd.crosstab(df['Gender'],df['Loan_Status'])\n",
    "dataset_table"
   ]
  },
  {
   "cell_type": "markdown",
   "id": "7770cb2e",
   "metadata": {},
   "source": [
    "Then ,we calculate observed and expected values using the above table."
   ]
  },
  {
   "cell_type": "code",
   "execution_count": 106,
   "id": "34819ed8",
   "metadata": {},
   "outputs": [],
   "source": [
    "observed=dataset_table.values\n",
    "val2=stats.chi2_contingency(dataset_table)\n",
    "expected=val2[3]"
   ]
  },
  {
   "cell_type": "markdown",
   "id": "4c7956ab",
   "metadata": {},
   "source": [
    "Then we calculate the chi-square statistic and p-value using the following code:"
   ]
  },
  {
   "cell_type": "code",
   "execution_count": 108,
   "id": "40ab60c0",
   "metadata": {},
   "outputs": [],
   "source": [
    "alpha=0.5\n",
    "ddof=1"
   ]
  },
  {
   "cell_type": "code",
   "execution_count": 111,
   "id": "10f23e61",
   "metadata": {},
   "outputs": [],
   "source": [
    "from scipy.stats import chi2\n",
    "chi_square=sum([(o-e)**2./e for o,e in zip (observed,expected)])\n",
    "chi_square_statistic=chi_square[0]+chi_square[1]\n",
    "p_value=1-chi2.cdf(x=chi_square_statistic,df=1)"
   ]
  },
  {
   "cell_type": "code",
   "execution_count": 112,
   "id": "54db3d24",
   "metadata": {},
   "outputs": [
    {
     "name": "stdout",
     "output_type": "stream",
     "text": [
      "chi-square statistic:- 0.23697508750826923\n",
      "Significance level:  0.5\n",
      "Degree of Freedom: 1\n",
      "p-value: 0.6263994534115932\n"
     ]
    }
   ],
   "source": [
    "print(\"chi-square statistic:-\",chi_square_statistic)\n",
    "print('Significance level: ',alpha)\n",
    "print('Degree of Freedom:',ddof)\n",
    "print('p-value:',p_value)"
   ]
  },
  {
   "cell_type": "code",
   "execution_count": 113,
   "id": "317dbb7c",
   "metadata": {},
   "outputs": [
    {
     "name": "stdout",
     "output_type": "stream",
     "text": [
      "Accept Null Hypothesis\n"
     ]
    }
   ],
   "source": [
    "if p_value<=alpha:\n",
    "    print(\"Reject Null Hypothesis\")\n",
    "else:\n",
    "    print(\"Accept Null Hypothesis\")"
   ]
  },
  {
   "cell_type": "markdown",
   "id": "3b0c69d4",
   "metadata": {},
   "source": [
    "since the p-value is greater than 0.05,we accept the null hypothesis.we conclude that there is no significant association between the two features."
   ]
  },
  {
   "cell_type": "code",
   "execution_count": null,
   "id": "6ea8f899",
   "metadata": {},
   "outputs": [],
   "source": []
  }
 ],
 "metadata": {
  "kernelspec": {
   "display_name": "Python 3 (ipykernel)",
   "language": "python",
   "name": "python3"
  },
  "language_info": {
   "codemirror_mode": {
    "name": "ipython",
    "version": 3
   },
   "file_extension": ".py",
   "mimetype": "text/x-python",
   "name": "python",
   "nbconvert_exporter": "python",
   "pygments_lexer": "ipython3",
   "version": "3.9.7"
  }
 },
 "nbformat": 4,
 "nbformat_minor": 5
}
